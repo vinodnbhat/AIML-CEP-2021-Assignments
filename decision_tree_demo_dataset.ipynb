{
  "nbformat": 4,
  "nbformat_minor": 0,
  "metadata": {
    "colab": {
      "name": "Untitled0.ipynb",
      "provenance": [],
      "authorship_tag": "ABX9TyO/fo14n8hdh5ZHj222Kh33",
      "include_colab_link": true
    },
    "kernelspec": {
      "name": "python3",
      "display_name": "Python 3"
    },
    "language_info": {
      "name": "python"
    }
  },
  "cells": [
    {
      "cell_type": "markdown",
      "metadata": {
        "id": "view-in-github",
        "colab_type": "text"
      },
      "source": [
        "<a href=\"https://colab.research.google.com/github/vinodnbhat/AIML-CEP-2021-Assignments/blob/main/decision_tree_demo_dataset.ipynb\" target=\"_parent\"><img src=\"https://colab.research.google.com/assets/colab-badge.svg\" alt=\"Open In Colab\"/></a>"
      ]
    },
    {
      "cell_type": "code",
      "metadata": {
        "colab": {
          "base_uri": "https://localhost:8080/"
        },
        "id": "eKTsufcZ2xKo",
        "outputId": "484ce201-1652-4dd8-f45e-7b09a31d324e"
      },
      "source": [
        "import numpy as np\n",
        "from sklearn import tree #importing decision tree from scikit-learn\n",
        "\n",
        "#dataset2 = np.loadtxt('dataset2.csv', delimiter = ',')\n",
        "dataset2 = np.array([[100., 0., 0., -1.],\n",
        " [98., 1., 0., 1.],\n",
        " [102., 1., 0., -1.],\n",
        " [104., 1., 1., 1.],\n",
        " [ 99., 1., 1., -1.],\n",
        " [100., 0., 1., 1.]])\n",
        "print(dataset2)\n",
        "\n",
        "print('dataset2 shape:', dataset2.shape)"
      ],
      "execution_count": 7,
      "outputs": [
        {
          "output_type": "stream",
          "name": "stdout",
          "text": [
            "[[100.   0.   0.  -1.]\n",
            " [ 98.   1.   0.   1.]\n",
            " [102.   1.   0.  -1.]\n",
            " [104.   1.   1.   1.]\n",
            " [ 99.   1.   1.  -1.]\n",
            " [100.   0.   1.   1.]]\n",
            "dataset2 shape: (6, 4)\n"
          ]
        }
      ]
    },
    {
      "cell_type": "code",
      "metadata": {
        "colab": {
          "base_uri": "https://localhost:8080/"
        },
        "id": "GH9oRCh54wXF",
        "outputId": "53be0523-ac8a-4585-c079-1f8fda16865c"
      },
      "source": [
        "total_cols = (dataset2.shape)[1]\n",
        "dataset2_features = dataset2[:, 0:total_cols - 1]\n",
        "dataset2_label = dataset2[:, total_cols - 1]\n",
        "print('Shape of dataset2 features:', dataset2_features.shape)\n",
        "print('Shape of dataset2 label', dataset2_label.shape)"
      ],
      "execution_count": 8,
      "outputs": [
        {
          "output_type": "stream",
          "name": "stdout",
          "text": [
            "Shape of dataset2 features: (6, 3)\n",
            "Shape of dataset2 label (6,)\n"
          ]
        }
      ]
    },
    {
      "cell_type": "code",
      "metadata": {
        "id": "bdM4eTIi7Lqn"
      },
      "source": [
        "# Create a decision tree with entropy as a classifier\n",
        "clf = tree.DecisionTreeClassifier(criterion = 'entropy')"
      ],
      "execution_count": 9,
      "outputs": []
    },
    {
      "cell_type": "code",
      "metadata": {
        "colab": {
          "base_uri": "https://localhost:8080/",
          "height": 367
        },
        "id": "a9C33UDg7h5E",
        "outputId": "fa09f120-e320-4e71-d59c-843ff4affc6c"
      },
      "source": [
        "#train using decision tree classifier and plot the resultant tree\n",
        "tree.plot_tree(clf.fit(dataset2_features, dataset2_label))"
      ],
      "execution_count": 11,
      "outputs": [
        {
          "output_type": "execute_result",
          "data": {
            "text/plain": [
              "[Text(111.60000000000001, 190.26, 'X[0] <= 98.5\\nentropy = 1.0\\nsamples = 6\\nvalue = [3, 3]'),\n",
              " Text(55.800000000000004, 135.9, 'entropy = 0.0\\nsamples = 1\\nvalue = [0, 1]'),\n",
              " Text(167.4, 135.9, 'X[2] <= 0.5\\nentropy = 0.971\\nsamples = 5\\nvalue = [3, 2]'),\n",
              " Text(111.60000000000001, 81.53999999999999, 'entropy = 0.0\\nsamples = 2\\nvalue = [2, 0]'),\n",
              " Text(223.20000000000002, 81.53999999999999, 'X[0] <= 99.5\\nentropy = 0.918\\nsamples = 3\\nvalue = [1, 2]'),\n",
              " Text(167.4, 27.180000000000007, 'entropy = 0.0\\nsamples = 1\\nvalue = [1, 0]'),\n",
              " Text(279.0, 27.180000000000007, 'entropy = 0.0\\nsamples = 2\\nvalue = [0, 2]')]"
            ]
          },
          "metadata": {},
          "execution_count": 11
        },
        {
          "output_type": "display_data",
          "data": {
            "image/png": "[encoded data removed]",
            "text/plain": [
              "<Figure size 432x288 with 1 Axes>"
            ]
          },
          "metadata": {
            "needs_background": "light"
          }
        }
      ]
    }
  ]
}