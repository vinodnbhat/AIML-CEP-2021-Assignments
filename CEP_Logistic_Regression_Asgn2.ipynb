{
  "nbformat": 4,
  "nbformat_minor": 0,
  "metadata": {
    "colab": {
      "name": "CEP_Logistic_Regression.ipynb",
      "provenance": [],
      "collapsed_sections": []
    },
    "kernelspec": {
      "name": "python3",
      "display_name": "Python 3"
    },
    "language_info": {
      "name": "python"
    }
  },
  "cells": [
    {
      "cell_type": "markdown",
      "metadata": {
        "id": "49XDDPG96YBS"
      },
      "source": [
        "$\\Huge{\\text{Logistic Regression}}$"
      ]
    },
    {
      "cell_type": "markdown",
      "metadata": {
        "id": "eLRi3Z8M6oEb"
      },
      "source": [
        "In this session, we shall learn about the basics of logistic regression."
      ]
    },
    {
      "cell_type": "markdown",
      "metadata": {
        "id": "omPJTFwf6tKz"
      },
      "source": [
        "Let us first consider a sample data, which will be useful for our study of logistic regression."
      ]
    },
    {
      "cell_type": "code",
      "metadata": {
        "id": "EKjOKXDr60y5"
      },
      "source": [
        "#First, we import the required packages\n",
        "import pandas as pd #the pandas library is useful for data processing \n",
        "import numpy as np #numpy package will be useful for numerical computations\n",
        "import matplotlib.pyplot as plt #the matplotlib library is useful for plotting purposes\n",
        "\n",
        "# The following python directive helps to plot the graph in the notebook directly\n",
        "%matplotlib inline"
      ],
      "execution_count": 1,
      "outputs": []
    },
    {
      "cell_type": "markdown",
      "metadata": {
        "id": "fsQxUCEy_S6o"
      },
      "source": [
        "Now let us consider some open source data sets available in the internet. \n"
      ]
    },
    {
      "cell_type": "code",
      "metadata": {
        "colab": {
          "base_uri": "https://localhost:8080/",
          "height": 204
        },
        "id": "IHcf8Q4q7cNX",
        "outputId": "c0617ba9-f13f-4dfb-ed93-f57a499d794e"
      },
      "source": [
        "#Let us explore the data and the description \n",
        "\n",
        "#Get the data from the web \n",
        "data = pd.read_csv('http://users.stat.ufl.edu/~winner/data/subscript.dat', delim_whitespace=True, index_col=False, header=None)\n",
        "\n",
        "#print the first few rows of the data \n",
        "data.head()\n"
      ],
      "execution_count": 2,
      "outputs": [
        {
          "output_type": "execute_result",
          "data": {
            "text/html": [
              "<div>\n",
              "<style scoped>\n",
              "    .dataframe tbody tr th:only-of-type {\n",
              "        vertical-align: middle;\n",
              "    }\n",
              "\n",
              "    .dataframe tbody tr th {\n",
              "        vertical-align: top;\n",
              "    }\n",
              "\n",
              "    .dataframe thead th {\n",
              "        text-align: right;\n",
              "    }\n",
              "</style>\n",
              "<table border=\"1\" class=\"dataframe\">\n",
              "  <thead>\n",
              "    <tr style=\"text-align: right;\">\n",
              "      <th></th>\n",
              "      <th>0</th>\n",
              "      <th>1</th>\n",
              "      <th>2</th>\n",
              "      <th>3</th>\n",
              "    </tr>\n",
              "  </thead>\n",
              "  <tbody>\n",
              "    <tr>\n",
              "      <th>0</th>\n",
              "      <td>1</td>\n",
              "      <td>1</td>\n",
              "      <td>1</td>\n",
              "      <td>2918</td>\n",
              "    </tr>\n",
              "    <tr>\n",
              "      <th>1</th>\n",
              "      <td>1</td>\n",
              "      <td>1</td>\n",
              "      <td>0</td>\n",
              "      <td>676</td>\n",
              "    </tr>\n",
              "    <tr>\n",
              "      <th>2</th>\n",
              "      <td>1</td>\n",
              "      <td>2</td>\n",
              "      <td>1</td>\n",
              "      <td>14488</td>\n",
              "    </tr>\n",
              "    <tr>\n",
              "      <th>3</th>\n",
              "      <td>1</td>\n",
              "      <td>2</td>\n",
              "      <td>0</td>\n",
              "      <td>3876</td>\n",
              "    </tr>\n",
              "    <tr>\n",
              "      <th>4</th>\n",
              "      <td>1</td>\n",
              "      <td>3</td>\n",
              "      <td>1</td>\n",
              "      <td>1783</td>\n",
              "    </tr>\n",
              "  </tbody>\n",
              "</table>\n",
              "</div>"
            ],
            "text/plain": [
              "   0  1  2      3\n",
              "0  1  1  1   2918\n",
              "1  1  1  0    676\n",
              "2  1  2  1  14488\n",
              "3  1  2  0   3876\n",
              "4  1  3  1   1783"
            ]
          },
          "metadata": {},
          "execution_count": 2
        }
      ]
    },
    {
      "cell_type": "code",
      "metadata": {
        "colab": {
          "base_uri": "https://localhost:8080/",
          "height": 669
        },
        "id": "e30rAQsUAOJU",
        "outputId": "69d66536-d2c7-4e03-8434-78b3b8eb736f"
      },
      "source": [
        "#if you wish to print the entire data, then use the following\n",
        "data"
      ],
      "execution_count": 3,
      "outputs": [
        {
          "output_type": "execute_result",
          "data": {
            "text/html": [
              "<div>\n",
              "<style scoped>\n",
              "    .dataframe tbody tr th:only-of-type {\n",
              "        vertical-align: middle;\n",
              "    }\n",
              "\n",
              "    .dataframe tbody tr th {\n",
              "        vertical-align: top;\n",
              "    }\n",
              "\n",
              "    .dataframe thead th {\n",
              "        text-align: right;\n",
              "    }\n",
              "</style>\n",
              "<table border=\"1\" class=\"dataframe\">\n",
              "  <thead>\n",
              "    <tr style=\"text-align: right;\">\n",
              "      <th></th>\n",
              "      <th>0</th>\n",
              "      <th>1</th>\n",
              "      <th>2</th>\n",
              "      <th>3</th>\n",
              "    </tr>\n",
              "  </thead>\n",
              "  <tbody>\n",
              "    <tr>\n",
              "      <th>0</th>\n",
              "      <td>1</td>\n",
              "      <td>1</td>\n",
              "      <td>1</td>\n",
              "      <td>2918</td>\n",
              "    </tr>\n",
              "    <tr>\n",
              "      <th>1</th>\n",
              "      <td>1</td>\n",
              "      <td>1</td>\n",
              "      <td>0</td>\n",
              "      <td>676</td>\n",
              "    </tr>\n",
              "    <tr>\n",
              "      <th>2</th>\n",
              "      <td>1</td>\n",
              "      <td>2</td>\n",
              "      <td>1</td>\n",
              "      <td>14488</td>\n",
              "    </tr>\n",
              "    <tr>\n",
              "      <th>3</th>\n",
              "      <td>1</td>\n",
              "      <td>2</td>\n",
              "      <td>0</td>\n",
              "      <td>3876</td>\n",
              "    </tr>\n",
              "    <tr>\n",
              "      <th>4</th>\n",
              "      <td>1</td>\n",
              "      <td>3</td>\n",
              "      <td>1</td>\n",
              "      <td>1783</td>\n",
              "    </tr>\n",
              "    <tr>\n",
              "      <th>5</th>\n",
              "      <td>1</td>\n",
              "      <td>3</td>\n",
              "      <td>0</td>\n",
              "      <td>1203</td>\n",
              "    </tr>\n",
              "    <tr>\n",
              "      <th>6</th>\n",
              "      <td>1</td>\n",
              "      <td>4</td>\n",
              "      <td>1</td>\n",
              "      <td>4343</td>\n",
              "    </tr>\n",
              "    <tr>\n",
              "      <th>7</th>\n",
              "      <td>1</td>\n",
              "      <td>4</td>\n",
              "      <td>0</td>\n",
              "      <td>16519</td>\n",
              "    </tr>\n",
              "    <tr>\n",
              "      <th>8</th>\n",
              "      <td>1</td>\n",
              "      <td>5</td>\n",
              "      <td>1</td>\n",
              "      <td>13</td>\n",
              "    </tr>\n",
              "    <tr>\n",
              "      <th>9</th>\n",
              "      <td>1</td>\n",
              "      <td>5</td>\n",
              "      <td>0</td>\n",
              "      <td>136</td>\n",
              "    </tr>\n",
              "    <tr>\n",
              "      <th>10</th>\n",
              "      <td>2</td>\n",
              "      <td>1</td>\n",
              "      <td>1</td>\n",
              "      <td>704</td>\n",
              "    </tr>\n",
              "    <tr>\n",
              "      <th>11</th>\n",
              "      <td>2</td>\n",
              "      <td>1</td>\n",
              "      <td>0</td>\n",
              "      <td>180</td>\n",
              "    </tr>\n",
              "    <tr>\n",
              "      <th>12</th>\n",
              "      <td>2</td>\n",
              "      <td>2</td>\n",
              "      <td>1</td>\n",
              "      <td>3907</td>\n",
              "    </tr>\n",
              "    <tr>\n",
              "      <th>13</th>\n",
              "      <td>2</td>\n",
              "      <td>2</td>\n",
              "      <td>0</td>\n",
              "      <td>1233</td>\n",
              "    </tr>\n",
              "    <tr>\n",
              "      <th>14</th>\n",
              "      <td>2</td>\n",
              "      <td>3</td>\n",
              "      <td>1</td>\n",
              "      <td>1134</td>\n",
              "    </tr>\n",
              "    <tr>\n",
              "      <th>15</th>\n",
              "      <td>2</td>\n",
              "      <td>3</td>\n",
              "      <td>0</td>\n",
              "      <td>1090</td>\n",
              "    </tr>\n",
              "    <tr>\n",
              "      <th>16</th>\n",
              "      <td>2</td>\n",
              "      <td>4</td>\n",
              "      <td>1</td>\n",
              "      <td>122</td>\n",
              "    </tr>\n",
              "    <tr>\n",
              "      <th>17</th>\n",
              "      <td>2</td>\n",
              "      <td>4</td>\n",
              "      <td>0</td>\n",
              "      <td>742</td>\n",
              "    </tr>\n",
              "    <tr>\n",
              "      <th>18</th>\n",
              "      <td>2</td>\n",
              "      <td>5</td>\n",
              "      <td>1</td>\n",
              "      <td>2</td>\n",
              "    </tr>\n",
              "    <tr>\n",
              "      <th>19</th>\n",
              "      <td>2</td>\n",
              "      <td>5</td>\n",
              "      <td>0</td>\n",
              "      <td>43</td>\n",
              "    </tr>\n",
              "  </tbody>\n",
              "</table>\n",
              "</div>"
            ],
            "text/plain": [
              "    0  1  2      3\n",
              "0   1  1  1   2918\n",
              "1   1  1  0    676\n",
              "2   1  2  1  14488\n",
              "3   1  2  0   3876\n",
              "4   1  3  1   1783\n",
              "5   1  3  0   1203\n",
              "6   1  4  1   4343\n",
              "7   1  4  0  16519\n",
              "8   1  5  1     13\n",
              "9   1  5  0    136\n",
              "10  2  1  1    704\n",
              "11  2  1  0    180\n",
              "12  2  2  1   3907\n",
              "13  2  2  0   1233\n",
              "14  2  3  1   1134\n",
              "15  2  3  0   1090\n",
              "16  2  4  1    122\n",
              "17  2  4  0    742\n",
              "18  2  5  1      2\n",
              "19  2  5  0     43"
            ]
          },
          "metadata": {},
          "execution_count": 3
        }
      ]
    },
    {
      "cell_type": "markdown",
      "metadata": {
        "id": "dWpqpERQAf-T"
      },
      "source": [
        "What do the numbers in the above data mean? Let us understand the data by seeing its description. "
      ]
    },
    {
      "cell_type": "code",
      "metadata": {
        "colab": {
          "base_uri": "https://localhost:8080/"
        },
        "id": "j2pWNPCM8apJ",
        "outputId": "b27948ab-4f82-4e72-ec82-80056ea6d3d4"
      },
      "source": [
        "import urllib.request  #this package is useful for accessing text files over internet \n",
        "data_description_file = urllib.request.urlopen('http://users.stat.ufl.edu/~winner/data/subscript.txt')\n",
        "\n",
        "\n",
        "for line in data_description_file:\n",
        "  decoded_line = line.decode(\"utf-8\")\n",
        "  print(decoded_line) "
      ],
      "execution_count": 4,
      "outputs": [
        {
          "output_type": "stream",
          "name": "stdout",
          "text": [
            "Dataset:  subscript.dat\n",
            "\n",
            "\n",
            "\n",
            "Source: C.H. Wagner (1982). \"Simpson's Paradox in Real Life\", The \n",
            "\n",
            "American Statistician, Vol. 36, #1, pp. 46-48\n",
            "\n",
            "\n",
            "\n",
            "Description: Classification of Subscription Renewals by month by 5\n",
            "\n",
            "subscription categories.\n",
            "\n",
            "\n",
            "\n",
            "Variables/Columns\n",
            "\n",
            "\n",
            "\n",
            "Month   1   /* 1=January, 2=February   */\n",
            "\n",
            "Subscription Category  16 /* 1=Gift, 2=Prev renew, 3=Direct mail, \n",
            "\n",
            "                           4=Subscription Service, 5=Catalog Agent  */\n",
            "\n",
            "Renewal staus   24  /* 0=No, 1=Yes   */\n",
            "\n",
            "Count    28-32\n",
            "\n"
          ]
        }
      ]
    },
    {
      "cell_type": "markdown",
      "metadata": {
        "id": "4zeP3YWfBstW"
      },
      "source": [
        "Having known the data description, let us insert the descriptions into the data now."
      ]
    },
    {
      "cell_type": "code",
      "metadata": {
        "colab": {
          "base_uri": "https://localhost:8080/",
          "height": 204
        },
        "id": "6vn3zD4SB3ht",
        "outputId": "bf22b83e-e13e-4899-bf95-7f6f97509938"
      },
      "source": [
        "data.columns = ['Month', 'Subscription Category', 'Renewal Status','Count']\n",
        "\n",
        "\n",
        "#check by printing the data again\n",
        "data.head()"
      ],
      "execution_count": 5,
      "outputs": [
        {
          "output_type": "execute_result",
          "data": {
            "text/html": [
              "<div>\n",
              "<style scoped>\n",
              "    .dataframe tbody tr th:only-of-type {\n",
              "        vertical-align: middle;\n",
              "    }\n",
              "\n",
              "    .dataframe tbody tr th {\n",
              "        vertical-align: top;\n",
              "    }\n",
              "\n",
              "    .dataframe thead th {\n",
              "        text-align: right;\n",
              "    }\n",
              "</style>\n",
              "<table border=\"1\" class=\"dataframe\">\n",
              "  <thead>\n",
              "    <tr style=\"text-align: right;\">\n",
              "      <th></th>\n",
              "      <th>Month</th>\n",
              "      <th>Subscription Category</th>\n",
              "      <th>Renewal Status</th>\n",
              "      <th>Count</th>\n",
              "    </tr>\n",
              "  </thead>\n",
              "  <tbody>\n",
              "    <tr>\n",
              "      <th>0</th>\n",
              "      <td>1</td>\n",
              "      <td>1</td>\n",
              "      <td>1</td>\n",
              "      <td>2918</td>\n",
              "    </tr>\n",
              "    <tr>\n",
              "      <th>1</th>\n",
              "      <td>1</td>\n",
              "      <td>1</td>\n",
              "      <td>0</td>\n",
              "      <td>676</td>\n",
              "    </tr>\n",
              "    <tr>\n",
              "      <th>2</th>\n",
              "      <td>1</td>\n",
              "      <td>2</td>\n",
              "      <td>1</td>\n",
              "      <td>14488</td>\n",
              "    </tr>\n",
              "    <tr>\n",
              "      <th>3</th>\n",
              "      <td>1</td>\n",
              "      <td>2</td>\n",
              "      <td>0</td>\n",
              "      <td>3876</td>\n",
              "    </tr>\n",
              "    <tr>\n",
              "      <th>4</th>\n",
              "      <td>1</td>\n",
              "      <td>3</td>\n",
              "      <td>1</td>\n",
              "      <td>1783</td>\n",
              "    </tr>\n",
              "  </tbody>\n",
              "</table>\n",
              "</div>"
            ],
            "text/plain": [
              "   Month  Subscription Category  Renewal Status  Count\n",
              "0      1                      1               1   2918\n",
              "1      1                      1               0    676\n",
              "2      1                      2               1  14488\n",
              "3      1                      2               0   3876\n",
              "4      1                      3               1   1783"
            ]
          },
          "metadata": {},
          "execution_count": 5
        }
      ]
    },
    {
      "cell_type": "markdown",
      "metadata": {
        "id": "ydpFzxa-h1vq"
      },
      "source": [
        "We will consider Temperature and Erosion Indicator for analysis, therefore we will drop other columns."
      ]
    },
    {
      "cell_type": "code",
      "metadata": {
        "colab": {
          "base_uri": "https://localhost:8080/",
          "height": 221
        },
        "id": "rXmMPskJiDUt",
        "outputId": "7c55794b-c119-4de8-cf07-4ad23a9378a2"
      },
      "source": [
        "# drop columns 'Month' and 'Count'\n",
        "data.pop('Month') \n",
        "data.pop('Count') \n",
        "\n",
        "print('After dropping Month and Count')\n",
        "data.head() \n",
        "  \n"
      ],
      "execution_count": 6,
      "outputs": [
        {
          "output_type": "stream",
          "name": "stdout",
          "text": [
            "After dropping Month and Count\n"
          ]
        },
        {
          "output_type": "execute_result",
          "data": {
            "text/html": [
              "<div>\n",
              "<style scoped>\n",
              "    .dataframe tbody tr th:only-of-type {\n",
              "        vertical-align: middle;\n",
              "    }\n",
              "\n",
              "    .dataframe tbody tr th {\n",
              "        vertical-align: top;\n",
              "    }\n",
              "\n",
              "    .dataframe thead th {\n",
              "        text-align: right;\n",
              "    }\n",
              "</style>\n",
              "<table border=\"1\" class=\"dataframe\">\n",
              "  <thead>\n",
              "    <tr style=\"text-align: right;\">\n",
              "      <th></th>\n",
              "      <th>Subscription Category</th>\n",
              "      <th>Renewal Status</th>\n",
              "    </tr>\n",
              "  </thead>\n",
              "  <tbody>\n",
              "    <tr>\n",
              "      <th>0</th>\n",
              "      <td>1</td>\n",
              "      <td>1</td>\n",
              "    </tr>\n",
              "    <tr>\n",
              "      <th>1</th>\n",
              "      <td>1</td>\n",
              "      <td>0</td>\n",
              "    </tr>\n",
              "    <tr>\n",
              "      <th>2</th>\n",
              "      <td>2</td>\n",
              "      <td>1</td>\n",
              "    </tr>\n",
              "    <tr>\n",
              "      <th>3</th>\n",
              "      <td>2</td>\n",
              "      <td>0</td>\n",
              "    </tr>\n",
              "    <tr>\n",
              "      <th>4</th>\n",
              "      <td>3</td>\n",
              "      <td>1</td>\n",
              "    </tr>\n",
              "  </tbody>\n",
              "</table>\n",
              "</div>"
            ],
            "text/plain": [
              "   Subscription Category  Renewal Status\n",
              "0                      1               1\n",
              "1                      1               0\n",
              "2                      2               1\n",
              "3                      2               0\n",
              "4                      3               1"
            ]
          },
          "metadata": {},
          "execution_count": 6
        }
      ]
    },
    {
      "cell_type": "markdown",
      "metadata": {
        "id": "oxMzgEmuBYaP"
      },
      "source": [
        "Seeing the data as mere numbers might not be interesting. So, let us use some graphical ways to visualize the data. "
      ]
    },
    {
      "cell_type": "code",
      "metadata": {
        "colab": {
          "base_uri": "https://localhost:8080/",
          "height": 295
        },
        "id": "aGs0mgVU9aTe",
        "outputId": "e99d7598-9c19-4515-8bad-cfd8b846a3aa"
      },
      "source": [
        "#We will plot a scatter plot of Temperature vs Erosion Indicator\n",
        "\n",
        "plt.scatter(data['Subscription Category'], data['Renewal Status'])\n",
        "#plt.scatter(data.iloc[:,0], data.iloc[:,1])\n",
        "plt.title(\"Subscription Category vs Renewal Status\")\n",
        "plt.xlabel(\"Subscription Category\")\n",
        "plt.ylabel(\"Renewal Status\")\n",
        "plt.show()"
      ],
      "execution_count": 7,
      "outputs": [
        {
          "output_type": "display_data",
          "data": {
            "image/png": "[encoded data removed]",
            "text/plain": [
              "<Figure size 432x288 with 1 Axes>"
            ]
          },
          "metadata": {
            "needs_background": "light"
          }
        }
      ]
    },
    {
      "cell_type": "markdown",
      "metadata": {
        "id": "QAUgxkr_JPm6"
      },
      "source": [
        "We see that the $y$ coordinates of the points (corresponding to the Erosion Indicator) are simply 0 and 1. Hence it would be unsuitable to model the given data using linear regression model. "
      ]
    },
    {
      "cell_type": "markdown",
      "metadata": {
        "id": "1RomqGNjJict"
      },
      "source": [
        "$\\large{\\text{Question:}}$ How do we model the response variable in this situation? "
      ]
    },
    {
      "cell_type": "markdown",
      "metadata": {
        "id": "eEEpTGVimfq9"
      },
      "source": [
        "$\\large{\\text{One Possible Solution:}}$ We will discuss logistic regression as a possible approach to model such situations where the response variable is dichotomous (or) binary-valued.  "
      ]
    },
    {
      "cell_type": "markdown",
      "metadata": {
        "id": "cEhKyzh0xka9"
      },
      "source": [
        "$\\Large{\\text{Probabilistic interpretation}}$ \n",
        "\n",
        "$\\textbf{Recall:}$ In linear regression, we assumed that in terms of probability, the response variable $Y \\in {\\mathbb{R}}$ was dependent on the predictor variable $X \\in {\\mathbb{R}}$ using the relation:\n",
        "\n",
        "$\n",
        "E[Y|X=x] =  \\beta_0 + \\beta_1 x.\n",
        "$\n",
        "\n",
        "However $\\textbf{note}$ that the response variable $Y$ in linear regression was a real-valued quantity.  \n",
        "\n",
        "However for our current data, $Y$ takes only the values $0$ and $1$. Hence if we wish to use a probabilistic idea for such binary-valued response variable, one straightforward idea comes from Bernoulli random variables. \n",
        "\n",
        "\n",
        "$\\large{\\text{Bernoulli Random Variable}}$ \n",
        "\n",
        "Let $Z$ be a Bernoulli random variable taking values $0$ and $1$. Then the distribution of $Z$ is given by:\n",
        "\n",
        "$\n",
        "\\begin{align}\n",
        "P(Z=1) &= p, \\\\\n",
        "P(Z=0) &= 1-p \n",
        "\\end{align}\n",
        "$\n",
        "\n",
        "where $p$ is the probability with which $Z$ takes the value $1$. $p$ is called the parameter of the Bernoulli distribution. \n",
        "\n",
        "Also note that the expected value of $Z$ is given by: $E[Z] = p$. \n",
        "\n",
        "Now considering our response random variable $Y$ as a Bernoulli random variable,we would have: $E[Y]=p$, where $p$ is the probability that $Y$ takes the value $1$. \n",
        "\n",
        "However in the presence of a predictor random variable $X$, we can write the conditional expectation of $Y$ given an observation $x$ of $X$ as:\n",
        "\n",
        "$\n",
        "\\begin{align}\n",
        "E[Y|X=x] = p(x)\n",
        "\\end{align}\n",
        "$\n",
        "\n",
        "where we have assumed that the probability now has a dependence on the observation $x$. \n",
        "\n",
        "For example, in our data, since $Y$ denotes the Erosion Indicator, and $X$ denotes the Temperature, we can assume that the probability that Erosion happens is somehow related to the observed value of Temperature. \n",
        "\n",
        "There are multiple ways to model $p(x)$. In logistic regression, we assume the following:\n",
        "\n",
        "$\n",
        "p(x)=p(x;\\beta_0,\\beta_1) = \\frac{e^{(\\beta_0 + \\beta_1 x)}}{1+e^{(\\beta_0 + \\beta_1 x)}}.\n",
        "$\n",
        "\n",
        "$\\textbf{Note:}$ The form of $p(x)$ is assumed to be parametric, dependent on parameters $\\beta_0, \\beta_1$. The form of $p(x)$ in the previous equation is specifically called a $\\textbf{(logistic) sigmoid}$ function. \n",
        "\n"
      ]
    },
    {
      "cell_type": "code",
      "metadata": {
        "colab": {
          "base_uri": "https://localhost:8080/",
          "height": 295
        },
        "id": "vhS1J094yWfM",
        "outputId": "ac75fe22-70d5-4479-e0c6-8e03909253e2"
      },
      "source": [
        "#let us plot the logistic sigmoid function\n",
        "x = np.linspace(-5,5,100) #creates a series of points in x axis\n",
        "y = np.exp(x)/(1.0+np.exp(x))\n",
        "y1 = np.exp(0.5*x)/(1.0+np.exp(0.5*x))\n",
        "y2=np.exp(50*x)/(1.0+np.exp(50*x))\n",
        "plt.plot(x, y, '-g', label='logistic sigmoid function')\n",
        "plt.plot(x, y1, '-r', label='logistic sigmoid function - 1')\n",
        "plt.plot(x, y2, '-b', label='logistic sigmoid function - 2')\n",
        "\n",
        "\n",
        "plt.title(\"Logistic sigmoid\")\n",
        "plt.xlabel(\"x\")\n",
        "plt.ylabel(\"exp(x)/(1+exp(x))\")\n",
        "plt.legend(loc='lower right')\n",
        "#plt.grid()\n",
        "plt.show()"
      ],
      "execution_count": null,
      "outputs": [
        {
          "output_type": "display_data",
          "data": {
            "image/png": "[encoded data removed]",
            "text/plain": [
              "<Figure size 432x288 with 1 Axes>"
            ]
          },
          "metadata": {
            "needs_background": "light"
          }
        }
      ]
    },
    {
      "cell_type": "markdown",
      "metadata": {
        "id": "QMalZbFjy8w0"
      },
      "source": [
        "We can further write $p(x)$ equivalently as:\n",
        "\n",
        "$\n",
        "p(x)=p(x;\\beta_0,\\beta_1) = \\frac{1}{1+e^{-(\\beta_0 + \\beta_1 x)}}.\n",
        "$\n",
        "\n",
        "If we denote $p(x)$ simply as $p$ and if we have the notations $\\mathbf{x}=\\begin{bmatrix}\n",
        "x \\\\ 1\n",
        "\\end{bmatrix}, \\beta=\\begin{bmatrix}\n",
        "\\beta_1 \\\\ \\beta_0\n",
        "\\end{bmatrix}$\n",
        "then we can write:\n",
        "\n",
        "$\n",
        "\\begin{align}\n",
        "p = \\frac{1}{1+e^{-\\beta^\\top \\mathbf{x}}}.\n",
        "\\end{align}\n",
        "$\n",
        "\n",
        "Then note the following that the following algebraic manipulations hold:\n",
        "\n",
        "$\n",
        "\\begin{align}\n",
        "p &= \\frac{1}{1+e^{-\\beta^\\top \\mathbf{x}}} \\\\\n",
        "\\implies 1 + e^{-\\beta^\\top \\mathbf{x}} &= \\frac{1}{p} \\\\\n",
        "\\implies  e^{-\\beta^\\top \\mathbf{x}} &= \\frac{1}{p} - 1 \\\\\n",
        "\\implies  e^{-\\beta^\\top \\mathbf{x}} &= \\frac{1-p}{p} \\\\\n",
        "\\implies \\ln e^{-\\beta^\\top \\mathbf{x}} &= \\ln \\frac{1-p}{p} \\\\\n",
        "\\implies -\\beta^\\top \\mathbf{x} &= \\ln \\frac{1-p}{p} \\\\\n",
        "\\implies \\beta^\\top \\mathbf{x} &= \\ln \\frac{p}{1-p} \\\\\n",
        "\\implies \\beta_0 + \\beta_1 x &= \\ln \\frac{p}{1-p}.\n",
        "\\end{align}\n",
        "$\n",
        "\n",
        "Thus, even if we did not have a straightforward dependence of $Y$ on an observation $x$ of $X$ as a linear relation, we see that the linear relation $\\beta_0 + \\beta_1 x$ is related to the probability $p$ using:\n",
        "\n",
        "$\n",
        "\\ln\\frac{p}{1-p}=\\beta^\\top \\mathbf{x}.\n",
        "$\n",
        "\n",
        "Note that the ratio $\\frac{p}{1-p}$ is called $\\textbf{odds}$ that the event $Y=1$ occurs, and hence $\\ln \\frac{p}{1-p}$ denotes the $\\textbf{log odds}$. \n",
        "\n",
        "More popularly, the log odds $\\ln \\frac{p}{1-p}$ is called the $\\textbf{logit}$ function. \n"
      ]
    },
    {
      "cell_type": "code",
      "metadata": {
        "colab": {
          "base_uri": "https://localhost:8080/",
          "height": 369
        },
        "id": "l1TSIepkzAUT",
        "outputId": "4d4b17e6-a646-4175-d889-3be8b3d073b8"
      },
      "source": [
        "#let us plot the logit function\n",
        "x = np.linspace(0,1,100) #creates a series of points in x axis\n",
        "y = np.log(x/(1-x))\n",
        "plt.plot(x, y, '-g', label='logit function')\n",
        "\n",
        "\n",
        "plt.title(\"Logit\")\n",
        "plt.xlabel(\"p\")\n",
        "plt.ylabel(\"ln p/(1-p)\")\n",
        "plt.legend(loc='upper left')\n",
        "#plt.grid()\n",
        "plt.show()"
      ],
      "execution_count": null,
      "outputs": [
        {
          "output_type": "stream",
          "name": "stderr",
          "text": [
            "/usr/local/lib/python3.7/dist-packages/ipykernel_launcher.py:3: RuntimeWarning: divide by zero encountered in true_divide\n",
            "  This is separate from the ipykernel package so we can avoid doing imports until\n",
            "/usr/local/lib/python3.7/dist-packages/ipykernel_launcher.py:3: RuntimeWarning: divide by zero encountered in log\n",
            "  This is separate from the ipykernel package so we can avoid doing imports until\n"
          ]
        },
        {
          "output_type": "display_data",
          "data": {
            "image/png": "[encoded data removed]",
            "text/plain": [
              "<Figure size 432x288 with 1 Axes>"
            ]
          },
          "metadata": {
            "needs_background": "light"
          }
        }
      ]
    },
    {
      "cell_type": "markdown",
      "metadata": {
        "id": "qxAowGDw9e7P"
      },
      "source": [
        "$\\Large{\\text{Likelihood function}}$ \n",
        "\n",
        "We now define a quantity which will be useful in the estimation of the parameters $\\beta_0, \\beta_1$ used to model $p$.\n",
        "\n",
        "\n",
        "Given an observation $X=x$ we define the $\\textbf{likelihood function}$ as: \n",
        "\n",
        "$\n",
        "L(y;p) = p^y(1-p)^{(1-y)}\n",
        "$\n",
        "\n",
        "where recall that $p=p(x)=p(x;\\beta_0,\\beta_1)=\\frac{1}{1+e^{-{(\\beta_0 + \\beta_1 x)}}}$. Note that likelihood function is simply an equivalent way to represent $P[Y=y]$, when $Y$ is assumed to be Bernoulli random variable. \n",
        "\n",
        "Then observe that the natural goal is to maximize the likelihood function with respect to parameters $\\beta_0, \\beta_1$. \n",
        "\n",
        "Now given a data set $D$ containing $n$ observations of the form $\\{({x}^1,y^1), ({x}^2,y^2), \\ldots, ({x}^n,y^n)\\}$, and assuming that the pairs $({x}^i,y^i)$ are independent observations, then it is possible to extend the likelihood function as: \n",
        "\n",
        "$\n",
        "\\begin{align}\n",
        "L(y^1,\\ldots,y^n;p^1,\\ldots,p^n) = \\Pi_{i=1}^{n} {(p^i)}^{y^i}(1-p^i)^{(1-y^i)}.\n",
        "\\end{align}\n",
        "$\n",
        "\n",
        "We can now write the $\\textbf{log likelihood}$ function as:\n",
        "\n",
        "$\n",
        "\\begin{align}\n",
        "\\ln L(y^1,\\ldots,y^n;p^1,\\ldots,p^n) = \\sum_{i=1}^{n} y^i \\ln {(p^i)} + (1-y^i) \\ln (1-p^i).\n",
        "\\end{align}\n",
        "$\n",
        "\n",
        "Since log likelihood function is monotonic, maximizing the likelihood function is equivalent to maximizing the log likelihood function. \n",
        "\n",
        "Hence the concerned optimization problem is: \n",
        "\n",
        "$\n",
        "\\max_{\\beta_0, \\beta_1} \\ln L(y^1,\\ldots,y^n;p^1;\\ldots,p^n)= \\sum_{i=1}^{n} y^i \\ln {(p^i)} + (1-y^i) \\ln (1-p^i).\n",
        "$\n",
        "\n",
        "Note that $p^i = p(x^i) = p(x^i; \\beta_0, \\beta_1) = \\frac{1}{1+e^{-{(\\beta_0 + \\beta_1 x^i)}}}, \\forall i = 1,\\ldots,n$.\n",
        "\n"
      ]
    },
    {
      "cell_type": "markdown",
      "metadata": {
        "id": "bTscS5Nn22Vp"
      },
      "source": [
        "$\\Large{\\text{Solving the likelihood maximization problem}}:$\n",
        "\n",
        "To solve \n",
        "\n",
        "$\n",
        "\\max_{\\beta_0, \\beta_1} \\ln L(y^1,\\ldots,y^n;p^1;\\ldots,p^n)= \\sum_{i=1}^{n} y^i \\ln {(p^i)} + (1-y^i) \\ln (1-p^i).\n",
        "$\n",
        "\n",
        "we can find the derivatives of the objective function with respect to $\\beta_0$ and $\\beta_1$ as:\n",
        "\n",
        "$\n",
        "\\begin{align}\n",
        "\\frac{\\partial{ \\ln L }} {\\partial \\beta_0} &= \\sum_{i=1}^{n} y^i (1-p^i) - (1-y^i) p^i \\\\ \n",
        "\\frac{\\partial{ \\ln L }} {\\partial \\beta_1} &= \\sum_{i=1}^{n} x^i(y^i (1-p^i) - (1-y^i) p^i)\n",
        "\\end{align}. \n",
        "$\n",
        "\n",
        "Equating these derivatives to zero will lead to system of non-linear equations which is generally difficult to solve to obtain closed form expression. \n",
        "\n",
        "Hence we generally adopt an iterative procedure as follows to find the optimal $\\beta_0, \\beta_1$. \n",
        "\n",
        "$\\large{\\text{Gradient ascent for solving the likelihood maximization problem}}:$\n",
        "\n",
        "$\n",
        "\\begin{align}\n",
        "&\\textbf{Step 0:}  \\text{Input data set $D$, tolerances $\\epsilon_1, \\epsilon_2$.} \\\\\n",
        "&\\textbf{Step 1:}  \\text{Start with arbitrary $\\beta_0, \\beta_1$.} \\\\\n",
        "&\\textbf{Step 2:}  \\text{For $k=1,2,\\ldots$} \\\\\n",
        "&\\quad \\quad \\textbf{Step 2.1:} \\text{Compute differentials  $\\frac{\\partial{ \\ln L }} {\\partial \\beta_0}$ and $\\frac{\\partial{ \\ln L }} {\\partial \\beta_1}$} \\\\\n",
        "&\\quad \\quad \\textbf{Step 2.2:}  \\text{Compute step length $\\eta$ using line search procedure} \\\\\n",
        "&\\quad \\quad \\textbf{Step 2.3:}  \\beta_0 = \\beta_0 + \\eta \\frac{\\partial{ \\ln L }} {\\partial \\beta_0} \\\\\n",
        "&\\quad \\quad \\textbf{Step 2.4:}  \\beta_1 = \\beta_1 + \\eta \\frac{\\partial{ \\ln L }} {\\partial \\beta_1} \\\\\n",
        "&\\quad \\quad \\textbf{Step 2.5:}  \\text{if $\\|\\nabla_{\\beta} \\ln L\\|_2 \\leq \\epsilon_1$ break from loop} \\\\\n",
        "&\\quad \\quad \\textbf{Step 2.6:}  \\text{if relative change in function value is $\\leq \\epsilon_2$ break from loop} \\\\\n",
        "&\\textbf{Step 3:}  \\text{ Output $\\beta_0, \\beta_1$}\n",
        "\\end{align}\n",
        "$\n",
        "\n",
        "Note that $\\nabla_{\\beta} \\ln L$ denotes the gradient of $\\ln L$ with respect to $\\beta$ given by:\n",
        "\n",
        "$\n",
        "\\nabla_{\\beta} \\ln L = \\begin{bmatrix}\n",
        "\\frac{\\partial{ \\ln L }} {\\partial \\beta_0}\\\\\n",
        "\\frac{\\partial{ \\ln L }} {\\partial \\beta_1}\n",
        "\\end{bmatrix}\n",
        "$\n",
        "\n",
        "and $\\eta$ denotes the learning rate. \n"
      ]
    },
    {
      "cell_type": "markdown",
      "metadata": {
        "id": "JZgcnaqX-q1W"
      },
      "source": [
        "$\\Large{\\text{Computing } \\beta \\text{ for the erosion data set}}:$"
      ]
    },
    {
      "cell_type": "code",
      "metadata": {
        "colab": {
          "base_uri": "https://localhost:8080/"
        },
        "id": "q9X7RNSU_g4e",
        "outputId": "ce183653-ccc5-4711-84bc-ac0f814ad2b2"
      },
      "source": [
        "#Let us now compute beta \n",
        "n = len(data.index) #number of data points in the data set\n",
        "print('number of data points in the data set:',n)"
      ],
      "execution_count": 8,
      "outputs": [
        {
          "output_type": "stream",
          "name": "stdout",
          "text": [
            "number of data points in the data set: 20\n"
          ]
        }
      ]
    },
    {
      "cell_type": "code",
      "metadata": {
        "id": "ygaV2UamZuL1"
      },
      "source": [
        "import numpy as np\n",
        "#computing log likelihood function\n",
        "def log_likelihood(beta_0,beta_1):\n",
        "  log_likelihood = 0.0\n",
        "  for i in range(n):\n",
        "    x_i = float(data.iat[i,0]) #access element at Temperature column\n",
        "    y_i = float(data.iat[i,1]) #access element at Erosion Indicator column\n",
        "    p_i = 1.0/(1.0+np.exp(-beta_0 - beta_1*x_i)) #probability with the current beta_0, beta_1\n",
        "    log_likelihood += y_i * np.log(p_i) + (1.0-y_i)*np.log(1-p_i)\n",
        "  return log_likelihood"
      ],
      "execution_count": 9,
      "outputs": []
    },
    {
      "cell_type": "code",
      "metadata": {
        "colab": {
          "base_uri": "https://localhost:8080/",
          "height": 346
        },
        "id": "UXHouanUVESS",
        "outputId": "3992f897-75a3-4ed3-92ab-6c9a0b798b80"
      },
      "source": [
        "#gradient ascent for likelihood maximization \n",
        "beta_0 = 0.0\n",
        "beta_1 = 0.0\n",
        "max_iter = 500000\n",
        "eps_1 = 0.1 #tolerance for gradient norm\n",
        "eps_2 = 1e-9 #tolerance for relative function value difference\n",
        "\n",
        "f_val = log_likelihood(beta_0,beta_1)\n",
        "\n",
        "#store the objective function values for plotting purposes\n",
        "f_val_list = [] \n",
        "f_val_list.append(f_val)\n",
        "\n",
        "print('Initial values: beta_0:',beta_0, ' beta_1:',beta_1, ' log likeihood:', f_val)\n",
        "#the loop \n",
        "for k in range(max_iter):\n",
        "  \n",
        "  grad_beta_0 = 0.0\n",
        "  grad_beta_1= 0.0\n",
        "  #pass through the data to compute gradients\n",
        "  for i in range(n):\n",
        "    x_i = float(data.iat[i,0]) #access element at Temperature column\n",
        "    y_i = float(data.iat[i,1]) #access element at Erosion Indicator column\n",
        "    p_i = 1.0/(1.0+np.exp(-beta_0 - beta_1*x_i)) #probability with the current beta_0, beta_1\n",
        "    grad_beta_0 +=  (y_i * (1.0-p_i)) - ((1.0-y_i) * p_i)\n",
        "    grad_beta_1 +=  x_i * (y_i * (1.0-p_i) - (1.0-y_i) * p_i)\n",
        "  \n",
        "  #lr = linesearch(beta_0, beta_1, grad_beta_0, grad_beta_1, float(f_val_list[-1]))\n",
        "  lr = 0.0001\n",
        "  beta_0 += lr * grad_beta_0\n",
        "  beta_1 += lr * grad_beta_1\n",
        "  #print('k: ', k, ' grad beta_0: ', grad_beta_0, 'grad beta_1: ',grad_beta_1, 'beta_0:', beta_0, 'beta_1:',beta_1)\n",
        "  grad_norm = np.sqrt(grad_beta_0**2 + grad_beta_1**2)\n",
        "  f_val = log_likelihood(beta_0,beta_1)\n",
        "  f_val_list.append(f_val)\n",
        "\n",
        "  rel_change_in_fval = np.abs((f_val - f_val_list[-2])/f_val_list[-2])\n",
        "\n",
        "  if k%1000+1 == 1:\n",
        "    print('k: ', k,  ' beta_0:', beta_0, ' beta_1:',beta_1, ' grad norm:', grad_norm, 'log likeihood:', f_val)\n",
        "  if grad_norm <= eps_1 or rel_change_in_fval <= eps_2:\n",
        "    break\n",
        "print('Final: k: ', k,  ' beta_0:', beta_0, ' beta_1:',beta_1, ' grad norm:', grad_norm, 'log likeihood:', f_val)\n",
        "\n",
        "\n",
        "#plot the function values during optimization \n",
        "plt.plot( f_val_list, '-r', label='Log Likelihood values')\n",
        "plt.title(\"Log likelihood function values vs iterations\")\n",
        "plt.xlabel(\"Iteration\")\n",
        "plt.ylabel(\"Log Likelihood\")\n",
        "plt.legend(loc='lower right')\n",
        "#plt.grid()\n",
        "plt.show()\n"
      ],
      "execution_count": 10,
      "outputs": [
        {
          "output_type": "stream",
          "name": "stdout",
          "text": [
            "Initial values: beta_0: 0.0  beta_1: 0.0  log likeihood: -13.862943611198906\n",
            "k:  0  beta_0: 0.0  beta_1: 0.0  grad norm: 0.0 log likeihood: -13.862943611198906\n",
            "Final: k:  0  beta_0: 0.0  beta_1: 0.0  grad norm: 0.0 log likeihood: -13.862943611198906\n"
          ]
        },
        {
          "output_type": "display_data",
          "data": {
            "image/png": "[encoded data removed]",
            "text/plain": [
              "<Figure size 432x288 with 1 Axes>"
            ]
          },
          "metadata": {
            "needs_background": "light"
          }
        }
      ]
    },
    {
      "cell_type": "code",
      "metadata": {
        "colab": {
          "base_uri": "https://localhost:8080/",
          "height": 329
        },
        "id": "RW1UGYZDqycy",
        "outputId": "ef353ab5-eb1d-4a44-eaee-0232188d38c7"
      },
      "source": [
        "#It would be useful to check the acutal y_i values against the predicted probabilities \\hat{y}_i\n",
        "\n",
        "predicted_probabilities = []\n",
        "count = 0\n",
        "for i in range(n):\n",
        "    x_i = float(data.iat[i,0]) #access element at Temperature column\n",
        "    y_i = float(data.iat[i,1]) #access element at Erosion Indicator column\n",
        "    p_i = 1.0/(1.0+np.exp(-beta_0 - beta_1*x_i)) #probability with the current beta_0, beta_1\n",
        "    if p_i >= 0.5:\n",
        "      p_i = 1.0\n",
        "    else:\n",
        "      p_i = 0.0\n",
        "    predicted_probabilities.append(p_i)\n",
        "    if p_i == y_i:\n",
        "      count += 1\n",
        "\n",
        "print('No. of correctly predicted samples: ', count)\n",
        "accuracy = count / n\n",
        "print('Accuracy: ', accuracy)\n",
        "\n",
        "plt.scatter(data['Subscription Category'], data['Renewal Status'],label='actual')\n",
        "plt.scatter(data['Subscription Category'], predicted_probabilities,label='predicted')\n",
        "\n",
        "plt.title(\"Actual vs Predicted Probabilities\")\n",
        "plt.xlabel(\"Subscription Category\")\n",
        "plt.ylabel(\"Renewal Status\")\n",
        "plt.legend(loc='center right')\n",
        "#plt.grid()\n",
        "plt.show()"
      ],
      "execution_count": 13,
      "outputs": [
        {
          "output_type": "stream",
          "name": "stdout",
          "text": [
            "No. of correctly predicted samples:  10\n",
            "Accuracy:  0.5\n"
          ]
        },
        {
          "output_type": "display_data",
          "data": {
            "image/png": "[encoded data removed]",
            "text/plain": [
              "<Figure size 432x288 with 1 Axes>"
            ]
          },
          "metadata": {
            "needs_background": "light"
          }
        }
      ]
    },
    {
      "cell_type": "markdown",
      "metadata": {
        "id": "WqeRvDki6yMH"
      },
      "source": [
        "$\\Large{\\text{Exercise:}}$\n",
        "\n",
        "Perform logistic regression with the following data sets:\n",
        "1. Data: http://users.stat.ufl.edu/~winner/data/smkdth.dat\n",
        "   Description: http://users.stat.ufl.edu/~winner/data/smkdth.txt\n",
        "   \n",
        "   Take the age and smoking status as predictor variables and survival status as response variable. \n",
        "   \n",
        "   For computing  prediction $\\hat{y}(x)$ for an observation $X=x$, use the following rule: \n",
        "   $\n",
        "   \\hat{y}(x) = \\begin{cases} \n",
        "          1 & \\text { when } p(x) >= 0.5 \\\\ \n",
        "          0 &  \\text { otherwise. }   \n",
        "          \\end{cases}\n",
        "   $\n",
        "   \n",
        "   Report the accuracy as the percent of correctly predicted samples using the logistic regression model. \n",
        "\n",
        "2. Data: http://users.stat.ufl.edu/~winner/data/subscript.dat \n",
        "   Description: http://users.stat.ufl.edu/~winner/data/subscript.txt \n",
        "\n",
        "   Take the subscription category as predictor variable and renewal status as response variable.\n",
        "\n",
        "Plot the predictions and actual values in a scatter plot. Report the accuracy as the percent of correctly predicted samples using the logistic regression model. \n",
        "Explain your observations. \n"
      ]
    },
    {
      "cell_type": "markdown",
      "metadata": {
        "id": "wb6j953Vun8Z"
      },
      "source": [
        "$\\Large{\\text{References:}}$\n",
        "\n",
        "\n",
        "\n",
        "1.   Joseph M. Hilbe, $\\textit{Practical Guide to Logistic Regression}$. CRC Press,  2015.\n",
        "2.   David Hosmer, Stanley Lameshow and Rodney Sturdivant. $\\textit{Applied Logistic Regression}$. John Wiley $\\&$ Sons, Inc., Hoboken, New Jersey, 2013.\n",
        "\n"
      ]
    },
    {
      "cell_type": "code",
      "metadata": {
        "id": "T47ZSd4DiFa_"
      },
      "source": [
        ""
      ],
      "execution_count": null,
      "outputs": []
    }
  ]
}