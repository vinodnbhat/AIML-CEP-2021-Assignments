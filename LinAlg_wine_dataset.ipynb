{
  "nbformat": 4,
  "nbformat_minor": 0,
  "metadata": {
    "colab": {
      "name": "Untitled2.ipynb",
      "provenance": [],
      "collapsed_sections": [],
      "authorship_tag": "ABX9TyMuYJr0CzEbZ0bOip8sAzis",
      "include_colab_link": true
    },
    "kernelspec": {
      "name": "python3",
      "display_name": "Python 3"
    },
    "language_info": {
      "name": "python"
    }
  },
  "cells": [
    {
      "cell_type": "markdown",
      "metadata": {
        "id": "view-in-github",
        "colab_type": "text"
      },
      "source": [
        "<a href=\"https://colab.research.google.com/github/vinodnbhat/AIML-CEP-2021-Assignments/blob/main/LinAlg_wine_dataset.ipynb\" target=\"_parent\"><img src=\"https://colab.research.google.com/assets/colab-badge.svg\" alt=\"Open In Colab\"/></a>"
      ]
    },
    {
      "cell_type": "code",
      "metadata": {
        "id": "XZkxCnIIn9Ol"
      },
      "source": [
        "import numpy as np\n",
        "from sklearn.datasets import load_wine"
      ],
      "execution_count": 1,
      "outputs": []
    },
    {
      "cell_type": "code",
      "metadata": {
        "id": "Kyn9LdeCodth"
      },
      "source": [
        "X_y = load_wine()"
      ],
      "execution_count": 2,
      "outputs": []
    },
    {
      "cell_type": "code",
      "metadata": {
        "colab": {
          "base_uri": "https://localhost:8080/"
        },
        "id": "Db8iK99xoqt6",
        "outputId": "71cfe550-3aa8-48c7-fa86-0e98cadab898"
      },
      "source": [
        "print('X_y type:', type(X_y))\n",
        "print(X_y)"
      ],
      "execution_count": 3,
      "outputs": [
        {
          "output_type": "stream",
          "name": "stdout",
          "text": [
            "X_y type: <class 'sklearn.utils.Bunch'>\n",
            "{'data': array([[1.423e+01, 1.710e+00, 2.430e+00, ..., 1.040e+00, 3.920e+00,\n",
            "        1.065e+03],\n",
            "       [1.320e+01, 1.780e+00, 2.140e+00, ..., 1.050e+00, 3.400e+00,\n",
            "        1.050e+03],\n",
            "       [1.316e+01, 2.360e+00, 2.670e+00, ..., 1.030e+00, 3.170e+00,\n",
            "        1.185e+03],\n",
            "       ...,\n",
            "       [1.327e+01, 4.280e+00, 2.260e+00, ..., 5.900e-01, 1.560e+00,\n",
            "        8.350e+02],\n",
            "       [1.317e+01, 2.590e+00, 2.370e+00, ..., 6.000e-01, 1.620e+00,\n",
            "        8.400e+02],\n",
            "       [1.413e+01, 4.100e+00, 2.740e+00, ..., 6.100e-01, 1.600e+00,\n",
            "        5.600e+02]]), 'target': array([0, 0, 0, 0, 0, 0, 0, 0, 0, 0, 0, 0, 0, 0, 0, 0, 0, 0, 0, 0, 0, 0,\n",
            "       0, 0, 0, 0, 0, 0, 0, 0, 0, 0, 0, 0, 0, 0, 0, 0, 0, 0, 0, 0, 0, 0,\n",
            "       0, 0, 0, 0, 0, 0, 0, 0, 0, 0, 0, 0, 0, 0, 0, 1, 1, 1, 1, 1, 1, 1,\n",
            "       1, 1, 1, 1, 1, 1, 1, 1, 1, 1, 1, 1, 1, 1, 1, 1, 1, 1, 1, 1, 1, 1,\n",
            "       1, 1, 1, 1, 1, 1, 1, 1, 1, 1, 1, 1, 1, 1, 1, 1, 1, 1, 1, 1, 1, 1,\n",
            "       1, 1, 1, 1, 1, 1, 1, 1, 1, 1, 1, 1, 1, 1, 1, 1, 1, 1, 1, 1, 2, 2,\n",
            "       2, 2, 2, 2, 2, 2, 2, 2, 2, 2, 2, 2, 2, 2, 2, 2, 2, 2, 2, 2, 2, 2,\n",
            "       2, 2, 2, 2, 2, 2, 2, 2, 2, 2, 2, 2, 2, 2, 2, 2, 2, 2, 2, 2, 2, 2,\n",
            "       2, 2]), 'target_names': array(['class_0', 'class_1', 'class_2'], dtype='<U7'), 'DESCR': '.. _wine_dataset:\\n\\nWine recognition dataset\\n------------------------\\n\\n**Data Set Characteristics:**\\n\\n    :Number of Instances: 178 (50 in each of three classes)\\n    :Number of Attributes: 13 numeric, predictive attributes and the class\\n    :Attribute Information:\\n \\t\\t- Alcohol\\n \\t\\t- Malic acid\\n \\t\\t- Ash\\n\\t\\t- Alcalinity of ash  \\n \\t\\t- Magnesium\\n\\t\\t- Total phenols\\n \\t\\t- Flavanoids\\n \\t\\t- Nonflavanoid phenols\\n \\t\\t- Proanthocyanins\\n\\t\\t- Color intensity\\n \\t\\t- Hue\\n \\t\\t- OD280/OD315 of diluted wines\\n \\t\\t- Proline\\n\\n    - class:\\n            - class_0\\n            - class_1\\n            - class_2\\n\\t\\t\\n    :Summary Statistics:\\n    \\n    ============================= ==== ===== ======= =====\\n                                   Min   Max   Mean     SD\\n    ============================= ==== ===== ======= =====\\n    Alcohol:                      11.0  14.8    13.0   0.8\\n    Malic Acid:                   0.74  5.80    2.34  1.12\\n    Ash:                          1.36  3.23    2.36  0.27\\n    Alcalinity of Ash:            10.6  30.0    19.5   3.3\\n    Magnesium:                    70.0 162.0    99.7  14.3\\n    Total Phenols:                0.98  3.88    2.29  0.63\\n    Flavanoids:                   0.34  5.08    2.03  1.00\\n    Nonflavanoid Phenols:         0.13  0.66    0.36  0.12\\n    Proanthocyanins:              0.41  3.58    1.59  0.57\\n    Colour Intensity:              1.3  13.0     5.1   2.3\\n    Hue:                          0.48  1.71    0.96  0.23\\n    OD280/OD315 of diluted wines: 1.27  4.00    2.61  0.71\\n    Proline:                       278  1680     746   315\\n    ============================= ==== ===== ======= =====\\n\\n    :Missing Attribute Values: None\\n    :Class Distribution: class_0 (59), class_1 (71), class_2 (48)\\n    :Creator: R.A. Fisher\\n    :Donor: Michael Marshall (MARSHALL%PLU@io.arc.nasa.gov)\\n    :Date: July, 1988\\n\\nThis is a copy of UCI ML Wine recognition datasets.\\nhttps://archive.ics.uci.edu/ml/machine-learning-databases/wine/wine.data\\n\\nThe data is the results of a chemical analysis of wines grown in the same\\nregion in Italy by three different cultivators. There are thirteen different\\nmeasurements taken for different constituents found in the three types of\\nwine.\\n\\nOriginal Owners: \\n\\nForina, M. et al, PARVUS - \\nAn Extendible Package for Data Exploration, Classification and Correlation. \\nInstitute of Pharmaceutical and Food Analysis and Technologies,\\nVia Brigata Salerno, 16147 Genoa, Italy.\\n\\nCitation:\\n\\nLichman, M. (2013). UCI Machine Learning Repository\\n[https://archive.ics.uci.edu/ml]. Irvine, CA: University of California,\\nSchool of Information and Computer Science. \\n\\n.. topic:: References\\n\\n  (1) S. Aeberhard, D. Coomans and O. de Vel, \\n  Comparison of Classifiers in High Dimensional Settings, \\n  Tech. Rep. no. 92-02, (1992), Dept. of Computer Science and Dept. of  \\n  Mathematics and Statistics, James Cook University of North Queensland. \\n  (Also submitted to Technometrics). \\n\\n  The data was used with many others for comparing various \\n  classifiers. The classes are separable, though only RDA \\n  has achieved 100% correct classification. \\n  (RDA : 100%, QDA 99.4%, LDA 98.9%, 1NN 96.1% (z-transformed data)) \\n  (All results using the leave-one-out technique) \\n\\n  (2) S. Aeberhard, D. Coomans and O. de Vel, \\n  \"THE CLASSIFICATION PERFORMANCE OF RDA\" \\n  Tech. Rep. no. 92-01, (1992), Dept. of Computer Science and Dept. of \\n  Mathematics and Statistics, James Cook University of North Queensland. \\n  (Also submitted to Journal of Chemometrics).\\n', 'feature_names': ['alcohol', 'malic_acid', 'ash', 'alcalinity_of_ash', 'magnesium', 'total_phenols', 'flavanoids', 'nonflavanoid_phenols', 'proanthocyanins', 'color_intensity', 'hue', 'od280/od315_of_diluted_wines', 'proline']}\n"
          ]
        }
      ]
    },
    {
      "cell_type": "code",
      "metadata": {
        "colab": {
          "base_uri": "https://localhost:8080/"
        },
        "id": "8bmef5NxpDrk",
        "outputId": "f778ff68-a4de-4080-d4d0-a8a8b00d84df"
      },
      "source": [
        "X = X_y.data\n",
        "y = X_y.target\n",
        "\n",
        "print('X shape:', X.shape, 'type(X):', type(X))\n",
        "print('y shape:', y.shape, 'type(y):', type(y))"
      ],
      "execution_count": 4,
      "outputs": [
        {
          "output_type": "stream",
          "name": "stdout",
          "text": [
            "X shape: (178, 13) type(X): <class 'numpy.ndarray'>\n",
            "y shape: (178,) type(y): <class 'numpy.ndarray'>\n"
          ]
        }
      ]
    },
    {
      "cell_type": "code",
      "metadata": {
        "colab": {
          "base_uri": "https://localhost:8080/"
        },
        "id": "AQERrqFvpevt",
        "outputId": "f5c3a501-80ab-43b4-8c37-f214d95c4733"
      },
      "source": [
        "print('Unique values of y:', np.unique(y))"
      ],
      "execution_count": 6,
      "outputs": [
        {
          "output_type": "stream",
          "name": "stdout",
          "text": [
            "Unique values of y: [0 1 2]\n"
          ]
        }
      ]
    },
    {
      "cell_type": "code",
      "metadata": {
        "colab": {
          "base_uri": "https://localhost:8080/"
        },
        "id": "tnj48H8yppo0",
        "outputId": "68f83a1a-4e9f-488c-cc38-3e95059a3aaf"
      },
      "source": [
        "X_y_description = X_y.DESCR\n",
        "print('type(X_y_description:', type(X_y_description))\n",
        "print(X_y_description)"
      ],
      "execution_count": 8,
      "outputs": [
        {
          "output_type": "stream",
          "name": "stdout",
          "text": [
            "type(X_y_description: <class 'str'>\n",
            ".. _wine_dataset:\n",
            "\n",
            "Wine recognition dataset\n",
            "------------------------\n",
            "\n",
            "**Data Set Characteristics:**\n",
            "\n",
            "    :Number of Instances: 178 (50 in each of three classes)\n",
            "    :Number of Attributes: 13 numeric, predictive attributes and the class\n",
            "    :Attribute Information:\n",
            " \t\t- Alcohol\n",
            " \t\t- Malic acid\n",
            " \t\t- Ash\n",
            "\t\t- Alcalinity of ash  \n",
            " \t\t- Magnesium\n",
            "\t\t- Total phenols\n",
            " \t\t- Flavanoids\n",
            " \t\t- Nonflavanoid phenols\n",
            " \t\t- Proanthocyanins\n",
            "\t\t- Color intensity\n",
            " \t\t- Hue\n",
            " \t\t- OD280/OD315 of diluted wines\n",
            " \t\t- Proline\n",
            "\n",
            "    - class:\n",
            "            - class_0\n",
            "            - class_1\n",
            "            - class_2\n",
            "\t\t\n",
            "    :Summary Statistics:\n",
            "    \n",
            "    ============================= ==== ===== ======= =====\n",
            "                                   Min   Max   Mean     SD\n",
            "    ============================= ==== ===== ======= =====\n",
            "    Alcohol:                      11.0  14.8    13.0   0.8\n",
            "    Malic Acid:                   0.74  5.80    2.34  1.12\n",
            "    Ash:                          1.36  3.23    2.36  0.27\n",
            "    Alcalinity of Ash:            10.6  30.0    19.5   3.3\n",
            "    Magnesium:                    70.0 162.0    99.7  14.3\n",
            "    Total Phenols:                0.98  3.88    2.29  0.63\n",
            "    Flavanoids:                   0.34  5.08    2.03  1.00\n",
            "    Nonflavanoid Phenols:         0.13  0.66    0.36  0.12\n",
            "    Proanthocyanins:              0.41  3.58    1.59  0.57\n",
            "    Colour Intensity:              1.3  13.0     5.1   2.3\n",
            "    Hue:                          0.48  1.71    0.96  0.23\n",
            "    OD280/OD315 of diluted wines: 1.27  4.00    2.61  0.71\n",
            "    Proline:                       278  1680     746   315\n",
            "    ============================= ==== ===== ======= =====\n",
            "\n",
            "    :Missing Attribute Values: None\n",
            "    :Class Distribution: class_0 (59), class_1 (71), class_2 (48)\n",
            "    :Creator: R.A. Fisher\n",
            "    :Donor: Michael Marshall (MARSHALL%PLU@io.arc.nasa.gov)\n",
            "    :Date: July, 1988\n",
            "\n",
            "This is a copy of UCI ML Wine recognition datasets.\n",
            "https://archive.ics.uci.edu/ml/machine-learning-databases/wine/wine.data\n",
            "\n",
            "The data is the results of a chemical analysis of wines grown in the same\n",
            "region in Italy by three different cultivators. There are thirteen different\n",
            "measurements taken for different constituents found in the three types of\n",
            "wine.\n",
            "\n",
            "Original Owners: \n",
            "\n",
            "Forina, M. et al, PARVUS - \n",
            "An Extendible Package for Data Exploration, Classification and Correlation. \n",
            "Institute of Pharmaceutical and Food Analysis and Technologies,\n",
            "Via Brigata Salerno, 16147 Genoa, Italy.\n",
            "\n",
            "Citation:\n",
            "\n",
            "Lichman, M. (2013). UCI Machine Learning Repository\n",
            "[https://archive.ics.uci.edu/ml]. Irvine, CA: University of California,\n",
            "School of Information and Computer Science. \n",
            "\n",
            ".. topic:: References\n",
            "\n",
            "  (1) S. Aeberhard, D. Coomans and O. de Vel, \n",
            "  Comparison of Classifiers in High Dimensional Settings, \n",
            "  Tech. Rep. no. 92-02, (1992), Dept. of Computer Science and Dept. of  \n",
            "  Mathematics and Statistics, James Cook University of North Queensland. \n",
            "  (Also submitted to Technometrics). \n",
            "\n",
            "  The data was used with many others for comparing various \n",
            "  classifiers. The classes are separable, though only RDA \n",
            "  has achieved 100% correct classification. \n",
            "  (RDA : 100%, QDA 99.4%, LDA 98.9%, 1NN 96.1% (z-transformed data)) \n",
            "  (All results using the leave-one-out technique) \n",
            "\n",
            "  (2) S. Aeberhard, D. Coomans and O. de Vel, \n",
            "  \"THE CLASSIFICATION PERFORMANCE OF RDA\" \n",
            "  Tech. Rep. no. 92-01, (1992), Dept. of Computer Science and Dept. of \n",
            "  Mathematics and Statistics, James Cook University of North Queensland. \n",
            "  (Also submitted to Journal of Chemometrics).\n",
            "\n"
          ]
        }
      ]
    },
    {
      "cell_type": "code",
      "metadata": {
        "colab": {
          "base_uri": "https://localhost:8080/"
        },
        "id": "SQQ7YDczqZNc",
        "outputId": "e7486e29-f571-4f46-8dfb-a1cc2a8f1eae"
      },
      "source": [
        "XXT = np.matmul(X, np.transpose(X))\n",
        "XTX = np.matmul(X.T, X)\n",
        "\n",
        "print('XXT shape:', XXT.shape, 'XTX shape:', XTX.shape)"
      ],
      "execution_count": 9,
      "outputs": [
        {
          "output_type": "stream",
          "name": "stdout",
          "text": [
            "XXT shape: (178, 178) XTX shape: (13, 13)\n"
          ]
        }
      ]
    },
    {
      "cell_type": "code",
      "metadata": {
        "colab": {
          "base_uri": "https://localhost:8080/"
        },
        "id": "7LgNCcjgrkXE",
        "outputId": "c8c1ed86-78b2-49be-a0fd-702caf10c8ca"
      },
      "source": [
        "print('XXT matrix')\n",
        "if (XXT.shape[0] == XXT.shape[1]):\n",
        "  print('XXT is square')\n",
        "else:\n",
        "  print('XXT is not square')\n",
        "\n",
        "if np.all(XXT == XXT.T):\n",
        "  print('XXT is symmetric')\n",
        "else:\n",
        "  print('XXT is not symmetric')\n",
        "\n",
        "print('XTX matrix')\n",
        "if (XTX.shape[0] == XTX.shape[1]):\n",
        "  print('XTX is square')\n",
        "else:\n",
        "  print('XTX is not square')\n",
        "\n",
        "if np.all(XTX == XTX.T):\n",
        "  print('XTX is symmetric')\n",
        "else:\n",
        "  print('XTX is not symmetric')"
      ],
      "execution_count": 14,
      "outputs": [
        {
          "output_type": "stream",
          "name": "stdout",
          "text": [
            "XXT matrix\n",
            "XXT is square\n",
            "XXT is symmetric\n",
            "XTX matrix\n",
            "XTX is square\n",
            "XTX is symmetric\n"
          ]
        }
      ]
    },
    {
      "cell_type": "code",
      "metadata": {
        "colab": {
          "base_uri": "https://localhost:8080/"
        },
        "id": "ssPUd63Zr7Oy",
        "outputId": "19d36389-445e-4815-e3ab-2d3194b976c2"
      },
      "source": [
        "print('eigen values of XXT')\n",
        "eig_val_XXT, eig_vec_XXT = np.linalg.eig(XXT)\n",
        "print(eig_val_XXT)\n",
        "\n",
        "print('eigen values of XTX')\n",
        "eig_val_XTX, eig_vec_XTX = np.linalg.eig(XTX)\n",
        "print(eig_val_XTX)"
      ],
      "execution_count": 16,
      "outputs": [
        {
          "output_type": "stream",
          "name": "stdout",
          "text": [
            "eigen values of XXT\n",
            "[ 1.18519582e+08+0.00000000e+00j  2.43603495e+05+0.00000000e+00j\n",
            "  3.26599028e+03+0.00000000e+00j  9.06017549e+02+0.00000000e+00j\n",
            "  3.43836011e+02+0.00000000e+00j  2.09178961e+02+0.00000000e+00j\n",
            "  1.21794126e+02+0.00000000e+00j  2.79829387e+01+0.00000000e+00j\n",
            "  1.98611790e+01+0.00000000e+00j  1.27825659e+01+0.00000000e+00j\n",
            "  6.76635454e+00+0.00000000e+00j  3.94740676e+00+0.00000000e+00j\n",
            "  1.47358714e+00+0.00000000e+00j -1.21485711e-08+0.00000000e+00j\n",
            "  6.07006165e-09+7.48821506e-09j  6.07006165e-09-7.48821506e-09j\n",
            " -2.44843502e-09+8.44958710e-09j -2.44843502e-09-8.44958710e-09j\n",
            "  6.05133352e-09+0.00000000e+00j -5.84159307e-09+0.00000000e+00j\n",
            "  1.83352726e-09+5.12116458e-09j  1.83352726e-09-5.12116458e-09j\n",
            " -5.14421605e-09+0.00000000e+00j -6.20504969e-10+5.17089683e-09j\n",
            " -6.20504969e-10-5.17089683e-09j  4.83675532e-09+0.00000000e+00j\n",
            "  2.82559893e-09+3.56667005e-09j  2.82559893e-09-3.56667005e-09j\n",
            " -2.21991728e-09+3.66158223e-09j -2.21991728e-09-3.66158223e-09j\n",
            "  3.87490489e-09+0.00000000e+00j -2.54855380e-09+2.01298256e-09j\n",
            " -2.54855380e-09-2.01298256e-09j -2.46832463e-09+7.71976609e-10j\n",
            " -2.46832463e-09-7.71976609e-10j -2.54509268e-09+0.00000000e+00j\n",
            "  3.67012803e-10+2.33313951e-09j  3.67012803e-10-2.33313951e-09j\n",
            " -3.44491347e-10+2.29115061e-09j -3.44491347e-10-2.29115061e-09j\n",
            " -8.90174051e-10+2.08319864e-09j -8.90174051e-10-2.08319864e-09j\n",
            "  2.25710987e-09+0.00000000e+00j  1.78535786e-09+1.33844225e-09j\n",
            "  1.78535786e-09-1.33844225e-09j  1.15624814e-09+1.83717536e-09j\n",
            "  1.15624814e-09-1.83717536e-09j -2.19415936e-09+0.00000000e+00j\n",
            " -1.75653511e-09+9.82048254e-10j -1.75653511e-09-9.82048254e-10j\n",
            " -1.96632538e-09+2.59050426e-10j -1.96632538e-09-2.59050426e-10j\n",
            " -1.15060221e-09+1.47321700e-09j -1.15060221e-09-1.47321700e-09j\n",
            "  1.78733617e-09+4.92358765e-10j  1.78733617e-09-4.92358765e-10j\n",
            "  9.50698976e-10+1.59320931e-09j  9.50698976e-10-1.59320931e-09j\n",
            " -3.40355706e-12+1.74850409e-09j -3.40355706e-12-1.74850409e-09j\n",
            "  1.75795090e-09+0.00000000e+00j  1.45572969e-09+9.58117645e-10j\n",
            "  1.45572969e-09-9.58117645e-10j  1.20769413e-09+1.03978092e-09j\n",
            "  1.20769413e-09-1.03978092e-09j -8.22141104e-10+1.39946284e-09j\n",
            " -8.22141104e-10-1.39946284e-09j -5.95643146e-10+1.43980400e-09j\n",
            " -5.95643146e-10-1.43980400e-09j -1.10245443e-09+1.05067976e-09j\n",
            " -1.10245443e-09-1.05067976e-09j  7.09243441e-10+1.28920986e-09j\n",
            "  7.09243441e-10-1.28920986e-09j -4.53993490e-10+1.38617917e-09j\n",
            " -4.53993490e-10-1.38617917e-09j -1.34511158e-09+3.07808063e-10j\n",
            " -1.34511158e-09-3.07808063e-10j -1.24072454e-09+4.92068304e-10j\n",
            " -1.24072454e-09-4.92068304e-10j  1.32185799e-09+1.05843677e-10j\n",
            "  1.32185799e-09-1.05843677e-10j  1.18343137e-09+5.08108083e-10j\n",
            "  1.18343137e-09-5.08108083e-10j -1.89694044e-10+1.27177626e-09j\n",
            " -1.89694044e-10-1.27177626e-09j -1.25097031e-09+1.24551976e-10j\n",
            " -1.25097031e-09-1.24551976e-10j  5.12778375e-10+1.08131018e-09j\n",
            "  5.12778375e-10-1.08131018e-09j  7.31048050e-10+9.22972754e-10j\n",
            "  7.31048050e-10-9.22972754e-10j -3.95802824e-10+1.11596207e-09j\n",
            " -3.95802824e-10-1.11596207e-09j  2.64254355e-10+1.13202730e-09j\n",
            "  2.64254355e-10-1.13202730e-09j  1.03773846e-09+3.20179152e-10j\n",
            "  1.03773846e-09-3.20179152e-10j -1.02269231e-09+0.00000000e+00j\n",
            "  5.03997913e-11+1.01787450e-09j  5.03997913e-11-1.01787450e-09j\n",
            "  6.87724471e-10+6.90762413e-10j  6.87724471e-10-6.90762413e-10j\n",
            " -7.42126624e-10+5.32798288e-10j -7.42126624e-10-5.32798288e-10j\n",
            " -3.21960637e-10+8.33774347e-10j -3.21960637e-10-8.33774347e-10j\n",
            " -5.17259231e-10+6.64357660e-10j -5.17259231e-10-6.64357660e-10j\n",
            "  5.40147951e-10+5.87597022e-10j  5.40147951e-10-5.87597022e-10j\n",
            "  8.05685077e-10+0.00000000e+00j  7.75766009e-10+2.06018534e-10j\n",
            "  7.75766009e-10-2.06018534e-10j -7.92874601e-10+1.17033222e-10j\n",
            " -7.92874601e-10-1.17033222e-10j -6.88856415e-10+3.16675197e-10j\n",
            " -6.88856415e-10-3.16675197e-10j  1.19095631e-11+7.56193592e-10j\n",
            "  1.19095631e-11-7.56193592e-10j  6.97409221e-10+2.23290480e-10j\n",
            "  6.97409221e-10-2.23290480e-10j  4.44667280e-10+5.68900202e-10j\n",
            "  4.44667280e-10-5.68900202e-10j  5.48819881e-10+4.39902757e-10j\n",
            "  5.48819881e-10-4.39902757e-10j -5.75919253e-11+7.20126295e-10j\n",
            " -5.75919253e-11-7.20126295e-10j -7.20665691e-10+0.00000000e+00j\n",
            " -4.08695412e-10+5.19161748e-10j -4.08695412e-10-5.19161748e-10j\n",
            "  5.76677313e-10+2.57181405e-10j  5.76677313e-10-2.57181405e-10j\n",
            "  5.19027318e-10+2.13178522e-10j  5.19027318e-10-2.13178522e-10j\n",
            " -1.24395547e-10+5.69172687e-10j -1.24395547e-10-5.69172687e-10j\n",
            " -4.87039049e-10+3.35136128e-10j -4.87039049e-10-3.35136128e-10j\n",
            " -5.56649700e-10+2.01939753e-10j -5.56649700e-10-2.01939753e-10j\n",
            "  7.24141662e-11+5.54577154e-10j  7.24141662e-11-5.54577154e-10j\n",
            "  2.47777690e-10+4.56862455e-10j  2.47777690e-10-4.56862455e-10j\n",
            " -5.49082441e-10+0.00000000e+00j -1.72893553e-10+4.41960446e-10j\n",
            " -1.72893553e-10-4.41960446e-10j  4.86580095e-10+1.66181764e-11j\n",
            "  4.86580095e-10-1.66181764e-11j  3.25749954e-10+3.00007803e-10j\n",
            "  3.25749954e-10-3.00007803e-10j -3.54667939e-10+2.15952978e-10j\n",
            " -3.54667939e-10-2.15952978e-10j  2.15628255e-10+3.04269587e-10j\n",
            "  2.15628255e-10-3.04269587e-10j -1.26595539e-10+3.52331392e-10j\n",
            " -1.26595539e-10-3.52331392e-10j -2.10033572e-10+2.78559796e-10j\n",
            " -2.10033572e-10-2.78559796e-10j -3.75076748e-10+0.00000000e+00j\n",
            "  2.55042374e-10+0.00000000e+00j  1.14829282e-10+1.99403410e-10j\n",
            "  1.14829282e-10-1.99403410e-10j  6.58176235e-11+3.06813869e-10j\n",
            "  6.58176235e-11-3.06813869e-10j -2.97023742e-10+7.60345187e-11j\n",
            " -2.97023742e-10-7.60345187e-11j  3.23818123e-10+0.00000000e+00j\n",
            "  1.69231152e-10+0.00000000e+00j  7.15551370e-12+1.21291027e-10j\n",
            "  7.15551370e-12-1.21291027e-10j  7.66740411e-11+0.00000000e+00j\n",
            " -1.74552248e-10+8.82817163e-11j -1.74552248e-10-8.82817163e-11j\n",
            " -1.84893646e-10+0.00000000e+00j -5.75126464e-11+6.59740977e-11j\n",
            " -5.75126464e-11-6.59740977e-11j -4.88326465e-11+0.00000000e+00j]\n",
            "eigen values of XTX\n",
            "[1.18519582e+08 2.43603495e+05 3.26599028e+03 9.06017549e+02\n",
            " 3.43836011e+02 2.09178961e+02 1.21794126e+02 2.79829387e+01\n",
            " 1.98611790e+01 1.27825659e+01 6.76635454e+00 3.94740676e+00\n",
            " 1.47358714e+00]\n"
          ]
        }
      ]
    },
    {
      "cell_type": "code",
      "metadata": {
        "colab": {
          "base_uri": "https://localhost:8080/"
        },
        "id": "cbe3VY2zs1zf",
        "outputId": "de3abb2a-073e-4a91-d376-0d8c98315640"
      },
      "source": [
        "print('eigen values of XXT')\n",
        "eig_val_XXT, eig_vec_XXT = np.linalg.eigh(XXT)\n",
        "print(eig_val_XXT)\n",
        "\n",
        "print('eigen values of XTX')\n",
        "eig_val_XTX, eig_vec_XTX = np.linalg.eigh(XTX)\n",
        "print(eig_val_XTX)"
      ],
      "execution_count": 17,
      "outputs": [
        {
          "output_type": "stream",
          "name": "stdout",
          "text": [
            "eigen values of XXT\n",
            "[-2.97219477e-08 -2.09035593e-08 -1.68759713e-08 -1.56242701e-08\n",
            " -1.41566362e-08 -1.28509920e-08 -1.16294554e-08 -7.88088190e-09\n",
            " -7.46346325e-09 -7.37491983e-09 -7.08142093e-09 -6.60370604e-09\n",
            " -5.70265417e-09 -5.69620301e-09 -4.92021542e-09 -4.46920062e-09\n",
            " -4.43932544e-09 -4.28562458e-09 -3.83813337e-09 -3.50788043e-09\n",
            " -3.48108559e-09 -3.01080419e-09 -2.93541812e-09 -2.76960389e-09\n",
            " -2.64416953e-09 -2.56234576e-09 -2.41283276e-09 -2.21711969e-09\n",
            " -2.17813516e-09 -2.03795811e-09 -1.84300512e-09 -1.80368373e-09\n",
            " -1.76649645e-09 -1.75291612e-09 -1.49971330e-09 -1.49952889e-09\n",
            " -1.41315215e-09 -1.37234781e-09 -1.31724692e-09 -1.28445729e-09\n",
            " -1.19281242e-09 -1.10268994e-09 -1.08108531e-09 -1.05489161e-09\n",
            " -9.93031390e-10 -9.50684652e-10 -9.26208127e-10 -9.24789285e-10\n",
            " -8.23618503e-10 -7.72652187e-10 -7.62461116e-10 -7.46419115e-10\n",
            " -7.19438923e-10 -6.60314335e-10 -6.44994147e-10 -6.01514605e-10\n",
            " -5.78563692e-10 -5.64447281e-10 -5.62434333e-10 -5.29155186e-10\n",
            " -5.07237318e-10 -4.99716321e-10 -4.87849682e-10 -4.75989668e-10\n",
            " -4.33822560e-10 -4.04039652e-10 -3.93968186e-10 -3.51952981e-10\n",
            " -3.08100789e-10 -2.89736769e-10 -2.88289486e-10 -2.85004275e-10\n",
            " -2.65570469e-10 -2.14440892e-10 -2.02853847e-10 -1.91251816e-10\n",
            " -1.70754976e-10 -1.54362574e-10 -1.51245096e-10 -1.05154093e-10\n",
            " -1.03090538e-10 -8.17239579e-11 -7.35544350e-11 -7.34242680e-11\n",
            " -1.43480263e-11 -9.54897539e-12  1.19619165e-11  1.98509559e-11\n",
            "  4.81003319e-11  5.50650362e-11  1.05864068e-10  1.08420716e-10\n",
            "  1.26845060e-10  1.32200620e-10  1.63387440e-10  1.64194831e-10\n",
            "  1.71001422e-10  1.91018311e-10  1.99437077e-10  2.55970367e-10\n",
            "  2.61623591e-10  2.92526690e-10  2.94281569e-10  2.99684548e-10\n",
            "  3.19319082e-10  3.61034601e-10  3.66223500e-10  3.79407573e-10\n",
            "  4.44199084e-10  4.62446296e-10  4.71147017e-10  5.12191237e-10\n",
            "  5.47294991e-10  5.51349781e-10  5.57445546e-10  6.20194840e-10\n",
            "  6.22536313e-10  6.70473051e-10  6.87591180e-10  7.62130803e-10\n",
            "  7.82826751e-10  8.44170375e-10  8.80089159e-10  9.46222583e-10\n",
            "  9.95613391e-10  9.97965138e-10  1.06415963e-09  1.07001197e-09\n",
            "  1.09796732e-09  1.14113850e-09  1.23035395e-09  1.34984892e-09\n",
            "  1.36565621e-09  1.40590431e-09  1.50153880e-09  1.56055664e-09\n",
            "  1.72382377e-09  1.74096149e-09  1.76624627e-09  2.16224095e-09\n",
            "  2.33035521e-09  2.35834990e-09  2.52488531e-09  2.81836724e-09\n",
            "  2.90043644e-09  2.93426979e-09  3.31926660e-09  3.41868192e-09\n",
            "  4.09815682e-09  4.20088012e-09  4.79766955e-09  5.09177043e-09\n",
            "  5.17382388e-09  5.55154572e-09  5.86784807e-09  5.87160981e-09\n",
            "  7.18951456e-09  8.29916904e-09  8.51097376e-09  9.83472930e-09\n",
            "  1.09333592e-08  1.63543461e-08  1.82713289e-08  1.99509807e-08\n",
            "  2.40559233e-08  1.47358714e+00  3.94740676e+00  6.76635455e+00\n",
            "  1.27825659e+01  1.98611790e+01  2.79829387e+01  1.21794126e+02\n",
            "  2.09178961e+02  3.43836011e+02  9.06017549e+02  3.26599028e+03\n",
            "  2.43603495e+05  1.18519582e+08]\n",
            "eigen values of XTX\n",
            "[1.47358714e+00 3.94740676e+00 6.76635454e+00 1.27825659e+01\n",
            " 1.98611790e+01 2.79829387e+01 1.21794126e+02 2.09178961e+02\n",
            " 3.43836011e+02 9.06017549e+02 3.26599028e+03 2.43603495e+05\n",
            " 1.18519582e+08]\n"
          ]
        }
      ]
    },
    {
      "cell_type": "code",
      "metadata": {
        "colab": {
          "base_uri": "https://localhost:8080/"
        },
        "id": "xukZmyu6tvSC",
        "outputId": "ee3d9240-65df-419e-94b0-fbaf4aafac93"
      },
      "source": [
        "print('positive eigen values of XXT')\n",
        "eig_val_XXT, _ = np.linalg.eigh(XXT)\n",
        "print(eig_val_XXT[np.where(eig_val_XXT > 0)])\n",
        "      \n",
        "print('positive eigen values of XTX')\n",
        "eig_val_XTX, _ = np.linalg.eigh(XTX)\n",
        "print(eig_val_XTX[np.where(eig_val_XTX > 0)])"
      ],
      "execution_count": 19,
      "outputs": [
        {
          "output_type": "stream",
          "name": "stdout",
          "text": [
            "positive eigen values of XXT\n",
            "[1.19619165e-11 1.98509559e-11 4.81003319e-11 5.50650362e-11\n",
            " 1.05864068e-10 1.08420716e-10 1.26845060e-10 1.32200620e-10\n",
            " 1.63387440e-10 1.64194831e-10 1.71001422e-10 1.91018311e-10\n",
            " 1.99437077e-10 2.55970367e-10 2.61623591e-10 2.92526690e-10\n",
            " 2.94281569e-10 2.99684548e-10 3.19319082e-10 3.61034601e-10\n",
            " 3.66223500e-10 3.79407573e-10 4.44199084e-10 4.62446296e-10\n",
            " 4.71147017e-10 5.12191237e-10 5.47294991e-10 5.51349781e-10\n",
            " 5.57445546e-10 6.20194840e-10 6.22536313e-10 6.70473051e-10\n",
            " 6.87591180e-10 7.62130803e-10 7.82826751e-10 8.44170375e-10\n",
            " 8.80089159e-10 9.46222583e-10 9.95613391e-10 9.97965138e-10\n",
            " 1.06415963e-09 1.07001197e-09 1.09796732e-09 1.14113850e-09\n",
            " 1.23035395e-09 1.34984892e-09 1.36565621e-09 1.40590431e-09\n",
            " 1.50153880e-09 1.56055664e-09 1.72382377e-09 1.74096149e-09\n",
            " 1.76624627e-09 2.16224095e-09 2.33035521e-09 2.35834990e-09\n",
            " 2.52488531e-09 2.81836724e-09 2.90043644e-09 2.93426979e-09\n",
            " 3.31926660e-09 3.41868192e-09 4.09815682e-09 4.20088012e-09\n",
            " 4.79766955e-09 5.09177043e-09 5.17382388e-09 5.55154572e-09\n",
            " 5.86784807e-09 5.87160981e-09 7.18951456e-09 8.29916904e-09\n",
            " 8.51097376e-09 9.83472930e-09 1.09333592e-08 1.63543461e-08\n",
            " 1.82713289e-08 1.99509807e-08 2.40559233e-08 1.47358714e+00\n",
            " 3.94740676e+00 6.76635455e+00 1.27825659e+01 1.98611790e+01\n",
            " 2.79829387e+01 1.21794126e+02 2.09178961e+02 3.43836011e+02\n",
            " 9.06017549e+02 3.26599028e+03 2.43603495e+05 1.18519582e+08]\n",
            "positive eigen values of XTX\n",
            "[1.47358714e+00 3.94740676e+00 6.76635454e+00 1.27825659e+01\n",
            " 1.98611790e+01 2.79829387e+01 1.21794126e+02 2.09178961e+02\n",
            " 3.43836011e+02 9.06017549e+02 3.26599028e+03 2.43603495e+05\n",
            " 1.18519582e+08]\n"
          ]
        }
      ]
    },
    {
      "cell_type": "code",
      "metadata": {
        "colab": {
          "base_uri": "https://localhost:8080/"
        },
        "id": "fuLm-2rDvFkj",
        "outputId": "74c79499-d0c9-4ee9-c7b6-6ab70f028bff"
      },
      "source": [
        "print('Rank of XXT and XTX matrices')\n",
        "print('rank(XXT):', np.linalg.matrix_rank(XXT), 'rank(XTX):', np.linalg.matrix_rank(XTX))"
      ],
      "execution_count": 20,
      "outputs": [
        {
          "output_type": "stream",
          "name": "stdout",
          "text": [
            "Rank of XXT and XTX matrices\n",
            "rank(XXT): 13 rank(XTX): 13\n"
          ]
        }
      ]
    },
    {
      "cell_type": "code",
      "metadata": {
        "colab": {
          "base_uri": "https://localhost:8080/"
        },
        "id": "qII9m0tDvtgs",
        "outputId": "7ba41dbe-328e-4c6e-a1ac-66d0ffa6e167"
      },
      "source": [
        "X_class0 = X[np.where(y == 0), :].squeeze()\n",
        "print('X_class0 shape:', X_class0.shape)\n",
        "\n",
        "X_class1 = X[np.where(y == 1), :].squeeze()\n",
        "print('X_class1 shape:', X_class1.shape)\n",
        "\n",
        "X_class2 = X[np.where(y == 2), :].squeeze()\n",
        "print('X_class2 shape:', X_class2.shape)"
      ],
      "execution_count": 21,
      "outputs": [
        {
          "output_type": "stream",
          "name": "stdout",
          "text": [
            "X_class0 shape: (59, 13)\n",
            "X_class1 shape: (71, 13)\n",
            "X_class2 shape: (48, 13)\n"
          ]
        }
      ]
    },
    {
      "cell_type": "code",
      "metadata": {
        "colab": {
          "base_uri": "https://localhost:8080/"
        },
        "id": "7y85DLhGwhK3",
        "outputId": "9eb5f343-a025-4a9a-9f2c-14f354bc83d4"
      },
      "source": [
        "print(np.dot(X_class0[0]/np.linalg.norm(X_class0[0]), X_class0[1]/np.linalg.norm(X_class0[1])))"
      ],
      "execution_count": 24,
      "outputs": [
        {
          "output_type": "stream",
          "name": "stdout",
          "text": [
            "0.9997092287724737\n"
          ]
        }
      ]
    },
    {
      "cell_type": "code",
      "metadata": {
        "colab": {
          "base_uri": "https://localhost:8080/"
        },
        "id": "qAkYO8FJxN6T",
        "outputId": "54bcef8a-4cd1-4dd2-8536-f2c41fba98c7"
      },
      "source": [
        "print(np.dot(X_class1[30]/np.linalg.norm(X_class1[30]), X_class1[31]/np.linalg.norm(X_class1[31])))"
      ],
      "execution_count": 25,
      "outputs": [
        {
          "output_type": "stream",
          "name": "stdout",
          "text": [
            "0.9984343534564447\n"
          ]
        }
      ]
    },
    {
      "cell_type": "code",
      "metadata": {
        "colab": {
          "base_uri": "https://localhost:8080/"
        },
        "id": "Y04Jq9MbxTgi",
        "outputId": "a1011329-a96b-44ab-edf1-760f682f18fb"
      },
      "source": [
        "print(np.dot(X_class2[20]/np.linalg.norm(X_class2[20]), X_class2[21]/np.linalg.norm(X_class2[21])))"
      ],
      "execution_count": 26,
      "outputs": [
        {
          "output_type": "stream",
          "name": "stdout",
          "text": [
            "0.9999125641873251\n"
          ]
        }
      ]
    },
    {
      "cell_type": "code",
      "metadata": {
        "colab": {
          "base_uri": "https://localhost:8080/"
        },
        "id": "AfEghstpxbni",
        "outputId": "01ec6236-8be2-409a-a5ad-9135277cd78d"
      },
      "source": [
        "print(np.dot(X_class0[0]/np.linalg.norm(X_class0[0]), X_class1[10]/np.linalg.norm(X_class1[10])))"
      ],
      "execution_count": 27,
      "outputs": [
        {
          "output_type": "stream",
          "name": "stdout",
          "text": [
            "0.9960370718188822\n"
          ]
        }
      ]
    }
  ]
}