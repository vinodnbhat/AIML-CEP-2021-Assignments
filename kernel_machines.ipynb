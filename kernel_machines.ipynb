{
  "nbformat": 4,
  "nbformat_minor": 0,
  "metadata": {
    "colab": {
      "name": "Untitled6.ipynb",
      "provenance": [],
      "authorship_tag": "ABX9TyOmhgSb7mbnwPbIqAogx1n7",
      "include_colab_link": true
    },
    "kernelspec": {
      "name": "python3",
      "display_name": "Python 3"
    },
    "language_info": {
      "name": "python"
    }
  },
  "cells": [
    {
      "cell_type": "markdown",
      "metadata": {
        "id": "view-in-github",
        "colab_type": "text"
      },
      "source": [
        "<a href=\"https://colab.research.google.com/github/vinodnbhat/AIML-CEP-2021-Assignments/blob/main/kernel_machines.ipynb\" target=\"_parent\"><img src=\"https://colab.research.google.com/assets/colab-badge.svg\" alt=\"Open In Colab\"/></a>"
      ]
    },
    {
      "cell_type": "code",
      "metadata": {
        "id": "LFMtbian2ClW"
      },
      "source": [
        "import numpy as np\n",
        "import matplotlib.pyplot as plt\n",
        "\n",
        "%matplotlib inline"
      ],
      "execution_count": 1,
      "outputs": []
    },
    {
      "cell_type": "code",
      "metadata": {
        "colab": {
          "base_uri": "https://localhost:8080/",
          "height": 281
        },
        "id": "HuljTm8_2P6V",
        "outputId": "07c86748-998e-4407-ab9b-b374ec6b3e47"
      },
      "source": [
        "num_samples = 100\n",
        "\n",
        "np.random.seed(100)\n",
        "\n",
        "X = []\n",
        "y = []\n",
        "\n",
        "radius = 1\n",
        "\n",
        "center_point = [1., 1.]\n",
        "center_x1 = center_point[0]\n",
        "center_x2 = center_point[1]\n",
        "\n",
        "#generate points within circle (x1-1)^2 + (x2-1)^2 = 1\n",
        "for i in range (int(num_samples/2)):\n",
        "  toss = np.random.rand()\n",
        "  x1 = np.random.uniform(low = 0, high = 2)\n",
        "  x2 = np.random.uniform(low = 0, high = 2)\n",
        "  while (x1 - center_x1)**2 + (x2 - center_x2)**2 > radius:\n",
        "      x1 = np.random.uniform(low = 0, high = 2)\n",
        "      x2 = np.random.uniform(low = 0, high = 2)\n",
        "\n",
        "  X.append([x1, x2])\n",
        "  y.append([1])\n",
        "\n",
        "#generate points outside circle (x1-1)^2 + (x2-1)^2 = 1\n",
        "for i in range (int(num_samples/2)):\n",
        "  toss = np.random.rand()\n",
        "  x1 = np.random.uniform(low = 0, high = 2)\n",
        "  x2 = np.random.uniform(low = 0, high = 2)\n",
        "  while (x1 - center_x1)**2 + (x2 - center_x2)**2 <= radius:\n",
        "      x1 = np.random.uniform(low = 0, high = 2)\n",
        "      x2 = np.random.uniform(low = 0, high = 2)\n",
        "\n",
        "  X.append([x1, x2])\n",
        "  y.append([-1])\n",
        "\n",
        "X = np.array(X)\n",
        "y = np.array(y)\n",
        "\n",
        "#plot the circle\n",
        "angle = np.linspace(0, 2*np.pi, 150)\n",
        "\n",
        "x1 = center_x1 + radius*np.cos(angle)\n",
        "x2 = center_x2 + radius*np.sin(angle)\n",
        "\n",
        "figure, axes = plt.subplots(1)\n",
        "\n",
        "axes.plot(x1, x2)\n",
        "axes.set_aspect(1)\n",
        "\n",
        "plt.scatter(X[:int(num_samples/2), 0], X[:int(num_samples/2), 1], marker = 'o', color = 'red')\n",
        "plt.scatter(X[int(num_samples/2):, 0], X[int(num_samples/2):, 1], marker = 's', color = 'green')\n",
        "\n",
        "plt.title('Data with a non-linear separating surface')\n",
        "plt.show()"
      ],
      "execution_count": 2,
      "outputs": [
        {
          "output_type": "display_data",
          "data": {
            "image/png": "[encoded data removed]",
            "text/plain": [
              "<Figure size 432x288 with 1 Axes>"
            ]
          },
          "metadata": {
            "needs_background": "light"
          }
        }
      ]
    },
    {
      "cell_type": "code",
      "metadata": {
        "colab": {
          "base_uri": "https://localhost:8080/",
          "height": 278
        },
        "id": "nR4z0Jbi6r5k",
        "outputId": "8f0ba273-6513-42e5-c94f-f03d1c121df9"
      },
      "source": [
        "from sklearn.svm import LinearSVC\n",
        "\n",
        "clf = LinearSVC(C = 1.0)\n",
        "clf_model = clf.fit(X, y.ravel())\n",
        "\n",
        "h = 0.02\n",
        "x1_min, x1_max = X[:, 0].min() - 1, X[:, 0].max() + 1\n",
        "x2_min, x2_max = X[:, 1].min() - 1, X[:, 1].max() + 1\n",
        "xx1, xx2 = np.meshgrid(np.arange(x1_min, x1_max, h), np.arange(x2_min, x2_max, h))\n",
        "\n",
        "Z = clf_model.predict(np.c_[xx1.ravel(), xx2.ravel()])\n",
        "\n",
        "Z = Z.reshape(xx1.shape)\n",
        "plt.contourf(xx1, xx2, Z, cmap=plt.cm.coolwarm, alpha = 0.8)\n",
        "\n",
        "plt.scatter(X[:int(num_samples/2), 0], X[:int(num_samples/2), 1], marker = 'o', color = 'red')\n",
        "plt.scatter(X[int(num_samples/2):, 0], X[int(num_samples/2):, 1], marker = 's', color = 'green')\n",
        "\n",
        "plt.xlabel('x1')\n",
        "plt.ylabel('x2')\n",
        "plt.xlim(xx1.min(), xx1.max())\n",
        "plt.ylim(xx2.min(), xx2.max())\n",
        "plt.xticks(())\n",
        "plt.yticks(())\n",
        "plt.title('Decision boundary from Linear SVM')\n",
        "plt.show()"
      ],
      "execution_count": 5,
      "outputs": [
        {
          "output_type": "display_data",
          "data": {
            "image/png": "[encoded data removed]",
            "text/plain": [
              "<Figure size 432x288 with 1 Axes>"
            ]
          },
          "metadata": {}
        }
      ]
    },
    {
      "cell_type": "code",
      "metadata": {
        "colab": {
          "base_uri": "https://localhost:8080/"
        },
        "id": "os8KvSKl89Zu",
        "outputId": "8372c601-0d5f-470b-eaf2-af281418edb6"
      },
      "source": [
        "X_transformed = []\n",
        "\n",
        "for i in range(num_samples):\n",
        "  x1 = X[i, 0]\n",
        "  x2 = X[i, 1]\n",
        "  X_transformed.append([x1**2, x2**2, np.sqrt(2)*x1, np.sqrt(2)*x2, 1.])\n",
        "\n",
        "X_transformed = np.array(X_transformed)\n",
        "\n",
        "clf = LinearSVC(C = 10., max_iter = 10000)\n",
        "clf_model = clf.fit(X_transformed, y.ravel())\n",
        "\n",
        "predicted_labels = clf_model.predict(X_transformed)\n",
        "print(predicted_labels)\n",
        "\n",
        "train_error = np.sum(0.5 * np.abs(predicted_labels - y.ravel()))/len(y) * 100\n",
        "train_accuracy = 100 - train_error\n",
        "\n",
        "print('train accuracy:', train_accuracy)"
      ],
      "execution_count": 6,
      "outputs": [
        {
          "output_type": "stream",
          "name": "stdout",
          "text": [
            "[ 1  1  1  1  1  1  1  1  1  1  1  1  1  1  1  1  1  1  1  1  1  1  1  1\n",
            "  1  1  1  1  1 -1  1  1  1  1  1  1  1  1  1  1  1  1  1  1  1  1  1  1\n",
            "  1  1 -1 -1 -1 -1 -1 -1 -1 -1 -1 -1 -1 -1 -1 -1 -1 -1 -1 -1 -1 -1 -1 -1\n",
            " -1 -1 -1 -1 -1 -1 -1 -1 -1 -1 -1 -1 -1 -1 -1 -1 -1 -1 -1 -1 -1 -1 -1 -1\n",
            " -1 -1 -1 -1]\n",
            "train accuracy: 99.0\n"
          ]
        }
      ]
    },
    {
      "cell_type": "code",
      "metadata": {
        "colab": {
          "base_uri": "https://localhost:8080/"
        },
        "id": "4vlO3OJyDsSs",
        "outputId": "09627fb2-6c07-47fc-f03e-a2d2bc9f362a"
      },
      "source": [
        "from sklearn.svm import SVC\n",
        "\n",
        "clf = SVC(kernel = 'rbf', gamms = 50, max_iter = 10000)\n",
        "clf_model = clf.fit(X, y.ravel())\n",
        "\n",
        "predicted_labels = clf.predict(X)\n",
        "print(predicted_labels)\n",
        "\n",
        "train_error = np.sum(0.5 * np.abs(predicted_labels - y.ravel()))/len(y) * 100\n",
        "train_accuracy = 100 - train_error\n",
        "\n",
        "print('train accuracy:', train_accuracy)"
      ],
      "execution_count": 8,
      "outputs": [
        {
          "output_type": "stream",
          "name": "stdout",
          "text": [
            "[ 1  1  1  1  1  1  1  1  1  1  1  1  1  1  1  1  1  1  1  1  1  1  1  1\n",
            "  1  1  1  1  1  1  1  1  1  1  1  1  1  1  1  1  1  1  1  1  1  1  1  1\n",
            "  1  1 -1 -1 -1 -1 -1 -1 -1 -1 -1 -1 -1 -1 -1 -1 -1 -1 -1 -1 -1 -1 -1 -1\n",
            " -1 -1 -1 -1 -1 -1 -1 -1 -1 -1 -1 -1 -1 -1 -1 -1 -1 -1 -1 -1 -1 -1 -1 -1\n",
            " -1 -1 -1 -1]\n",
            "train accuracy: 100.0\n"
          ]
        }
      ]
    },
    {
      "cell_type": "code",
      "metadata": {
        "colab": {
          "base_uri": "https://localhost:8080/",
          "height": 278
        },
        "id": "5oHbdOrnEIS5",
        "outputId": "71a95fe6-9ed8-40c0-d0d0-50d381ca7135"
      },
      "source": [
        "h=0.02 #mesh step size\n",
        "x1_min, x1_max = X[:, 0].min() - 1, X[:, 0].max() + 1\n",
        "x2_min, x2_max = X[:, 1].min() - 1, X[:, 1].max() + 1\n",
        "xx1, xx2 = np.meshgrid(np.arange(x1_min, x1_max, h),\n",
        "                     np.arange(x2_min, x2_max, h))\n",
        "\n",
        "Z = clf_model.predict(np.c_[xx1.ravel(), xx2.ravel()])\n",
        "\n",
        "# Put the result into a color plot\n",
        "Z = Z.reshape(xx1.shape)\n",
        "plt.contourf(xx1, xx2, Z, cmap=plt.cm.coolwarm, alpha=0.8)\n",
        "\n",
        "# Plot also the training points\n",
        "#plt.scatter(X[:, 0], X[:, 1], c=y, cmap=plt.cm.coolwarm)\n",
        "plt.scatter(X[:int(num_samples/2),0],X[:int(num_samples/2),1], marker='o', color='red')\n",
        "plt.scatter(X[int(num_samples/2):,0],X[int(num_samples/2):,1], marker='s', color='green')\n",
        "\n",
        "plt.xlabel('x1')\n",
        "plt.ylabel('x2')\n",
        "plt.xlim(xx1.min(), xx1.max())\n",
        "plt.ylim(xx2.min(), xx2.max())\n",
        "plt.xticks(())\n",
        "plt.yticks(())\n",
        "plt.title('Decision boundary from SVM with RBF Kernel')\n",
        "plt.show()\n"
      ],
      "execution_count": 9,
      "outputs": [
        {
          "output_type": "display_data",
          "data": {
            "image/png": "[encoded data removed]",
            "text/plain": [
              "<Figure size 432x288 with 1 Axes>"
            ]
          },
          "metadata": {}
        }
      ]
    }
  ]
}