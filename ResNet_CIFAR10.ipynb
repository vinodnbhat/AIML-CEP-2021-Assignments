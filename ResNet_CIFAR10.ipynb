{
  "nbformat": 4,
  "nbformat_minor": 0,
  "metadata": {
    "colab": {
      "name": "Untitled13.ipynb",
      "provenance": [],
      "authorship_tag": "ABX9TyPehynaaN3cNGsVeExIfSxs",
      "include_colab_link": true
    },
    "kernelspec": {
      "name": "python3",
      "display_name": "Python 3"
    },
    "language_info": {
      "name": "python"
    },
    "widgets": {
      "application/vnd.jupyter.widget-state+json": {
        "5da0038e69d145699f98e6cc66d42014": {
          "model_module": "@jupyter-widgets/controls",
          "model_name": "HBoxModel",
          "model_module_version": "1.5.0",
          "state": {
            "_view_name": "HBoxView",
            "_dom_classes": [],
            "_model_name": "HBoxModel",
            "_view_module": "@jupyter-widgets/controls",
            "_model_module_version": "1.5.0",
            "_view_count": null,
            "_view_module_version": "1.5.0",
            "box_style": "",
            "layout": "IPY_MODEL_208925821edb4cb3919d04613ea7b7e0",
            "_model_module": "@jupyter-widgets/controls",
            "children": [
              "IPY_MODEL_fd52a9be0c2647999a2562830cdab7b3",
              "IPY_MODEL_6958640871a94c199befe771e2bc7caa",
              "IPY_MODEL_5c45400792144db2a1ab032dd771d3b9"
            ]
          }
        },
        "208925821edb4cb3919d04613ea7b7e0": {
          "model_module": "@jupyter-widgets/base",
          "model_name": "LayoutModel",
          "model_module_version": "1.2.0",
          "state": {
            "_view_name": "LayoutView",
            "grid_template_rows": null,
            "right": null,
            "justify_content": null,
            "_view_module": "@jupyter-widgets/base",
            "overflow": null,
            "_model_module_version": "1.2.0",
            "_view_count": null,
            "flex_flow": null,
            "width": null,
            "min_width": null,
            "border": null,
            "align_items": null,
            "bottom": null,
            "_model_module": "@jupyter-widgets/base",
            "top": null,
            "grid_column": null,
            "overflow_y": null,
            "overflow_x": null,
            "grid_auto_flow": null,
            "grid_area": null,
            "grid_template_columns": null,
            "flex": null,
            "_model_name": "LayoutModel",
            "justify_items": null,
            "grid_row": null,
            "max_height": null,
            "align_content": null,
            "visibility": null,
            "align_self": null,
            "height": null,
            "min_height": null,
            "padding": null,
            "grid_auto_rows": null,
            "grid_gap": null,
            "max_width": null,
            "order": null,
            "_view_module_version": "1.2.0",
            "grid_template_areas": null,
            "object_position": null,
            "object_fit": null,
            "grid_auto_columns": null,
            "margin": null,
            "display": null,
            "left": null
          }
        },
        "fd52a9be0c2647999a2562830cdab7b3": {
          "model_module": "@jupyter-widgets/controls",
          "model_name": "HTMLModel",
          "model_module_version": "1.5.0",
          "state": {
            "_view_name": "HTMLView",
            "style": "IPY_MODEL_c572a13ca151410d88ca955d4f8ebb25",
            "_dom_classes": [],
            "description": "",
            "_model_name": "HTMLModel",
            "placeholder": "​",
            "_view_module": "@jupyter-widgets/controls",
            "_model_module_version": "1.5.0",
            "value": "",
            "_view_count": null,
            "_view_module_version": "1.5.0",
            "description_tooltip": null,
            "_model_module": "@jupyter-widgets/controls",
            "layout": "IPY_MODEL_09260a8f5d5e42a4a9cffbabe40b58d7"
          }
        },
        "6958640871a94c199befe771e2bc7caa": {
          "model_module": "@jupyter-widgets/controls",
          "model_name": "FloatProgressModel",
          "model_module_version": "1.5.0",
          "state": {
            "_view_name": "ProgressView",
            "style": "IPY_MODEL_1de398ea91c749fd9aba9cc8481ad6de",
            "_dom_classes": [],
            "description": "",
            "_model_name": "FloatProgressModel",
            "bar_style": "success",
            "max": 170498071,
            "_view_module": "@jupyter-widgets/controls",
            "_model_module_version": "1.5.0",
            "value": 170498071,
            "_view_count": null,
            "_view_module_version": "1.5.0",
            "orientation": "horizontal",
            "min": 0,
            "description_tooltip": null,
            "_model_module": "@jupyter-widgets/controls",
            "layout": "IPY_MODEL_7b36ca157d7d418f86c9fec8d52a01a0"
          }
        },
        "5c45400792144db2a1ab032dd771d3b9": {
          "model_module": "@jupyter-widgets/controls",
          "model_name": "HTMLModel",
          "model_module_version": "1.5.0",
          "state": {
            "_view_name": "HTMLView",
            "style": "IPY_MODEL_28998871bba84a738f01064eee112913",
            "_dom_classes": [],
            "description": "",
            "_model_name": "HTMLModel",
            "placeholder": "​",
            "_view_module": "@jupyter-widgets/controls",
            "_model_module_version": "1.5.0",
            "value": " 170499072/? [00:11&lt;00:00, 15471826.20it/s]",
            "_view_count": null,
            "_view_module_version": "1.5.0",
            "description_tooltip": null,
            "_model_module": "@jupyter-widgets/controls",
            "layout": "IPY_MODEL_8983ee2dd4284b848e3521a95f9050f7"
          }
        },
        "c572a13ca151410d88ca955d4f8ebb25": {
          "model_module": "@jupyter-widgets/controls",
          "model_name": "DescriptionStyleModel",
          "model_module_version": "1.5.0",
          "state": {
            "_view_name": "StyleView",
            "_model_name": "DescriptionStyleModel",
            "description_width": "",
            "_view_module": "@jupyter-widgets/base",
            "_model_module_version": "1.5.0",
            "_view_count": null,
            "_view_module_version": "1.2.0",
            "_model_module": "@jupyter-widgets/controls"
          }
        },
        "09260a8f5d5e42a4a9cffbabe40b58d7": {
          "model_module": "@jupyter-widgets/base",
          "model_name": "LayoutModel",
          "model_module_version": "1.2.0",
          "state": {
            "_view_name": "LayoutView",
            "grid_template_rows": null,
            "right": null,
            "justify_content": null,
            "_view_module": "@jupyter-widgets/base",
            "overflow": null,
            "_model_module_version": "1.2.0",
            "_view_count": null,
            "flex_flow": null,
            "width": null,
            "min_width": null,
            "border": null,
            "align_items": null,
            "bottom": null,
            "_model_module": "@jupyter-widgets/base",
            "top": null,
            "grid_column": null,
            "overflow_y": null,
            "overflow_x": null,
            "grid_auto_flow": null,
            "grid_area": null,
            "grid_template_columns": null,
            "flex": null,
            "_model_name": "LayoutModel",
            "justify_items": null,
            "grid_row": null,
            "max_height": null,
            "align_content": null,
            "visibility": null,
            "align_self": null,
            "height": null,
            "min_height": null,
            "padding": null,
            "grid_auto_rows": null,
            "grid_gap": null,
            "max_width": null,
            "order": null,
            "_view_module_version": "1.2.0",
            "grid_template_areas": null,
            "object_position": null,
            "object_fit": null,
            "grid_auto_columns": null,
            "margin": null,
            "display": null,
            "left": null
          }
        },
        "1de398ea91c749fd9aba9cc8481ad6de": {
          "model_module": "@jupyter-widgets/controls",
          "model_name": "ProgressStyleModel",
          "model_module_version": "1.5.0",
          "state": {
            "_view_name": "StyleView",
            "_model_name": "ProgressStyleModel",
            "description_width": "",
            "_view_module": "@jupyter-widgets/base",
            "_model_module_version": "1.5.0",
            "_view_count": null,
            "_view_module_version": "1.2.0",
            "bar_color": null,
            "_model_module": "@jupyter-widgets/controls"
          }
        },
        "7b36ca157d7d418f86c9fec8d52a01a0": {
          "model_module": "@jupyter-widgets/base",
          "model_name": "LayoutModel",
          "model_module_version": "1.2.0",
          "state": {
            "_view_name": "LayoutView",
            "grid_template_rows": null,
            "right": null,
            "justify_content": null,
            "_view_module": "@jupyter-widgets/base",
            "overflow": null,
            "_model_module_version": "1.2.0",
            "_view_count": null,
            "flex_flow": null,
            "width": null,
            "min_width": null,
            "border": null,
            "align_items": null,
            "bottom": null,
            "_model_module": "@jupyter-widgets/base",
            "top": null,
            "grid_column": null,
            "overflow_y": null,
            "overflow_x": null,
            "grid_auto_flow": null,
            "grid_area": null,
            "grid_template_columns": null,
            "flex": null,
            "_model_name": "LayoutModel",
            "justify_items": null,
            "grid_row": null,
            "max_height": null,
            "align_content": null,
            "visibility": null,
            "align_self": null,
            "height": null,
            "min_height": null,
            "padding": null,
            "grid_auto_rows": null,
            "grid_gap": null,
            "max_width": null,
            "order": null,
            "_view_module_version": "1.2.0",
            "grid_template_areas": null,
            "object_position": null,
            "object_fit": null,
            "grid_auto_columns": null,
            "margin": null,
            "display": null,
            "left": null
          }
        },
        "28998871bba84a738f01064eee112913": {
          "model_module": "@jupyter-widgets/controls",
          "model_name": "DescriptionStyleModel",
          "model_module_version": "1.5.0",
          "state": {
            "_view_name": "StyleView",
            "_model_name": "DescriptionStyleModel",
            "description_width": "",
            "_view_module": "@jupyter-widgets/base",
            "_model_module_version": "1.5.0",
            "_view_count": null,
            "_view_module_version": "1.2.0",
            "_model_module": "@jupyter-widgets/controls"
          }
        },
        "8983ee2dd4284b848e3521a95f9050f7": {
          "model_module": "@jupyter-widgets/base",
          "model_name": "LayoutModel",
          "model_module_version": "1.2.0",
          "state": {
            "_view_name": "LayoutView",
            "grid_template_rows": null,
            "right": null,
            "justify_content": null,
            "_view_module": "@jupyter-widgets/base",
            "overflow": null,
            "_model_module_version": "1.2.0",
            "_view_count": null,
            "flex_flow": null,
            "width": null,
            "min_width": null,
            "border": null,
            "align_items": null,
            "bottom": null,
            "_model_module": "@jupyter-widgets/base",
            "top": null,
            "grid_column": null,
            "overflow_y": null,
            "overflow_x": null,
            "grid_auto_flow": null,
            "grid_area": null,
            "grid_template_columns": null,
            "flex": null,
            "_model_name": "LayoutModel",
            "justify_items": null,
            "grid_row": null,
            "max_height": null,
            "align_content": null,
            "visibility": null,
            "align_self": null,
            "height": null,
            "min_height": null,
            "padding": null,
            "grid_auto_rows": null,
            "grid_gap": null,
            "max_width": null,
            "order": null,
            "_view_module_version": "1.2.0",
            "grid_template_areas": null,
            "object_position": null,
            "object_fit": null,
            "grid_auto_columns": null,
            "margin": null,
            "display": null,
            "left": null
          }
        }
      }
    }
  },
  "cells": [
    {
      "cell_type": "markdown",
      "metadata": {
        "id": "view-in-github",
        "colab_type": "text"
      },
      "source": [
        "<a href=\"https://colab.research.google.com/github/vinodnbhat/AIML-CEP-2021-Assignments/blob/main/ResNet_CIFAR10.ipynb\" target=\"_parent\"><img src=\"https://colab.research.google.com/assets/colab-badge.svg\" alt=\"Open In Colab\"/></a>"
      ]
    },
    {
      "cell_type": "code",
      "execution_count": 1,
      "metadata": {
        "id": "hBeA9dgkr_WF"
      },
      "outputs": [],
      "source": [
        "# Import required libraries\n",
        "import torch\n",
        "import torch.nn as nn\n",
        "import torch.nn.functional as F\n",
        "import torch.optim as optim\n",
        "import torch.utils.data as data\n",
        "import torch.optim.lr_scheduler as lr_scheduler\n",
        "import torchvision.transforms as transforms\n",
        "import torchvision.datasets as datasets\n",
        "import matplotlib.pyplot as plt\n",
        "import numpy as np\n",
        "import random\n",
        "import time"
      ]
    },
    {
      "cell_type": "code",
      "source": [
        "SEED = 1234\n",
        "random.seed(SEED)\n",
        "np.random.seed(SEED)\n",
        "torch.manual_seed(SEED)\n",
        "torch.cuda.manual_seed(SEED)"
      ],
      "metadata": {
        "id": "IiFPz9Mdsxw2"
      },
      "execution_count": 2,
      "outputs": []
    },
    {
      "cell_type": "markdown",
      "source": [
        "**CIFAR Dataset**"
      ],
      "metadata": {
        "id": "05z5qTpjtbQs"
      }
    },
    {
      "cell_type": "code",
      "source": [
        "ROOT = '.data'\n",
        "\n",
        "# Downloading Cifar10 dataset from torchvision datasets\n",
        "train_data = datasets.CIFAR10(root = ROOT,\n",
        "                              train = True,\n",
        "                              download = True)\n",
        "\n",
        "mean = train_data.data.mean() / 255\n",
        "std = train_data.data.std() / 255\n",
        "\n",
        "print(f'Calculated mean: {mean}')\n",
        "print(f'Calculated std: {std}')"
      ],
      "metadata": {
        "colab": {
          "base_uri": "https://localhost:8080/",
          "height": 118,
          "referenced_widgets": [
            "5da0038e69d145699f98e6cc66d42014",
            "208925821edb4cb3919d04613ea7b7e0",
            "fd52a9be0c2647999a2562830cdab7b3",
            "6958640871a94c199befe771e2bc7caa",
            "5c45400792144db2a1ab032dd771d3b9",
            "c572a13ca151410d88ca955d4f8ebb25",
            "09260a8f5d5e42a4a9cffbabe40b58d7",
            "1de398ea91c749fd9aba9cc8481ad6de",
            "7b36ca157d7d418f86c9fec8d52a01a0",
            "28998871bba84a738f01064eee112913",
            "8983ee2dd4284b848e3521a95f9050f7"
          ]
        },
        "id": "TjiaNSpctevC",
        "outputId": "357f10b5-be24-4e4e-f90f-d4e81465e52d"
      },
      "execution_count": 3,
      "outputs": [
        {
          "output_type": "stream",
          "name": "stdout",
          "text": [
            "Downloading https://www.cs.toronto.edu/~kriz/cifar-10-python.tar.gz to .data/cifar-10-python.tar.gz\n"
          ]
        },
        {
          "output_type": "display_data",
          "data": {
            "application/vnd.jupyter.widget-view+json": {
              "model_id": "5da0038e69d145699f98e6cc66d42014",
              "version_minor": 0,
              "version_major": 2
            },
            "text/plain": [
              "  0%|          | 0/170498071 [00:00<?, ?it/s]"
            ]
          },
          "metadata": {}
        },
        {
          "output_type": "stream",
          "name": "stdout",
          "text": [
            "Extracting .data/cifar-10-python.tar.gz to .data\n",
            "Calculated mean: 0.4733630004850899\n",
            "Calculated std: 0.2515689250632208\n"
          ]
        }
      ]
    },
    {
      "cell_type": "code",
      "source": [
        "print(train_data.data.shape)"
      ],
      "metadata": {
        "colab": {
          "base_uri": "https://localhost:8080/"
        },
        "id": "w68Aijbaulm8",
        "outputId": "f425d715-1f75-4f39-97af-714689995b2f"
      },
      "execution_count": 4,
      "outputs": [
        {
          "output_type": "stream",
          "name": "stdout",
          "text": [
            "(50000, 32, 32, 3)\n"
          ]
        }
      ]
    },
    {
      "cell_type": "code",
      "source": [
        "train_transforms = transforms.Compose([\n",
        "                                       transforms.ToTensor(),\n",
        "                                       transforms.Normalize(mean = [mean], std = [std])\n",
        "                                      ])\n",
        "\n",
        "test_transforms = transforms.Compose([\n",
        "                                       transforms.ToTensor(),\n",
        "                                       transforms.Normalize(mean = [mean], std = [std])\n",
        "                                      ])"
      ],
      "metadata": {
        "id": "ZSgpUyfOuquB"
      },
      "execution_count": 5,
      "outputs": []
    },
    {
      "cell_type": "code",
      "source": [
        "train_set = datasets.CIFAR10(root = ROOT,\n",
        "                             train = True,\n",
        "                             download = True,\n",
        "                             transform = train_transforms)\n",
        "\n",
        "test_set = datasets.CIFAR10(root = ROOT,\n",
        "                             train = False,\n",
        "                             download = True,\n",
        "                             transform = train_transforms)"
      ],
      "metadata": {
        "colab": {
          "base_uri": "https://localhost:8080/"
        },
        "id": "JQdKtCd9wgkX",
        "outputId": "76f5fcb3-6c3c-4250-c570-94294c0c8702"
      },
      "execution_count": 6,
      "outputs": [
        {
          "output_type": "stream",
          "name": "stdout",
          "text": [
            "Files already downloaded and verified\n",
            "Files already downloaded and verified\n"
          ]
        }
      ]
    },
    {
      "cell_type": "code",
      "source": [
        "print(train_set.data.shape)"
      ],
      "metadata": {
        "colab": {
          "base_uri": "https://localhost:8080/"
        },
        "id": "Yxs3ouZjw4fS",
        "outputId": "c6940aee-5c75-4e9c-9441-07f314f0dcfc"
      },
      "execution_count": 7,
      "outputs": [
        {
          "output_type": "stream",
          "name": "stdout",
          "text": [
            "(50000, 32, 32, 3)\n"
          ]
        }
      ]
    },
    {
      "cell_type": "code",
      "source": [
        "print(test_set.data.shape)"
      ],
      "metadata": {
        "colab": {
          "base_uri": "https://localhost:8080/"
        },
        "id": "r1FgDuYHxAE2",
        "outputId": "04ea23cd-2db9-42c7-de55-e3f2a8929463"
      },
      "execution_count": 8,
      "outputs": [
        {
          "output_type": "stream",
          "name": "stdout",
          "text": [
            "(10000, 32, 32, 3)\n"
          ]
        }
      ]
    },
    {
      "cell_type": "code",
      "source": [
        "print(f'Number of training samples: {len(train_set)}')\n",
        "print(f'Number of testing samples: {len(test_set)}')"
      ],
      "metadata": {
        "colab": {
          "base_uri": "https://localhost:8080/"
        },
        "id": "t8weFq34xCyQ",
        "outputId": "0361ef5c-6adb-4896-fb53-3768522f8828"
      },
      "execution_count": 9,
      "outputs": [
        {
          "output_type": "stream",
          "name": "stdout",
          "text": [
            "Number of training samples: 50000\n",
            "Number of testing samples: 10000\n"
          ]
        }
      ]
    },
    {
      "cell_type": "code",
      "source": [
        "batch_size = 64\n",
        "\n",
        "train_loader = data.DataLoader(train_set,\n",
        "                               shuffle = True,\n",
        "                               batch_size = batch_size)\n",
        "\n",
        "test_loader = data.DataLoader(test_set,\n",
        "                              batch_size = batch_size)"
      ],
      "metadata": {
        "id": "aTsg_g0SxTQS"
      },
      "execution_count": 10,
      "outputs": []
    },
    {
      "cell_type": "code",
      "source": [
        "# Checking the bacth dimensions\n",
        "for images, labels in train_loader:\n",
        "  print('Image batch dimensions:', images.shape)\n",
        "  print('Label batch dimensions:', labels.shape)\n",
        "  break"
      ],
      "metadata": {
        "colab": {
          "base_uri": "https://localhost:8080/"
        },
        "id": "U49GfWbWzYq9",
        "outputId": "b3448548-1007-4c6c-d80c-30fc0bf8ef5f"
      },
      "execution_count": 11,
      "outputs": [
        {
          "output_type": "stream",
          "name": "stdout",
          "text": [
            "Image batch dimensions: torch.Size([64, 3, 32, 32])\n",
            "Label batch dimensions: torch.Size([64])\n"
          ]
        }
      ]
    },
    {
      "cell_type": "code",
      "source": [
        "### Model Settings ###\n",
        "\n",
        "# Hyperparameters\n",
        "learning_rate = 0.01\n",
        "\n",
        "# Architecture\n",
        "num_classes = 10"
      ],
      "metadata": {
        "id": "9aC9r9Zo0Ug9"
      },
      "execution_count": 12,
      "outputs": []
    },
    {
      "cell_type": "markdown",
      "source": [
        "**RESNET**"
      ],
      "metadata": {
        "id": "nfE_ZNoh9Lqt"
      }
    },
    {
      "cell_type": "code",
      "source": [
        "class ResNet(torch.nn.Module):\n",
        "  \n",
        "  def __init__(self, num_classes = 10):\n",
        "    super(ResNet, self).__init__()\n",
        "\n",
        "    # 1st Residual Block #\n",
        "    #########################################################################\n",
        "    #32x32x3 => 16x16x32\n",
        "    self.conv1 = torch.nn.Conv2d(in_channels = 3,\n",
        "                                 out_channels = 32,\n",
        "                                 kernel_size = (3, 3),\n",
        "                                 stride = (2, 2),\n",
        "                                 padding = 1)\n",
        "    self.conv1_bn = torch.nn.BatchNorm2d(32)\n",
        "\n",
        "    #16x16x32 => 16x16x64\n",
        "    self.conv2 = torch.nn.Conv2d(in_channels = 32,\n",
        "                                 out_channels = 64,\n",
        "                                 kernel_size = (1, 1),\n",
        "                                 stride = (1, 1),\n",
        "                                 padding = 0)\n",
        "    self.conv2_bn = torch.nn.BatchNorm2d(64)\n",
        "\n",
        "    #32x32x3 => 16x16x64\n",
        "    self.conv_shortcut1 = torch.nn.Conv2d(in_channels = 3,\n",
        "                                 out_channels = 64,\n",
        "                                 kernel_size = (1, 1),\n",
        "                                 stride = (2, 2),\n",
        "                                 padding = 0)\n",
        "    self.conv_shortcut1_bn = torch.nn.BatchNorm2d(64)\n",
        "    ############################################################################\n",
        "    \n",
        "    #2nd residual block#\n",
        "    ###########################################################################\n",
        "\n",
        "    #16x16x64 => 8x8x128\n",
        "    self.conv3 = torch.nn.Conv2d(in_channels = 64,\n",
        "                                 out_channels = 128,\n",
        "                                 kernel_size = (3, 3),\n",
        "                                 stride = (2, 2),\n",
        "                                 padding = 1)\n",
        "    self.conv3_bn = torch.nn.BatchNorm2d(128)\n",
        "\n",
        "    #8x8x128 => 8x8x256\n",
        "    self.conv4 = torch.nn.Conv2d(in_channels = 128,\n",
        "                                 out_channels = 256,\n",
        "                                 kernel_size = (1, 1),\n",
        "                                 stride = (1, 1),\n",
        "                                 padding = 0)\n",
        "    self.conv4_bn = torch.nn.BatchNorm2d(256)\n",
        "\n",
        "    #16x16x64 => 8x8x256\n",
        "    self.conv_shortcut2 = torch.nn.Conv2d(in_channels = 64,\n",
        "                                 out_channels = 256,\n",
        "                                 kernel_size = (1, 1),\n",
        "                                 stride = (2, 2),\n",
        "                                 padding = 0)\n",
        "    self.conv_shortcut2_bn = torch.nn.BatchNorm2d(256)\n",
        "    #########################################################################\n",
        "\n",
        "    # Fully Connected\n",
        "    #########################################################################\n",
        "    self.linear_1 = torch.nn.Linear(8 * 8 * 256, num_classes)\n",
        "\n",
        "  def forward(self, x):\n",
        "\n",
        "    ###############################\n",
        "    # 1st Residual Block\n",
        "    ###############################\n",
        "\n",
        "    shortcut = x\n",
        "\n",
        "    out = self.conv1(x)         # 32x32x3 => 16x16x32\n",
        "    out = self.conv1_bn(out)\n",
        "    out = F.relu(out)\n",
        "\n",
        "    out = self.conv2(out)       # 16x16x32 => 16x16x64\n",
        "    out = self.conv2_bn(out)\n",
        "\n",
        "    # match up dimensions using a linear function (no relu)\n",
        "    shortcut = self.conv_shortcut1(shortcut)\n",
        "    shortcut = self.conv_shortcut1_bn(shortcut)\n",
        "\n",
        "    out += shortcut\n",
        "    out = F.relu(out)\n",
        "\n",
        "    ###############################\n",
        "    # 2nd Residual Block\n",
        "    ###############################\n",
        "\n",
        "    shortcut = out\n",
        "\n",
        "    out = self.conv3(out)         # 16x16x64 => 8x8x128\n",
        "    out = self.conv3_bn(out)\n",
        "    out = F.relu(out)\n",
        "\n",
        "    out = self.conv4(out)       # 8x8x128 => 8x8x256\n",
        "    out = self.conv4_bn(out)\n",
        "\n",
        "    # match up dimensions using a linear function (no relu)\n",
        "    shortcut = self.conv_shortcut2(shortcut)\n",
        "    shortcut = self.conv_shortcut2_bn(shortcut)\n",
        "\n",
        "    out += shortcut\n",
        "    out = F.relu(out)\n",
        "\n",
        "    ###############################\n",
        "    # Fully Connected\n",
        "    ###############################\n",
        "\n",
        "    logits = self.linear_1(out.view(-1, 8*8*256))\n",
        "    probas = F.softmax(logits, dim = 1)\n",
        "    return logits, probas"
      ],
      "metadata": {
        "id": "31w73zBL7VET"
      },
      "execution_count": 24,
      "outputs": []
    },
    {
      "cell_type": "code",
      "source": [
        "# Initialize the model\n",
        "model = ResNet()"
      ],
      "metadata": {
        "id": "aKmYkT8r_-cW"
      },
      "execution_count": 25,
      "outputs": []
    },
    {
      "cell_type": "code",
      "source": [
        "def count_parameters(model):\n",
        "  return sum(p.numel() for p in model.parameters() if p.requires_grad)\n",
        "\n",
        "print(f'The model has {count_parameters(model):,} trainable parameters')"
      ],
      "metadata": {
        "colab": {
          "base_uri": "https://localhost:8080/"
        },
        "id": "10uUJd52AbMF",
        "outputId": "0ac009ee-2344-41d4-bea0-dd845b31295f"
      },
      "execution_count": 26,
      "outputs": [
        {
          "output_type": "stream",
          "name": "stdout",
          "text": [
            "The model has 292,234 trainable parameters\n"
          ]
        }
      ]
    },
    {
      "cell_type": "code",
      "source": [
        "optimizer = torch.optim.Adam(model.parameters(), lr =learning_rate)"
      ],
      "metadata": {
        "id": "RC4u7pX8BlLb"
      },
      "execution_count": 27,
      "outputs": []
    },
    {
      "cell_type": "code",
      "source": [
        "lossfn = nn.CrossEntropyLoss()"
      ],
      "metadata": {
        "id": "InjqCLPuCYiq"
      },
      "execution_count": 28,
      "outputs": []
    },
    {
      "cell_type": "code",
      "source": [
        "if torch.cuda.is_available():\n",
        "  print('cuda is available. Using cuda..')\n",
        "else:\n",
        "  print('cuda is not available. Using CPU..')\n",
        "\n",
        "device = torch.device('cuda' if torch.cuda.is_available() else 'cpu')"
      ],
      "metadata": {
        "colab": {
          "base_uri": "https://localhost:8080/"
        },
        "id": "F3_n7dkACfTF",
        "outputId": "7f3a15cf-eb00-419a-b9ed-687a804c4bc1"
      },
      "execution_count": 29,
      "outputs": [
        {
          "output_type": "stream",
          "name": "stdout",
          "text": [
            "cuda is not available. Using CPU..\n"
          ]
        }
      ]
    },
    {
      "cell_type": "code",
      "source": [
        "model = model.to(device)\n",
        "lossfn = lossfn.to(device)"
      ],
      "metadata": {
        "id": "YwUfk5vUDxrj"
      },
      "execution_count": 30,
      "outputs": []
    },
    {
      "cell_type": "code",
      "source": [
        "def epoch_time(start_time, end_time):\n",
        "  elapsed_time = end_time - start_time\n",
        "  elapsed_mins = int(elapsed_time / 60)\n",
        "  elapsed_secs = elapsed_time - (elapsed_mins * 60)\n",
        "  return elapsed_mins, elapsed_secs"
      ],
      "metadata": {
        "id": "eHTDn7ssExWq"
      },
      "execution_count": 31,
      "outputs": []
    },
    {
      "cell_type": "code",
      "source": [
        "# Compute the Accuracy\n",
        "def compute_accuracy(model, data_loader):\n",
        "  correct_pred, num_examples = 0, 0\n",
        "  for i , (features, targets) in enumerate(data_loader):\n",
        "    features = features.to(device)\n",
        "    targets = targets.to(device)\n",
        "    logits, probas = model(features)\n",
        "    _, predicted_labels = torch.max(probas, 1)\n",
        "    num_examples += targets.size(0)\n",
        "    correct_pred += (predicted_labels == targets).sum()\n",
        "  return correct_pred.float() / num_examples *100"
      ],
      "metadata": {
        "id": "ynTwp8wmFMKO"
      },
      "execution_count": 32,
      "outputs": []
    },
    {
      "cell_type": "code",
      "source": [
        "def train(model, iterator, optimizer, criterion, device):\n",
        "  epoch_loss = 0\n",
        "\n",
        "  model.train()\n",
        "\n",
        "  for (x, y) in iterator:\n",
        "\n",
        "    x = x.to(device)\n",
        "    y = y.to(device)\n",
        "\n",
        "    optimizer.zero_grad()\n",
        "\n",
        "    y_pred_logits, y_pred_probas = model(x)\n",
        "\n",
        "    loss = lossfn(y_pred_logits, y)\n",
        "\n",
        "    loss.backward()\n",
        "\n",
        "    optimizer.step()\n",
        "\n",
        "    epoch_loss += loss.item()\n",
        "\n",
        "  return epoch_loss / len(iterator)"
      ],
      "metadata": {
        "id": "m0rI4fAuH0Cs"
      },
      "execution_count": 33,
      "outputs": []
    },
    {
      "cell_type": "code",
      "source": [
        "save_model = False\n",
        "patience_early_stopping = 3 #training will stop if model performance does not improve for these many consecutive epochs\n",
        "cnt = 0 #counter for checking patience level\n",
        "EPOCHS = 100\n",
        "prev_test_acc = 0 #initializing prev test accuracy for early stopping condition\n",
        "scheduler = lr_scheduler.ReduceLROnPlateau(optimizer, mode = 'max', factor = 0.2, patience = 1) #learning rate scheduler, update learning rate by \n",
        "#factor of 0.2 if test accuracy does not improve for patience+1 consecutive epochs\n",
        "\n",
        "for epoch in range(EPOCHS):\n",
        "  print(\"current learning rate\", optimizer.state_dict()['param_groups'][0]['lr'])\n",
        "  start_time = time.perf_counter()\n",
        "\n",
        "  train_loss = train(model, train_loader, optimizer, lossfn, device)\n",
        "  train_acc = compute_accuracy(model, train_loader)\n",
        "\n",
        "  if save_model:\n",
        "    torch.save(model.state.dict(), 'resnet_model.pt')\n",
        "\n",
        "  if epoch % 1 == 0: #for every epoch we shall compute the test accuracy\n",
        "    test_acc = compute_accuracy(model, test_loader)\n",
        "\n",
        "    if test_acc > prev_test_acc: #check if test accuracy for current epoch has improved compared to previous epoch\n",
        "      cnt = 0 #if accuracy improves reset counter to 0\n",
        "    else:\n",
        "      cnt += 1 #otherwise increment current counter\n",
        "\n",
        "    prev_test_acc = test_acc\n",
        "\n",
        "  scheduler.step(test_acc) #updates learning rate\n",
        "\n",
        "  end_time = time.perf_counter()\n",
        "\n",
        "  epoch_mins, epoch_secs = epoch_time(start_time, end_time)\n",
        "\n",
        "  print(f'Epoch: {epoch+1:2} | Epoch Time: {epoch_mins}m {epoch_secs}s')\n",
        "  print(f'\\tTrain Loss: {train_loss:.3f} | Train Acc: {train_acc:.2f}%')\n",
        "  if epoch % 1 == 0:  #for every epoch we shall print the test loss and test accuracy \n",
        "    print(f'\\tTest Acc: {test_acc:.2f}% \\n')\n",
        "\n",
        "  if cnt == patience_early_stopping:\n",
        "    print(f'early stopping as accuracy did not improve for {patience_early_stopping} consecutive epochs')\n",
        "    break\n",
        "\n"
      ],
      "metadata": {
        "colab": {
          "base_uri": "https://localhost:8080/"
        },
        "id": "8O7_WdGnG531",
        "outputId": "65744b9d-50e2-4866-c550-319f7ab85f28"
      },
      "execution_count": null,
      "outputs": [
        {
          "output_type": "stream",
          "name": "stdout",
          "text": [
            "current learning rate 0.01\n",
            "Epoch:  1 | Epoch Time: 3m 47.54912440499993s\n",
            "\tTrain Loss: 1.919 | Train Acc: 55.57%\n",
            "\tTest Acc: 52.51% \n",
            "\n",
            "current learning rate 0.01\n",
            "Epoch:  2 | Epoch Time: 3m 46.9268395729996s\n",
            "\tTrain Loss: 1.247 | Train Acc: 61.90%\n",
            "\tTest Acc: 57.57% \n",
            "\n",
            "current learning rate 0.01\n",
            "Epoch:  3 | Epoch Time: 3m 46.59267221100026s\n",
            "\tTrain Loss: 1.109 | Train Acc: 63.02%\n",
            "\tTest Acc: 57.26% \n",
            "\n",
            "current learning rate 0.01\n",
            "Epoch:  4 | Epoch Time: 3m 48.319731106999825s\n",
            "\tTrain Loss: 1.017 | Train Acc: 67.87%\n",
            "\tTest Acc: 60.73% \n",
            "\n",
            "current learning rate 0.01\n",
            "Epoch:  5 | Epoch Time: 3m 51.06576488200062s\n",
            "\tTrain Loss: 0.950 | Train Acc: 68.90%\n",
            "\tTest Acc: 59.76% \n",
            "\n",
            "current learning rate 0.01\n",
            "Epoch:  6 | Epoch Time: 3m 52.20495633900009s\n",
            "\tTrain Loss: 0.902 | Train Acc: 72.29%\n",
            "\tTest Acc: 61.91% \n",
            "\n",
            "current learning rate 0.01\n",
            "Epoch:  7 | Epoch Time: 3m 52.93059695700049s\n",
            "\tTrain Loss: 0.856 | Train Acc: 75.01%\n",
            "\tTest Acc: 63.07% \n",
            "\n",
            "current learning rate 0.01\n",
            "Epoch:  8 | Epoch Time: 3m 53.107227249999596s\n",
            "\tTrain Loss: 0.809 | Train Acc: 76.12%\n",
            "\tTest Acc: 62.09% \n",
            "\n",
            "current learning rate 0.01\n",
            "Epoch:  9 | Epoch Time: 3m 50.88394185099969s\n",
            "\tTrain Loss: 0.764 | Train Acc: 76.70%\n",
            "\tTest Acc: 62.49% \n",
            "\n",
            "current learning rate 0.002\n"
          ]
        }
      ]
    }
  ]
}