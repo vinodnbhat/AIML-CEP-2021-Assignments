{
  "nbformat": 4,
  "nbformat_minor": 0,
  "metadata": {
    "colab": {
      "name": "Untitled6.ipynb",
      "provenance": [],
      "authorship_tag": "ABX9TyNwrm0nQBe6nsDMSma6/Rnv",
      "include_colab_link": true
    },
    "kernelspec": {
      "name": "python3",
      "display_name": "Python 3"
    },
    "language_info": {
      "name": "python"
    }
  },
  "cells": [
    {
      "cell_type": "markdown",
      "metadata": {
        "id": "view-in-github",
        "colab_type": "text"
      },
      "source": [
        "<a href=\"https://colab.research.google.com/github/vinodnbhat/AIML-CEP-2021-Assignments/blob/main/RBF%20kernel_diff%20gamma%20values_training%20data.ipynb\" target=\"_parent\"><img src=\"https://colab.research.google.com/assets/colab-badge.svg\" alt=\"Open In Colab\"/></a>"
      ]
    },
    {
      "cell_type": "code",
      "metadata": {
        "id": "LFMtbian2ClW"
      },
      "source": [
        "import numpy as np\n",
        "import matplotlib.pyplot as plt\n",
        "\n",
        "%matplotlib inline"
      ],
      "execution_count": 1,
      "outputs": []
    },
    {
      "cell_type": "code",
      "metadata": {
        "colab": {
          "base_uri": "https://localhost:8080/",
          "height": 281
        },
        "id": "HuljTm8_2P6V",
        "outputId": "07c86748-998e-4407-ab9b-b374ec6b3e47"
      },
      "source": [
        "num_samples = 100\n",
        "\n",
        "np.random.seed(100)\n",
        "\n",
        "X = []\n",
        "y = []\n",
        "\n",
        "radius = 1\n",
        "\n",
        "center_point = [1., 1.]\n",
        "center_x1 = center_point[0]\n",
        "center_x2 = center_point[1]\n",
        "\n",
        "#generate points within circle (x1-1)^2 + (x2-1)^2 = 1\n",
        "for i in range (int(num_samples/2)):\n",
        "  toss = np.random.rand()\n",
        "  x1 = np.random.uniform(low = 0, high = 2)\n",
        "  x2 = np.random.uniform(low = 0, high = 2)\n",
        "  while (x1 - center_x1)**2 + (x2 - center_x2)**2 > radius:\n",
        "      x1 = np.random.uniform(low = 0, high = 2)\n",
        "      x2 = np.random.uniform(low = 0, high = 2)\n",
        "\n",
        "  X.append([x1, x2])\n",
        "  y.append([1])\n",
        "\n",
        "#generate points outside circle (x1-1)^2 + (x2-1)^2 = 1\n",
        "for i in range (int(num_samples/2)):\n",
        "  toss = np.random.rand()\n",
        "  x1 = np.random.uniform(low = 0, high = 2)\n",
        "  x2 = np.random.uniform(low = 0, high = 2)\n",
        "  while (x1 - center_x1)**2 + (x2 - center_x2)**2 <= radius:\n",
        "      x1 = np.random.uniform(low = 0, high = 2)\n",
        "      x2 = np.random.uniform(low = 0, high = 2)\n",
        "\n",
        "  X.append([x1, x2])\n",
        "  y.append([-1])\n",
        "\n",
        "X = np.array(X)\n",
        "y = np.array(y)\n",
        "\n",
        "#plot the circle\n",
        "angle = np.linspace(0, 2*np.pi, 150)\n",
        "\n",
        "x1 = center_x1 + radius*np.cos(angle)\n",
        "x2 = center_x2 + radius*np.sin(angle)\n",
        "\n",
        "figure, axes = plt.subplots(1)\n",
        "\n",
        "axes.plot(x1, x2)\n",
        "axes.set_aspect(1)\n",
        "\n",
        "plt.scatter(X[:int(num_samples/2), 0], X[:int(num_samples/2), 1], marker = 'o', color = 'red')\n",
        "plt.scatter(X[int(num_samples/2):, 0], X[int(num_samples/2):, 1], marker = 's', color = 'green')\n",
        "\n",
        "plt.title('Data with a non-linear separating surface')\n",
        "plt.show()"
      ],
      "execution_count": 2,
      "outputs": [
        {
          "output_type": "display_data",
          "data": {
            "image/png": "[encoded data removed]",
            "text/plain": [
              "<Figure size 432x288 with 1 Axes>"
            ]
          },
          "metadata": {
            "needs_background": "light"
          }
        }
      ]
    },
    {
      "cell_type": "code",
      "metadata": {
        "colab": {
          "base_uri": "https://localhost:8080/",
          "height": 278
        },
        "id": "nR4z0Jbi6r5k",
        "outputId": "8f0ba273-6513-42e5-c94f-f03d1c121df9"
      },
      "source": [
        "from sklearn.svm import LinearSVC\n",
        "\n",
        "clf = LinearSVC(C = 1.0)\n",
        "clf_model = clf.fit(X, y.ravel())\n",
        "\n",
        "h = 0.02\n",
        "x1_min, x1_max = X[:, 0].min() - 1, X[:, 0].max() + 1\n",
        "x2_min, x2_max = X[:, 1].min() - 1, X[:, 1].max() + 1\n",
        "xx1, xx2 = np.meshgrid(np.arange(x1_min, x1_max, h), np.arange(x2_min, x2_max, h))\n",
        "\n",
        "Z = clf_model.predict(np.c_[xx1.ravel(), xx2.ravel()])\n",
        "\n",
        "Z = Z.reshape(xx1.shape)\n",
        "plt.contourf(xx1, xx2, Z, cmap=plt.cm.coolwarm, alpha = 0.8)\n",
        "\n",
        "plt.scatter(X[:int(num_samples/2), 0], X[:int(num_samples/2), 1], marker = 'o', color = 'red')\n",
        "plt.scatter(X[int(num_samples/2):, 0], X[int(num_samples/2):, 1], marker = 's', color = 'green')\n",
        "\n",
        "plt.xlabel('x1')\n",
        "plt.ylabel('x2')\n",
        "plt.xlim(xx1.min(), xx1.max())\n",
        "plt.ylim(xx2.min(), xx2.max())\n",
        "plt.xticks(())\n",
        "plt.yticks(())\n",
        "plt.title('Decision boundary from Linear SVM')\n",
        "plt.show()"
      ],
      "execution_count": 5,
      "outputs": [
        {
          "output_type": "display_data",
          "data": {
            "image/png": "[encoded data removed]",
            "text/plain": [
              "<Figure size 432x288 with 1 Axes>"
            ]
          },
          "metadata": {}
        }
      ]
    },
    {
      "cell_type": "code",
      "metadata": {
        "colab": {
          "base_uri": "https://localhost:8080/"
        },
        "id": "os8KvSKl89Zu",
        "outputId": "8372c601-0d5f-470b-eaf2-af281418edb6"
      },
      "source": [
        "X_transformed = []\n",
        "\n",
        "for i in range(num_samples):\n",
        "  x1 = X[i, 0]\n",
        "  x2 = X[i, 1]\n",
        "  X_transformed.append([x1**2, x2**2, np.sqrt(2)*x1, np.sqrt(2)*x2, 1.])\n",
        "\n",
        "X_transformed = np.array(X_transformed)\n",
        "\n",
        "clf = LinearSVC(C = 10., max_iter = 10000)\n",
        "clf_model = clf.fit(X_transformed, y.ravel())\n",
        "\n",
        "predicted_labels = clf_model.predict(X_transformed)\n",
        "print(predicted_labels)\n",
        "\n",
        "train_error = np.sum(0.5 * np.abs(predicted_labels - y.ravel()))/len(y) * 100\n",
        "train_accuracy = 100 - train_error\n",
        "\n",
        "print('train accuracy:', train_accuracy)"
      ],
      "execution_count": 6,
      "outputs": [
        {
          "output_type": "stream",
          "name": "stdout",
          "text": [
            "[ 1  1  1  1  1  1  1  1  1  1  1  1  1  1  1  1  1  1  1  1  1  1  1  1\n",
            "  1  1  1  1  1 -1  1  1  1  1  1  1  1  1  1  1  1  1  1  1  1  1  1  1\n",
            "  1  1 -1 -1 -1 -1 -1 -1 -1 -1 -1 -1 -1 -1 -1 -1 -1 -1 -1 -1 -1 -1 -1 -1\n",
            " -1 -1 -1 -1 -1 -1 -1 -1 -1 -1 -1 -1 -1 -1 -1 -1 -1 -1 -1 -1 -1 -1 -1 -1\n",
            " -1 -1 -1 -1]\n",
            "train accuracy: 99.0\n"
          ]
        }
      ]
    },
    {
      "cell_type": "code",
      "metadata": {
        "colab": {
          "base_uri": "https://localhost:8080/"
        },
        "id": "4vlO3OJyDsSs",
        "outputId": "09627fb2-6c07-47fc-f03e-a2d2bc9f362a"
      },
      "source": [
        "from sklearn.svm import SVC\n",
        "\n",
        "clf = SVC(kernel = 'rbf', gamma = 50, max_iter = 10000)\n",
        "clf_model = clf.fit(X, y.ravel())\n",
        "\n",
        "predicted_labels = clf.predict(X)\n",
        "print(predicted_labels)\n",
        "\n",
        "train_error = np.sum(0.5 * np.abs(predicted_labels - y.ravel()))/len(y) * 100\n",
        "train_accuracy = 100 - train_error\n",
        "\n",
        "print('train accuracy with gamma = 50:', train_accuracy)"
      ],
      "execution_count": 8,
      "outputs": [
        {
          "output_type": "stream",
          "name": "stdout",
          "text": [
            "[ 1  1  1  1  1  1  1  1  1  1  1  1  1  1  1  1  1  1  1  1  1  1  1  1\n",
            "  1  1  1  1  1  1  1  1  1  1  1  1  1  1  1  1  1  1  1  1  1  1  1  1\n",
            "  1  1 -1 -1 -1 -1 -1 -1 -1 -1 -1 -1 -1 -1 -1 -1 -1 -1 -1 -1 -1 -1 -1 -1\n",
            " -1 -1 -1 -1 -1 -1 -1 -1 -1 -1 -1 -1 -1 -1 -1 -1 -1 -1 -1 -1 -1 -1 -1 -1\n",
            " -1 -1 -1 -1]\n",
            "train accuracy: 100.0\n"
          ]
        }
      ]
    },
    {
      "cell_type": "code",
      "metadata": {
        "colab": {
          "base_uri": "https://localhost:8080/",
          "height": 278
        },
        "id": "5oHbdOrnEIS5",
        "outputId": "71a95fe6-9ed8-40c0-d0d0-50d381ca7135"
      },
      "source": [
        "h=0.02 #mesh step size\n",
        "x1_min, x1_max = X[:, 0].min() - 1, X[:, 0].max() + 1\n",
        "x2_min, x2_max = X[:, 1].min() - 1, X[:, 1].max() + 1\n",
        "xx1, xx2 = np.meshgrid(np.arange(x1_min, x1_max, h),\n",
        "                     np.arange(x2_min, x2_max, h))\n",
        "\n",
        "Z = clf_model.predict(np.c_[xx1.ravel(), xx2.ravel()])\n",
        "\n",
        "# Put the result into a color plot\n",
        "Z = Z.reshape(xx1.shape)\n",
        "plt.contourf(xx1, xx2, Z, cmap=plt.cm.coolwarm, alpha=0.8)\n",
        "\n",
        "# Plot also the training points\n",
        "#plt.scatter(X[:, 0], X[:, 1], c=y, cmap=plt.cm.coolwarm)\n",
        "plt.scatter(X[:int(num_samples/2),0],X[:int(num_samples/2),1], marker='o', color='red')\n",
        "plt.scatter(X[int(num_samples/2):,0],X[int(num_samples/2):,1], marker='s', color='green')\n",
        "\n",
        "plt.xlabel('x1')\n",
        "plt.ylabel('x2')\n",
        "plt.xlim(xx1.min(), xx1.max())\n",
        "plt.ylim(xx2.min(), xx2.max())\n",
        "plt.xticks(())\n",
        "plt.yticks(())\n",
        "plt.title('Decision boundary from SVM with RBF Kernel with gamma = 50')\n",
        "plt.show()\n"
      ],
      "execution_count": 9,
      "outputs": [
        {
          "output_type": "display_data",
          "data": {
            "image/png": "[encoded data removed]",
            "text/plain": [
              "<Figure size 432x288 with 1 Axes>"
            ]
          },
          "metadata": {}
        }
      ]
    },
    {
      "cell_type": "code",
      "metadata": {
        "colab": {
          "base_uri": "https://localhost:8080/"
        },
        "id": "UOK-d8lGHyT-",
        "outputId": "f322411e-9300-4749-c358-ec715ef4c42e"
      },
      "source": [
        "clf = SVC(kernel = 'rbf', gamma = 0.0001, max_iter = 10000)\n",
        "clf_model = clf.fit(X, y.ravel())\n",
        "\n",
        "predicted_labels = clf.predict(X)\n",
        "print(predicted_labels)\n",
        "\n",
        "train_error = np.sum(0.5 * np.abs(predicted_labels - y.ravel()))/len(y) * 100\n",
        "train_accuracy = 100 - train_error\n",
        "\n",
        "print('train accuracy for gamma = 0.0001:', train_accuracy)"
      ],
      "execution_count": 14,
      "outputs": [
        {
          "output_type": "stream",
          "name": "stdout",
          "text": [
            "[ 1 -1  1 -1  1 -1  1 -1  1 -1 -1  1  1  1  1  1 -1 -1  1 -1  1 -1  1  1\n",
            "  1  1 -1 -1  1  1  1  1 -1  1  1  1  1  1 -1  1 -1 -1  1  1 -1 -1  1 -1\n",
            " -1  1 -1 -1 -1 -1 -1 -1  1  1 -1 -1  1 -1  1  1  1  1 -1  1 -1 -1  1 -1\n",
            "  1  1 -1 -1  1 -1 -1  1 -1 -1  1  1 -1  1 -1  1  1  1  1  1 -1  1  1 -1\n",
            " -1 -1  1 -1]\n",
            "train accuracy for gamma = 0.0001: 56.0\n"
          ]
        }
      ]
    },
    {
      "cell_type": "code",
      "metadata": {
        "colab": {
          "base_uri": "https://localhost:8080/",
          "height": 278
        },
        "id": "-NWT0T--IEUK",
        "outputId": "45ec52c5-0ac8-4842-f5e3-7f6dd463095a"
      },
      "source": [
        "h=0.02 #mesh step size\n",
        "x1_min, x1_max = X[:, 0].min() - 1, X[:, 0].max() + 1\n",
        "x2_min, x2_max = X[:, 1].min() - 1, X[:, 1].max() + 1\n",
        "xx1, xx2 = np.meshgrid(np.arange(x1_min, x1_max, h),\n",
        "                     np.arange(x2_min, x2_max, h))\n",
        "\n",
        "Z = clf_model.predict(np.c_[xx1.ravel(), xx2.ravel()])\n",
        "\n",
        "# Put the result into a color plot\n",
        "Z = Z.reshape(xx1.shape)\n",
        "plt.contourf(xx1, xx2, Z, cmap=plt.cm.coolwarm, alpha=0.8)\n",
        "\n",
        "# Plot also the training points\n",
        "#plt.scatter(X[:, 0], X[:, 1], c=y, cmap=plt.cm.coolwarm)\n",
        "plt.scatter(X[:int(num_samples/2),0],X[:int(num_samples/2),1], marker='o', color='red')\n",
        "plt.scatter(X[int(num_samples/2):,0],X[int(num_samples/2):,1], marker='s', color='green')\n",
        "\n",
        "plt.xlabel('x1')\n",
        "plt.ylabel('x2')\n",
        "plt.xlim(xx1.min(), xx1.max())\n",
        "plt.ylim(xx2.min(), xx2.max())\n",
        "plt.xticks(())\n",
        "plt.yticks(())\n",
        "plt.title('Decision boundary from SVM with RBF Kernel with gamma = 0.0001')\n",
        "plt.show()"
      ],
      "execution_count": 15,
      "outputs": [
        {
          "output_type": "display_data",
          "data": {
            "image/png": "[encoded data removed]",
            "text/plain": [
              "<Figure size 432x288 with 1 Axes>"
            ]
          },
          "metadata": {}
        }
      ]
    },
    {
      "cell_type": "code",
      "metadata": {
        "colab": {
          "base_uri": "https://localhost:8080/"
        },
        "id": "MLnm5CPTIV_j",
        "outputId": "8bde5334-45c8-4e7c-a5ca-255f6534f2ab"
      },
      "source": [
        "clf = SVC(kernel = 'rbf', gamma = 0.001, max_iter = 10000)\n",
        "clf_model = clf.fit(X, y.ravel())\n",
        "\n",
        "predicted_labels = clf.predict(X)\n",
        "print(predicted_labels)\n",
        "\n",
        "train_error = np.sum(0.5 * np.abs(predicted_labels - y.ravel()))/len(y) * 100\n",
        "train_accuracy = 100 - train_error\n",
        "\n",
        "print('train accuracy with gamma = 0.001:', train_accuracy)"
      ],
      "execution_count": 16,
      "outputs": [
        {
          "output_type": "stream",
          "name": "stdout",
          "text": [
            "[ 1 -1  1 -1  1 -1  1 -1  1 -1 -1  1  1  1  1  1 -1 -1  1 -1  1 -1  1  1\n",
            "  1  1 -1 -1  1  1  1  1 -1  1  1  1  1  1 -1  1 -1 -1  1  1 -1 -1  1 -1\n",
            " -1  1 -1 -1 -1 -1 -1 -1  1  1 -1 -1  1 -1  1  1  1  1 -1  1 -1 -1  1 -1\n",
            "  1  1 -1 -1  1 -1 -1  1 -1 -1  1  1 -1  1 -1  1  1  1  1  1 -1  1  1 -1\n",
            " -1 -1  1 -1]\n",
            "train accuracy with gamma = 0.001: 56.0\n"
          ]
        }
      ]
    },
    {
      "cell_type": "code",
      "metadata": {
        "colab": {
          "base_uri": "https://localhost:8080/",
          "height": 278
        },
        "id": "ote_uWoYIfyC",
        "outputId": "7a4b745f-a966-4c0f-ee2a-581b5c54e7f1"
      },
      "source": [
        "h=0.02 #mesh step size\n",
        "x1_min, x1_max = X[:, 0].min() - 1, X[:, 0].max() + 1\n",
        "x2_min, x2_max = X[:, 1].min() - 1, X[:, 1].max() + 1\n",
        "xx1, xx2 = np.meshgrid(np.arange(x1_min, x1_max, h),\n",
        "                     np.arange(x2_min, x2_max, h))\n",
        "\n",
        "Z = clf_model.predict(np.c_[xx1.ravel(), xx2.ravel()])\n",
        "\n",
        "# Put the result into a color plot\n",
        "Z = Z.reshape(xx1.shape)\n",
        "plt.contourf(xx1, xx2, Z, cmap=plt.cm.coolwarm, alpha=0.8)\n",
        "\n",
        "# Plot also the training points\n",
        "#plt.scatter(X[:, 0], X[:, 1], c=y, cmap=plt.cm.coolwarm)\n",
        "plt.scatter(X[:int(num_samples/2),0],X[:int(num_samples/2),1], marker='o', color='red')\n",
        "plt.scatter(X[int(num_samples/2):,0],X[int(num_samples/2):,1], marker='s', color='green')\n",
        "\n",
        "plt.xlabel('x1')\n",
        "plt.ylabel('x2')\n",
        "plt.xlim(xx1.min(), xx1.max())\n",
        "plt.ylim(xx2.min(), xx2.max())\n",
        "plt.xticks(())\n",
        "plt.yticks(())\n",
        "plt.title('Decision boundary from SVM with RBF Kernel with gamma = 0.001')\n",
        "plt.show()"
      ],
      "execution_count": 17,
      "outputs": [
        {
          "output_type": "display_data",
          "data": {
            "image/png": "[encoded data removed]",
            "text/plain": [
              "<Figure size 432x288 with 1 Axes>"
            ]
          },
          "metadata": {}
        }
      ]
    },
    {
      "cell_type": "code",
      "metadata": {
        "colab": {
          "base_uri": "https://localhost:8080/"
        },
        "id": "tV1IUB-_JKp0",
        "outputId": "2feb8087-c06b-4dd9-ffe6-14e21f97f07f"
      },
      "source": [
        "clf = SVC(kernel = 'rbf', gamma = 0.1, max_iter = 10000)\n",
        "clf_model = clf.fit(X, y.ravel())\n",
        "\n",
        "predicted_labels = clf.predict(X)\n",
        "print(predicted_labels)\n",
        "\n",
        "train_error = np.sum(0.5 * np.abs(predicted_labels - y.ravel()))/len(y) * 100\n",
        "train_accuracy = 100 - train_error\n",
        "\n",
        "print('train accuracy with gamma = 0.1:', train_accuracy)"
      ],
      "execution_count": 18,
      "outputs": [
        {
          "output_type": "stream",
          "name": "stdout",
          "text": [
            "[ 1  1  1 -1  1 -1  1  1  1 -1  1  1  1  1  1  1  1  1  1 -1  1  1  1  1\n",
            "  1  1  1 -1  1 -1  1  1  1  1  1  1  1  1  1  1  1  1  1  1  1  1  1  1\n",
            " -1  1 -1 -1 -1 -1 -1 -1  1  1 -1 -1  1 -1  1  1  1  1 -1  1 -1 -1  1 -1\n",
            "  1  1 -1 -1  1 -1 -1  1 -1 -1  1  1 -1  1 -1  1  1  1  1  1 -1  1  1 -1\n",
            " -1 -1  1 -1]\n",
            "train accuracy with gamma = 0.1: 69.0\n"
          ]
        }
      ]
    },
    {
      "cell_type": "code",
      "metadata": {
        "colab": {
          "base_uri": "https://localhost:8080/",
          "height": 278
        },
        "id": "KKNCpyAtJWyN",
        "outputId": "331c9b37-8aba-4aeb-e353-bc27f9bbc5d7"
      },
      "source": [
        "h=0.02 #mesh step size\n",
        "x1_min, x1_max = X[:, 0].min() - 1, X[:, 0].max() + 1\n",
        "x2_min, x2_max = X[:, 1].min() - 1, X[:, 1].max() + 1\n",
        "xx1, xx2 = np.meshgrid(np.arange(x1_min, x1_max, h),\n",
        "                     np.arange(x2_min, x2_max, h))\n",
        "\n",
        "Z = clf_model.predict(np.c_[xx1.ravel(), xx2.ravel()])\n",
        "\n",
        "# Put the result into a color plot\n",
        "Z = Z.reshape(xx1.shape)\n",
        "plt.contourf(xx1, xx2, Z, cmap=plt.cm.coolwarm, alpha=0.8)\n",
        "\n",
        "# Plot also the training points\n",
        "#plt.scatter(X[:, 0], X[:, 1], c=y, cmap=plt.cm.coolwarm)\n",
        "plt.scatter(X[:int(num_samples/2),0],X[:int(num_samples/2),1], marker='o', color='red')\n",
        "plt.scatter(X[int(num_samples/2):,0],X[int(num_samples/2):,1], marker='s', color='green')\n",
        "\n",
        "plt.xlabel('x1')\n",
        "plt.ylabel('x2')\n",
        "plt.xlim(xx1.min(), xx1.max())\n",
        "plt.ylim(xx2.min(), xx2.max())\n",
        "plt.xticks(())\n",
        "plt.yticks(())\n",
        "plt.title('Decision boundary from SVM with RBF Kernel with gamma = 0.1')\n",
        "plt.show()"
      ],
      "execution_count": 19,
      "outputs": [
        {
          "output_type": "display_data",
          "data": {
            "image/png": "[encoded data removed]",
            "text/plain": [
              "<Figure size 432x288 with 1 Axes>"
            ]
          },
          "metadata": {}
        }
      ]
    },
    {
      "cell_type": "code",
      "metadata": {
        "colab": {
          "base_uri": "https://localhost:8080/"
        },
        "id": "k8PfOx3zJgc4",
        "outputId": "51ed9125-4c50-4a33-dbe7-61f616357dfc"
      },
      "source": [
        "clf = SVC(kernel = 'rbf', gamma = 1, max_iter = 10000)\n",
        "clf_model = clf.fit(X, y.ravel())\n",
        "\n",
        "predicted_labels = clf.predict(X)\n",
        "print(predicted_labels)\n",
        "\n",
        "train_error = np.sum(0.5 * np.abs(predicted_labels - y.ravel()))/len(y) * 100\n",
        "train_accuracy = 100 - train_error\n",
        "\n",
        "print('train accuracy with gamma = 1:', train_accuracy)"
      ],
      "execution_count": 20,
      "outputs": [
        {
          "output_type": "stream",
          "name": "stdout",
          "text": [
            "[ 1  1  1 -1  1  1  1  1 -1  1  1  1  1  1  1  1  1  1  1 -1  1  1  1  1\n",
            "  1  1  1  1  1 -1  1  1  1  1  1  1  1  1  1  1  1  1  1  1  1  1  1  1\n",
            "  1  1 -1 -1 -1 -1 -1 -1 -1 -1 -1 -1 -1 -1 -1 -1 -1 -1 -1 -1 -1 -1 -1 -1\n",
            " -1 -1 -1 -1 -1 -1 -1 -1 -1 -1 -1 -1 -1 -1 -1 -1 -1 -1 -1 -1 -1 -1 -1 -1\n",
            " -1 -1 -1 -1]\n",
            "train accuracy with gamma = 1: 96.0\n"
          ]
        }
      ]
    },
    {
      "cell_type": "code",
      "metadata": {
        "colab": {
          "base_uri": "https://localhost:8080/",
          "height": 278
        },
        "id": "FXXSiP8xJoRr",
        "outputId": "716aceff-d1d2-4b16-a044-a000008c0816"
      },
      "source": [
        "h=0.02 #mesh step size\n",
        "x1_min, x1_max = X[:, 0].min() - 1, X[:, 0].max() + 1\n",
        "x2_min, x2_max = X[:, 1].min() - 1, X[:, 1].max() + 1\n",
        "xx1, xx2 = np.meshgrid(np.arange(x1_min, x1_max, h),\n",
        "                     np.arange(x2_min, x2_max, h))\n",
        "\n",
        "Z = clf_model.predict(np.c_[xx1.ravel(), xx2.ravel()])\n",
        "\n",
        "# Put the result into a color plot\n",
        "Z = Z.reshape(xx1.shape)\n",
        "plt.contourf(xx1, xx2, Z, cmap=plt.cm.coolwarm, alpha=0.8)\n",
        "\n",
        "# Plot also the training points\n",
        "#plt.scatter(X[:, 0], X[:, 1], c=y, cmap=plt.cm.coolwarm)\n",
        "plt.scatter(X[:int(num_samples/2),0],X[:int(num_samples/2),1], marker='o', color='red')\n",
        "plt.scatter(X[int(num_samples/2):,0],X[int(num_samples/2):,1], marker='s', color='green')\n",
        "\n",
        "plt.xlabel('x1')\n",
        "plt.ylabel('x2')\n",
        "plt.xlim(xx1.min(), xx1.max())\n",
        "plt.ylim(xx2.min(), xx2.max())\n",
        "plt.xticks(())\n",
        "plt.yticks(())\n",
        "plt.title('Decision boundary from SVM with RBF Kernel with gamma = 1')\n",
        "plt.show()"
      ],
      "execution_count": 21,
      "outputs": [
        {
          "output_type": "display_data",
          "data": {
            "image/png": "[encoded data removed]",
            "text/plain": [
              "<Figure size 432x288 with 1 Axes>"
            ]
          },
          "metadata": {}
        }
      ]
    },
    {
      "cell_type": "code",
      "metadata": {
        "colab": {
          "base_uri": "https://localhost:8080/"
        },
        "id": "WWi8n8jDJyFp",
        "outputId": "9d2be615-cce6-4d8e-ca82-e2b45f8a34ec"
      },
      "source": [
        "clf = SVC(kernel = 'rbf', gamma = 25, max_iter = 10000)\n",
        "clf_model = clf.fit(X, y.ravel())\n",
        "\n",
        "predicted_labels = clf.predict(X)\n",
        "print(predicted_labels)\n",
        "\n",
        "train_error = np.sum(0.5 * np.abs(predicted_labels - y.ravel()))/len(y) * 100\n",
        "train_accuracy = 100 - train_error\n",
        "\n",
        "print('train accuracy with gamma = 25:', train_accuracy)"
      ],
      "execution_count": 22,
      "outputs": [
        {
          "output_type": "stream",
          "name": "stdout",
          "text": [
            "[ 1  1  1  1  1  1  1  1  1  1  1  1  1  1  1  1  1  1  1  1  1  1  1  1\n",
            "  1  1  1  1  1  1  1  1  1  1  1 -1  1  1  1  1  1  1  1  1  1  1  1  1\n",
            "  1  1 -1 -1 -1 -1 -1 -1 -1 -1 -1 -1 -1 -1 -1 -1 -1 -1 -1 -1 -1 -1 -1 -1\n",
            " -1 -1 -1 -1 -1 -1 -1 -1 -1 -1 -1 -1 -1 -1 -1 -1 -1 -1  1 -1 -1 -1 -1 -1\n",
            " -1 -1 -1 -1]\n",
            "train accuracy with gamma = 25: 98.0\n"
          ]
        }
      ]
    },
    {
      "cell_type": "code",
      "metadata": {
        "colab": {
          "base_uri": "https://localhost:8080/",
          "height": 278
        },
        "id": "h2WZgiLIJ47T",
        "outputId": "1b7a7542-6219-4338-d6f0-5ea50f522329"
      },
      "source": [
        "h=0.02 #mesh step size\n",
        "x1_min, x1_max = X[:, 0].min() - 1, X[:, 0].max() + 1\n",
        "x2_min, x2_max = X[:, 1].min() - 1, X[:, 1].max() + 1\n",
        "xx1, xx2 = np.meshgrid(np.arange(x1_min, x1_max, h),\n",
        "                     np.arange(x2_min, x2_max, h))\n",
        "\n",
        "Z = clf_model.predict(np.c_[xx1.ravel(), xx2.ravel()])\n",
        "\n",
        "# Put the result into a color plot\n",
        "Z = Z.reshape(xx1.shape)\n",
        "plt.contourf(xx1, xx2, Z, cmap=plt.cm.coolwarm, alpha=0.8)\n",
        "\n",
        "# Plot also the training points\n",
        "#plt.scatter(X[:, 0], X[:, 1], c=y, cmap=plt.cm.coolwarm)\n",
        "plt.scatter(X[:int(num_samples/2),0],X[:int(num_samples/2),1], marker='o', color='red')\n",
        "plt.scatter(X[int(num_samples/2):,0],X[int(num_samples/2):,1], marker='s', color='green')\n",
        "\n",
        "plt.xlabel('x1')\n",
        "plt.ylabel('x2')\n",
        "plt.xlim(xx1.min(), xx1.max())\n",
        "plt.ylim(xx2.min(), xx2.max())\n",
        "plt.xticks(())\n",
        "plt.yticks(())\n",
        "plt.title('Decision boundary from SVM with RBF Kernel with gamma = 25')\n",
        "plt.show()"
      ],
      "execution_count": 23,
      "outputs": [
        {
          "output_type": "display_data",
          "data": {
            "image/png": "[encoded data removed]",
            "text/plain": [
              "<Figure size 432x288 with 1 Axes>"
            ]
          },
          "metadata": {}
        }
      ]
    },
    {
      "cell_type": "code",
      "metadata": {
        "colab": {
          "base_uri": "https://localhost:8080/"
        },
        "id": "vdbNYgEgKBXM",
        "outputId": "7844fa9e-6de9-4e67-ff99-5493b2b4cb5e"
      },
      "source": [
        "clf = SVC(kernel = 'rbf', gamma = 75, max_iter = 10000)\n",
        "clf_model = clf.fit(X, y.ravel())\n",
        "\n",
        "predicted_labels = clf.predict(X)\n",
        "print(predicted_labels)\n",
        "\n",
        "train_error = np.sum(0.5 * np.abs(predicted_labels - y.ravel()))/len(y) * 100\n",
        "train_accuracy = 100 - train_error\n",
        "\n",
        "print('train accuracy with gamma = 75:', train_accuracy)"
      ],
      "execution_count": 24,
      "outputs": [
        {
          "output_type": "stream",
          "name": "stdout",
          "text": [
            "[ 1  1  1  1  1  1  1  1  1  1  1  1  1  1  1  1  1  1  1  1  1  1  1  1\n",
            "  1  1  1  1  1  1  1  1  1  1  1  1  1  1  1  1  1  1  1  1  1  1  1  1\n",
            "  1  1 -1 -1 -1 -1 -1 -1 -1 -1 -1 -1 -1 -1 -1 -1 -1 -1 -1 -1 -1 -1 -1 -1\n",
            " -1 -1 -1 -1 -1 -1 -1 -1 -1 -1 -1 -1 -1 -1 -1 -1 -1 -1 -1 -1 -1 -1 -1 -1\n",
            " -1 -1 -1 -1]\n",
            "train accuracy with gamma = 75: 100.0\n"
          ]
        }
      ]
    },
    {
      "cell_type": "code",
      "metadata": {
        "colab": {
          "base_uri": "https://localhost:8080/",
          "height": 278
        },
        "id": "8SURc6_CKKfN",
        "outputId": "7e584524-65cc-434b-89ef-dc0d117d5c47"
      },
      "source": [
        "h=0.02 #mesh step size\n",
        "x1_min, x1_max = X[:, 0].min() - 1, X[:, 0].max() + 1\n",
        "x2_min, x2_max = X[:, 1].min() - 1, X[:, 1].max() + 1\n",
        "xx1, xx2 = np.meshgrid(np.arange(x1_min, x1_max, h),\n",
        "                     np.arange(x2_min, x2_max, h))\n",
        "\n",
        "Z = clf_model.predict(np.c_[xx1.ravel(), xx2.ravel()])\n",
        "\n",
        "# Put the result into a color plot\n",
        "Z = Z.reshape(xx1.shape)\n",
        "plt.contourf(xx1, xx2, Z, cmap=plt.cm.coolwarm, alpha=0.8)\n",
        "\n",
        "# Plot also the training points\n",
        "#plt.scatter(X[:, 0], X[:, 1], c=y, cmap=plt.cm.coolwarm)\n",
        "plt.scatter(X[:int(num_samples/2),0],X[:int(num_samples/2),1], marker='o', color='red')\n",
        "plt.scatter(X[int(num_samples/2):,0],X[int(num_samples/2):,1], marker='s', color='green')\n",
        "\n",
        "plt.xlabel('x1')\n",
        "plt.ylabel('x2')\n",
        "plt.xlim(xx1.min(), xx1.max())\n",
        "plt.ylim(xx2.min(), xx2.max())\n",
        "plt.xticks(())\n",
        "plt.yticks(())\n",
        "plt.title('Decision boundary from SVM with RBF Kernel with gamma = 75')\n",
        "plt.show()"
      ],
      "execution_count": 26,
      "outputs": [
        {
          "output_type": "display_data",
          "data": {
            "image/png": "[encoded data removed]",
            "text/plain": [
              "<Figure size 432x288 with 1 Axes>"
            ]
          },
          "metadata": {}
        }
      ]
    },
    {
      "cell_type": "code",
      "metadata": {
        "colab": {
          "base_uri": "https://localhost:8080/"
        },
        "id": "aThFG7rlKS3B",
        "outputId": "7df900e3-98ca-4db2-e4f9-6708754e1531"
      },
      "source": [
        "clf = SVC(kernel = 'rbf', gamma = 100, max_iter = 10000)\n",
        "clf_model = clf.fit(X, y.ravel())\n",
        "\n",
        "predicted_labels = clf.predict(X)\n",
        "print(predicted_labels)\n",
        "\n",
        "train_error = np.sum(0.5 * np.abs(predicted_labels - y.ravel()))/len(y) * 100\n",
        "train_accuracy = 100 - train_error\n",
        "\n",
        "print('train accuracy with gamma = 100:', train_accuracy)"
      ],
      "execution_count": 27,
      "outputs": [
        {
          "output_type": "stream",
          "name": "stdout",
          "text": [
            "[ 1  1  1  1  1  1  1  1  1  1  1  1  1  1  1  1  1  1  1  1  1  1  1  1\n",
            "  1  1  1  1  1  1  1  1  1  1  1  1  1  1  1  1  1  1  1  1  1  1  1  1\n",
            "  1  1 -1 -1 -1 -1 -1 -1 -1 -1 -1 -1 -1 -1 -1 -1 -1 -1 -1 -1 -1 -1 -1 -1\n",
            " -1 -1 -1 -1 -1 -1 -1 -1 -1 -1 -1 -1 -1 -1 -1 -1 -1 -1 -1 -1 -1 -1 -1 -1\n",
            " -1 -1 -1 -1]\n",
            "train accuracy with gamma = 100: 100.0\n"
          ]
        }
      ]
    },
    {
      "cell_type": "code",
      "metadata": {
        "colab": {
          "base_uri": "https://localhost:8080/",
          "height": 278
        },
        "id": "l04VhzmdKZr-",
        "outputId": "782019b0-6cb3-42f6-ca2e-f34a6bb1fda2"
      },
      "source": [
        "h=0.02 #mesh step size\n",
        "x1_min, x1_max = X[:, 0].min() - 1, X[:, 0].max() + 1\n",
        "x2_min, x2_max = X[:, 1].min() - 1, X[:, 1].max() + 1\n",
        "xx1, xx2 = np.meshgrid(np.arange(x1_min, x1_max, h),\n",
        "                     np.arange(x2_min, x2_max, h))\n",
        "\n",
        "Z = clf_model.predict(np.c_[xx1.ravel(), xx2.ravel()])\n",
        "\n",
        "# Put the result into a color plot\n",
        "Z = Z.reshape(xx1.shape)\n",
        "plt.contourf(xx1, xx2, Z, cmap=plt.cm.coolwarm, alpha=0.8)\n",
        "\n",
        "# Plot also the training points\n",
        "#plt.scatter(X[:, 0], X[:, 1], c=y, cmap=plt.cm.coolwarm)\n",
        "plt.scatter(X[:int(num_samples/2),0],X[:int(num_samples/2),1], marker='o', color='red')\n",
        "plt.scatter(X[int(num_samples/2):,0],X[int(num_samples/2):,1], marker='s', color='green')\n",
        "\n",
        "plt.xlabel('x1')\n",
        "plt.ylabel('x2')\n",
        "plt.xlim(xx1.min(), xx1.max())\n",
        "plt.ylim(xx2.min(), xx2.max())\n",
        "plt.xticks(())\n",
        "plt.yticks(())\n",
        "plt.title('Decision boundary from SVM with RBF Kernel with gamma = 100')\n",
        "plt.show()"
      ],
      "execution_count": 28,
      "outputs": [
        {
          "output_type": "display_data",
          "data": {
            "image/png": "[encoded data removed]",
            "text/plain": [
              "<Figure size 432x288 with 1 Axes>"
            ]
          },
          "metadata": {}
        }
      ]
    }
  ]
}