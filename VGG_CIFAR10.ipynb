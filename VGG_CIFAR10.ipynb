{
  "nbformat": 4,
  "nbformat_minor": 0,
  "metadata": {
    "colab": {
      "name": "Untitled13.ipynb",
      "provenance": [],
      "authorship_tag": "ABX9TyNRZm3z0vpFn4muUt9zXOWJ",
      "include_colab_link": true
    },
    "kernelspec": {
      "name": "python3",
      "display_name": "Python 3"
    },
    "language_info": {
      "name": "python"
    },
    "widgets": {
      "application/vnd.jupyter.widget-state+json": {
        "4d3c842cb5424eb2af409064bd882a8d": {
          "model_module": "@jupyter-widgets/controls",
          "model_name": "HBoxModel",
          "model_module_version": "1.5.0",
          "state": {
            "_view_name": "HBoxView",
            "_dom_classes": [],
            "_model_name": "HBoxModel",
            "_view_module": "@jupyter-widgets/controls",
            "_model_module_version": "1.5.0",
            "_view_count": null,
            "_view_module_version": "1.5.0",
            "box_style": "",
            "layout": "IPY_MODEL_1b4a07fc038e45449413437900ade19d",
            "_model_module": "@jupyter-widgets/controls",
            "children": [
              "IPY_MODEL_5d8dc2a57123469a9fa2dec472b31c06",
              "IPY_MODEL_099ee98c87a0462fb529162e2f03c12f",
              "IPY_MODEL_727db0002ecd4231bf60d62dd4fd0381"
            ]
          }
        },
        "1b4a07fc038e45449413437900ade19d": {
          "model_module": "@jupyter-widgets/base",
          "model_name": "LayoutModel",
          "model_module_version": "1.2.0",
          "state": {
            "_view_name": "LayoutView",
            "grid_template_rows": null,
            "right": null,
            "justify_content": null,
            "_view_module": "@jupyter-widgets/base",
            "overflow": null,
            "_model_module_version": "1.2.0",
            "_view_count": null,
            "flex_flow": null,
            "width": null,
            "min_width": null,
            "border": null,
            "align_items": null,
            "bottom": null,
            "_model_module": "@jupyter-widgets/base",
            "top": null,
            "grid_column": null,
            "overflow_y": null,
            "overflow_x": null,
            "grid_auto_flow": null,
            "grid_area": null,
            "grid_template_columns": null,
            "flex": null,
            "_model_name": "LayoutModel",
            "justify_items": null,
            "grid_row": null,
            "max_height": null,
            "align_content": null,
            "visibility": null,
            "align_self": null,
            "height": null,
            "min_height": null,
            "padding": null,
            "grid_auto_rows": null,
            "grid_gap": null,
            "max_width": null,
            "order": null,
            "_view_module_version": "1.2.0",
            "grid_template_areas": null,
            "object_position": null,
            "object_fit": null,
            "grid_auto_columns": null,
            "margin": null,
            "display": null,
            "left": null
          }
        },
        "5d8dc2a57123469a9fa2dec472b31c06": {
          "model_module": "@jupyter-widgets/controls",
          "model_name": "HTMLModel",
          "model_module_version": "1.5.0",
          "state": {
            "_view_name": "HTMLView",
            "style": "IPY_MODEL_35f8485daf364489ad0320fb638f55a8",
            "_dom_classes": [],
            "description": "",
            "_model_name": "HTMLModel",
            "placeholder": "​",
            "_view_module": "@jupyter-widgets/controls",
            "_model_module_version": "1.5.0",
            "value": "",
            "_view_count": null,
            "_view_module_version": "1.5.0",
            "description_tooltip": null,
            "_model_module": "@jupyter-widgets/controls",
            "layout": "IPY_MODEL_99189b2f55ef45438ccfa34f8ea206c7"
          }
        },
        "099ee98c87a0462fb529162e2f03c12f": {
          "model_module": "@jupyter-widgets/controls",
          "model_name": "FloatProgressModel",
          "model_module_version": "1.5.0",
          "state": {
            "_view_name": "ProgressView",
            "style": "IPY_MODEL_b00cfa9133be44488630cd48facdf378",
            "_dom_classes": [],
            "description": "",
            "_model_name": "FloatProgressModel",
            "bar_style": "success",
            "max": 170498071,
            "_view_module": "@jupyter-widgets/controls",
            "_model_module_version": "1.5.0",
            "value": 170498071,
            "_view_count": null,
            "_view_module_version": "1.5.0",
            "orientation": "horizontal",
            "min": 0,
            "description_tooltip": null,
            "_model_module": "@jupyter-widgets/controls",
            "layout": "IPY_MODEL_1d5e8521f6394772b2d45c58e82f05fb"
          }
        },
        "727db0002ecd4231bf60d62dd4fd0381": {
          "model_module": "@jupyter-widgets/controls",
          "model_name": "HTMLModel",
          "model_module_version": "1.5.0",
          "state": {
            "_view_name": "HTMLView",
            "style": "IPY_MODEL_6ca03de01b7a4b9195f699c017cb060a",
            "_dom_classes": [],
            "description": "",
            "_model_name": "HTMLModel",
            "placeholder": "​",
            "_view_module": "@jupyter-widgets/controls",
            "_model_module_version": "1.5.0",
            "value": " 170499072/? [00:11&lt;00:00, 16836516.05it/s]",
            "_view_count": null,
            "_view_module_version": "1.5.0",
            "description_tooltip": null,
            "_model_module": "@jupyter-widgets/controls",
            "layout": "IPY_MODEL_4862a6554a444d9db8e8d6662f0aac69"
          }
        },
        "35f8485daf364489ad0320fb638f55a8": {
          "model_module": "@jupyter-widgets/controls",
          "model_name": "DescriptionStyleModel",
          "model_module_version": "1.5.0",
          "state": {
            "_view_name": "StyleView",
            "_model_name": "DescriptionStyleModel",
            "description_width": "",
            "_view_module": "@jupyter-widgets/base",
            "_model_module_version": "1.5.0",
            "_view_count": null,
            "_view_module_version": "1.2.0",
            "_model_module": "@jupyter-widgets/controls"
          }
        },
        "99189b2f55ef45438ccfa34f8ea206c7": {
          "model_module": "@jupyter-widgets/base",
          "model_name": "LayoutModel",
          "model_module_version": "1.2.0",
          "state": {
            "_view_name": "LayoutView",
            "grid_template_rows": null,
            "right": null,
            "justify_content": null,
            "_view_module": "@jupyter-widgets/base",
            "overflow": null,
            "_model_module_version": "1.2.0",
            "_view_count": null,
            "flex_flow": null,
            "width": null,
            "min_width": null,
            "border": null,
            "align_items": null,
            "bottom": null,
            "_model_module": "@jupyter-widgets/base",
            "top": null,
            "grid_column": null,
            "overflow_y": null,
            "overflow_x": null,
            "grid_auto_flow": null,
            "grid_area": null,
            "grid_template_columns": null,
            "flex": null,
            "_model_name": "LayoutModel",
            "justify_items": null,
            "grid_row": null,
            "max_height": null,
            "align_content": null,
            "visibility": null,
            "align_self": null,
            "height": null,
            "min_height": null,
            "padding": null,
            "grid_auto_rows": null,
            "grid_gap": null,
            "max_width": null,
            "order": null,
            "_view_module_version": "1.2.0",
            "grid_template_areas": null,
            "object_position": null,
            "object_fit": null,
            "grid_auto_columns": null,
            "margin": null,
            "display": null,
            "left": null
          }
        },
        "b00cfa9133be44488630cd48facdf378": {
          "model_module": "@jupyter-widgets/controls",
          "model_name": "ProgressStyleModel",
          "model_module_version": "1.5.0",
          "state": {
            "_view_name": "StyleView",
            "_model_name": "ProgressStyleModel",
            "description_width": "",
            "_view_module": "@jupyter-widgets/base",
            "_model_module_version": "1.5.0",
            "_view_count": null,
            "_view_module_version": "1.2.0",
            "bar_color": null,
            "_model_module": "@jupyter-widgets/controls"
          }
        },
        "1d5e8521f6394772b2d45c58e82f05fb": {
          "model_module": "@jupyter-widgets/base",
          "model_name": "LayoutModel",
          "model_module_version": "1.2.0",
          "state": {
            "_view_name": "LayoutView",
            "grid_template_rows": null,
            "right": null,
            "justify_content": null,
            "_view_module": "@jupyter-widgets/base",
            "overflow": null,
            "_model_module_version": "1.2.0",
            "_view_count": null,
            "flex_flow": null,
            "width": null,
            "min_width": null,
            "border": null,
            "align_items": null,
            "bottom": null,
            "_model_module": "@jupyter-widgets/base",
            "top": null,
            "grid_column": null,
            "overflow_y": null,
            "overflow_x": null,
            "grid_auto_flow": null,
            "grid_area": null,
            "grid_template_columns": null,
            "flex": null,
            "_model_name": "LayoutModel",
            "justify_items": null,
            "grid_row": null,
            "max_height": null,
            "align_content": null,
            "visibility": null,
            "align_self": null,
            "height": null,
            "min_height": null,
            "padding": null,
            "grid_auto_rows": null,
            "grid_gap": null,
            "max_width": null,
            "order": null,
            "_view_module_version": "1.2.0",
            "grid_template_areas": null,
            "object_position": null,
            "object_fit": null,
            "grid_auto_columns": null,
            "margin": null,
            "display": null,
            "left": null
          }
        },
        "6ca03de01b7a4b9195f699c017cb060a": {
          "model_module": "@jupyter-widgets/controls",
          "model_name": "DescriptionStyleModel",
          "model_module_version": "1.5.0",
          "state": {
            "_view_name": "StyleView",
            "_model_name": "DescriptionStyleModel",
            "description_width": "",
            "_view_module": "@jupyter-widgets/base",
            "_model_module_version": "1.5.0",
            "_view_count": null,
            "_view_module_version": "1.2.0",
            "_model_module": "@jupyter-widgets/controls"
          }
        },
        "4862a6554a444d9db8e8d6662f0aac69": {
          "model_module": "@jupyter-widgets/base",
          "model_name": "LayoutModel",
          "model_module_version": "1.2.0",
          "state": {
            "_view_name": "LayoutView",
            "grid_template_rows": null,
            "right": null,
            "justify_content": null,
            "_view_module": "@jupyter-widgets/base",
            "overflow": null,
            "_model_module_version": "1.2.0",
            "_view_count": null,
            "flex_flow": null,
            "width": null,
            "min_width": null,
            "border": null,
            "align_items": null,
            "bottom": null,
            "_model_module": "@jupyter-widgets/base",
            "top": null,
            "grid_column": null,
            "overflow_y": null,
            "overflow_x": null,
            "grid_auto_flow": null,
            "grid_area": null,
            "grid_template_columns": null,
            "flex": null,
            "_model_name": "LayoutModel",
            "justify_items": null,
            "grid_row": null,
            "max_height": null,
            "align_content": null,
            "visibility": null,
            "align_self": null,
            "height": null,
            "min_height": null,
            "padding": null,
            "grid_auto_rows": null,
            "grid_gap": null,
            "max_width": null,
            "order": null,
            "_view_module_version": "1.2.0",
            "grid_template_areas": null,
            "object_position": null,
            "object_fit": null,
            "grid_auto_columns": null,
            "margin": null,
            "display": null,
            "left": null
          }
        }
      }
    }
  },
  "cells": [
    {
      "cell_type": "markdown",
      "metadata": {
        "id": "view-in-github",
        "colab_type": "text"
      },
      "source": [
        "<a href=\"https://colab.research.google.com/github/vinodnbhat/AIML-CEP-2021-Assignments/blob/main/VGG_CIFAR10.ipynb\" target=\"_parent\"><img src=\"https://colab.research.google.com/assets/colab-badge.svg\" alt=\"Open In Colab\"/></a>"
      ]
    },
    {
      "cell_type": "code",
      "execution_count": 2,
      "metadata": {
        "id": "hBeA9dgkr_WF"
      },
      "outputs": [],
      "source": [
        "# Import required libraries\n",
        "import torch\n",
        "import torch.nn as nn\n",
        "import torch.nn.functional as F\n",
        "import torch.optim as optim\n",
        "import torch.utils.data as data\n",
        "import torch.optim.lr_scheduler as lr_scheduler\n",
        "import torchvision.transforms as transforms\n",
        "import torchvision.datasets as datasets\n",
        "import matplotlib.pyplot as plt\n",
        "import numpy as np\n",
        "import random\n",
        "import time"
      ]
    },
    {
      "cell_type": "code",
      "source": [
        "SEED = 1234\n",
        "random.seed(SEED)\n",
        "np.random.seed(SEED)\n",
        "torch.manual_seed(SEED)\n",
        "torch.cuda.manual_seed(SEED)"
      ],
      "metadata": {
        "id": "IiFPz9Mdsxw2"
      },
      "execution_count": 3,
      "outputs": []
    },
    {
      "cell_type": "markdown",
      "source": [
        "**CIFAR Dataset**"
      ],
      "metadata": {
        "id": "05z5qTpjtbQs"
      }
    },
    {
      "cell_type": "code",
      "source": [
        "ROOT = '.data'\n",
        "\n",
        "# Downloading Cifar10 dataset from torchvision datasets\n",
        "train_data = datasets.CIFAR10(root = ROOT,\n",
        "                              train = True,\n",
        "                              download = True)\n",
        "\n",
        "mean = train_data.data.mean() / 255\n",
        "std = train_data.data.std() / 255\n",
        "\n",
        "print(f'Calculated mean: {mean}')\n",
        "print(f'Calculated std: {std}')"
      ],
      "metadata": {
        "colab": {
          "base_uri": "https://localhost:8080/",
          "height": 118,
          "referenced_widgets": [
            "4d3c842cb5424eb2af409064bd882a8d",
            "1b4a07fc038e45449413437900ade19d",
            "5d8dc2a57123469a9fa2dec472b31c06",
            "099ee98c87a0462fb529162e2f03c12f",
            "727db0002ecd4231bf60d62dd4fd0381",
            "35f8485daf364489ad0320fb638f55a8",
            "99189b2f55ef45438ccfa34f8ea206c7",
            "b00cfa9133be44488630cd48facdf378",
            "1d5e8521f6394772b2d45c58e82f05fb",
            "6ca03de01b7a4b9195f699c017cb060a",
            "4862a6554a444d9db8e8d6662f0aac69"
          ]
        },
        "id": "TjiaNSpctevC",
        "outputId": "6d642fd7-f144-4b31-d3fc-6681b0bcc589"
      },
      "execution_count": 4,
      "outputs": [
        {
          "output_type": "stream",
          "name": "stdout",
          "text": [
            "Downloading https://www.cs.toronto.edu/~kriz/cifar-10-python.tar.gz to .data/cifar-10-python.tar.gz\n"
          ]
        },
        {
          "output_type": "display_data",
          "data": {
            "application/vnd.jupyter.widget-view+json": {
              "model_id": "4d3c842cb5424eb2af409064bd882a8d",
              "version_minor": 0,
              "version_major": 2
            },
            "text/plain": [
              "  0%|          | 0/170498071 [00:00<?, ?it/s]"
            ]
          },
          "metadata": {}
        },
        {
          "output_type": "stream",
          "name": "stdout",
          "text": [
            "Extracting .data/cifar-10-python.tar.gz to .data\n",
            "Calculated mean: 0.4733630004850899\n",
            "Calculated std: 0.2515689250632208\n"
          ]
        }
      ]
    },
    {
      "cell_type": "code",
      "source": [
        "print(train_data.data.shape)"
      ],
      "metadata": {
        "colab": {
          "base_uri": "https://localhost:8080/"
        },
        "id": "w68Aijbaulm8",
        "outputId": "7ade5ef8-4c9a-4fec-a056-e4cc723c09a3"
      },
      "execution_count": 5,
      "outputs": [
        {
          "output_type": "stream",
          "name": "stdout",
          "text": [
            "(50000, 32, 32, 3)\n"
          ]
        }
      ]
    },
    {
      "cell_type": "code",
      "source": [
        "train_transforms = transforms.Compose([\n",
        "                                       transforms.ToTensor(),\n",
        "                                       transforms.Normalize(mean = [mean], std = [std])\n",
        "                                      ])\n",
        "\n",
        "test_transforms = transforms.Compose([\n",
        "                                       transforms.ToTensor(),\n",
        "                                       transforms.Normalize(mean = [mean], std = [std])\n",
        "                                      ])"
      ],
      "metadata": {
        "id": "ZSgpUyfOuquB"
      },
      "execution_count": 6,
      "outputs": []
    },
    {
      "cell_type": "code",
      "source": [
        "train_set = datasets.CIFAR10(root = ROOT,\n",
        "                             train = True,\n",
        "                             download = True,\n",
        "                             transform = train_transforms)\n",
        "\n",
        "test_set = datasets.CIFAR10(root = ROOT,\n",
        "                             train = False,\n",
        "                             download = True,\n",
        "                             transform = train_transforms)"
      ],
      "metadata": {
        "colab": {
          "base_uri": "https://localhost:8080/"
        },
        "id": "JQdKtCd9wgkX",
        "outputId": "71325d21-97a8-42b1-fd4b-f3e41ce37075"
      },
      "execution_count": 7,
      "outputs": [
        {
          "output_type": "stream",
          "name": "stdout",
          "text": [
            "Files already downloaded and verified\n",
            "Files already downloaded and verified\n"
          ]
        }
      ]
    },
    {
      "cell_type": "code",
      "source": [
        "print(train_set.data.shape)"
      ],
      "metadata": {
        "colab": {
          "base_uri": "https://localhost:8080/"
        },
        "id": "Yxs3ouZjw4fS",
        "outputId": "5e3139af-7ba9-4935-dfc9-47c96093abc2"
      },
      "execution_count": 8,
      "outputs": [
        {
          "output_type": "stream",
          "name": "stdout",
          "text": [
            "(50000, 32, 32, 3)\n"
          ]
        }
      ]
    },
    {
      "cell_type": "code",
      "source": [
        "print(test_set.data.shape)"
      ],
      "metadata": {
        "colab": {
          "base_uri": "https://localhost:8080/"
        },
        "id": "r1FgDuYHxAE2",
        "outputId": "581c3e82-c90b-4d48-a79f-9e050c6f37aa"
      },
      "execution_count": 9,
      "outputs": [
        {
          "output_type": "stream",
          "name": "stdout",
          "text": [
            "(10000, 32, 32, 3)\n"
          ]
        }
      ]
    },
    {
      "cell_type": "code",
      "source": [
        "print(f'Number of training samples: {len(train_set)}')\n",
        "print(f'Number of testing samples: {len(test_set)}')"
      ],
      "metadata": {
        "colab": {
          "base_uri": "https://localhost:8080/"
        },
        "id": "t8weFq34xCyQ",
        "outputId": "8f06652d-cbe5-460e-ab2b-2e78cd09494f"
      },
      "execution_count": 11,
      "outputs": [
        {
          "output_type": "stream",
          "name": "stdout",
          "text": [
            "Number of training samples: 50000\n",
            "Number of testing samples: 10000\n"
          ]
        }
      ]
    },
    {
      "cell_type": "code",
      "source": [
        "batch_size = 64\n",
        "\n",
        "train_loader = data.DataLoader(train_set,\n",
        "                               shuffle = True,\n",
        "                               batch_size = batch_size)\n",
        "\n",
        "test_loader = data.DataLoader(test_set,\n",
        "                              batch_size = batch_size)"
      ],
      "metadata": {
        "id": "aTsg_g0SxTQS"
      },
      "execution_count": 12,
      "outputs": []
    },
    {
      "cell_type": "code",
      "source": [
        "# Checking the bacth dimensions\n",
        "for images, labels in train_loader:\n",
        "  print('Image batch dimensions:', images.shape)\n",
        "  print('Label batch dimensions:', labels.shape)\n",
        "  break"
      ],
      "metadata": {
        "colab": {
          "base_uri": "https://localhost:8080/"
        },
        "id": "U49GfWbWzYq9",
        "outputId": "654be673-5a9a-4d6c-aa72-0e57c798ee0e"
      },
      "execution_count": 13,
      "outputs": [
        {
          "output_type": "stream",
          "name": "stdout",
          "text": [
            "Image batch dimensions: torch.Size([64, 3, 32, 32])\n",
            "Label batch dimensions: torch.Size([64])\n"
          ]
        }
      ]
    },
    {
      "cell_type": "code",
      "source": [
        "### Model Settings ###\n",
        "\n",
        "# Hyperparameters\n",
        "learning_rate = 0.01\n",
        "\n",
        "# Architecture\n",
        "num_classes = 10"
      ],
      "metadata": {
        "id": "9aC9r9Zo0Ug9"
      },
      "execution_count": 14,
      "outputs": []
    },
    {
      "cell_type": "code",
      "source": [
        "class VGG(nn.Module):\n",
        "  def two_conv_pools(self, in_channels, f1, f2):\n",
        "    s = nn.Sequential(\n",
        "        nn.Conv2d(in_channels, f1, kernel_size = 3, stride = 1, padding = 1),\n",
        "        nn.BatchNorm2d(f1),\n",
        "        nn.ReLU(inplace = True),\n",
        "        nn.Conv2d(f1, f2, kernel_size = 3, stride = 1, padding = 1),\n",
        "        nn.BatchNorm2d(f2),\n",
        "        nn.ReLU(inplace = True),\n",
        "        nn.MaxPool2d(kernel_size = 2, stride = 2),\n",
        "    )\n",
        "    return s\n",
        "\n",
        "  def three_conv_pools(self, in_channels, f1, f2, f3):\n",
        "    s = nn.Sequential(\n",
        "        nn.Conv2d(in_channels, f1, kernel_size = 3, stride = 1, padding = 1),\n",
        "        nn.BatchNorm2d(f1),\n",
        "        nn.ReLU(inplace = True),\n",
        "        nn.Conv2d(f1, f2, kernel_size = 3, stride = 1, padding = 1),\n",
        "        nn.BatchNorm2d(f2),\n",
        "        nn.ReLU(inplace = True),\n",
        "        nn.Conv2d(f2, f3, kernel_size = 3, stride = 1, padding = 1),\n",
        "        nn.BatchNorm2d(f3),\n",
        "        nn.ReLU(inplace = True),\n",
        "        nn.MaxPool2d(kernel_size = 2, stride = 2),\n",
        "    )\n",
        "    return s  \n",
        "\n",
        "  def __init__(self, num_classes = 10):\n",
        "    super(VGG, self).__init__()\n",
        "    self.l1 = self.two_conv_pools(3, 16, 16)            #32x32x3 => 32x32x(f1=16) => 32x32x(f2=16) => 16x16x(f2=16) \n",
        "    self.l2 = self.two_conv_pools(16, 32, 32)           #16x16x16 => 16x16x(f1=32) => 16x16x(f2=32) => 8x8x(f2=32)\n",
        "    self.l3 = self.three_conv_pools(32, 64, 64, 64)     #8x8x32 => 8x8x64 => 8x8x64 => 8x8x64=> 4x4x64\n",
        "    self.l4 = self.three_conv_pools(64, 64, 64, 64)     #4x4x64 => 4x4x64 => 4x4x64 => 4x4x64 => 2x2x64\n",
        "\n",
        "    self.classifier = nn.Sequential(\n",
        "        nn.Linear(64 * 2 *2, 32),\n",
        "        nn.BatchNorm1d(32),\n",
        "        nn.ReLU(inplace = True),\n",
        "        nn.Dropout(p = 0.5),\n",
        "        nn.Linear(32, num_classes),\n",
        "    )\n",
        "\n",
        "  def forward(self, x):\n",
        "    x =self.l1(x)\n",
        "    x = self.l2(x)\n",
        "    x = self.l3(x)\n",
        "    x = self.l4(x)\n",
        "    x = x.view(x.size(0), -1)\n",
        "    x = self.classifier(x)\n",
        "    logits = x\n",
        "    probas = F.log_softmax(x, dim = 1)\n",
        "    return logits, probas"
      ],
      "metadata": {
        "id": "31w73zBL7VET"
      },
      "execution_count": 16,
      "outputs": []
    },
    {
      "cell_type": "code",
      "source": [
        "# Initialize the model\n",
        "model = VGG()"
      ],
      "metadata": {
        "id": "aKmYkT8r_-cW"
      },
      "execution_count": 17,
      "outputs": []
    },
    {
      "cell_type": "code",
      "source": [
        "def count_parameters(model):\n",
        "  return sum(p.numel() for p in model.parameters() if p.requires_grad)\n",
        "\n",
        "print(f'The model has {count_parameters(model):,} trainable parameters')"
      ],
      "metadata": {
        "colab": {
          "base_uri": "https://localhost:8080/"
        },
        "id": "10uUJd52AbMF",
        "outputId": "d347f401-f8a1-4745-9ae9-edcc751c1218"
      },
      "execution_count": 18,
      "outputs": [
        {
          "output_type": "stream",
          "name": "stdout",
          "text": [
            "The model has 229,370 trainable parameters\n"
          ]
        }
      ]
    },
    {
      "cell_type": "code",
      "source": [
        "optimizer = torch.optim.Adam(model.parameters(), lr =learning_rate)"
      ],
      "metadata": {
        "id": "RC4u7pX8BlLb"
      },
      "execution_count": 19,
      "outputs": []
    },
    {
      "cell_type": "code",
      "source": [
        "lossfn = nn.CrossEntropyLoss()"
      ],
      "metadata": {
        "id": "InjqCLPuCYiq"
      },
      "execution_count": 20,
      "outputs": []
    },
    {
      "cell_type": "code",
      "source": [
        "if torch.cuda.is_available():\n",
        "  print('cuda is available. Using cuda..')\n",
        "else:\n",
        "  print('cuda is not available. Using CPU..')\n",
        "\n",
        "device = torch.device('cuda' if torch.cuda.is_available() else 'cpu')"
      ],
      "metadata": {
        "colab": {
          "base_uri": "https://localhost:8080/"
        },
        "id": "F3_n7dkACfTF",
        "outputId": "6cd85464-1da5-42f0-fd30-7a43a6b3601c"
      },
      "execution_count": 21,
      "outputs": [
        {
          "output_type": "stream",
          "name": "stdout",
          "text": [
            "cuda is not available. Using CPU..\n"
          ]
        }
      ]
    },
    {
      "cell_type": "code",
      "source": [
        "model = model.to(device)\n",
        "lossfn = lossfn.to(device)"
      ],
      "metadata": {
        "id": "YwUfk5vUDxrj"
      },
      "execution_count": 22,
      "outputs": []
    },
    {
      "cell_type": "code",
      "source": [
        "def epoch_time(start_time, end_time):\n",
        "  elapsed_time = end_time - start_time\n",
        "  elapsed_mins = int(elapsed_time / 60)\n",
        "  elapsed_secs = elapsed_time - (elapsed_mins * 60)\n",
        "  return elapsed_mins, elapsed_secs"
      ],
      "metadata": {
        "id": "eHTDn7ssExWq"
      },
      "execution_count": 23,
      "outputs": []
    },
    {
      "cell_type": "code",
      "source": [
        "# Compute the Accuracy\n",
        "def calculate_accuracy(y_pred, y):\n",
        "  top_pred = y_pred.argmax(1, keepdim = True)\n",
        "  correct = top_pred.eq(y.view_as(top_pred)).sum()\n",
        "  acc = correct.float() / y.shape[0]\n",
        "  return acc"
      ],
      "metadata": {
        "id": "ynTwp8wmFMKO"
      },
      "execution_count": 24,
      "outputs": []
    },
    {
      "cell_type": "code",
      "source": [
        "def train(model, iterator, optimizer, criterion, device):\n",
        "  epoch_loss = 0\n",
        "  epoch_acc = 0\n",
        "\n",
        "  model.train()\n",
        "\n",
        "  for (x, y) in iterator:\n",
        "\n",
        "    x = x.to(device)\n",
        "    y = y.to(device)\n",
        "\n",
        "    optimizer.zero_grad()\n",
        "\n",
        "    y_pred_logits, y_pred_probas = model(x)\n",
        "\n",
        "    loss = lossfn(y_pred_logits, y)\n",
        "\n",
        "    acc = calculate_accuracy(y_pred_probas, y)\n",
        "\n",
        "    loss.backward()\n",
        "\n",
        "    optimizer.step()\n",
        "\n",
        "    epoch_loss += loss.item()\n",
        "    epoch_acc += acc.item()\n",
        "\n",
        "  return epoch_loss / len(iterator), epoch_acc / len(iterator)"
      ],
      "metadata": {
        "id": "m0rI4fAuH0Cs"
      },
      "execution_count": 25,
      "outputs": []
    },
    {
      "cell_type": "code",
      "source": [
        "def eval(model, iterator, criterion, device):\n",
        "  epoch_loss = 0\n",
        "  epoch_acc = 0\n",
        "\n",
        "  model.eval()\n",
        "\n",
        "  with torch.no_grad():\n",
        "\n",
        "    for (x, y) in iterator:\n",
        "\n",
        "      x = x.to(device)\n",
        "      y = y.to(device)\n",
        "\n",
        "      y_pred_logits, y_pred_probas = model(x)\n",
        "\n",
        "      loss = lossfn(y_pred_logits, y)\n",
        "\n",
        "      acc = calculate_accuracy(y_pred_probas, y)\n",
        "\n",
        "      epoch_loss += loss.item()\n",
        "      epoch_acc += acc.item()\n",
        "\n",
        "  return epoch_loss / len(iterator), epoch_acc / len(iterator)"
      ],
      "metadata": {
        "id": "3d75x5-lQn-e"
      },
      "execution_count": 26,
      "outputs": []
    },
    {
      "cell_type": "code",
      "source": [
        "save_model = False\n",
        "EPOCHS = 40\n",
        "\n",
        "patience_early_stopping = 3 #training will stop if model performance does not improve for these many consecutive epochs\n",
        "count = 0 #counter for checking patience level\n",
        "\n",
        "prev_test_acc = 0 #initializing prev test accuracy for early stopping condition\n",
        "scheduler = lr_scheduler.ReduceLROnPlateau(optimizer, mode = 'max', factor = 0.2, patience = 1) #learning rate scheduler, update learning rate by \n",
        "#factor of 0.2 if test accuracy does not improve for patience+1 consecutive epochs\n",
        "\n",
        "for epoch in range(EPOCHS):\n",
        "  print(\"\\nLearning rate for epoch {0}: {1}\".format(epoch+1, optimizer.state_dict()['param_groups'][0]['lr']))\n",
        "  start_time = time.perf_counter()\n",
        "\n",
        "  train_loss, train_acc = train(model, train_loader, optimizer, lossfn, device)\n",
        "  \n",
        "  if save_model:\n",
        "    torch.save(model.state.dict(), 'vgg_model.pt')\n",
        "\n",
        "  if epoch % 1 == 0: #for every epoch we shall compute the test accuracy\n",
        "    test_loss, test_acc = eval(model, test_loader, lossfn, device)\n",
        "\n",
        "    if test_acc > prev_test_acc: #check if test accuracy for current epoch has improved compared to previous epoch\n",
        "      count = 0 #if accuracy improves reset counter to 0\n",
        "    else:\n",
        "      count += 1 #otherwise increment current counter\n",
        "\n",
        "    prev_test_acc = test_acc\n",
        "\n",
        "  scheduler.step(test_acc) #updates learning rate\n",
        "\n",
        "  end_time = time.perf_counter()\n",
        "\n",
        "  epoch_mins, epoch_secs = epoch_time(start_time, end_time)\n",
        "\n",
        "  print(f'Epoch: {epoch+1:2} | Epoch Time: {epoch_mins}m {epoch_secs}s')\n",
        "  print(f'\\tTrain Loss: {train_loss:.3f} | Train Acc: {train_acc:.2f}%')\n",
        "  if epoch % 1 == 0:  #for every epoch we shall print the test loss and test accuracy \n",
        "    print(f'\\tTest Loss: {test_loss:.3f} | Test Acc: {test_acc:.2f}% \\n')\n",
        "\n",
        "  if count == patience_early_stopping:\n",
        "    print(f'early stopping as accuracy did not improve for {patience_early_stopping} consecutive epochs')\n",
        "    break\n",
        "\n"
      ],
      "metadata": {
        "colab": {
          "base_uri": "https://localhost:8080/"
        },
        "id": "8O7_WdGnG531",
        "outputId": "746528c9-e859-4407-e17d-8a6ea85500f2"
      },
      "execution_count": 27,
      "outputs": [
        {
          "output_type": "stream",
          "name": "stdout",
          "text": [
            "\n",
            "Learning rate for epoch 1: 0.01\n",
            "Epoch:  1 | Epoch Time: 2m 48.59388716699999s\n",
            "\tTrain Loss: 1.774 | Train Acc: 0.31%\n",
            "\tTest Loss: 1.549 | Test Acc: 0.42% \n",
            "\n",
            "\n",
            "Learning rate for epoch 2: 0.01\n",
            "Epoch:  2 | Epoch Time: 2m 51.03468176700005s\n",
            "\tTrain Loss: 1.367 | Train Acc: 0.50%\n",
            "\tTest Loss: 1.197 | Test Acc: 0.56% \n",
            "\n",
            "\n",
            "Learning rate for epoch 3: 0.01\n",
            "Epoch:  3 | Epoch Time: 2m 49.429993836999984s\n",
            "\tTrain Loss: 1.161 | Train Acc: 0.59%\n",
            "\tTest Loss: 1.100 | Test Acc: 0.61% \n",
            "\n",
            "\n",
            "Learning rate for epoch 4: 0.01\n",
            "Epoch:  4 | Epoch Time: 2m 49.51493122399995s\n",
            "\tTrain Loss: 1.028 | Train Acc: 0.64%\n",
            "\tTest Loss: 1.014 | Test Acc: 0.64% \n",
            "\n",
            "\n",
            "Learning rate for epoch 5: 0.01\n",
            "Epoch:  5 | Epoch Time: 2m 49.882456677999926s\n",
            "\tTrain Loss: 0.932 | Train Acc: 0.69%\n",
            "\tTest Loss: 0.861 | Test Acc: 0.70% \n",
            "\n",
            "\n",
            "Learning rate for epoch 6: 0.01\n",
            "Epoch:  6 | Epoch Time: 2m 50.5809319519999s\n",
            "\tTrain Loss: 0.861 | Train Acc: 0.71%\n",
            "\tTest Loss: 1.014 | Test Acc: 0.67% \n",
            "\n",
            "\n",
            "Learning rate for epoch 7: 0.01\n",
            "Epoch:  7 | Epoch Time: 2m 48.322593205999965s\n",
            "\tTrain Loss: 0.797 | Train Acc: 0.74%\n",
            "\tTest Loss: 0.762 | Test Acc: 0.75% \n",
            "\n",
            "\n",
            "Learning rate for epoch 8: 0.01\n",
            "Epoch:  8 | Epoch Time: 2m 47.583528634000004s\n",
            "\tTrain Loss: 0.751 | Train Acc: 0.75%\n",
            "\tTest Loss: 0.761 | Test Acc: 0.75% \n",
            "\n",
            "\n",
            "Learning rate for epoch 9: 0.01\n",
            "Epoch:  9 | Epoch Time: 2m 50.246252196000114s\n",
            "\tTrain Loss: 0.696 | Train Acc: 0.77%\n",
            "\tTest Loss: 0.720 | Test Acc: 0.76% \n",
            "\n",
            "\n",
            "Learning rate for epoch 10: 0.01\n",
            "Epoch: 10 | Epoch Time: 2m 48.16378651600007s\n",
            "\tTrain Loss: 0.656 | Train Acc: 0.79%\n",
            "\tTest Loss: 0.665 | Test Acc: 0.78% \n",
            "\n",
            "\n",
            "Learning rate for epoch 11: 0.01\n",
            "Epoch: 11 | Epoch Time: 2m 49.800503688999925s\n",
            "\tTrain Loss: 0.615 | Train Acc: 0.80%\n",
            "\tTest Loss: 0.681 | Test Acc: 0.79% \n",
            "\n",
            "\n",
            "Learning rate for epoch 12: 0.01\n",
            "Epoch: 12 | Epoch Time: 2m 50.03688838100015s\n",
            "\tTrain Loss: 0.580 | Train Acc: 0.81%\n",
            "\tTest Loss: 0.692 | Test Acc: 0.78% \n",
            "\n",
            "\n",
            "Learning rate for epoch 13: 0.01\n",
            "Epoch: 13 | Epoch Time: 2m 50.64885086000004s\n",
            "\tTrain Loss: 0.553 | Train Acc: 0.82%\n",
            "\tTest Loss: 0.675 | Test Acc: 0.78% \n",
            "\n",
            "\n",
            "Learning rate for epoch 14: 0.002\n",
            "Epoch: 14 | Epoch Time: 2m 49.91999557899999s\n",
            "\tTrain Loss: 0.398 | Train Acc: 0.87%\n",
            "\tTest Loss: 0.625 | Test Acc: 0.82% \n",
            "\n",
            "\n",
            "Learning rate for epoch 15: 0.002\n",
            "Epoch: 15 | Epoch Time: 2m 47.44063853700027s\n",
            "\tTrain Loss: 0.341 | Train Acc: 0.89%\n",
            "\tTest Loss: 0.671 | Test Acc: 0.82% \n",
            "\n",
            "\n",
            "Learning rate for epoch 16: 0.002\n",
            "Epoch: 16 | Epoch Time: 2m 49.4104069240002s\n",
            "\tTrain Loss: 0.307 | Train Acc: 0.90%\n",
            "\tTest Loss: 0.677 | Test Acc: 0.82% \n",
            "\n",
            "\n",
            "Learning rate for epoch 17: 0.0004\n",
            "Epoch: 17 | Epoch Time: 2m 48.27171765000003s\n",
            "\tTrain Loss: 0.269 | Train Acc: 0.91%\n",
            "\tTest Loss: 0.717 | Test Acc: 0.82% \n",
            "\n",
            "\n",
            "Learning rate for epoch 18: 0.0004\n",
            "Epoch: 18 | Epoch Time: 2m 49.370553535s\n",
            "\tTrain Loss: 0.257 | Train Acc: 0.92%\n",
            "\tTest Loss: 0.731 | Test Acc: 0.83% \n",
            "\n",
            "\n",
            "Learning rate for epoch 19: 0.0004\n",
            "Epoch: 19 | Epoch Time: 2m 48.531336317000296s\n",
            "\tTrain Loss: 0.246 | Train Acc: 0.92%\n",
            "\tTest Loss: 0.754 | Test Acc: 0.82% \n",
            "\n",
            "\n",
            "Learning rate for epoch 20: 0.0004\n",
            "Epoch: 20 | Epoch Time: 2m 48.60996070100009s\n",
            "\tTrain Loss: 0.235 | Train Acc: 0.92%\n",
            "\tTest Loss: 0.746 | Test Acc: 0.82% \n",
            "\n",
            "\n",
            "Learning rate for epoch 21: 8e-05\n",
            "Epoch: 21 | Epoch Time: 2m 47.996369918000255s\n",
            "\tTrain Loss: 0.227 | Train Acc: 0.92%\n",
            "\tTest Loss: 0.775 | Test Acc: 0.82% \n",
            "\n",
            "\n",
            "Learning rate for epoch 22: 8e-05\n",
            "Epoch: 22 | Epoch Time: 2m 47.44800794399998s\n",
            "\tTrain Loss: 0.225 | Train Acc: 0.92%\n",
            "\tTest Loss: 0.764 | Test Acc: 0.82% \n",
            "\n",
            "\n",
            "Learning rate for epoch 23: 1.6000000000000003e-05\n",
            "Epoch: 23 | Epoch Time: 2m 47.346905350999805s\n",
            "\tTrain Loss: 0.222 | Train Acc: 0.92%\n",
            "\tTest Loss: 0.783 | Test Acc: 0.82% \n",
            "\n",
            "\n",
            "Learning rate for epoch 24: 1.6000000000000003e-05\n",
            "Epoch: 24 | Epoch Time: 2m 47.394043297999815s\n",
            "\tTrain Loss: 0.222 | Train Acc: 0.93%\n",
            "\tTest Loss: 0.770 | Test Acc: 0.82% \n",
            "\n",
            "\n",
            "Learning rate for epoch 25: 3.2000000000000007e-06\n",
            "Epoch: 25 | Epoch Time: 2m 47.831827140000314s\n",
            "\tTrain Loss: 0.224 | Train Acc: 0.92%\n",
            "\tTest Loss: 0.763 | Test Acc: 0.82% \n",
            "\n",
            "\n",
            "Learning rate for epoch 26: 3.2000000000000007e-06\n",
            "Epoch: 26 | Epoch Time: 2m 47.514860835000036s\n",
            "\tTrain Loss: 0.222 | Train Acc: 0.93%\n",
            "\tTest Loss: 0.772 | Test Acc: 0.82% \n",
            "\n",
            "\n",
            "Learning rate for epoch 27: 6.400000000000002e-07\n",
            "Epoch: 27 | Epoch Time: 2m 48.35701220100054s\n",
            "\tTrain Loss: 0.224 | Train Acc: 0.93%\n",
            "\tTest Loss: 0.797 | Test Acc: 0.82% \n",
            "\n",
            "\n",
            "Learning rate for epoch 28: 6.400000000000002e-07\n",
            "Epoch: 28 | Epoch Time: 2m 49.996904192999864s\n",
            "\tTrain Loss: 0.226 | Train Acc: 0.92%\n",
            "\tTest Loss: 0.758 | Test Acc: 0.82% \n",
            "\n",
            "\n",
            "Learning rate for epoch 29: 1.2800000000000006e-07\n",
            "Epoch: 29 | Epoch Time: 2m 51.92785000799995s\n",
            "\tTrain Loss: 0.220 | Train Acc: 0.93%\n",
            "\tTest Loss: 0.761 | Test Acc: 0.82% \n",
            "\n",
            "\n",
            "Learning rate for epoch 30: 1.2800000000000006e-07\n",
            "Epoch: 30 | Epoch Time: 2m 51.960806580999815s\n",
            "\tTrain Loss: 0.224 | Train Acc: 0.92%\n",
            "\tTest Loss: 0.765 | Test Acc: 0.82% \n",
            "\n",
            "\n",
            "Learning rate for epoch 31: 2.5600000000000014e-08\n",
            "Epoch: 31 | Epoch Time: 2m 52.716053785999975s\n",
            "\tTrain Loss: 0.220 | Train Acc: 0.92%\n",
            "\tTest Loss: 0.775 | Test Acc: 0.82% \n",
            "\n",
            "early stopping as accuracy did not improve for 3 consecutive epochs\n"
          ]
        }
      ]
    },
    {
      "cell_type": "code",
      "source": [
        "## predictions of test images. The vertical line shows the true labels and horizontal line shows the predicted labels.\n",
        "\n",
        "import pandas as pd\n",
        "import seaborn as sns\n",
        "\n",
        "\n",
        "classes = ['plane', 'car' , 'bird', 'cat', 'deer', 'dog','frog', 'horse', 'ship', 'truck'] \n",
        "\n",
        "heatmap = pd.DataFrame(data=0,index=classes,columns=classes)\n",
        "with torch.no_grad():\n",
        "    for images, labels in test_loader:\n",
        "        images, labels = images.to(device), labels.to(device)\n",
        "        y_pred_logits, y_pred_probas = model(images)\n",
        "        _, predicted = torch.max(y_pred_probas,1)\n",
        "        c = (predicted == labels).squeeze()\n",
        "        for i in range(labels.shape[0]):\n",
        "            true_label = labels[i].item()\n",
        "            predicted_label = predicted[i].item()\n",
        "            heatmap.iloc[true_label,predicted_label] += 1\n",
        "_, ax = plt.subplots(figsize=(10, 8))\n",
        "ax = sns.heatmap(heatmap, annot=True, fmt=\"d\",cmap=\"YlGnBu\")\n",
        "plt.show()\n"
      ],
      "metadata": {
        "colab": {
          "base_uri": "https://localhost:8080/",
          "height": 483
        },
        "id": "Ow7xu2jaL4La",
        "outputId": "d77d40a4-2454-4973-dc95-9b5d33c2f776"
      },
      "execution_count": 34,
      "outputs": [
        {
          "output_type": "display_data",
          "data": {
            "image/png": "[encoded data removed]",
            "text/plain": [
              "<Figure size 720x576 with 2 Axes>"
            ]
          },
          "metadata": {
            "needs_background": "light"
          }
        }
      ]
    }
  ]
}