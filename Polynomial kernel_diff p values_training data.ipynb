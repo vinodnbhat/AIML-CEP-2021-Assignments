{
  "nbformat": 4,
  "nbformat_minor": 0,
  "metadata": {
    "colab": {
      "name": "Untitled6.ipynb",
      "provenance": [],
      "authorship_tag": "ABX9TyOl5RmxWvhPDbVcr92PFZzS",
      "include_colab_link": true
    },
    "kernelspec": {
      "name": "python3",
      "display_name": "Python 3"
    },
    "language_info": {
      "name": "python"
    }
  },
  "cells": [
    {
      "cell_type": "markdown",
      "metadata": {
        "id": "view-in-github",
        "colab_type": "text"
      },
      "source": [
        "<a href=\"https://colab.research.google.com/github/vinodnbhat/AIML-CEP-2021-Assignments/blob/main/Polynomial%20kernel_diff%20p%20values_training%20data.ipynb\" target=\"_parent\"><img src=\"https://colab.research.google.com/assets/colab-badge.svg\" alt=\"Open In Colab\"/></a>"
      ]
    },
    {
      "cell_type": "code",
      "metadata": {
        "id": "LFMtbian2ClW"
      },
      "source": [
        "import numpy as np\n",
        "import matplotlib.pyplot as plt\n",
        "\n",
        "%matplotlib inline"
      ],
      "execution_count": 49,
      "outputs": []
    },
    {
      "cell_type": "code",
      "metadata": {
        "colab": {
          "base_uri": "https://localhost:8080/",
          "height": 281
        },
        "id": "HuljTm8_2P6V",
        "outputId": "4c6a2550-a44b-4a3d-81ed-d2e0e68dfe01"
      },
      "source": [
        "num_samples = 100\n",
        "\n",
        "np.random.seed(100)\n",
        "\n",
        "X = []\n",
        "y = []\n",
        "\n",
        "radius = 1\n",
        "\n",
        "center_point = [1., 1.]\n",
        "center_x1 = center_point[0]\n",
        "center_x2 = center_point[1]\n",
        "\n",
        "#generate points within circle (x1-1)^2 + (x2-1)^2 = 1\n",
        "for i in range (int(num_samples/2)):\n",
        "  toss = np.random.rand()\n",
        "  x1 = np.random.uniform(low = 0, high = 2)\n",
        "  x2 = np.random.uniform(low = 0, high = 2)\n",
        "  while (x1 - center_x1)**2 + (x2 - center_x2)**2 > radius:\n",
        "      x1 = np.random.uniform(low = 0, high = 2)\n",
        "      x2 = np.random.uniform(low = 0, high = 2)\n",
        "\n",
        "  X.append([x1, x2])\n",
        "  y.append([1])\n",
        "\n",
        "#generate points outside circle (x1-1)^2 + (x2-1)^2 = 1\n",
        "for i in range (int(num_samples/2)):\n",
        "  toss = np.random.rand()\n",
        "  x1 = np.random.uniform(low = 0, high = 2)\n",
        "  x2 = np.random.uniform(low = 0, high = 2)\n",
        "  while (x1 - center_x1)**2 + (x2 - center_x2)**2 <= radius:\n",
        "      x1 = np.random.uniform(low = 0, high = 2)\n",
        "      x2 = np.random.uniform(low = 0, high = 2)\n",
        "\n",
        "  X.append([x1, x2])\n",
        "  y.append([-1])\n",
        "\n",
        "X = np.array(X)\n",
        "y = np.array(y)\n",
        "\n",
        "#plot the circle\n",
        "angle = np.linspace(0, 2*np.pi, 150)\n",
        "\n",
        "x1 = center_x1 + radius*np.cos(angle)\n",
        "x2 = center_x2 + radius*np.sin(angle)\n",
        "\n",
        "figure, axes = plt.subplots(1)\n",
        "\n",
        "axes.plot(x1, x2)\n",
        "axes.set_aspect(1)\n",
        "\n",
        "plt.scatter(X[:int(num_samples/2), 0], X[:int(num_samples/2), 1], marker = 'o', color = 'red')\n",
        "plt.scatter(X[int(num_samples/2):, 0], X[int(num_samples/2):, 1], marker = 's', color = 'green')\n",
        "\n",
        "plt.title('Data with a non-linear separating surface')\n",
        "plt.show()"
      ],
      "execution_count": 50,
      "outputs": [
        {
          "output_type": "display_data",
          "data": {
            "image/png": "[encoded data removed]",
            "text/plain": [
              "<Figure size 432x288 with 1 Axes>"
            ]
          },
          "metadata": {
            "needs_background": "light"
          }
        }
      ]
    },
    {
      "cell_type": "code",
      "metadata": {
        "colab": {
          "base_uri": "https://localhost:8080/",
          "height": 278
        },
        "id": "nR4z0Jbi6r5k",
        "outputId": "64cfc23d-be72-4d91-b9c0-4d30ff5417f2"
      },
      "source": [
        "from sklearn.svm import LinearSVC\n",
        "\n",
        "clf = LinearSVC(C = 1.0)\n",
        "clf_model = clf.fit(X, y.ravel())\n",
        "\n",
        "h = 0.02\n",
        "x1_min, x1_max = X[:, 0].min() - 1, X[:, 0].max() + 1\n",
        "x2_min, x2_max = X[:, 1].min() - 1, X[:, 1].max() + 1\n",
        "xx1, xx2 = np.meshgrid(np.arange(x1_min, x1_max, h), np.arange(x2_min, x2_max, h))\n",
        "\n",
        "Z = clf_model.predict(np.c_[xx1.ravel(), xx2.ravel()])\n",
        "\n",
        "Z = Z.reshape(xx1.shape)\n",
        "plt.contourf(xx1, xx2, Z, cmap=plt.cm.coolwarm, alpha = 0.8)\n",
        "\n",
        "plt.scatter(X[:int(num_samples/2), 0], X[:int(num_samples/2), 1], marker = 'o', color = 'red')\n",
        "plt.scatter(X[int(num_samples/2):, 0], X[int(num_samples/2):, 1], marker = 's', color = 'green')\n",
        "\n",
        "plt.xlabel('x1')\n",
        "plt.ylabel('x2')\n",
        "plt.xlim(xx1.min(), xx1.max())\n",
        "plt.ylim(xx2.min(), xx2.max())\n",
        "plt.xticks(())\n",
        "plt.yticks(())\n",
        "plt.title('Decision boundary from Linear SVM')\n",
        "plt.show()"
      ],
      "execution_count": 51,
      "outputs": [
        {
          "output_type": "display_data",
          "data": {
            "image/png": "[encoded data removed]",
            "text/plain": [
              "<Figure size 432x288 with 1 Axes>"
            ]
          },
          "metadata": {}
        }
      ]
    },
    {
      "cell_type": "code",
      "metadata": {
        "colab": {
          "base_uri": "https://localhost:8080/"
        },
        "id": "os8KvSKl89Zu",
        "outputId": "a1ee2161-e1e5-457f-ddb4-0d49a19c9fe1"
      },
      "source": [
        "X_transformed = []\n",
        "\n",
        "for i in range(num_samples):\n",
        "  x1 = X[i, 0]\n",
        "  x2 = X[i, 1]\n",
        "  X_transformed.append([x1**2, x2**2, np.sqrt(2)*x1, np.sqrt(2)*x2, 1.])\n",
        "\n",
        "X_transformed = np.array(X_transformed)\n",
        "\n",
        "clf = LinearSVC(C = 10., max_iter = 10000)\n",
        "clf_model = clf.fit(X_transformed, y.ravel())\n",
        "\n",
        "predicted_labels = clf_model.predict(X_transformed)\n",
        "print(predicted_labels)\n",
        "\n",
        "train_error = np.sum(0.5 * np.abs(predicted_labels - y.ravel()))/len(y) * 100\n",
        "train_accuracy = 100 - train_error\n",
        "\n",
        "print('train accuracy:', train_accuracy)"
      ],
      "execution_count": 52,
      "outputs": [
        {
          "output_type": "stream",
          "name": "stdout",
          "text": [
            "[ 1  1  1  1  1  1  1  1  1  1  1  1  1  1  1  1  1  1  1  1  1  1  1  1\n",
            "  1  1  1  1  1 -1  1  1  1  1  1  1  1  1  1  1  1  1  1  1  1  1  1  1\n",
            "  1  1 -1 -1 -1 -1 -1 -1 -1 -1 -1 -1 -1 -1 -1 -1 -1 -1 -1 -1 -1 -1 -1 -1\n",
            " -1 -1 -1 -1 -1 -1 -1 -1 -1 -1 -1 -1 -1 -1 -1 -1 -1 -1 -1 -1 -1 -1 -1 -1\n",
            " -1 -1 -1 -1]\n",
            "train accuracy: 99.0\n"
          ]
        }
      ]
    },
    {
      "cell_type": "code",
      "metadata": {
        "colab": {
          "base_uri": "https://localhost:8080/"
        },
        "id": "4vlO3OJyDsSs",
        "outputId": "7b7fe446-c279-43a5-b6b3-e5cbedab98eb"
      },
      "source": [
        "from sklearn.svm import SVC\n",
        "\n",
        "clf = SVC(kernel = 'poly', degree = 1, max_iter = 10000)\n",
        "clf_model = clf.fit(X, y.ravel())\n",
        "\n",
        "predicted_labels = clf.predict(X)\n",
        "print(predicted_labels)\n",
        "\n",
        "train_error = np.sum(0.5 * np.abs(predicted_labels - y.ravel()))/len(y) * 100\n",
        "train_accuracy = 100 - train_error\n",
        "\n",
        "print('train accuracy with p = 1:', train_accuracy)"
      ],
      "execution_count": 54,
      "outputs": [
        {
          "output_type": "stream",
          "name": "stdout",
          "text": [
            "[ 1 -1 -1 -1  1 -1  1 -1  1 -1 -1  1  1  1  1  1 -1 -1  1 -1  1  1  1  1\n",
            "  1  1 -1 -1  1 -1  1  1 -1  1  1  1  1  1 -1  1 -1 -1  1  1 -1 -1  1  1\n",
            " -1  1 -1 -1 -1 -1 -1 -1  1  1 -1 -1  1 -1  1  1  1  1 -1  1 -1 -1  1 -1\n",
            "  1  1 -1 -1  1 -1 -1  1 -1 -1  1  1 -1  1 -1  1  1  1  1  1 -1  1  1 -1\n",
            " -1 -1  1 -1]\n",
            "train accuracy with p = 1: 56.0\n"
          ]
        }
      ]
    },
    {
      "cell_type": "code",
      "metadata": {
        "colab": {
          "base_uri": "https://localhost:8080/",
          "height": 278
        },
        "id": "5oHbdOrnEIS5",
        "outputId": "cf1f371d-974b-4224-f24d-e9ab53112e90"
      },
      "source": [
        "h=0.02 #mesh step size\n",
        "x1_min, x1_max = X[:, 0].min() - 1, X[:, 0].max() + 1\n",
        "x2_min, x2_max = X[:, 1].min() - 1, X[:, 1].max() + 1\n",
        "xx1, xx2 = np.meshgrid(np.arange(x1_min, x1_max, h),\n",
        "                     np.arange(x2_min, x2_max, h))\n",
        "\n",
        "Z = clf_model.predict(np.c_[xx1.ravel(), xx2.ravel()])\n",
        "\n",
        "# Put the result into a color plot\n",
        "Z = Z.reshape(xx1.shape)\n",
        "plt.contourf(xx1, xx2, Z, cmap=plt.cm.coolwarm, alpha=0.8)\n",
        "\n",
        "# Plot also the training points\n",
        "#plt.scatter(X[:, 0], X[:, 1], c=y, cmap=plt.cm.coolwarm)\n",
        "plt.scatter(X[:int(num_samples/2),0],X[:int(num_samples/2),1], marker='o', color='red')\n",
        "plt.scatter(X[int(num_samples/2):,0],X[int(num_samples/2):,1], marker='s', color='green')\n",
        "\n",
        "plt.xlabel('x1')\n",
        "plt.ylabel('x2')\n",
        "plt.xlim(xx1.min(), xx1.max())\n",
        "plt.ylim(xx2.min(), xx2.max())\n",
        "plt.xticks(())\n",
        "plt.yticks(())\n",
        "plt.title('Decision boundary from SVM with Polynomial Kernel with p = 1')\n",
        "plt.show()\n"
      ],
      "execution_count": 55,
      "outputs": [
        {
          "output_type": "display_data",
          "data": {
            "image/png": "[encoded data removed]",
            "text/plain": [
              "<Figure size 432x288 with 1 Axes>"
            ]
          },
          "metadata": {}
        }
      ]
    },
    {
      "cell_type": "code",
      "metadata": {
        "colab": {
          "base_uri": "https://localhost:8080/"
        },
        "id": "UOK-d8lGHyT-",
        "outputId": "c4fcb601-ff8c-4014-deec-b403e6280588"
      },
      "source": [
        "clf = SVC(kernel = 'poly', degree = 2, max_iter = 10000)\n",
        "clf_model = clf.fit(X, y.ravel())\n",
        "\n",
        "predicted_labels = clf.predict(X)\n",
        "print(predicted_labels)\n",
        "\n",
        "train_error = np.sum(0.5 * np.abs(predicted_labels - y.ravel()))/len(y) * 100\n",
        "train_accuracy = 100 - train_error\n",
        "\n",
        "print('train accuracy for p = 2:', train_accuracy)"
      ],
      "execution_count": 56,
      "outputs": [
        {
          "output_type": "stream",
          "name": "stdout",
          "text": [
            "[ 1 -1 -1 -1  1 -1 -1  1  1 -1  1  1  1  1  1  1  1  1  1 -1  1  1  1  1\n",
            "  1  1  1 -1  1 -1  1  1  1  1  1  1  1  1  1  1  1  1  1 -1  1  1  1  1\n",
            " -1 -1 -1 -1 -1 -1 -1 -1  1  1 -1 -1  1 -1  1 -1  1  1 -1 -1 -1 -1  1 -1\n",
            " -1  1 -1 -1 -1 -1 -1 -1 -1 -1 -1  1 -1  1 -1 -1 -1 -1  1  1 -1  1 -1 -1\n",
            " -1 -1 -1 -1]\n",
            "train accuracy for p = 2: 75.0\n"
          ]
        }
      ]
    },
    {
      "cell_type": "code",
      "metadata": {
        "colab": {
          "base_uri": "https://localhost:8080/",
          "height": 278
        },
        "id": "-NWT0T--IEUK",
        "outputId": "56b70d4f-dfef-4d78-ef08-0d4cb4415fcf"
      },
      "source": [
        "h=0.02 #mesh step size\n",
        "x1_min, x1_max = X[:, 0].min() - 1, X[:, 0].max() + 1\n",
        "x2_min, x2_max = X[:, 1].min() - 1, X[:, 1].max() + 1\n",
        "xx1, xx2 = np.meshgrid(np.arange(x1_min, x1_max, h),\n",
        "                     np.arange(x2_min, x2_max, h))\n",
        "\n",
        "Z = clf_model.predict(np.c_[xx1.ravel(), xx2.ravel()])\n",
        "\n",
        "# Put the result into a color plot\n",
        "Z = Z.reshape(xx1.shape)\n",
        "plt.contourf(xx1, xx2, Z, cmap=plt.cm.coolwarm, alpha=0.8)\n",
        "\n",
        "# Plot also the training points\n",
        "#plt.scatter(X[:, 0], X[:, 1], c=y, cmap=plt.cm.coolwarm)\n",
        "plt.scatter(X[:int(num_samples/2),0],X[:int(num_samples/2),1], marker='o', color='red')\n",
        "plt.scatter(X[int(num_samples/2):,0],X[int(num_samples/2):,1], marker='s', color='green')\n",
        "\n",
        "plt.xlabel('x1')\n",
        "plt.ylabel('x2')\n",
        "plt.xlim(xx1.min(), xx1.max())\n",
        "plt.ylim(xx2.min(), xx2.max())\n",
        "plt.xticks(())\n",
        "plt.yticks(())\n",
        "plt.title('Decision boundary from SVM with Polynomial Kernel with p = 2')\n",
        "plt.show()"
      ],
      "execution_count": 57,
      "outputs": [
        {
          "output_type": "display_data",
          "data": {
            "image/png": "[encoded data removed]",
            "text/plain": [
              "<Figure size 432x288 with 1 Axes>"
            ]
          },
          "metadata": {}
        }
      ]
    },
    {
      "cell_type": "code",
      "metadata": {
        "colab": {
          "base_uri": "https://localhost:8080/"
        },
        "id": "MLnm5CPTIV_j",
        "outputId": "02dd466f-08bb-4778-d5fa-3228635081b3"
      },
      "source": [
        "clf = SVC(kernel = 'poly', degree = 4, max_iter = 10000)\n",
        "clf_model = clf.fit(X, y.ravel())\n",
        "\n",
        "predicted_labels = clf.predict(X)\n",
        "print(predicted_labels)\n",
        "\n",
        "train_error = np.sum(0.5 * np.abs(predicted_labels - y.ravel()))/len(y) * 100\n",
        "train_accuracy = 100 - train_error\n",
        "\n",
        "print('train accuracy with p = 4:', train_accuracy)"
      ],
      "execution_count": 58,
      "outputs": [
        {
          "output_type": "stream",
          "name": "stdout",
          "text": [
            "[ 1  1  1 -1  1  1  1  1  1  1  1  1  1  1  1  1  1  1  1  1  1  1  1  1\n",
            "  1  1  1 -1  1 -1  1  1  1  1  1  1  1  1  1  1  1  1  1  1  1  1  1  1\n",
            "  1  1 -1 -1 -1 -1 -1 -1  1  1 -1 -1  1 -1  1 -1  1  1 -1 -1 -1 -1  1 -1\n",
            " -1  1 -1 -1 -1 -1 -1 -1 -1 -1 -1  1 -1  1 -1 -1 -1 -1  1  1 -1  1  1 -1\n",
            " -1 -1 -1 -1]\n",
            "train accuracy with p = 4: 83.0\n"
          ]
        },
        {
          "output_type": "stream",
          "name": "stderr",
          "text": [
            "/usr/local/lib/python3.7/dist-packages/sklearn/svm/_base.py:231: ConvergenceWarning: Solver terminated early (max_iter=10000).  Consider pre-processing your data with StandardScaler or MinMaxScaler.\n",
            "  % self.max_iter, ConvergenceWarning)\n"
          ]
        }
      ]
    },
    {
      "cell_type": "code",
      "metadata": {
        "colab": {
          "base_uri": "https://localhost:8080/",
          "height": 278
        },
        "id": "ote_uWoYIfyC",
        "outputId": "85a09c52-6f90-4d42-a003-810a813c6d9e"
      },
      "source": [
        "h=0.02 #mesh step size\n",
        "x1_min, x1_max = X[:, 0].min() - 1, X[:, 0].max() + 1\n",
        "x2_min, x2_max = X[:, 1].min() - 1, X[:, 1].max() + 1\n",
        "xx1, xx2 = np.meshgrid(np.arange(x1_min, x1_max, h),\n",
        "                     np.arange(x2_min, x2_max, h))\n",
        "\n",
        "Z = clf_model.predict(np.c_[xx1.ravel(), xx2.ravel()])\n",
        "\n",
        "# Put the result into a color plot\n",
        "Z = Z.reshape(xx1.shape)\n",
        "plt.contourf(xx1, xx2, Z, cmap=plt.cm.coolwarm, alpha=0.8)\n",
        "\n",
        "# Plot also the training points\n",
        "#plt.scatter(X[:, 0], X[:, 1], c=y, cmap=plt.cm.coolwarm)\n",
        "plt.scatter(X[:int(num_samples/2),0],X[:int(num_samples/2),1], marker='o', color='red')\n",
        "plt.scatter(X[int(num_samples/2):,0],X[int(num_samples/2):,1], marker='s', color='green')\n",
        "\n",
        "plt.xlabel('x1')\n",
        "plt.ylabel('x2')\n",
        "plt.xlim(xx1.min(), xx1.max())\n",
        "plt.ylim(xx2.min(), xx2.max())\n",
        "plt.xticks(())\n",
        "plt.yticks(())\n",
        "plt.title('Decision boundary from SVM with Polynomial Kernel with p = 4')\n",
        "plt.show()"
      ],
      "execution_count": 59,
      "outputs": [
        {
          "output_type": "display_data",
          "data": {
            "image/png": "[encoded data removed]",
            "text/plain": [
              "<Figure size 432x288 with 1 Axes>"
            ]
          },
          "metadata": {}
        }
      ]
    },
    {
      "cell_type": "code",
      "metadata": {
        "colab": {
          "base_uri": "https://localhost:8080/"
        },
        "id": "tV1IUB-_JKp0",
        "outputId": "720d7fe9-43fa-46b5-f355-43d4226f5fa8"
      },
      "source": [
        "clf = SVC(kernel = 'poly', degree = 8, max_iter = 10000)\n",
        "clf_model = clf.fit(X, y.ravel())\n",
        "\n",
        "predicted_labels = clf.predict(X)\n",
        "print(predicted_labels)\n",
        "\n",
        "train_error = np.sum(0.5 * np.abs(predicted_labels - y.ravel()))/len(y) * 100\n",
        "train_accuracy = 100 - train_error\n",
        "\n",
        "print('train accuracy with degree = 8:', train_accuracy)"
      ],
      "execution_count": 60,
      "outputs": [
        {
          "output_type": "stream",
          "name": "stdout",
          "text": [
            "[-1 -1 -1 -1 -1  1 -1  1 -1  1  1 -1 -1 -1 -1 -1 -1 -1 -1  1 -1 -1 -1 -1\n",
            " -1 -1 -1  1 -1 -1 -1 -1  1 -1 -1 -1 -1 -1 -1 -1  1 -1 -1 -1 -1  1 -1 -1\n",
            "  1 -1 -1 -1 -1  1 -1 -1 -1 -1  1  1 -1 -1 -1 -1 -1 -1 -1 -1  1  1 -1  1\n",
            " -1 -1  1  1 -1 -1 -1 -1 -1 -1 -1 -1 -1 -1 -1 -1 -1 -1 -1 -1 -1 -1 -1 -1\n",
            " -1  1 -1  1]\n",
            "train accuracy with degree = 8: 50.0\n"
          ]
        },
        {
          "output_type": "stream",
          "name": "stderr",
          "text": [
            "/usr/local/lib/python3.7/dist-packages/sklearn/svm/_base.py:231: ConvergenceWarning: Solver terminated early (max_iter=10000).  Consider pre-processing your data with StandardScaler or MinMaxScaler.\n",
            "  % self.max_iter, ConvergenceWarning)\n"
          ]
        }
      ]
    },
    {
      "cell_type": "code",
      "metadata": {
        "colab": {
          "base_uri": "https://localhost:8080/",
          "height": 278
        },
        "id": "KKNCpyAtJWyN",
        "outputId": "2daf60b3-44fb-490d-9d0e-06c6f2928739"
      },
      "source": [
        "h=0.02 #mesh step size\n",
        "x1_min, x1_max = X[:, 0].min() - 1, X[:, 0].max() + 1\n",
        "x2_min, x2_max = X[:, 1].min() - 1, X[:, 1].max() + 1\n",
        "xx1, xx2 = np.meshgrid(np.arange(x1_min, x1_max, h),\n",
        "                     np.arange(x2_min, x2_max, h))\n",
        "\n",
        "Z = clf_model.predict(np.c_[xx1.ravel(), xx2.ravel()])\n",
        "\n",
        "# Put the result into a color plot\n",
        "Z = Z.reshape(xx1.shape)\n",
        "plt.contourf(xx1, xx2, Z, cmap=plt.cm.coolwarm, alpha=0.8)\n",
        "\n",
        "# Plot also the training points\n",
        "#plt.scatter(X[:, 0], X[:, 1], c=y, cmap=plt.cm.coolwarm)\n",
        "plt.scatter(X[:int(num_samples/2),0],X[:int(num_samples/2),1], marker='o', color='red')\n",
        "plt.scatter(X[int(num_samples/2):,0],X[int(num_samples/2):,1], marker='s', color='green')\n",
        "\n",
        "plt.xlabel('x1')\n",
        "plt.ylabel('x2')\n",
        "plt.xlim(xx1.min(), xx1.max())\n",
        "plt.ylim(xx2.min(), xx2.max())\n",
        "plt.xticks(())\n",
        "plt.yticks(())\n",
        "plt.title('Decision boundary from SVM with Polynomial Kernel with p = 8')\n",
        "plt.show()"
      ],
      "execution_count": 61,
      "outputs": [
        {
          "output_type": "display_data",
          "data": {
            "image/png": "[encoded data removed]",
            "text/plain": [
              "<Figure size 432x288 with 1 Axes>"
            ]
          },
          "metadata": {}
        }
      ]
    },
    {
      "cell_type": "code",
      "metadata": {
        "colab": {
          "base_uri": "https://localhost:8080/"
        },
        "id": "k8PfOx3zJgc4",
        "outputId": "51890e71-d4b7-4140-ddbb-b0ddbb959aa6"
      },
      "source": [
        "clf = SVC(kernel = 'poly', degree = 16, max_iter = 10000)\n",
        "clf_model = clf.fit(X, y.ravel())\n",
        "\n",
        "predicted_labels = clf.predict(X)\n",
        "print(predicted_labels)\n",
        "\n",
        "train_error = np.sum(0.5 * np.abs(predicted_labels - y.ravel()))/len(y) * 100\n",
        "train_accuracy = 100 - train_error\n",
        "\n",
        "print('train accuracy with degree = 16:', train_accuracy)"
      ],
      "execution_count": 62,
      "outputs": [
        {
          "output_type": "stream",
          "name": "stdout",
          "text": [
            "[-1 -1  1 -1 -1 -1 -1 -1 -1 -1 -1 -1 -1 -1 -1 -1 -1 -1 -1 -1 -1 -1 -1 -1\n",
            " -1 -1 -1 -1 -1  1 -1 -1 -1 -1 -1 -1 -1 -1 -1 -1 -1 -1 -1  1 -1 -1 -1 -1\n",
            " -1 -1  1 -1 -1  1 -1 -1 -1 -1  1  1 -1  1 -1 -1 -1 -1 -1 -1 -1 -1 -1 -1\n",
            " -1 -1  1 -1 -1 -1 -1 -1 -1  1 -1 -1  1 -1 -1 -1 -1 -1 -1 -1 -1 -1 -1 -1\n",
            " -1 -1 -1 -1]\n",
            "train accuracy with degree = 16: 44.99999999999999\n"
          ]
        },
        {
          "output_type": "stream",
          "name": "stderr",
          "text": [
            "/usr/local/lib/python3.7/dist-packages/sklearn/svm/_base.py:231: ConvergenceWarning: Solver terminated early (max_iter=10000).  Consider pre-processing your data with StandardScaler or MinMaxScaler.\n",
            "  % self.max_iter, ConvergenceWarning)\n"
          ]
        }
      ]
    },
    {
      "cell_type": "code",
      "metadata": {
        "colab": {
          "base_uri": "https://localhost:8080/",
          "height": 278
        },
        "id": "FXXSiP8xJoRr",
        "outputId": "7d157811-660c-4c45-bc0d-051430549880"
      },
      "source": [
        "h=0.02 #mesh step size\n",
        "x1_min, x1_max = X[:, 0].min() - 1, X[:, 0].max() + 1\n",
        "x2_min, x2_max = X[:, 1].min() - 1, X[:, 1].max() + 1\n",
        "xx1, xx2 = np.meshgrid(np.arange(x1_min, x1_max, h),\n",
        "                     np.arange(x2_min, x2_max, h))\n",
        "\n",
        "Z = clf_model.predict(np.c_[xx1.ravel(), xx2.ravel()])\n",
        "\n",
        "# Put the result into a color plot\n",
        "Z = Z.reshape(xx1.shape)\n",
        "plt.contourf(xx1, xx2, Z, cmap=plt.cm.coolwarm, alpha=0.8)\n",
        "\n",
        "# Plot also the training points\n",
        "#plt.scatter(X[:, 0], X[:, 1], c=y, cmap=plt.cm.coolwarm)\n",
        "plt.scatter(X[:int(num_samples/2),0],X[:int(num_samples/2),1], marker='o', color='red')\n",
        "plt.scatter(X[int(num_samples/2):,0],X[int(num_samples/2):,1], marker='s', color='green')\n",
        "\n",
        "plt.xlabel('x1')\n",
        "plt.ylabel('x2')\n",
        "plt.xlim(xx1.min(), xx1.max())\n",
        "plt.ylim(xx2.min(), xx2.max())\n",
        "plt.xticks(())\n",
        "plt.yticks(())\n",
        "plt.title('Decision boundary from SVM with Polynomial Kernel with p = 16')\n",
        "plt.show()"
      ],
      "execution_count": 63,
      "outputs": [
        {
          "output_type": "display_data",
          "data": {
            "image/png": "[encoded data removed]",
            "text/plain": [
              "<Figure size 432x288 with 1 Axes>"
            ]
          },
          "metadata": {}
        }
      ]
    },
    {
      "cell_type": "code",
      "metadata": {
        "colab": {
          "base_uri": "https://localhost:8080/"
        },
        "id": "WWi8n8jDJyFp",
        "outputId": "09bc7496-d3fe-4d90-a47f-408836f162ab"
      },
      "source": [
        "clf = SVC(kernel = 'poly', degree = 32, max_iter = 10000)\n",
        "clf_model = clf.fit(X, y.ravel())\n",
        "\n",
        "predicted_labels = clf.predict(X)\n",
        "print(predicted_labels)\n",
        "\n",
        "train_error = np.sum(0.5 * np.abs(predicted_labels - y.ravel()))/len(y) * 100\n",
        "train_accuracy = 100 - train_error\n",
        "\n",
        "print('train accuracy with p = 32:', train_accuracy)"
      ],
      "execution_count": 64,
      "outputs": [
        {
          "output_type": "stream",
          "name": "stdout",
          "text": [
            "[ 1 -1  1  1  1  1  1  1  1  1  1  1  1  1  1  1  1  1  1  1  1  1  1  1\n",
            "  1  1  1  1  1  1  1  1  1  1  1  1  1  1  1  1  1  1  1  1  1  1  1  1\n",
            "  1  1  1  1  1  1  1  1  1  1  1  1  1  1  1  1  1  1  1  1 -1  1  1  1\n",
            "  1  1  1 -1  1  1  1  1  1  1  1  1 -1  1  1  1  1  1  1  1  1  1  1  1\n",
            "  1 -1  1 -1]\n",
            "train accuracy with p = 32: 54.0\n"
          ]
        },
        {
          "output_type": "stream",
          "name": "stderr",
          "text": [
            "/usr/local/lib/python3.7/dist-packages/sklearn/svm/_base.py:231: ConvergenceWarning: Solver terminated early (max_iter=10000).  Consider pre-processing your data with StandardScaler or MinMaxScaler.\n",
            "  % self.max_iter, ConvergenceWarning)\n"
          ]
        }
      ]
    },
    {
      "cell_type": "code",
      "metadata": {
        "colab": {
          "base_uri": "https://localhost:8080/",
          "height": 278
        },
        "id": "h2WZgiLIJ47T",
        "outputId": "ad1618fa-e001-47f3-f4ed-ec15fe9c584c"
      },
      "source": [
        "h=0.02 #mesh step size\n",
        "x1_min, x1_max = X[:, 0].min() - 1, X[:, 0].max() + 1\n",
        "x2_min, x2_max = X[:, 1].min() - 1, X[:, 1].max() + 1\n",
        "xx1, xx2 = np.meshgrid(np.arange(x1_min, x1_max, h),\n",
        "                     np.arange(x2_min, x2_max, h))\n",
        "\n",
        "Z = clf_model.predict(np.c_[xx1.ravel(), xx2.ravel()])\n",
        "\n",
        "# Put the result into a color plot\n",
        "Z = Z.reshape(xx1.shape)\n",
        "plt.contourf(xx1, xx2, Z, cmap=plt.cm.coolwarm, alpha=0.8)\n",
        "\n",
        "# Plot also the training points\n",
        "#plt.scatter(X[:, 0], X[:, 1], c=y, cmap=plt.cm.coolwarm)\n",
        "plt.scatter(X[:int(num_samples/2),0],X[:int(num_samples/2),1], marker='o', color='red')\n",
        "plt.scatter(X[int(num_samples/2):,0],X[int(num_samples/2):,1], marker='s', color='green')\n",
        "\n",
        "plt.xlabel('x1')\n",
        "plt.ylabel('x2')\n",
        "plt.xlim(xx1.min(), xx1.max())\n",
        "plt.ylim(xx2.min(), xx2.max())\n",
        "plt.xticks(())\n",
        "plt.yticks(())\n",
        "plt.title('Decision boundary from SVM with Polynomial Kernel with p = 32')\n",
        "plt.show()"
      ],
      "execution_count": 65,
      "outputs": [
        {
          "output_type": "display_data",
          "data": {
            "image/png": "[encoded data removed]",
            "text/plain": [
              "<Figure size 432x288 with 1 Axes>"
            ]
          },
          "metadata": {}
        }
      ]
    },
    {
      "cell_type": "code",
      "metadata": {
        "colab": {
          "base_uri": "https://localhost:8080/"
        },
        "id": "vdbNYgEgKBXM",
        "outputId": "5ea5baa6-acbe-4476-900f-405bebe4ffea"
      },
      "source": [
        "clf = SVC(kernel = 'poly', degree = 64, max_iter = 10000)\n",
        "clf_model = clf.fit(X, y.ravel())\n",
        "\n",
        "predicted_labels = clf.predict(X)\n",
        "print(predicted_labels)\n",
        "\n",
        "train_error = np.sum(0.5 * np.abs(predicted_labels - y.ravel()))/len(y) * 100\n",
        "train_accuracy = 100 - train_error\n",
        "\n",
        "print('train accuracy with p = 64:', train_accuracy)"
      ],
      "execution_count": 66,
      "outputs": [
        {
          "output_type": "stream",
          "name": "stdout",
          "text": [
            "[1 1 1 1 1 1 1 1 1 1 1 1 1 1 1 1 1 1 1 1 1 1 1 1 1 1 1 1 1 1 1 1 1 1 1 1 1\n",
            " 1 1 1 1 1 1 1 1 1 1 1 1 1 1 1 1 1 1 1 1 1 1 1 1 1 1 1 1 1 1 1 1 1 1 1 1 1\n",
            " 1 1 1 1 1 1 1 1 1 1 1 1 1 1 1 1 1 1 1 1 1 1 1 1 1 1]\n",
            "train accuracy with p = 64: 50.0\n"
          ]
        }
      ]
    },
    {
      "cell_type": "code",
      "metadata": {
        "colab": {
          "base_uri": "https://localhost:8080/",
          "height": 278
        },
        "id": "8SURc6_CKKfN",
        "outputId": "ec1b320a-7119-452f-b1c8-534dfbacc1cf"
      },
      "source": [
        "h=0.02 #mesh step size\n",
        "x1_min, x1_max = X[:, 0].min() - 1, X[:, 0].max() + 1\n",
        "x2_min, x2_max = X[:, 1].min() - 1, X[:, 1].max() + 1\n",
        "xx1, xx2 = np.meshgrid(np.arange(x1_min, x1_max, h),\n",
        "                     np.arange(x2_min, x2_max, h))\n",
        "\n",
        "Z = clf_model.predict(np.c_[xx1.ravel(), xx2.ravel()])\n",
        "\n",
        "# Put the result into a color plot\n",
        "Z = Z.reshape(xx1.shape)\n",
        "plt.contourf(xx1, xx2, Z, cmap=plt.cm.coolwarm, alpha=0.8)\n",
        "\n",
        "# Plot also the training points\n",
        "#plt.scatter(X[:, 0], X[:, 1], c=y, cmap=plt.cm.coolwarm)\n",
        "plt.scatter(X[:int(num_samples/2),0],X[:int(num_samples/2),1], marker='o', color='red')\n",
        "plt.scatter(X[int(num_samples/2):,0],X[int(num_samples/2):,1], marker='s', color='green')\n",
        "\n",
        "plt.xlabel('x1')\n",
        "plt.ylabel('x2')\n",
        "plt.xlim(xx1.min(), xx1.max())\n",
        "plt.ylim(xx2.min(), xx2.max())\n",
        "plt.xticks(())\n",
        "plt.yticks(())\n",
        "plt.title('Decision boundary from SVM with Polynomial Kernel with p = 64')\n",
        "plt.show()"
      ],
      "execution_count": 67,
      "outputs": [
        {
          "output_type": "display_data",
          "data": {
            "image/png": "[encoded data removed]",
            "text/plain": [
              "<Figure size 432x288 with 1 Axes>"
            ]
          },
          "metadata": {}
        }
      ]
    },
    {
      "cell_type": "code",
      "metadata": {
        "colab": {
          "base_uri": "https://localhost:8080/"
        },
        "id": "aThFG7rlKS3B",
        "outputId": "582a8379-1bef-440c-9bcb-ace8acb7d1f0"
      },
      "source": [
        "clf = SVC(kernel = 'poly', degree = 128, max_iter = 10000)\n",
        "clf_model = clf.fit(X, y.ravel())\n",
        "\n",
        "predicted_labels = clf.predict(X)\n",
        "print(predicted_labels)\n",
        "\n",
        "train_error = np.sum(0.5 * np.abs(predicted_labels - y.ravel()))/len(y) * 100\n",
        "train_accuracy = 100 - train_error\n",
        "\n",
        "print('train accuracy with p = 128:', train_accuracy)"
      ],
      "execution_count": 69,
      "outputs": [
        {
          "output_type": "stream",
          "name": "stdout",
          "text": [
            "[1 1 1 1 1 1 1 1 1 1 1 1 1 1 1 1 1 1 1 1 1 1 1 1 1 1 1 1 1 1 1 1 1 1 1 1 1\n",
            " 1 1 1 1 1 1 1 1 1 1 1 1 1 1 1 1 1 1 1 1 1 1 1 1 1 1 1 1 1 1 1 1 1 1 1 1 1\n",
            " 1 1 1 1 1 1 1 1 1 1 1 1 1 1 1 1 1 1 1 1 1 1 1 1 1 1]\n",
            "train accuracy with p = 128: 50.0\n"
          ]
        }
      ]
    },
    {
      "cell_type": "code",
      "metadata": {
        "colab": {
          "base_uri": "https://localhost:8080/",
          "height": 278
        },
        "id": "l04VhzmdKZr-",
        "outputId": "22c1866a-ee94-419f-ef05-1600639b93f9"
      },
      "source": [
        "h=0.02 #mesh step size\n",
        "x1_min, x1_max = X[:, 0].min() - 1, X[:, 0].max() + 1\n",
        "x2_min, x2_max = X[:, 1].min() - 1, X[:, 1].max() + 1\n",
        "xx1, xx2 = np.meshgrid(np.arange(x1_min, x1_max, h),\n",
        "                     np.arange(x2_min, x2_max, h))\n",
        "\n",
        "Z = clf_model.predict(np.c_[xx1.ravel(), xx2.ravel()])\n",
        "\n",
        "# Put the result into a color plot\n",
        "Z = Z.reshape(xx1.shape)\n",
        "plt.contourf(xx1, xx2, Z, cmap=plt.cm.coolwarm, alpha=0.8)\n",
        "\n",
        "# Plot also the training points\n",
        "#plt.scatter(X[:, 0], X[:, 1], c=y, cmap=plt.cm.coolwarm)\n",
        "plt.scatter(X[:int(num_samples/2),0],X[:int(num_samples/2),1], marker='o', color='red')\n",
        "plt.scatter(X[int(num_samples/2):,0],X[int(num_samples/2):,1], marker='s', color='green')\n",
        "\n",
        "plt.xlabel('x1')\n",
        "plt.ylabel('x2')\n",
        "plt.xlim(xx1.min(), xx1.max())\n",
        "plt.ylim(xx2.min(), xx2.max())\n",
        "plt.xticks(())\n",
        "plt.yticks(())\n",
        "plt.title('Decision boundary from SVM with Polynomial Kernel with p = 128')\n",
        "plt.show()"
      ],
      "execution_count": 70,
      "outputs": [
        {
          "output_type": "display_data",
          "data": {
            "image/png": "[encoded data removed]",
            "text/plain": [
              "<Figure size 432x288 with 1 Axes>"
            ]
          },
          "metadata": {}
        }
      ]
    }
  ]
}