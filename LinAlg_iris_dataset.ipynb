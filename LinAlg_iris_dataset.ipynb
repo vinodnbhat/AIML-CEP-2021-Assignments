{
  "nbformat": 4,
  "nbformat_minor": 0,
  "metadata": {
    "colab": {
      "name": "Untitled2.ipynb",
      "provenance": [],
      "collapsed_sections": [],
      "authorship_tag": "ABX9TyPeUJv1rmutThAwH1t7+dNU",
      "include_colab_link": true
    },
    "kernelspec": {
      "name": "python3",
      "display_name": "Python 3"
    },
    "language_info": {
      "name": "python"
    }
  },
  "cells": [
    {
      "cell_type": "markdown",
      "metadata": {
        "id": "view-in-github",
        "colab_type": "text"
      },
      "source": [
        "<a href=\"https://colab.research.google.com/github/vinodnbhat/AIML-CEP-2021-Assignments/blob/main/LinAlg_iris_dataset.ipynb\" target=\"_parent\"><img src=\"https://colab.research.google.com/assets/colab-badge.svg\" alt=\"Open In Colab\"/></a>"
      ]
    },
    {
      "cell_type": "code",
      "metadata": {
        "id": "XZkxCnIIn9Ol"
      },
      "source": [
        "import numpy as np\n",
        "from sklearn.datasets import load_iris"
      ],
      "execution_count": 28,
      "outputs": []
    },
    {
      "cell_type": "code",
      "metadata": {
        "id": "Kyn9LdeCodth"
      },
      "source": [
        "X_y = load_iris()"
      ],
      "execution_count": 29,
      "outputs": []
    },
    {
      "cell_type": "code",
      "metadata": {
        "colab": {
          "base_uri": "https://localhost:8080/"
        },
        "id": "Db8iK99xoqt6",
        "outputId": "1db89e57-f836-4dfd-cf90-80b8452df0cd"
      },
      "source": [
        "print('X_y type:', type(X_y))\n",
        "print(X_y)"
      ],
      "execution_count": 30,
      "outputs": [
        {
          "output_type": "stream",
          "name": "stdout",
          "text": [
            "X_y type: <class 'sklearn.utils.Bunch'>\n",
            "{'data': array([[5.1, 3.5, 1.4, 0.2],\n",
            "       [4.9, 3. , 1.4, 0.2],\n",
            "       [4.7, 3.2, 1.3, 0.2],\n",
            "       [4.6, 3.1, 1.5, 0.2],\n",
            "       [5. , 3.6, 1.4, 0.2],\n",
            "       [5.4, 3.9, 1.7, 0.4],\n",
            "       [4.6, 3.4, 1.4, 0.3],\n",
            "       [5. , 3.4, 1.5, 0.2],\n",
            "       [4.4, 2.9, 1.4, 0.2],\n",
            "       [4.9, 3.1, 1.5, 0.1],\n",
            "       [5.4, 3.7, 1.5, 0.2],\n",
            "       [4.8, 3.4, 1.6, 0.2],\n",
            "       [4.8, 3. , 1.4, 0.1],\n",
            "       [4.3, 3. , 1.1, 0.1],\n",
            "       [5.8, 4. , 1.2, 0.2],\n",
            "       [5.7, 4.4, 1.5, 0.4],\n",
            "       [5.4, 3.9, 1.3, 0.4],\n",
            "       [5.1, 3.5, 1.4, 0.3],\n",
            "       [5.7, 3.8, 1.7, 0.3],\n",
            "       [5.1, 3.8, 1.5, 0.3],\n",
            "       [5.4, 3.4, 1.7, 0.2],\n",
            "       [5.1, 3.7, 1.5, 0.4],\n",
            "       [4.6, 3.6, 1. , 0.2],\n",
            "       [5.1, 3.3, 1.7, 0.5],\n",
            "       [4.8, 3.4, 1.9, 0.2],\n",
            "       [5. , 3. , 1.6, 0.2],\n",
            "       [5. , 3.4, 1.6, 0.4],\n",
            "       [5.2, 3.5, 1.5, 0.2],\n",
            "       [5.2, 3.4, 1.4, 0.2],\n",
            "       [4.7, 3.2, 1.6, 0.2],\n",
            "       [4.8, 3.1, 1.6, 0.2],\n",
            "       [5.4, 3.4, 1.5, 0.4],\n",
            "       [5.2, 4.1, 1.5, 0.1],\n",
            "       [5.5, 4.2, 1.4, 0.2],\n",
            "       [4.9, 3.1, 1.5, 0.2],\n",
            "       [5. , 3.2, 1.2, 0.2],\n",
            "       [5.5, 3.5, 1.3, 0.2],\n",
            "       [4.9, 3.6, 1.4, 0.1],\n",
            "       [4.4, 3. , 1.3, 0.2],\n",
            "       [5.1, 3.4, 1.5, 0.2],\n",
            "       [5. , 3.5, 1.3, 0.3],\n",
            "       [4.5, 2.3, 1.3, 0.3],\n",
            "       [4.4, 3.2, 1.3, 0.2],\n",
            "       [5. , 3.5, 1.6, 0.6],\n",
            "       [5.1, 3.8, 1.9, 0.4],\n",
            "       [4.8, 3. , 1.4, 0.3],\n",
            "       [5.1, 3.8, 1.6, 0.2],\n",
            "       [4.6, 3.2, 1.4, 0.2],\n",
            "       [5.3, 3.7, 1.5, 0.2],\n",
            "       [5. , 3.3, 1.4, 0.2],\n",
            "       [7. , 3.2, 4.7, 1.4],\n",
            "       [6.4, 3.2, 4.5, 1.5],\n",
            "       [6.9, 3.1, 4.9, 1.5],\n",
            "       [5.5, 2.3, 4. , 1.3],\n",
            "       [6.5, 2.8, 4.6, 1.5],\n",
            "       [5.7, 2.8, 4.5, 1.3],\n",
            "       [6.3, 3.3, 4.7, 1.6],\n",
            "       [4.9, 2.4, 3.3, 1. ],\n",
            "       [6.6, 2.9, 4.6, 1.3],\n",
            "       [5.2, 2.7, 3.9, 1.4],\n",
            "       [5. , 2. , 3.5, 1. ],\n",
            "       [5.9, 3. , 4.2, 1.5],\n",
            "       [6. , 2.2, 4. , 1. ],\n",
            "       [6.1, 2.9, 4.7, 1.4],\n",
            "       [5.6, 2.9, 3.6, 1.3],\n",
            "       [6.7, 3.1, 4.4, 1.4],\n",
            "       [5.6, 3. , 4.5, 1.5],\n",
            "       [5.8, 2.7, 4.1, 1. ],\n",
            "       [6.2, 2.2, 4.5, 1.5],\n",
            "       [5.6, 2.5, 3.9, 1.1],\n",
            "       [5.9, 3.2, 4.8, 1.8],\n",
            "       [6.1, 2.8, 4. , 1.3],\n",
            "       [6.3, 2.5, 4.9, 1.5],\n",
            "       [6.1, 2.8, 4.7, 1.2],\n",
            "       [6.4, 2.9, 4.3, 1.3],\n",
            "       [6.6, 3. , 4.4, 1.4],\n",
            "       [6.8, 2.8, 4.8, 1.4],\n",
            "       [6.7, 3. , 5. , 1.7],\n",
            "       [6. , 2.9, 4.5, 1.5],\n",
            "       [5.7, 2.6, 3.5, 1. ],\n",
            "       [5.5, 2.4, 3.8, 1.1],\n",
            "       [5.5, 2.4, 3.7, 1. ],\n",
            "       [5.8, 2.7, 3.9, 1.2],\n",
            "       [6. , 2.7, 5.1, 1.6],\n",
            "       [5.4, 3. , 4.5, 1.5],\n",
            "       [6. , 3.4, 4.5, 1.6],\n",
            "       [6.7, 3.1, 4.7, 1.5],\n",
            "       [6.3, 2.3, 4.4, 1.3],\n",
            "       [5.6, 3. , 4.1, 1.3],\n",
            "       [5.5, 2.5, 4. , 1.3],\n",
            "       [5.5, 2.6, 4.4, 1.2],\n",
            "       [6.1, 3. , 4.6, 1.4],\n",
            "       [5.8, 2.6, 4. , 1.2],\n",
            "       [5. , 2.3, 3.3, 1. ],\n",
            "       [5.6, 2.7, 4.2, 1.3],\n",
            "       [5.7, 3. , 4.2, 1.2],\n",
            "       [5.7, 2.9, 4.2, 1.3],\n",
            "       [6.2, 2.9, 4.3, 1.3],\n",
            "       [5.1, 2.5, 3. , 1.1],\n",
            "       [5.7, 2.8, 4.1, 1.3],\n",
            "       [6.3, 3.3, 6. , 2.5],\n",
            "       [5.8, 2.7, 5.1, 1.9],\n",
            "       [7.1, 3. , 5.9, 2.1],\n",
            "       [6.3, 2.9, 5.6, 1.8],\n",
            "       [6.5, 3. , 5.8, 2.2],\n",
            "       [7.6, 3. , 6.6, 2.1],\n",
            "       [4.9, 2.5, 4.5, 1.7],\n",
            "       [7.3, 2.9, 6.3, 1.8],\n",
            "       [6.7, 2.5, 5.8, 1.8],\n",
            "       [7.2, 3.6, 6.1, 2.5],\n",
            "       [6.5, 3.2, 5.1, 2. ],\n",
            "       [6.4, 2.7, 5.3, 1.9],\n",
            "       [6.8, 3. , 5.5, 2.1],\n",
            "       [5.7, 2.5, 5. , 2. ],\n",
            "       [5.8, 2.8, 5.1, 2.4],\n",
            "       [6.4, 3.2, 5.3, 2.3],\n",
            "       [6.5, 3. , 5.5, 1.8],\n",
            "       [7.7, 3.8, 6.7, 2.2],\n",
            "       [7.7, 2.6, 6.9, 2.3],\n",
            "       [6. , 2.2, 5. , 1.5],\n",
            "       [6.9, 3.2, 5.7, 2.3],\n",
            "       [5.6, 2.8, 4.9, 2. ],\n",
            "       [7.7, 2.8, 6.7, 2. ],\n",
            "       [6.3, 2.7, 4.9, 1.8],\n",
            "       [6.7, 3.3, 5.7, 2.1],\n",
            "       [7.2, 3.2, 6. , 1.8],\n",
            "       [6.2, 2.8, 4.8, 1.8],\n",
            "       [6.1, 3. , 4.9, 1.8],\n",
            "       [6.4, 2.8, 5.6, 2.1],\n",
            "       [7.2, 3. , 5.8, 1.6],\n",
            "       [7.4, 2.8, 6.1, 1.9],\n",
            "       [7.9, 3.8, 6.4, 2. ],\n",
            "       [6.4, 2.8, 5.6, 2.2],\n",
            "       [6.3, 2.8, 5.1, 1.5],\n",
            "       [6.1, 2.6, 5.6, 1.4],\n",
            "       [7.7, 3. , 6.1, 2.3],\n",
            "       [6.3, 3.4, 5.6, 2.4],\n",
            "       [6.4, 3.1, 5.5, 1.8],\n",
            "       [6. , 3. , 4.8, 1.8],\n",
            "       [6.9, 3.1, 5.4, 2.1],\n",
            "       [6.7, 3.1, 5.6, 2.4],\n",
            "       [6.9, 3.1, 5.1, 2.3],\n",
            "       [5.8, 2.7, 5.1, 1.9],\n",
            "       [6.8, 3.2, 5.9, 2.3],\n",
            "       [6.7, 3.3, 5.7, 2.5],\n",
            "       [6.7, 3. , 5.2, 2.3],\n",
            "       [6.3, 2.5, 5. , 1.9],\n",
            "       [6.5, 3. , 5.2, 2. ],\n",
            "       [6.2, 3.4, 5.4, 2.3],\n",
            "       [5.9, 3. , 5.1, 1.8]]), 'target': array([0, 0, 0, 0, 0, 0, 0, 0, 0, 0, 0, 0, 0, 0, 0, 0, 0, 0, 0, 0, 0, 0,\n",
            "       0, 0, 0, 0, 0, 0, 0, 0, 0, 0, 0, 0, 0, 0, 0, 0, 0, 0, 0, 0, 0, 0,\n",
            "       0, 0, 0, 0, 0, 0, 1, 1, 1, 1, 1, 1, 1, 1, 1, 1, 1, 1, 1, 1, 1, 1,\n",
            "       1, 1, 1, 1, 1, 1, 1, 1, 1, 1, 1, 1, 1, 1, 1, 1, 1, 1, 1, 1, 1, 1,\n",
            "       1, 1, 1, 1, 1, 1, 1, 1, 1, 1, 1, 1, 2, 2, 2, 2, 2, 2, 2, 2, 2, 2,\n",
            "       2, 2, 2, 2, 2, 2, 2, 2, 2, 2, 2, 2, 2, 2, 2, 2, 2, 2, 2, 2, 2, 2,\n",
            "       2, 2, 2, 2, 2, 2, 2, 2, 2, 2, 2, 2, 2, 2, 2, 2, 2, 2]), 'target_names': array(['setosa', 'versicolor', 'virginica'], dtype='<U10'), 'DESCR': '.. _iris_dataset:\\n\\nIris plants dataset\\n--------------------\\n\\n**Data Set Characteristics:**\\n\\n    :Number of Instances: 150 (50 in each of three classes)\\n    :Number of Attributes: 4 numeric, predictive attributes and the class\\n    :Attribute Information:\\n        - sepal length in cm\\n        - sepal width in cm\\n        - petal length in cm\\n        - petal width in cm\\n        - class:\\n                - Iris-Setosa\\n                - Iris-Versicolour\\n                - Iris-Virginica\\n                \\n    :Summary Statistics:\\n\\n    ============== ==== ==== ======= ===== ====================\\n                    Min  Max   Mean    SD   Class Correlation\\n    ============== ==== ==== ======= ===== ====================\\n    sepal length:   4.3  7.9   5.84   0.83    0.7826\\n    sepal width:    2.0  4.4   3.05   0.43   -0.4194\\n    petal length:   1.0  6.9   3.76   1.76    0.9490  (high!)\\n    petal width:    0.1  2.5   1.20   0.76    0.9565  (high!)\\n    ============== ==== ==== ======= ===== ====================\\n\\n    :Missing Attribute Values: None\\n    :Class Distribution: 33.3% for each of 3 classes.\\n    :Creator: R.A. Fisher\\n    :Donor: Michael Marshall (MARSHALL%PLU@io.arc.nasa.gov)\\n    :Date: July, 1988\\n\\nThe famous Iris database, first used by Sir R.A. Fisher. The dataset is taken\\nfrom Fisher\\'s paper. Note that it\\'s the same as in R, but not as in the UCI\\nMachine Learning Repository, which has two wrong data points.\\n\\nThis is perhaps the best known database to be found in the\\npattern recognition literature.  Fisher\\'s paper is a classic in the field and\\nis referenced frequently to this day.  (See Duda & Hart, for example.)  The\\ndata set contains 3 classes of 50 instances each, where each class refers to a\\ntype of iris plant.  One class is linearly separable from the other 2; the\\nlatter are NOT linearly separable from each other.\\n\\n.. topic:: References\\n\\n   - Fisher, R.A. \"The use of multiple measurements in taxonomic problems\"\\n     Annual Eugenics, 7, Part II, 179-188 (1936); also in \"Contributions to\\n     Mathematical Statistics\" (John Wiley, NY, 1950).\\n   - Duda, R.O., & Hart, P.E. (1973) Pattern Classification and Scene Analysis.\\n     (Q327.D83) John Wiley & Sons.  ISBN 0-471-22361-1.  See page 218.\\n   - Dasarathy, B.V. (1980) \"Nosing Around the Neighborhood: A New System\\n     Structure and Classification Rule for Recognition in Partially Exposed\\n     Environments\".  IEEE Transactions on Pattern Analysis and Machine\\n     Intelligence, Vol. PAMI-2, No. 1, 67-71.\\n   - Gates, G.W. (1972) \"The Reduced Nearest Neighbor Rule\".  IEEE Transactions\\n     on Information Theory, May 1972, 431-433.\\n   - See also: 1988 MLC Proceedings, 54-64.  Cheeseman et al\"s AUTOCLASS II\\n     conceptual clustering system finds 3 classes in the data.\\n   - Many, many more ...', 'feature_names': ['sepal length (cm)', 'sepal width (cm)', 'petal length (cm)', 'petal width (cm)'], 'filename': '/usr/local/lib/python3.7/dist-packages/sklearn/datasets/data/iris.csv'}\n"
          ]
        }
      ]
    },
    {
      "cell_type": "code",
      "metadata": {
        "colab": {
          "base_uri": "https://localhost:8080/"
        },
        "id": "8bmef5NxpDrk",
        "outputId": "48c849d4-68fb-4357-9b64-21038d257e60"
      },
      "source": [
        "X = X_y.data\n",
        "y = X_y.target\n",
        "\n",
        "print('X shape:', X.shape, 'type(X):', type(X))\n",
        "print('y shape:', y.shape, 'type(y):', type(y))"
      ],
      "execution_count": 31,
      "outputs": [
        {
          "output_type": "stream",
          "name": "stdout",
          "text": [
            "X shape: (150, 4) type(X): <class 'numpy.ndarray'>\n",
            "y shape: (150,) type(y): <class 'numpy.ndarray'>\n"
          ]
        }
      ]
    },
    {
      "cell_type": "code",
      "metadata": {
        "colab": {
          "base_uri": "https://localhost:8080/"
        },
        "id": "AQERrqFvpevt",
        "outputId": "38f3f8fb-b2c7-4f77-d0e7-ef7d1099a019"
      },
      "source": [
        "print('Unique values of y:', np.unique(y))"
      ],
      "execution_count": 32,
      "outputs": [
        {
          "output_type": "stream",
          "name": "stdout",
          "text": [
            "Unique values of y: [0 1 2]\n"
          ]
        }
      ]
    },
    {
      "cell_type": "code",
      "metadata": {
        "colab": {
          "base_uri": "https://localhost:8080/"
        },
        "id": "tnj48H8yppo0",
        "outputId": "8351daf4-16e9-430c-823f-63bc23fa2fb9"
      },
      "source": [
        "X_y_description = X_y.DESCR\n",
        "print('type(X_y_description:', type(X_y_description))\n",
        "print(X_y_description)"
      ],
      "execution_count": 33,
      "outputs": [
        {
          "output_type": "stream",
          "name": "stdout",
          "text": [
            "type(X_y_description: <class 'str'>\n",
            ".. _iris_dataset:\n",
            "\n",
            "Iris plants dataset\n",
            "--------------------\n",
            "\n",
            "**Data Set Characteristics:**\n",
            "\n",
            "    :Number of Instances: 150 (50 in each of three classes)\n",
            "    :Number of Attributes: 4 numeric, predictive attributes and the class\n",
            "    :Attribute Information:\n",
            "        - sepal length in cm\n",
            "        - sepal width in cm\n",
            "        - petal length in cm\n",
            "        - petal width in cm\n",
            "        - class:\n",
            "                - Iris-Setosa\n",
            "                - Iris-Versicolour\n",
            "                - Iris-Virginica\n",
            "                \n",
            "    :Summary Statistics:\n",
            "\n",
            "    ============== ==== ==== ======= ===== ====================\n",
            "                    Min  Max   Mean    SD   Class Correlation\n",
            "    ============== ==== ==== ======= ===== ====================\n",
            "    sepal length:   4.3  7.9   5.84   0.83    0.7826\n",
            "    sepal width:    2.0  4.4   3.05   0.43   -0.4194\n",
            "    petal length:   1.0  6.9   3.76   1.76    0.9490  (high!)\n",
            "    petal width:    0.1  2.5   1.20   0.76    0.9565  (high!)\n",
            "    ============== ==== ==== ======= ===== ====================\n",
            "\n",
            "    :Missing Attribute Values: None\n",
            "    :Class Distribution: 33.3% for each of 3 classes.\n",
            "    :Creator: R.A. Fisher\n",
            "    :Donor: Michael Marshall (MARSHALL%PLU@io.arc.nasa.gov)\n",
            "    :Date: July, 1988\n",
            "\n",
            "The famous Iris database, first used by Sir R.A. Fisher. The dataset is taken\n",
            "from Fisher's paper. Note that it's the same as in R, but not as in the UCI\n",
            "Machine Learning Repository, which has two wrong data points.\n",
            "\n",
            "This is perhaps the best known database to be found in the\n",
            "pattern recognition literature.  Fisher's paper is a classic in the field and\n",
            "is referenced frequently to this day.  (See Duda & Hart, for example.)  The\n",
            "data set contains 3 classes of 50 instances each, where each class refers to a\n",
            "type of iris plant.  One class is linearly separable from the other 2; the\n",
            "latter are NOT linearly separable from each other.\n",
            "\n",
            ".. topic:: References\n",
            "\n",
            "   - Fisher, R.A. \"The use of multiple measurements in taxonomic problems\"\n",
            "     Annual Eugenics, 7, Part II, 179-188 (1936); also in \"Contributions to\n",
            "     Mathematical Statistics\" (John Wiley, NY, 1950).\n",
            "   - Duda, R.O., & Hart, P.E. (1973) Pattern Classification and Scene Analysis.\n",
            "     (Q327.D83) John Wiley & Sons.  ISBN 0-471-22361-1.  See page 218.\n",
            "   - Dasarathy, B.V. (1980) \"Nosing Around the Neighborhood: A New System\n",
            "     Structure and Classification Rule for Recognition in Partially Exposed\n",
            "     Environments\".  IEEE Transactions on Pattern Analysis and Machine\n",
            "     Intelligence, Vol. PAMI-2, No. 1, 67-71.\n",
            "   - Gates, G.W. (1972) \"The Reduced Nearest Neighbor Rule\".  IEEE Transactions\n",
            "     on Information Theory, May 1972, 431-433.\n",
            "   - See also: 1988 MLC Proceedings, 54-64.  Cheeseman et al\"s AUTOCLASS II\n",
            "     conceptual clustering system finds 3 classes in the data.\n",
            "   - Many, many more ...\n"
          ]
        }
      ]
    },
    {
      "cell_type": "code",
      "metadata": {
        "colab": {
          "base_uri": "https://localhost:8080/"
        },
        "id": "SQQ7YDczqZNc",
        "outputId": "35cdf5e2-7551-4eb1-df50-75598492b79b"
      },
      "source": [
        "XXT = np.matmul(X, np.transpose(X))\n",
        "XTX = np.matmul(X.T, X)\n",
        "\n",
        "print('XXT shape:', XXT.shape, 'XTX shape:', XTX.shape)"
      ],
      "execution_count": 34,
      "outputs": [
        {
          "output_type": "stream",
          "name": "stdout",
          "text": [
            "XXT shape: (150, 150) XTX shape: (4, 4)\n"
          ]
        }
      ]
    },
    {
      "cell_type": "code",
      "metadata": {
        "colab": {
          "base_uri": "https://localhost:8080/"
        },
        "id": "7LgNCcjgrkXE",
        "outputId": "62f282d3-199d-4c07-d839-e91d7910d2a1"
      },
      "source": [
        "print('XXT matrix')\n",
        "if (XXT.shape[0] == XXT.shape[1]):\n",
        "  print('XXT is square')\n",
        "else:\n",
        "  print('XXT is not square')\n",
        "\n",
        "if np.all(XXT == XXT.T):\n",
        "  print('XXT is symmetric')\n",
        "else:\n",
        "  print('XXT is not symmetric')\n",
        "\n",
        "print('XTX matrix')\n",
        "if (XTX.shape[0] == XTX.shape[1]):\n",
        "  print('XTX is square')\n",
        "else:\n",
        "  print('XTX is not square')\n",
        "\n",
        "if np.all(XTX == XTX.T):\n",
        "  print('XTX is symmetric')\n",
        "else:\n",
        "  print('XTX is not symmetric')"
      ],
      "execution_count": 35,
      "outputs": [
        {
          "output_type": "stream",
          "name": "stdout",
          "text": [
            "XXT matrix\n",
            "XXT is square\n",
            "XXT is symmetric\n",
            "XTX matrix\n",
            "XTX is square\n",
            "XTX is symmetric\n"
          ]
        }
      ]
    },
    {
      "cell_type": "code",
      "metadata": {
        "colab": {
          "base_uri": "https://localhost:8080/"
        },
        "id": "ssPUd63Zr7Oy",
        "outputId": "547317b1-100e-460c-8a06-46701b770e5c"
      },
      "source": [
        "print('eigen values of XXT')\n",
        "eig_val_XXT, eig_vec_XXT = np.linalg.eig(XXT)\n",
        "print(eig_val_XXT)\n",
        "\n",
        "print('eigen values of XTX')\n",
        "eig_val_XTX, eig_vec_XTX = np.linalg.eig(XTX)\n",
        "print(eig_val_XTX)"
      ],
      "execution_count": 36,
      "outputs": [
        {
          "output_type": "stream",
          "name": "stdout",
          "text": [
            "eigen values of XXT\n",
            "[ 9.20830507e+03+0.00000000e+00j  3.15454317e+02+0.00000000e+00j\n",
            "  1.19780429e+01+0.00000000e+00j  3.55257020e+00+0.00000000e+00j\n",
            "  2.06713651e-13+3.58977719e-13j  2.06713651e-13-3.58977719e-13j\n",
            "  3.59549332e-13+0.00000000e+00j -2.79159461e-13+1.24119624e-13j\n",
            " -2.79159461e-13-1.24119624e-13j -3.05793520e-13+2.53582729e-14j\n",
            " -3.05793520e-13-2.53582729e-14j  2.66809575e-13+0.00000000e+00j\n",
            " -2.58688793e-13+1.55670403e-14j -2.58688793e-13-1.55670403e-14j\n",
            " -1.55076916e-13+1.96513575e-13j -1.55076916e-13-1.96513575e-13j\n",
            "  2.29177259e-13+9.80129569e-14j  2.29177259e-13-9.80129569e-14j\n",
            " -7.06028802e-14+2.33137565e-13j -7.06028802e-14-2.33137565e-13j\n",
            "  1.56568083e-14+2.43544381e-13j  1.56568083e-14-2.43544381e-13j\n",
            "  1.16650048e-13+2.10851521e-13j  1.16650048e-13-2.10851521e-13j\n",
            "  6.52440378e-14+2.29364147e-13j  6.52440378e-14-2.29364147e-13j\n",
            "  1.78962085e-13+1.44819273e-13j  1.78962085e-13-1.44819273e-13j\n",
            " -1.95980239e-13+1.29542552e-13j -1.95980239e-13-1.29542552e-13j\n",
            "  2.12306900e-13+6.27047301e-14j  2.12306900e-13-6.27047301e-14j\n",
            "  1.74822220e-13+0.00000000e+00j -1.65154368e-13+0.00000000e+00j\n",
            " -1.35832533e-13+7.27189929e-14j -1.35832533e-13-7.27189929e-14j\n",
            " -1.42420238e-13+4.41592230e-14j -1.42420238e-13-4.41592230e-14j\n",
            " -8.67344941e-14+1.16971312e-13j -8.67344941e-14-1.16971312e-13j\n",
            "  7.25337473e-14+1.16126900e-13j  7.25337473e-14-1.16126900e-13j\n",
            " -3.74459569e-14+1.34716155e-13j -3.74459569e-14-1.34716155e-13j\n",
            "  1.22320572e-13+5.77821874e-14j  1.22320572e-13-5.77821874e-14j\n",
            " -2.29679922e-14+1.32485857e-13j -2.29679922e-14-1.32485857e-13j\n",
            "  1.35203624e-13+2.67996357e-14j  1.35203624e-13-2.67996357e-14j\n",
            "  1.33598518e-13+2.11910896e-14j  1.33598518e-13-2.11910896e-14j\n",
            "  1.35156156e-13+0.00000000e+00j -1.31650538e-13+4.84374293e-15j\n",
            " -1.31650538e-13-4.84374293e-15j -1.13847086e-13+5.60592862e-14j\n",
            " -1.13847086e-13-5.60592862e-14j  1.06861148e-13+6.01171032e-14j\n",
            "  1.06861148e-13-6.01171032e-14j  1.22350688e-13+0.00000000e+00j\n",
            " -6.03192265e-14+1.00038783e-13j -6.03192265e-14-1.00038783e-13j\n",
            " -9.23881250e-14+6.01617980e-14j -9.23881250e-14-6.01617980e-14j\n",
            "  3.62679431e-14+1.07201954e-13j  3.62679431e-14-1.07201954e-13j\n",
            " -2.50835039e-14+1.06633653e-13j -2.50835039e-14-1.06633653e-13j\n",
            "  1.12469097e-13+0.00000000e+00j  8.07234196e-14+6.48425085e-14j\n",
            "  8.07234196e-14-6.48425085e-14j  4.79379334e-14+9.27506683e-14j\n",
            "  4.79379334e-14-9.27506683e-14j  1.03237327e-13+0.00000000e+00j\n",
            " -1.04711147e-13+2.53919337e-14j -1.04711147e-13-2.53919337e-14j\n",
            " -5.06443283e-15+1.04949969e-13j -5.06443283e-15-1.04949969e-13j\n",
            "  8.38419350e-14+5.69695453e-14j  8.38419350e-14-5.69695453e-14j\n",
            "  1.50208545e-14+9.43954040e-14j  1.50208545e-14-9.43954040e-14j\n",
            " -4.95417058e-14+7.98126267e-14j -4.95417058e-14-7.98126267e-14j\n",
            "  9.05508093e-14+2.46029133e-14j  9.05508093e-14-2.46029133e-14j\n",
            " -6.38634786e-14+6.25911864e-14j -6.38634786e-14-6.25911864e-14j\n",
            "  5.43044612e-14+6.97532525e-14j  5.43044612e-14-6.97532525e-14j\n",
            " -2.75540417e-14+8.82241763e-14j -2.75540417e-14-8.82241763e-14j\n",
            " -8.09528851e-14+4.20658431e-14j -8.09528851e-14-4.20658431e-14j\n",
            " -9.95397703e-15+8.83054320e-14j -9.95397703e-15-8.83054320e-14j\n",
            "  8.39403968e-14+0.00000000e+00j  2.49576036e-14+7.85865387e-14j\n",
            "  2.49576036e-14-7.85865387e-14j  5.59268541e-14+4.92662165e-14j\n",
            "  5.59268541e-14-4.92662165e-14j -9.02202121e-14+0.00000000e+00j\n",
            "  7.25199479e-14+2.63234956e-14j  7.25199479e-14-2.63234956e-14j\n",
            " -5.83204523e-14+4.50338776e-14j -5.83204523e-14-4.50338776e-14j\n",
            " -8.27909580e-14+1.34683449e-14j -8.27909580e-14-1.34683449e-14j\n",
            " -1.59674010e-14+7.34216034e-14j -1.59674010e-14-7.34216034e-14j\n",
            "  4.61804091e-14+5.06943114e-14j  4.61804091e-14-5.06943114e-14j\n",
            " -8.22816896e-14+0.00000000e+00j -3.40008504e-14+5.50770535e-14j\n",
            " -3.40008504e-14-5.50770535e-14j  3.30418253e-14+5.07306229e-14j\n",
            "  3.30418253e-14-5.07306229e-14j  6.52728048e-14+0.00000000e+00j\n",
            "  3.56598655e-16+6.08600215e-14j  3.56598655e-16-6.08600215e-14j\n",
            "  5.55186157e-14+0.00000000e+00j -6.43213186e-14+1.86794546e-14j\n",
            " -6.43213186e-14-1.86794546e-14j -4.66451455e-14+3.57583111e-14j\n",
            " -4.66451455e-14-3.57583111e-14j -6.31771077e-14+0.00000000e+00j\n",
            "  1.29443978e-14+4.98460958e-14j  1.29443978e-14-4.98460958e-14j\n",
            " -5.40683010e-14+0.00000000e+00j  3.83284894e-14+1.72384159e-14j\n",
            "  3.83284894e-14-1.72384159e-14j  3.70486228e-14+0.00000000e+00j\n",
            " -2.02224744e-14+2.83735029e-14j -2.02224744e-14-2.83735029e-14j\n",
            "  1.01219534e-14+3.55766784e-14j  1.01219534e-14-3.55766784e-14j\n",
            "  1.86287961e-14+1.70734688e-14j  1.86287961e-14-1.70734688e-14j\n",
            "  4.95123456e-15+2.78692220e-14j  4.95123456e-15-2.78692220e-14j\n",
            "  2.13925759e-14+4.54045090e-15j  2.13925759e-14-4.54045090e-15j\n",
            " -2.12716833e-14+2.22744145e-14j -2.12716833e-14-2.22744145e-14j\n",
            " -3.72745249e-14+0.00000000e+00j -3.15062129e-14+0.00000000e+00j\n",
            " -2.51723783e-14+7.04187868e-15j -2.51723783e-14-7.04187868e-15j\n",
            "  1.47985535e-15+0.00000000e+00j -5.47029059e-30+0.00000000e+00j]\n",
            "eigen values of XTX\n",
            "[9.20830507e+03 3.15454317e+02 1.19780429e+01 3.55257020e+00]\n"
          ]
        }
      ]
    },
    {
      "cell_type": "code",
      "metadata": {
        "colab": {
          "base_uri": "https://localhost:8080/"
        },
        "id": "cbe3VY2zs1zf",
        "outputId": "bd68ef44-69d4-420e-8048-ca67c583c3ea"
      },
      "source": [
        "print('eigen values of XXT')\n",
        "eig_val_XXT, eig_vec_XXT = np.linalg.eigh(XXT)\n",
        "print(eig_val_XXT)\n",
        "\n",
        "print('eigen values of XTX')\n",
        "eig_val_XTX, eig_vec_XTX = np.linalg.eigh(XTX)\n",
        "print(eig_val_XTX)"
      ],
      "execution_count": 37,
      "outputs": [
        {
          "output_type": "stream",
          "name": "stdout",
          "text": [
            "eigen values of XXT\n",
            "[-2.92292744e-12 -2.44525819e-12 -1.97461139e-12 -1.41011744e-12\n",
            " -1.34402091e-12 -1.32965121e-12 -1.13804380e-12 -1.06038913e-12\n",
            " -9.95999691e-13 -8.86376260e-13 -7.28746414e-13 -7.25209156e-13\n",
            " -6.71927383e-13 -5.30233093e-13 -5.09010796e-13 -5.03555718e-13\n",
            " -4.76519706e-13 -4.15023902e-13 -4.13942482e-13 -3.87926173e-13\n",
            " -3.55236239e-13 -3.39333616e-13 -3.28517068e-13 -3.24036492e-13\n",
            " -2.99566157e-13 -2.88725704e-13 -2.81302887e-13 -2.54107852e-13\n",
            " -2.47595233e-13 -2.27253201e-13 -2.17705232e-13 -2.02629641e-13\n",
            " -1.93038188e-13 -1.91208729e-13 -1.89352856e-13 -1.84099599e-13\n",
            " -1.71402416e-13 -1.70751713e-13 -1.61794888e-13 -1.60564337e-13\n",
            " -1.51888093e-13 -1.49597487e-13 -1.39563457e-13 -1.37491763e-13\n",
            " -1.28681780e-13 -1.23852463e-13 -1.19957040e-13 -1.14048333e-13\n",
            " -1.09931182e-13 -1.05338834e-13 -9.77173221e-14 -9.42447642e-14\n",
            " -9.23890410e-14 -8.36051813e-14 -8.23730142e-14 -7.78339975e-14\n",
            " -7.17591605e-14 -7.06411316e-14 -6.99972220e-14 -5.90064125e-14\n",
            " -5.74135222e-14 -4.87504408e-14 -4.41825371e-14 -4.36376941e-14\n",
            " -3.97257134e-14 -3.94182086e-14 -3.43747018e-14 -3.32500435e-14\n",
            " -2.80421662e-14 -2.42455495e-14 -2.20859989e-14 -2.05824648e-14\n",
            " -1.96093354e-14 -1.64630203e-14 -1.00657877e-14 -5.95525230e-15\n",
            "  1.77862335e-15  6.71283462e-15  9.63168067e-15  1.26140720e-14\n",
            "  1.34234014e-14  1.72210709e-14  2.37934738e-14  2.59140554e-14\n",
            "  3.08266568e-14  3.78492664e-14  3.89490751e-14  3.96641925e-14\n",
            "  4.34688340e-14  4.72447552e-14  4.90996625e-14  5.45770122e-14\n",
            "  5.66225562e-14  7.07255412e-14  7.08555942e-14  7.19105463e-14\n",
            "  7.24260443e-14  8.58481441e-14  8.69644393e-14  8.74795996e-14\n",
            "  8.88591118e-14  9.13006705e-14  1.00512965e-13  1.15240657e-13\n",
            "  1.20669925e-13  1.21116851e-13  1.29567582e-13  1.40787321e-13\n",
            "  1.43727538e-13  1.45472345e-13  1.45743872e-13  1.52160031e-13\n",
            "  1.70051674e-13  1.87380859e-13  1.88125705e-13  2.01659771e-13\n",
            "  2.08683265e-13  2.10254485e-13  2.23658767e-13  2.47009374e-13\n",
            "  2.55395404e-13  2.56338789e-13  2.73390006e-13  2.79336888e-13\n",
            "  2.85586979e-13  3.22582390e-13  3.43167805e-13  3.43397503e-13\n",
            "  3.73678190e-13  3.98863546e-13  4.38711916e-13  4.60748583e-13\n",
            "  4.79667560e-13  5.30542622e-13  5.87114509e-13  6.16962966e-13\n",
            "  7.31700391e-13  7.83390608e-13  1.00835397e-12  1.12101906e-12\n",
            "  1.19707076e-12  1.31721082e-12  1.54958460e-12  1.82248600e-12\n",
            "  1.93720267e-12  2.24585452e-12  3.55257020e+00  1.19780429e+01\n",
            "  3.15454317e+02  9.20830507e+03]\n",
            "eigen values of XTX\n",
            "[3.55257020e+00 1.19780429e+01 3.15454317e+02 9.20830507e+03]\n"
          ]
        }
      ]
    },
    {
      "cell_type": "code",
      "metadata": {
        "colab": {
          "base_uri": "https://localhost:8080/"
        },
        "id": "xukZmyu6tvSC",
        "outputId": "2f401768-853e-482c-ee5a-30c696dd6e42"
      },
      "source": [
        "print('positive eigen values of XXT')\n",
        "eig_val_XXT, _ = np.linalg.eigh(XXT)\n",
        "print(eig_val_XXT[np.where(eig_val_XXT > 0)])\n",
        "      \n",
        "print('positive eigen values of XTX')\n",
        "eig_val_XTX, _ = np.linalg.eigh(XTX)\n",
        "print(eig_val_XTX[np.where(eig_val_XTX > 0)])"
      ],
      "execution_count": 38,
      "outputs": [
        {
          "output_type": "stream",
          "name": "stdout",
          "text": [
            "positive eigen values of XXT\n",
            "[1.77862335e-15 6.71283462e-15 9.63168067e-15 1.26140720e-14\n",
            " 1.34234014e-14 1.72210709e-14 2.37934738e-14 2.59140554e-14\n",
            " 3.08266568e-14 3.78492664e-14 3.89490751e-14 3.96641925e-14\n",
            " 4.34688340e-14 4.72447552e-14 4.90996625e-14 5.45770122e-14\n",
            " 5.66225562e-14 7.07255412e-14 7.08555942e-14 7.19105463e-14\n",
            " 7.24260443e-14 8.58481441e-14 8.69644393e-14 8.74795996e-14\n",
            " 8.88591118e-14 9.13006705e-14 1.00512965e-13 1.15240657e-13\n",
            " 1.20669925e-13 1.21116851e-13 1.29567582e-13 1.40787321e-13\n",
            " 1.43727538e-13 1.45472345e-13 1.45743872e-13 1.52160031e-13\n",
            " 1.70051674e-13 1.87380859e-13 1.88125705e-13 2.01659771e-13\n",
            " 2.08683265e-13 2.10254485e-13 2.23658767e-13 2.47009374e-13\n",
            " 2.55395404e-13 2.56338789e-13 2.73390006e-13 2.79336888e-13\n",
            " 2.85586979e-13 3.22582390e-13 3.43167805e-13 3.43397503e-13\n",
            " 3.73678190e-13 3.98863546e-13 4.38711916e-13 4.60748583e-13\n",
            " 4.79667560e-13 5.30542622e-13 5.87114509e-13 6.16962966e-13\n",
            " 7.31700391e-13 7.83390608e-13 1.00835397e-12 1.12101906e-12\n",
            " 1.19707076e-12 1.31721082e-12 1.54958460e-12 1.82248600e-12\n",
            " 1.93720267e-12 2.24585452e-12 3.55257020e+00 1.19780429e+01\n",
            " 3.15454317e+02 9.20830507e+03]\n",
            "positive eigen values of XTX\n",
            "[3.55257020e+00 1.19780429e+01 3.15454317e+02 9.20830507e+03]\n"
          ]
        }
      ]
    },
    {
      "cell_type": "code",
      "metadata": {
        "colab": {
          "base_uri": "https://localhost:8080/"
        },
        "id": "fuLm-2rDvFkj",
        "outputId": "411d75f2-f572-41fc-aea9-93b3bb0662b0"
      },
      "source": [
        "print('Rank of XXT and XTX matrices')\n",
        "print('rank(XXT):', np.linalg.matrix_rank(XXT), 'rank(XTX):', np.linalg.matrix_rank(XTX))"
      ],
      "execution_count": 39,
      "outputs": [
        {
          "output_type": "stream",
          "name": "stdout",
          "text": [
            "Rank of XXT and XTX matrices\n",
            "rank(XXT): 4 rank(XTX): 4\n"
          ]
        }
      ]
    },
    {
      "cell_type": "code",
      "metadata": {
        "colab": {
          "base_uri": "https://localhost:8080/"
        },
        "id": "qII9m0tDvtgs",
        "outputId": "56dfd500-7ed0-482d-f68a-439ce6fb0f8c"
      },
      "source": [
        "X_class0 = X[np.where(y == 0), :].squeeze()\n",
        "print('X_class0 shape:', X_class0.shape)\n",
        "\n",
        "X_class1 = X[np.where(y == 1), :].squeeze()\n",
        "print('X_class1 shape:', X_class1.shape)\n",
        "\n",
        "X_class2 = X[np.where(y == 2), :].squeeze()\n",
        "print('X_class2 shape:', X_class2.shape)"
      ],
      "execution_count": 40,
      "outputs": [
        {
          "output_type": "stream",
          "name": "stdout",
          "text": [
            "X_class0 shape: (50, 4)\n",
            "X_class1 shape: (50, 4)\n",
            "X_class2 shape: (50, 4)\n"
          ]
        }
      ]
    },
    {
      "cell_type": "code",
      "metadata": {
        "colab": {
          "base_uri": "https://localhost:8080/"
        },
        "id": "7y85DLhGwhK3",
        "outputId": "eb3579c9-1c04-401a-e054-d37ee55d5cb1"
      },
      "source": [
        "print(np.dot(X_class0[0]/np.linalg.norm(X_class0[0]), X_class0[1]/np.linalg.norm(X_class0[1])))"
      ],
      "execution_count": 41,
      "outputs": [
        {
          "output_type": "stream",
          "name": "stdout",
          "text": [
            "0.9985791635040219\n"
          ]
        }
      ]
    },
    {
      "cell_type": "code",
      "metadata": {
        "colab": {
          "base_uri": "https://localhost:8080/"
        },
        "id": "qAkYO8FJxN6T",
        "outputId": "6e68ce1b-68bd-419a-c18c-a7812178e3f1"
      },
      "source": [
        "print(np.dot(X_class1[30]/np.linalg.norm(X_class1[30]), X_class1[31]/np.linalg.norm(X_class1[31])))"
      ],
      "execution_count": 42,
      "outputs": [
        {
          "output_type": "stream",
          "name": "stdout",
          "text": [
            "0.9998485851489703\n"
          ]
        }
      ]
    },
    {
      "cell_type": "code",
      "metadata": {
        "colab": {
          "base_uri": "https://localhost:8080/"
        },
        "id": "Y04Jq9MbxTgi",
        "outputId": "7795cc88-b421-4895-c547-76a1ecbbbd4f"
      },
      "source": [
        "print(np.dot(X_class2[20]/np.linalg.norm(X_class2[20]), X_class2[21]/np.linalg.norm(X_class2[21])))"
      ],
      "execution_count": 43,
      "outputs": [
        {
          "output_type": "stream",
          "name": "stdout",
          "text": [
            "0.9994961306031582\n"
          ]
        }
      ]
    },
    {
      "cell_type": "code",
      "metadata": {
        "colab": {
          "base_uri": "https://localhost:8080/"
        },
        "id": "AfEghstpxbni",
        "outputId": "68b853ef-b65b-4b1c-8d90-f69088726f9e"
      },
      "source": [
        "print(np.dot(X_class0[0]/np.linalg.norm(X_class0[0]), X_class1[10]/np.linalg.norm(X_class1[10])))"
      ],
      "execution_count": 44,
      "outputs": [
        {
          "output_type": "stream",
          "name": "stdout",
          "text": [
            "0.9116698722587725\n"
          ]
        }
      ]
    },
    {
      "cell_type": "code",
      "metadata": {
        "colab": {
          "base_uri": "https://localhost:8080/"
        },
        "id": "XmalKa97y7YB",
        "outputId": "7f0a6d97-fcad-4c21-a3d8-c9776b7d7784"
      },
      "source": [
        "print(np.dot(X_class1[10]/np.linalg.norm(X_class1[10]), X_class2[20]/np.linalg.norm(X_class2[20])))"
      ],
      "execution_count": 45,
      "outputs": [
        {
          "output_type": "stream",
          "name": "stdout",
          "text": [
            "0.9934886738709302\n"
          ]
        }
      ]
    },
    {
      "cell_type": "code",
      "metadata": {
        "colab": {
          "base_uri": "https://localhost:8080/"
        },
        "id": "dpZGoyFfzClU",
        "outputId": "6cad0250-df9a-4ba5-f8f3-bb5bc8e26ac6"
      },
      "source": [
        "print(np.dot(X_class2[20]/np.linalg.norm(X_class2[20]), X_class0[0]/np.linalg.norm(X_class0[0])))"
      ],
      "execution_count": 46,
      "outputs": [
        {
          "output_type": "stream",
          "name": "stdout",
          "text": [
            "0.8836581406416848\n"
          ]
        }
      ]
    }
  ]
}