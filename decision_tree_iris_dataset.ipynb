{
  "nbformat": 4,
  "nbformat_minor": 0,
  "metadata": {
    "colab": {
      "name": "Untitled1.ipynb",
      "provenance": [],
      "authorship_tag": "ABX9TyNbJbr9HVcHoM+0j2jJyy7E",
      "include_colab_link": true
    },
    "kernelspec": {
      "name": "python3",
      "display_name": "Python 3"
    },
    "language_info": {
      "name": "python"
    }
  },
  "cells": [
    {
      "cell_type": "markdown",
      "metadata": {
        "id": "view-in-github",
        "colab_type": "text"
      },
      "source": [
        "<a href=\"https://colab.research.google.com/github/vinodnbhat/AIML-CEP-2021-Assignments/blob/main/decision_tree_iris_dataset.ipynb\" target=\"_parent\"><img src=\"https://colab.research.google.com/assets/colab-badge.svg\" alt=\"Open In Colab\"/></a>"
      ]
    },
    {
      "cell_type": "code",
      "metadata": {
        "colab": {
          "base_uri": "https://localhost:8080/"
        },
        "id": "FGHfcBavGviH",
        "outputId": "1353ee5c-1188-452d-9faf-e65b308338d9"
      },
      "source": [
        "import numpy as np\n",
        "\n",
        "from sklearn.datasets import load_iris\n",
        "from sklearn import tree\n",
        "\n",
        "np.random.seed(1000)\n",
        "iris = load_iris()\n",
        "print('iris data shape: ', iris.data.shape)\n",
        "A = iris.data\n",
        "print('iris target shape: ', iris.target.shape)\n",
        "print('Features of the first 5 samples of iris data:')\n",
        "print(A[:5, ])"
      ],
      "execution_count": 1,
      "outputs": [
        {
          "output_type": "stream",
          "name": "stdout",
          "text": [
            "iris data shape:  (150, 4)\n",
            "iris target shape:  (150,)\n",
            "Features of the first 5 samples of iris data:\n",
            "[[5.1 3.5 1.4 0.2]\n",
            " [4.9 3.  1.4 0.2]\n",
            " [4.7 3.2 1.3 0.2]\n",
            " [4.6 3.1 1.5 0.2]\n",
            " [5.  3.6 1.4 0.2]]\n"
          ]
        }
      ]
    },
    {
      "cell_type": "code",
      "metadata": {
        "colab": {
          "base_uri": "https://localhost:8080/"
        },
        "id": "xizPrQsLJcVs",
        "outputId": "8b386a09-1f3e-41e3-de40-f6b40987e02a"
      },
      "source": [
        "print('unique classes: ', np.unique(iris.target))\n",
        "n = iris.data.shape[0]\n",
        "d = iris.data.shape[1]"
      ],
      "execution_count": 4,
      "outputs": [
        {
          "output_type": "stream",
          "name": "stdout",
          "text": [
            "unique classes:  [0 1 2]\n"
          ]
        }
      ]
    },
    {
      "cell_type": "code",
      "metadata": {
        "id": "JdRJFdRRKaka"
      },
      "source": [
        "#In the following code, we create a nx1 vector of target labels\n",
        "y = 1.0 * np.ones([A.shape[0], 1])\n",
        "for i in range(iris.target.shape[0]):\n",
        "  if iris.target[i] == 0:\n",
        "    y[i] = 1\n",
        "  else:\n",
        "    y[i] = -1\n"
      ],
      "execution_count": 5,
      "outputs": []
    },
    {
      "cell_type": "code",
      "metadata": {
        "colab": {
          "base_uri": "https://localhost:8080/"
        },
        "id": "SAkniRd5LuLX",
        "outputId": "bf00d5ed-6b92-4562-e165-37cc95ca96a0"
      },
      "source": [
        "# Create an index array\n",
        "indexarr = np.arange(n)\n",
        "np.random.shuffle(indexarr)\n",
        "print('Shuffled indices of samples: ')\n",
        "print(indexarr)"
      ],
      "execution_count": 6,
      "outputs": [
        {
          "output_type": "stream",
          "name": "stdout",
          "text": [
            "Shuffled indices of samples: \n",
            "[ 95  34 127 120  24  28  84  68  38 123 132  74  44   4 144  67 119  82\n",
            "  37  49  81  70 125 141  57  15  85  97  60 137  23  62 143  64  39 108\n",
            " 111  66 101 102 126 148 115  91 121 106 142 112  76   3  33   8  98 122\n",
            " 138  83 131 147  93  78  96  22 103  99 124 140  80  86   9 136  19  63\n",
            "  13  73  90  48 117  25  65  20  56 104  53  51  35  10   6  41 133  77\n",
            "   2 110  72 134  55   5  12 107  29  54 130  17  79 118  47  27  46 129\n",
            " 145  18 109 135  31   0  59 113  43 139 149 116  16   7 100  26  21  50\n",
            "  52  32  75  11  69  61  14 114  88  30  58  42  36 146 105  40  45  89\n",
            " 128   1  92  94  71  87]\n"
          ]
        }
      ]
    },
    {
      "cell_type": "code",
      "metadata": {
        "colab": {
          "base_uri": "https://localhost:8080/"
        },
        "id": "v3lJn1n_MiMG",
        "outputId": "27c785df-daa3-4dc3-ae7f-28e3579a730a"
      },
      "source": [
        "num_train = int(0.8 * n)\n",
        "num_test = n - num_train\n",
        "print('num_train: ', num_train, 'num_test: ', num_test)"
      ],
      "execution_count": 7,
      "outputs": [
        {
          "output_type": "stream",
          "name": "stdout",
          "text": [
            "num_train:  120 num_test:  30\n"
          ]
        }
      ]
    },
    {
      "cell_type": "code",
      "metadata": {
        "colab": {
          "base_uri": "https://localhost:8080/"
        },
        "id": "Cxa7msfCM61c",
        "outputId": "eb22bb37-9e9f-40ac-e0b7-a3325e3802b9"
      },
      "source": [
        "# Use the first 80% of indexarr to create the train data features and train labels\n",
        "train_features = A[indexarr[0 : num_train]]\n",
        "train_label = y[indexarr[0 : num_train]]\n",
        "print('Shape of train data features: ', train_features.shape)\n",
        "print('Shape of train data labels: ', train_label.shape)"
      ],
      "execution_count": 9,
      "outputs": [
        {
          "output_type": "stream",
          "name": "stdout",
          "text": [
            "Shape of train data features:  (120, 4)\n",
            "Shape of train data labels:  (120, 1)\n"
          ]
        }
      ]
    },
    {
      "cell_type": "code",
      "metadata": {
        "colab": {
          "base_uri": "https://localhost:8080/"
        },
        "id": "QlABa6o8Nxsn",
        "outputId": "734e3f2a-2e2f-4bee-af63-7a4fdbe60681"
      },
      "source": [
        "# Use remaining 20% of indexarr to create the test data and test labels\n",
        "test_features = A[indexarr[num_train : n]]\n",
        "test_label = y[indexarr[num_train : n]]\n",
        "print('Shape of test data features: ', test_features.shape)\n",
        "print('Shape of test data labels: ', test_label.shape)"
      ],
      "execution_count": 10,
      "outputs": [
        {
          "output_type": "stream",
          "name": "stdout",
          "text": [
            "Shape of test data features:  (30, 4)\n",
            "Shape of test data labels:  (30, 1)\n"
          ]
        }
      ]
    },
    {
      "cell_type": "code",
      "metadata": {
        "id": "I6mDG93MOI2_"
      },
      "source": [
        "# create a decision tree classifier with 'entropy' as criterion\n",
        "clf = tree.DecisionTreeClassifier(criterion = 'entropy')"
      ],
      "execution_count": 11,
      "outputs": []
    },
    {
      "cell_type": "code",
      "metadata": {
        "colab": {
          "base_uri": "https://localhost:8080/",
          "height": 299
        },
        "id": "SB0mqVMeOV8z",
        "outputId": "ac8b3159-982c-4063-87bc-95d902ab6b77"
      },
      "source": [
        "# train using decision tree classifier and plot the resultant decision tree\n",
        "tree.plot_tree(clf.fit(train_features, train_label))"
      ],
      "execution_count": 12,
      "outputs": [
        {
          "output_type": "execute_result",
          "data": {
            "text/plain": [
              "[Text(167.4, 163.07999999999998, 'X[3] <= 0.8\\nentropy = 0.891\\nsamples = 120\\nvalue = [83, 37]'),\n",
              " Text(83.7, 54.360000000000014, 'entropy = 0.0\\nsamples = 37\\nvalue = [0, 37]'),\n",
              " Text(251.10000000000002, 54.360000000000014, 'entropy = 0.0\\nsamples = 83\\nvalue = [83, 0]')]"
            ]
          },
          "metadata": {},
          "execution_count": 12
        },
        {
          "output_type": "display_data",
          "data": {
            "image/png": "[encoded data removed]",
            "text/plain": [
              "<Figure size 432x288 with 1 Axes>"
            ]
          },
          "metadata": {
            "needs_background": "light"
          }
        }
      ]
    },
    {
      "cell_type": "code",
      "metadata": {
        "colab": {
          "base_uri": "https://localhost:8080/"
        },
        "id": "ahbGEojpO9UG",
        "outputId": "f2b216ca-6429-4e9e-f755-94eecd9576a1"
      },
      "source": [
        "# Get the trained model in clf_model\n",
        "clf_model = clf.fit(train_features, train_label)\n",
        "\n",
        "# We will now use the trained model for predition on the test data set\n",
        "predicted_labels = clf_model.predict(test_features)\n",
        "#print(predicted_labels)"
      ],
      "execution_count": 18,
      "outputs": [
        {
          "output_type": "stream",
          "name": "stdout",
          "text": [
            "[ 1.  1. -1.  1.  1. -1. -1.  1. -1.  1. -1. -1.  1. -1. -1.  1. -1.  1.\n",
            "  1. -1. -1.  1.  1. -1. -1.  1. -1. -1. -1. -1.]\n"
          ]
        }
      ]
    },
    {
      "cell_type": "code",
      "metadata": {
        "colab": {
          "base_uri": "https://localhost:8080/"
        },
        "id": "QR-tKCCHPchz",
        "outputId": "2316347c-74dd-4fc8-d642-82f1da40adaa"
      },
      "source": [
        "# reshaping predicted_labels so that it is of the same shape as test_label\n",
        "predicted_labels = np.reshape(predicted_labels.data, (num_test, 1))\n",
        "#print(predicted_labels)\n",
        "#print(test_label)"
      ],
      "execution_count": 25,
      "outputs": [
        {
          "output_type": "stream",
          "name": "stdout",
          "text": [
            "[[ 1.]\n",
            " [ 1.]\n",
            " [-1.]\n",
            " [ 1.]\n",
            " [ 1.]\n",
            " [-1.]\n",
            " [-1.]\n",
            " [ 1.]\n",
            " [-1.]\n",
            " [ 1.]\n",
            " [-1.]\n",
            " [-1.]\n",
            " [ 1.]\n",
            " [-1.]\n",
            " [-1.]\n",
            " [ 1.]\n",
            " [-1.]\n",
            " [ 1.]\n",
            " [ 1.]\n",
            " [-1.]\n",
            " [-1.]\n",
            " [ 1.]\n",
            " [ 1.]\n",
            " [-1.]\n",
            " [-1.]\n",
            " [ 1.]\n",
            " [-1.]\n",
            " [-1.]\n",
            " [-1.]\n",
            " [-1.]]\n"
          ]
        }
      ]
    },
    {
      "cell_type": "code",
      "metadata": {
        "colab": {
          "base_uri": "https://localhost:8080/"
        },
        "id": "iAtbvzhFQYuh",
        "outputId": "38ca1ff0-8be8-437f-a715-6bf62d61143f"
      },
      "source": [
        "# compute test set error and test set accuracy\n",
        "test_error = np.sum(0.5 * np.abs(predicted_labels - test_label)) / len(test_label) * 100.0\n",
        "print('test_error: ', test_error)\n",
        "test_accuracy = 100.0 - test_error\n",
        "print('test set accuracy: ', test_accuracy)"
      ],
      "execution_count": 30,
      "outputs": [
        {
          "output_type": "stream",
          "name": "stdout",
          "text": [
            "test_error:  0.0\n",
            "test set accuracy:  100.0\n"
          ]
        }
      ]
    },
    {
      "cell_type": "code",
      "metadata": {
        "colab": {
          "base_uri": "https://localhost:8080/"
        },
        "id": "mEABKGItU68D",
        "outputId": "6f7a0153-9773-4a61-ab14-8e11505aff49"
      },
      "source": [
        "# We can also use the trained model clf_model to predict the train set\n",
        "predicted_train_labels = clf_model.predict(train_features)\n",
        "predicted_train_labels = np.reshape(predicted_train_labels, (num_train, 1))\n",
        "train_error = np.sum(0.5 * np.abs(predicted_train_labels - train_label)) / len(train_label) * 100.0\n",
        "train_accuracy = 100.0 - train_error\n",
        "print('train set accuracy: ', train_accuracy)"
      ],
      "execution_count": 32,
      "outputs": [
        {
          "output_type": "stream",
          "name": "stdout",
          "text": [
            "train set accuracy:  100.0\n"
          ]
        }
      ]
    },
    {
      "cell_type": "code",
      "metadata": {
        "id": "oDeePE8uV3PL"
      },
      "source": [
        ""
      ],
      "execution_count": null,
      "outputs": []
    }
  ]
}