{
  "nbformat": 4,
  "nbformat_minor": 0,
  "metadata": {
    "colab": {
      "name": "Untitled6.ipynb",
      "provenance": [],
      "authorship_tag": "ABX9TyO4oy/SIefacbvBmbY43jcb",
      "include_colab_link": true
    },
    "kernelspec": {
      "name": "python3",
      "display_name": "Python 3"
    },
    "language_info": {
      "name": "python"
    }
  },
  "cells": [
    {
      "cell_type": "markdown",
      "metadata": {
        "id": "view-in-github",
        "colab_type": "text"
      },
      "source": [
        "<a href=\"https://colab.research.google.com/github/vinodnbhat/AIML-CEP-2021-Assignments/blob/main/RBF%20kernel_diff%20gamma_values_test%20data.ipynb\" target=\"_parent\"><img src=\"https://colab.research.google.com/assets/colab-badge.svg\" alt=\"Open In Colab\"/></a>"
      ]
    },
    {
      "cell_type": "code",
      "metadata": {
        "id": "LFMtbian2ClW"
      },
      "source": [
        "import numpy as np\n",
        "import matplotlib.pyplot as plt\n",
        "\n",
        "%matplotlib inline"
      ],
      "execution_count": 1,
      "outputs": []
    },
    {
      "cell_type": "code",
      "metadata": {
        "colab": {
          "base_uri": "https://localhost:8080/",
          "height": 281
        },
        "id": "HuljTm8_2P6V",
        "outputId": "df13e019-6caa-4db9-8d1d-b31b23bdc76d"
      },
      "source": [
        "num_samples = 100\n",
        "\n",
        "np.random.seed(200)\n",
        "\n",
        "X = []\n",
        "y = []\n",
        "\n",
        "radius = 1\n",
        "\n",
        "center_point = [1., 1.]\n",
        "center_x1 = center_point[0]\n",
        "center_x2 = center_point[1]\n",
        "\n",
        "#generate points within circle (x1-1)^2 + (x2-1)^2 = 1\n",
        "for i in range (int(num_samples/2)):\n",
        "  toss = np.random.rand()\n",
        "  x1 = np.random.uniform(low = 0, high = 2)\n",
        "  x2 = np.random.uniform(low = 0, high = 2)\n",
        "  while (x1 - center_x1)**2 + (x2 - center_x2)**2 > radius:\n",
        "      x1 = np.random.uniform(low = 0, high = 2)\n",
        "      x2 = np.random.uniform(low = 0, high = 2)\n",
        "\n",
        "  X.append([x1, x2])\n",
        "  y.append([1])\n",
        "\n",
        "#generate points outside circle (x1-1)^2 + (x2-1)^2 = 1\n",
        "for i in range (int(num_samples/2)):\n",
        "  toss = np.random.rand()\n",
        "  x1 = np.random.uniform(low = 0, high = 2)\n",
        "  x2 = np.random.uniform(low = 0, high = 2)\n",
        "  while (x1 - center_x1)**2 + (x2 - center_x2)**2 <= radius:\n",
        "      x1 = np.random.uniform(low = 0, high = 2)\n",
        "      x2 = np.random.uniform(low = 0, high = 2)\n",
        "\n",
        "  X.append([x1, x2])\n",
        "  y.append([-1])\n",
        "\n",
        "X = np.array(X)\n",
        "y = np.array(y)\n",
        "\n",
        "#plot the circle\n",
        "angle = np.linspace(0, 2*np.pi, 150)\n",
        "\n",
        "x1 = center_x1 + radius*np.cos(angle)\n",
        "x2 = center_x2 + radius*np.sin(angle)\n",
        "\n",
        "figure, axes = plt.subplots(1)\n",
        "\n",
        "axes.plot(x1, x2)\n",
        "axes.set_aspect(1)\n",
        "\n",
        "plt.scatter(X[:int(num_samples/2), 0], X[:int(num_samples/2), 1], marker = 'o', color = 'red')\n",
        "plt.scatter(X[int(num_samples/2):, 0], X[int(num_samples/2):, 1], marker = 's', color = 'green')\n",
        "\n",
        "plt.title('Data with a non-linear separating surface')\n",
        "plt.show()"
      ],
      "execution_count": 29,
      "outputs": [
        {
          "output_type": "display_data",
          "data": {
            "image/png": "[encoded data removed]",
            "text/plain": [
              "<Figure size 432x288 with 1 Axes>"
            ]
          },
          "metadata": {
            "needs_background": "light"
          }
        }
      ]
    },
    {
      "cell_type": "code",
      "metadata": {
        "colab": {
          "base_uri": "https://localhost:8080/",
          "height": 278
        },
        "id": "nR4z0Jbi6r5k",
        "outputId": "93c4d665-eead-4796-b1a3-ef28e5cb3adc"
      },
      "source": [
        "from sklearn.svm import LinearSVC\n",
        "\n",
        "clf = LinearSVC(C = 1.0)\n",
        "clf_model = clf.fit(X, y.ravel())\n",
        "\n",
        "h = 0.02\n",
        "x1_min, x1_max = X[:, 0].min() - 1, X[:, 0].max() + 1\n",
        "x2_min, x2_max = X[:, 1].min() - 1, X[:, 1].max() + 1\n",
        "xx1, xx2 = np.meshgrid(np.arange(x1_min, x1_max, h), np.arange(x2_min, x2_max, h))\n",
        "\n",
        "Z = clf_model.predict(np.c_[xx1.ravel(), xx2.ravel()])\n",
        "\n",
        "Z = Z.reshape(xx1.shape)\n",
        "plt.contourf(xx1, xx2, Z, cmap=plt.cm.coolwarm, alpha = 0.8)\n",
        "\n",
        "plt.scatter(X[:int(num_samples/2), 0], X[:int(num_samples/2), 1], marker = 'o', color = 'red')\n",
        "plt.scatter(X[int(num_samples/2):, 0], X[int(num_samples/2):, 1], marker = 's', color = 'green')\n",
        "\n",
        "plt.xlabel('x1')\n",
        "plt.ylabel('x2')\n",
        "plt.xlim(xx1.min(), xx1.max())\n",
        "plt.ylim(xx2.min(), xx2.max())\n",
        "plt.xticks(())\n",
        "plt.yticks(())\n",
        "plt.title('Decision boundary from Linear SVM')\n",
        "plt.show()"
      ],
      "execution_count": 30,
      "outputs": [
        {
          "output_type": "display_data",
          "data": {
            "image/png": "[encoded data removed]",
            "text/plain": [
              "<Figure size 432x288 with 1 Axes>"
            ]
          },
          "metadata": {}
        }
      ]
    },
    {
      "cell_type": "code",
      "metadata": {
        "colab": {
          "base_uri": "https://localhost:8080/"
        },
        "id": "os8KvSKl89Zu",
        "outputId": "7821307d-bb36-4549-8bcf-546e96352af4"
      },
      "source": [
        "X_transformed = []\n",
        "\n",
        "for i in range(num_samples):\n",
        "  x1 = X[i, 0]\n",
        "  x2 = X[i, 1]\n",
        "  X_transformed.append([x1**2, x2**2, np.sqrt(2)*x1, np.sqrt(2)*x2, 1.])\n",
        "\n",
        "X_transformed = np.array(X_transformed)\n",
        "\n",
        "clf = LinearSVC(C = 10., max_iter = 10000)\n",
        "clf_model = clf.fit(X_transformed, y.ravel())\n",
        "\n",
        "predicted_labels = clf_model.predict(X_transformed)\n",
        "print(predicted_labels)\n",
        "\n",
        "train_error = np.sum(0.5 * np.abs(predicted_labels - y.ravel()))/len(y) * 100\n",
        "train_accuracy = 100 - train_error\n",
        "\n",
        "print('train accuracy:', train_accuracy)"
      ],
      "execution_count": 31,
      "outputs": [
        {
          "output_type": "stream",
          "name": "stdout",
          "text": [
            "[ 1  1  1  1  1  1  1  1  1  1  1  1  1  1  1  1  1  1  1  1  1  1  1  1\n",
            "  1  1  1  1  1  1  1  1  1  1  1  1  1  1  1  1  1  1  1  1  1  1  1  1\n",
            "  1  1 -1 -1 -1 -1 -1 -1 -1 -1 -1 -1 -1 -1 -1 -1 -1 -1 -1 -1 -1 -1 -1 -1\n",
            " -1 -1 -1 -1 -1 -1 -1 -1 -1 -1 -1 -1 -1 -1 -1 -1 -1 -1 -1 -1 -1 -1 -1 -1\n",
            " -1 -1 -1 -1]\n",
            "train accuracy: 100.0\n"
          ]
        }
      ]
    },
    {
      "cell_type": "code",
      "metadata": {
        "colab": {
          "base_uri": "https://localhost:8080/"
        },
        "id": "4vlO3OJyDsSs",
        "outputId": "476e5422-c90b-42e0-da8f-d1f0c46d5c49"
      },
      "source": [
        "from sklearn.svm import SVC\n",
        "\n",
        "clf = SVC(kernel = 'rbf', gamma = 50, max_iter = 10000)\n",
        "clf_model = clf.fit(X, y.ravel())\n",
        "\n",
        "predicted_labels = clf.predict(X)\n",
        "print(predicted_labels)\n",
        "\n",
        "train_error = np.sum(0.5 * np.abs(predicted_labels - y.ravel()))/len(y) * 100\n",
        "train_accuracy = 100 - train_error\n",
        "\n",
        "print('train accuracy with gamma = 50:', train_accuracy)"
      ],
      "execution_count": 32,
      "outputs": [
        {
          "output_type": "stream",
          "name": "stdout",
          "text": [
            "[ 1  1  1  1  1  1  1  1  1  1  1  1  1  1  1  1  1  1  1  1  1  1  1  1\n",
            "  1  1  1  1  1  1  1  1  1  1  1  1  1  1  1  1  1  1  1  1  1  1  1  1\n",
            "  1  1 -1 -1 -1 -1 -1 -1 -1 -1 -1 -1 -1 -1 -1 -1 -1 -1 -1 -1 -1 -1 -1 -1\n",
            " -1 -1 -1 -1 -1 -1 -1 -1 -1 -1 -1 -1 -1 -1 -1 -1 -1 -1 -1 -1 -1 -1 -1 -1\n",
            " -1 -1 -1 -1]\n",
            "train accuracy with gamma = 50: 100.0\n"
          ]
        }
      ]
    },
    {
      "cell_type": "code",
      "metadata": {
        "colab": {
          "base_uri": "https://localhost:8080/",
          "height": 278
        },
        "id": "5oHbdOrnEIS5",
        "outputId": "113f2a72-99d8-4fc0-fcf8-79bda47c512c"
      },
      "source": [
        "h=0.02 #mesh step size\n",
        "x1_min, x1_max = X[:, 0].min() - 1, X[:, 0].max() + 1\n",
        "x2_min, x2_max = X[:, 1].min() - 1, X[:, 1].max() + 1\n",
        "xx1, xx2 = np.meshgrid(np.arange(x1_min, x1_max, h),\n",
        "                     np.arange(x2_min, x2_max, h))\n",
        "\n",
        "Z = clf_model.predict(np.c_[xx1.ravel(), xx2.ravel()])\n",
        "\n",
        "# Put the result into a color plot\n",
        "Z = Z.reshape(xx1.shape)\n",
        "plt.contourf(xx1, xx2, Z, cmap=plt.cm.coolwarm, alpha=0.8)\n",
        "\n",
        "# Plot also the training points\n",
        "#plt.scatter(X[:, 0], X[:, 1], c=y, cmap=plt.cm.coolwarm)\n",
        "plt.scatter(X[:int(num_samples/2),0],X[:int(num_samples/2),1], marker='o', color='red')\n",
        "plt.scatter(X[int(num_samples/2):,0],X[int(num_samples/2):,1], marker='s', color='green')\n",
        "\n",
        "plt.xlabel('x1')\n",
        "plt.ylabel('x2')\n",
        "plt.xlim(xx1.min(), xx1.max())\n",
        "plt.ylim(xx2.min(), xx2.max())\n",
        "plt.xticks(())\n",
        "plt.yticks(())\n",
        "plt.title('Decision boundary from SVM with RBF Kernel with gamma = 50')\n",
        "plt.show()\n"
      ],
      "execution_count": 33,
      "outputs": [
        {
          "output_type": "display_data",
          "data": {
            "image/png": "[encoded data removed]",
            "text/plain": [
              "<Figure size 432x288 with 1 Axes>"
            ]
          },
          "metadata": {}
        }
      ]
    },
    {
      "cell_type": "code",
      "metadata": {
        "colab": {
          "base_uri": "https://localhost:8080/"
        },
        "id": "UOK-d8lGHyT-",
        "outputId": "0fbe6061-e16b-4ace-d194-6aa8f2bea8f7"
      },
      "source": [
        "clf = SVC(kernel = 'rbf', gamma = 0.0001, max_iter = 10000)\n",
        "clf_model = clf.fit(X, y.ravel())\n",
        "\n",
        "predicted_labels = clf.predict(X)\n",
        "print(predicted_labels)\n",
        "\n",
        "train_error = np.sum(0.5 * np.abs(predicted_labels - y.ravel()))/len(y) * 100\n",
        "train_accuracy = 100 - train_error\n",
        "\n",
        "print('train accuracy for gamma = 0.0001:', train_accuracy)"
      ],
      "execution_count": 34,
      "outputs": [
        {
          "output_type": "stream",
          "name": "stdout",
          "text": [
            "[ 1  1  1 -1  1  1 -1 -1  1  1  1  1  1  1 -1  1 -1  1  1 -1  1  1 -1  1\n",
            "  1 -1  1 -1 -1 -1 -1  1  1 -1  1  1  1 -1  1 -1 -1  1 -1 -1 -1  1 -1  1\n",
            "  1  1  1 -1 -1  1  1  1  1 -1 -1  1 -1 -1 -1 -1 -1 -1 -1 -1  1 -1  1  1\n",
            " -1  1 -1 -1 -1 -1 -1 -1 -1  1 -1 -1 -1  1  1  1 -1  1 -1  1  1 -1 -1  1\n",
            " -1 -1  1  1]\n",
            "train accuracy for gamma = 0.0001: 60.0\n"
          ]
        }
      ]
    },
    {
      "cell_type": "code",
      "metadata": {
        "colab": {
          "base_uri": "https://localhost:8080/",
          "height": 278
        },
        "id": "-NWT0T--IEUK",
        "outputId": "7a815a44-2b1b-405b-dff4-42df52f43de3"
      },
      "source": [
        "h=0.02 #mesh step size\n",
        "x1_min, x1_max = X[:, 0].min() - 1, X[:, 0].max() + 1\n",
        "x2_min, x2_max = X[:, 1].min() - 1, X[:, 1].max() + 1\n",
        "xx1, xx2 = np.meshgrid(np.arange(x1_min, x1_max, h),\n",
        "                     np.arange(x2_min, x2_max, h))\n",
        "\n",
        "Z = clf_model.predict(np.c_[xx1.ravel(), xx2.ravel()])\n",
        "\n",
        "# Put the result into a color plot\n",
        "Z = Z.reshape(xx1.shape)\n",
        "plt.contourf(xx1, xx2, Z, cmap=plt.cm.coolwarm, alpha=0.8)\n",
        "\n",
        "# Plot also the training points\n",
        "#plt.scatter(X[:, 0], X[:, 1], c=y, cmap=plt.cm.coolwarm)\n",
        "plt.scatter(X[:int(num_samples/2),0],X[:int(num_samples/2),1], marker='o', color='red')\n",
        "plt.scatter(X[int(num_samples/2):,0],X[int(num_samples/2):,1], marker='s', color='green')\n",
        "\n",
        "plt.xlabel('x1')\n",
        "plt.ylabel('x2')\n",
        "plt.xlim(xx1.min(), xx1.max())\n",
        "plt.ylim(xx2.min(), xx2.max())\n",
        "plt.xticks(())\n",
        "plt.yticks(())\n",
        "plt.title('Decision boundary from SVM with RBF Kernel with gamma = 0.0001')\n",
        "plt.show()"
      ],
      "execution_count": 35,
      "outputs": [
        {
          "output_type": "display_data",
          "data": {
            "image/png": "[encoded data removed]",
            "text/plain": [
              "<Figure size 432x288 with 1 Axes>"
            ]
          },
          "metadata": {}
        }
      ]
    },
    {
      "cell_type": "code",
      "metadata": {
        "colab": {
          "base_uri": "https://localhost:8080/"
        },
        "id": "MLnm5CPTIV_j",
        "outputId": "e235a383-d2ef-4b58-c8ee-d51ea10c6fd8"
      },
      "source": [
        "clf = SVC(kernel = 'rbf', gamma = 0.001, max_iter = 10000)\n",
        "clf_model = clf.fit(X, y.ravel())\n",
        "\n",
        "predicted_labels = clf.predict(X)\n",
        "print(predicted_labels)\n",
        "\n",
        "train_error = np.sum(0.5 * np.abs(predicted_labels - y.ravel()))/len(y) * 100\n",
        "train_accuracy = 100 - train_error\n",
        "\n",
        "print('train accuracy with gamma = 0.001:', train_accuracy)"
      ],
      "execution_count": 36,
      "outputs": [
        {
          "output_type": "stream",
          "name": "stdout",
          "text": [
            "[ 1  1  1 -1  1  1 -1 -1  1  1  1  1  1  1 -1  1 -1  1  1 -1  1  1 -1  1\n",
            "  1 -1  1 -1 -1 -1 -1  1  1 -1  1  1  1 -1  1 -1 -1  1 -1 -1 -1  1 -1  1\n",
            "  1  1  1 -1 -1  1  1  1  1 -1 -1  1 -1 -1 -1 -1 -1 -1 -1 -1  1 -1  1  1\n",
            " -1  1 -1 -1 -1 -1 -1 -1 -1  1 -1 -1 -1  1  1  1 -1  1 -1  1  1 -1 -1  1\n",
            " -1 -1  1  1]\n",
            "train accuracy with gamma = 0.001: 60.0\n"
          ]
        }
      ]
    },
    {
      "cell_type": "code",
      "metadata": {
        "colab": {
          "base_uri": "https://localhost:8080/",
          "height": 278
        },
        "id": "ote_uWoYIfyC",
        "outputId": "e9d7f344-4917-433d-b0d7-1b7c112fe139"
      },
      "source": [
        "h=0.02 #mesh step size\n",
        "x1_min, x1_max = X[:, 0].min() - 1, X[:, 0].max() + 1\n",
        "x2_min, x2_max = X[:, 1].min() - 1, X[:, 1].max() + 1\n",
        "xx1, xx2 = np.meshgrid(np.arange(x1_min, x1_max, h),\n",
        "                     np.arange(x2_min, x2_max, h))\n",
        "\n",
        "Z = clf_model.predict(np.c_[xx1.ravel(), xx2.ravel()])\n",
        "\n",
        "# Put the result into a color plot\n",
        "Z = Z.reshape(xx1.shape)\n",
        "plt.contourf(xx1, xx2, Z, cmap=plt.cm.coolwarm, alpha=0.8)\n",
        "\n",
        "# Plot also the training points\n",
        "#plt.scatter(X[:, 0], X[:, 1], c=y, cmap=plt.cm.coolwarm)\n",
        "plt.scatter(X[:int(num_samples/2),0],X[:int(num_samples/2),1], marker='o', color='red')\n",
        "plt.scatter(X[int(num_samples/2):,0],X[int(num_samples/2):,1], marker='s', color='green')\n",
        "\n",
        "plt.xlabel('x1')\n",
        "plt.ylabel('x2')\n",
        "plt.xlim(xx1.min(), xx1.max())\n",
        "plt.ylim(xx2.min(), xx2.max())\n",
        "plt.xticks(())\n",
        "plt.yticks(())\n",
        "plt.title('Decision boundary from SVM with RBF Kernel with gamma = 0.001')\n",
        "plt.show()"
      ],
      "execution_count": 38,
      "outputs": [
        {
          "output_type": "display_data",
          "data": {
            "image/png": "[encoded data removed]",
            "text/plain": [
              "<Figure size 432x288 with 1 Axes>"
            ]
          },
          "metadata": {}
        }
      ]
    },
    {
      "cell_type": "code",
      "metadata": {
        "colab": {
          "base_uri": "https://localhost:8080/"
        },
        "id": "tV1IUB-_JKp0",
        "outputId": "8fcd3475-2683-41e2-ae92-4c3a2f9389c7"
      },
      "source": [
        "clf = SVC(kernel = 'rbf', gamma = 0.1, max_iter = 10000)\n",
        "clf_model = clf.fit(X, y.ravel())\n",
        "\n",
        "predicted_labels = clf.predict(X)\n",
        "print(predicted_labels)\n",
        "\n",
        "train_error = np.sum(0.5 * np.abs(predicted_labels - y.ravel()))/len(y) * 100\n",
        "train_accuracy = 100 - train_error\n",
        "\n",
        "print('train accuracy with gamma = 0.1:', train_accuracy)"
      ],
      "execution_count": 39,
      "outputs": [
        {
          "output_type": "stream",
          "name": "stdout",
          "text": [
            "[ 1  1  1 -1  1  1  1  1  1  1  1  1  1  1  1  1 -1  1  1 -1  1  1 -1  1\n",
            "  1 -1  1 -1 -1 -1  1  1  1  1  1  1  1 -1  1  1 -1  1  1 -1 -1  1  1  1\n",
            "  1  1 -1 -1 -1  1  1 -1  1 -1 -1 -1 -1 -1 -1 -1 -1 -1 -1 -1 -1 -1  1  1\n",
            " -1  1 -1 -1 -1 -1 -1 -1 -1  1 -1 -1 -1 -1  1 -1 -1  1 -1  1  1 -1 -1  1\n",
            " -1 -1  1 -1]\n",
            "train accuracy with gamma = 0.1: 75.0\n"
          ]
        }
      ]
    },
    {
      "cell_type": "code",
      "metadata": {
        "colab": {
          "base_uri": "https://localhost:8080/",
          "height": 278
        },
        "id": "KKNCpyAtJWyN",
        "outputId": "732c7fc4-09d3-40aa-e2f3-6ae25c4eb0bb"
      },
      "source": [
        "h=0.02 #mesh step size\n",
        "x1_min, x1_max = X[:, 0].min() - 1, X[:, 0].max() + 1\n",
        "x2_min, x2_max = X[:, 1].min() - 1, X[:, 1].max() + 1\n",
        "xx1, xx2 = np.meshgrid(np.arange(x1_min, x1_max, h),\n",
        "                     np.arange(x2_min, x2_max, h))\n",
        "\n",
        "Z = clf_model.predict(np.c_[xx1.ravel(), xx2.ravel()])\n",
        "\n",
        "# Put the result into a color plot\n",
        "Z = Z.reshape(xx1.shape)\n",
        "plt.contourf(xx1, xx2, Z, cmap=plt.cm.coolwarm, alpha=0.8)\n",
        "\n",
        "# Plot also the training points\n",
        "#plt.scatter(X[:, 0], X[:, 1], c=y, cmap=plt.cm.coolwarm)\n",
        "plt.scatter(X[:int(num_samples/2),0],X[:int(num_samples/2),1], marker='o', color='red')\n",
        "plt.scatter(X[int(num_samples/2):,0],X[int(num_samples/2):,1], marker='s', color='green')\n",
        "\n",
        "plt.xlabel('x1')\n",
        "plt.ylabel('x2')\n",
        "plt.xlim(xx1.min(), xx1.max())\n",
        "plt.ylim(xx2.min(), xx2.max())\n",
        "plt.xticks(())\n",
        "plt.yticks(())\n",
        "plt.title('Decision boundary from SVM with RBF Kernel with gamma = 0.1')\n",
        "plt.show()"
      ],
      "execution_count": 40,
      "outputs": [
        {
          "output_type": "display_data",
          "data": {
            "image/png": "[encoded data removed]",
            "text/plain": [
              "<Figure size 432x288 with 1 Axes>"
            ]
          },
          "metadata": {}
        }
      ]
    },
    {
      "cell_type": "code",
      "metadata": {
        "colab": {
          "base_uri": "https://localhost:8080/"
        },
        "id": "k8PfOx3zJgc4",
        "outputId": "40560aaf-ec1f-4521-fdb0-59d38d9fef6f"
      },
      "source": [
        "clf = SVC(kernel = 'rbf', gamma = 1, max_iter = 10000)\n",
        "clf_model = clf.fit(X, y.ravel())\n",
        "\n",
        "predicted_labels = clf.predict(X)\n",
        "print(predicted_labels)\n",
        "\n",
        "train_error = np.sum(0.5 * np.abs(predicted_labels - y.ravel()))/len(y) * 100\n",
        "train_accuracy = 100 - train_error\n",
        "\n",
        "print('train accuracy with gamma = 1:', train_accuracy)"
      ],
      "execution_count": 41,
      "outputs": [
        {
          "output_type": "stream",
          "name": "stdout",
          "text": [
            "[ 1  1  1  1  1  1  1  1  1  1  1  1  1  1  1  1 -1  1 -1  1  1  1  1  1\n",
            "  1  1  1  1 -1  1  1  1  1  1  1  1  1 -1  1  1  1  1  1  1  1  1  1 -1\n",
            "  1  1 -1 -1 -1 -1 -1 -1 -1 -1 -1 -1 -1 -1 -1 -1 -1 -1 -1 -1 -1 -1  1 -1\n",
            " -1  1 -1 -1 -1 -1 -1 -1 -1 -1 -1 -1  1 -1 -1 -1 -1 -1 -1 -1 -1 -1 -1 -1\n",
            " -1 -1 -1 -1]\n",
            "train accuracy with gamma = 1: 92.0\n"
          ]
        }
      ]
    },
    {
      "cell_type": "code",
      "metadata": {
        "colab": {
          "base_uri": "https://localhost:8080/",
          "height": 278
        },
        "id": "FXXSiP8xJoRr",
        "outputId": "04cc4400-e92e-4f3d-ae32-1a527e553088"
      },
      "source": [
        "h=0.02 #mesh step size\n",
        "x1_min, x1_max = X[:, 0].min() - 1, X[:, 0].max() + 1\n",
        "x2_min, x2_max = X[:, 1].min() - 1, X[:, 1].max() + 1\n",
        "xx1, xx2 = np.meshgrid(np.arange(x1_min, x1_max, h),\n",
        "                     np.arange(x2_min, x2_max, h))\n",
        "\n",
        "Z = clf_model.predict(np.c_[xx1.ravel(), xx2.ravel()])\n",
        "\n",
        "# Put the result into a color plot\n",
        "Z = Z.reshape(xx1.shape)\n",
        "plt.contourf(xx1, xx2, Z, cmap=plt.cm.coolwarm, alpha=0.8)\n",
        "\n",
        "# Plot also the training points\n",
        "#plt.scatter(X[:, 0], X[:, 1], c=y, cmap=plt.cm.coolwarm)\n",
        "plt.scatter(X[:int(num_samples/2),0],X[:int(num_samples/2),1], marker='o', color='red')\n",
        "plt.scatter(X[int(num_samples/2):,0],X[int(num_samples/2):,1], marker='s', color='green')\n",
        "\n",
        "plt.xlabel('x1')\n",
        "plt.ylabel('x2')\n",
        "plt.xlim(xx1.min(), xx1.max())\n",
        "plt.ylim(xx2.min(), xx2.max())\n",
        "plt.xticks(())\n",
        "plt.yticks(())\n",
        "plt.title('Decision boundary from SVM with RBF Kernel with gamma = 1')\n",
        "plt.show()"
      ],
      "execution_count": 42,
      "outputs": [
        {
          "output_type": "display_data",
          "data": {
            "image/png": "[encoded data removed]",
            "text/plain": [
              "<Figure size 432x288 with 1 Axes>"
            ]
          },
          "metadata": {}
        }
      ]
    },
    {
      "cell_type": "code",
      "metadata": {
        "colab": {
          "base_uri": "https://localhost:8080/"
        },
        "id": "WWi8n8jDJyFp",
        "outputId": "759bf969-4f61-473a-d5a2-da5dca36bd1f"
      },
      "source": [
        "clf = SVC(kernel = 'rbf', gamma = 25, max_iter = 10000)\n",
        "clf_model = clf.fit(X, y.ravel())\n",
        "\n",
        "predicted_labels = clf.predict(X)\n",
        "print(predicted_labels)\n",
        "\n",
        "train_error = np.sum(0.5 * np.abs(predicted_labels - y.ravel()))/len(y) * 100\n",
        "train_accuracy = 100 - train_error\n",
        "\n",
        "print('train accuracy with gamma = 25:', train_accuracy)"
      ],
      "execution_count": 43,
      "outputs": [
        {
          "output_type": "stream",
          "name": "stdout",
          "text": [
            "[ 1  1  1  1  1  1  1  1  1  1  1  1  1  1  1  1  1  1  1  1  1  1  1  1\n",
            "  1  1  1  1  1  1  1  1  1  1  1  1  1  1  1  1  1  1  1  1  1  1  1  1\n",
            "  1  1 -1 -1 -1 -1 -1 -1 -1 -1 -1 -1 -1 -1 -1 -1 -1 -1 -1 -1 -1 -1 -1 -1\n",
            " -1 -1 -1 -1 -1 -1 -1 -1 -1 -1 -1 -1 -1 -1 -1 -1 -1 -1 -1 -1 -1 -1 -1 -1\n",
            " -1 -1 -1 -1]\n",
            "train accuracy with gamma = 25: 100.0\n"
          ]
        }
      ]
    },
    {
      "cell_type": "code",
      "metadata": {
        "colab": {
          "base_uri": "https://localhost:8080/",
          "height": 278
        },
        "id": "h2WZgiLIJ47T",
        "outputId": "422870e3-3c80-4931-97e6-837e5c4eae24"
      },
      "source": [
        "h=0.02 #mesh step size\n",
        "x1_min, x1_max = X[:, 0].min() - 1, X[:, 0].max() + 1\n",
        "x2_min, x2_max = X[:, 1].min() - 1, X[:, 1].max() + 1\n",
        "xx1, xx2 = np.meshgrid(np.arange(x1_min, x1_max, h),\n",
        "                     np.arange(x2_min, x2_max, h))\n",
        "\n",
        "Z = clf_model.predict(np.c_[xx1.ravel(), xx2.ravel()])\n",
        "\n",
        "# Put the result into a color plot\n",
        "Z = Z.reshape(xx1.shape)\n",
        "plt.contourf(xx1, xx2, Z, cmap=plt.cm.coolwarm, alpha=0.8)\n",
        "\n",
        "# Plot also the training points\n",
        "#plt.scatter(X[:, 0], X[:, 1], c=y, cmap=plt.cm.coolwarm)\n",
        "plt.scatter(X[:int(num_samples/2),0],X[:int(num_samples/2),1], marker='o', color='red')\n",
        "plt.scatter(X[int(num_samples/2):,0],X[int(num_samples/2):,1], marker='s', color='green')\n",
        "\n",
        "plt.xlabel('x1')\n",
        "plt.ylabel('x2')\n",
        "plt.xlim(xx1.min(), xx1.max())\n",
        "plt.ylim(xx2.min(), xx2.max())\n",
        "plt.xticks(())\n",
        "plt.yticks(())\n",
        "plt.title('Decision boundary from SVM with RBF Kernel with gamma = 25')\n",
        "plt.show()"
      ],
      "execution_count": 44,
      "outputs": [
        {
          "output_type": "display_data",
          "data": {
            "image/png": "[encoded data removed]",
            "text/plain": [
              "<Figure size 432x288 with 1 Axes>"
            ]
          },
          "metadata": {}
        }
      ]
    },
    {
      "cell_type": "code",
      "metadata": {
        "colab": {
          "base_uri": "https://localhost:8080/"
        },
        "id": "vdbNYgEgKBXM",
        "outputId": "da47278f-534b-4812-f92c-cebd2e9e78e5"
      },
      "source": [
        "clf = SVC(kernel = 'rbf', gamma = 75, max_iter = 10000)\n",
        "clf_model = clf.fit(X, y.ravel())\n",
        "\n",
        "predicted_labels = clf.predict(X)\n",
        "print(predicted_labels)\n",
        "\n",
        "train_error = np.sum(0.5 * np.abs(predicted_labels - y.ravel()))/len(y) * 100\n",
        "train_accuracy = 100 - train_error\n",
        "\n",
        "print('train accuracy with gamma = 75:', train_accuracy)"
      ],
      "execution_count": 45,
      "outputs": [
        {
          "output_type": "stream",
          "name": "stdout",
          "text": [
            "[ 1  1  1  1  1  1  1  1  1  1  1  1  1  1  1  1  1  1  1  1  1  1  1  1\n",
            "  1  1  1  1  1  1  1  1  1  1  1  1  1  1  1  1  1  1  1  1  1  1  1  1\n",
            "  1  1 -1 -1 -1 -1 -1 -1 -1 -1 -1 -1 -1 -1 -1 -1 -1 -1 -1 -1 -1 -1 -1 -1\n",
            " -1 -1 -1 -1 -1 -1 -1 -1 -1 -1 -1 -1 -1 -1 -1 -1 -1 -1 -1 -1 -1 -1 -1 -1\n",
            " -1 -1 -1 -1]\n",
            "train accuracy with gamma = 75: 100.0\n"
          ]
        }
      ]
    },
    {
      "cell_type": "code",
      "metadata": {
        "colab": {
          "base_uri": "https://localhost:8080/",
          "height": 278
        },
        "id": "8SURc6_CKKfN",
        "outputId": "aca7890c-c376-4ffd-c442-2b67bce9f9e0"
      },
      "source": [
        "h=0.02 #mesh step size\n",
        "x1_min, x1_max = X[:, 0].min() - 1, X[:, 0].max() + 1\n",
        "x2_min, x2_max = X[:, 1].min() - 1, X[:, 1].max() + 1\n",
        "xx1, xx2 = np.meshgrid(np.arange(x1_min, x1_max, h),\n",
        "                     np.arange(x2_min, x2_max, h))\n",
        "\n",
        "Z = clf_model.predict(np.c_[xx1.ravel(), xx2.ravel()])\n",
        "\n",
        "# Put the result into a color plot\n",
        "Z = Z.reshape(xx1.shape)\n",
        "plt.contourf(xx1, xx2, Z, cmap=plt.cm.coolwarm, alpha=0.8)\n",
        "\n",
        "# Plot also the training points\n",
        "#plt.scatter(X[:, 0], X[:, 1], c=y, cmap=plt.cm.coolwarm)\n",
        "plt.scatter(X[:int(num_samples/2),0],X[:int(num_samples/2),1], marker='o', color='red')\n",
        "plt.scatter(X[int(num_samples/2):,0],X[int(num_samples/2):,1], marker='s', color='green')\n",
        "\n",
        "plt.xlabel('x1')\n",
        "plt.ylabel('x2')\n",
        "plt.xlim(xx1.min(), xx1.max())\n",
        "plt.ylim(xx2.min(), xx2.max())\n",
        "plt.xticks(())\n",
        "plt.yticks(())\n",
        "plt.title('Decision boundary from SVM with RBF Kernel with gamma = 75')\n",
        "plt.show()"
      ],
      "execution_count": 46,
      "outputs": [
        {
          "output_type": "display_data",
          "data": {
            "image/png": "[encoded data removed]",
            "text/plain": [
              "<Figure size 432x288 with 1 Axes>"
            ]
          },
          "metadata": {}
        }
      ]
    },
    {
      "cell_type": "code",
      "metadata": {
        "colab": {
          "base_uri": "https://localhost:8080/"
        },
        "id": "aThFG7rlKS3B",
        "outputId": "e7088142-c5d9-4986-fe40-df7324d06d71"
      },
      "source": [
        "clf = SVC(kernel = 'rbf', gamma = 100, max_iter = 10000)\n",
        "clf_model = clf.fit(X, y.ravel())\n",
        "\n",
        "predicted_labels = clf.predict(X)\n",
        "print(predicted_labels)\n",
        "\n",
        "train_error = np.sum(0.5 * np.abs(predicted_labels - y.ravel()))/len(y) * 100\n",
        "train_accuracy = 100 - train_error\n",
        "\n",
        "print('train accuracy with gamma = 100:', train_accuracy)"
      ],
      "execution_count": 47,
      "outputs": [
        {
          "output_type": "stream",
          "name": "stdout",
          "text": [
            "[ 1  1  1  1  1  1  1  1  1  1  1  1  1  1  1  1  1  1  1  1  1  1  1  1\n",
            "  1  1  1  1  1  1  1  1  1  1  1  1  1  1  1  1  1  1  1  1  1  1  1  1\n",
            "  1  1 -1 -1 -1 -1 -1 -1 -1 -1 -1 -1 -1 -1 -1 -1 -1 -1 -1 -1 -1 -1 -1 -1\n",
            " -1 -1 -1 -1 -1 -1 -1 -1 -1 -1 -1 -1 -1 -1 -1 -1 -1 -1 -1 -1 -1 -1 -1 -1\n",
            " -1 -1 -1 -1]\n",
            "train accuracy with gamma = 100: 100.0\n"
          ]
        }
      ]
    },
    {
      "cell_type": "code",
      "metadata": {
        "colab": {
          "base_uri": "https://localhost:8080/",
          "height": 278
        },
        "id": "l04VhzmdKZr-",
        "outputId": "5c691434-70a2-4753-b37c-97f3749f1c5d"
      },
      "source": [
        "h=0.02 #mesh step size\n",
        "x1_min, x1_max = X[:, 0].min() - 1, X[:, 0].max() + 1\n",
        "x2_min, x2_max = X[:, 1].min() - 1, X[:, 1].max() + 1\n",
        "xx1, xx2 = np.meshgrid(np.arange(x1_min, x1_max, h),\n",
        "                     np.arange(x2_min, x2_max, h))\n",
        "\n",
        "Z = clf_model.predict(np.c_[xx1.ravel(), xx2.ravel()])\n",
        "\n",
        "# Put the result into a color plot\n",
        "Z = Z.reshape(xx1.shape)\n",
        "plt.contourf(xx1, xx2, Z, cmap=plt.cm.coolwarm, alpha=0.8)\n",
        "\n",
        "# Plot also the training points\n",
        "#plt.scatter(X[:, 0], X[:, 1], c=y, cmap=plt.cm.coolwarm)\n",
        "plt.scatter(X[:int(num_samples/2),0],X[:int(num_samples/2),1], marker='o', color='red')\n",
        "plt.scatter(X[int(num_samples/2):,0],X[int(num_samples/2):,1], marker='s', color='green')\n",
        "\n",
        "plt.xlabel('x1')\n",
        "plt.ylabel('x2')\n",
        "plt.xlim(xx1.min(), xx1.max())\n",
        "plt.ylim(xx2.min(), xx2.max())\n",
        "plt.xticks(())\n",
        "plt.yticks(())\n",
        "plt.title('Decision boundary from SVM with RBF Kernel with gamma = 100')\n",
        "plt.show()"
      ],
      "execution_count": 48,
      "outputs": [
        {
          "output_type": "display_data",
          "data": {
            "image/png": "[encoded data removed]",
            "text/plain": [
              "<Figure size 432x288 with 1 Axes>"
            ]
          },
          "metadata": {}
        }
      ]
    }
  ]
}