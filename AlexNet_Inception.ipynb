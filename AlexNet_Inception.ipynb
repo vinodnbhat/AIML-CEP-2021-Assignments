{
  "nbformat": 4,
  "nbformat_minor": 0,
  "metadata": {
    "colab": {
      "name": "Untitled13.ipynb",
      "provenance": [],
      "authorship_tag": "ABX9TyMHjSEMrHcqYKMyMqzC9LE3",
      "include_colab_link": true
    },
    "kernelspec": {
      "name": "python3",
      "display_name": "Python 3"
    },
    "language_info": {
      "name": "python"
    },
    "widgets": {
      "application/vnd.jupyter.widget-state+json": {
        "eabba3ae503349ac906b256e161a8b14": {
          "model_module": "@jupyter-widgets/controls",
          "model_name": "HBoxModel",
          "model_module_version": "1.5.0",
          "state": {
            "_view_name": "HBoxView",
            "_dom_classes": [],
            "_model_name": "HBoxModel",
            "_view_module": "@jupyter-widgets/controls",
            "_model_module_version": "1.5.0",
            "_view_count": null,
            "_view_module_version": "1.5.0",
            "box_style": "",
            "layout": "IPY_MODEL_23dfbba2ad91404fb41643153a16ab4f",
            "_model_module": "@jupyter-widgets/controls",
            "children": [
              "IPY_MODEL_8629349f3d2040c0995c626bfc230c4e",
              "IPY_MODEL_7c0b980c37424d38afbbd21d2f7eb7e2",
              "IPY_MODEL_37f8396fa7b145f5bd064113992faf24"
            ]
          }
        },
        "23dfbba2ad91404fb41643153a16ab4f": {
          "model_module": "@jupyter-widgets/base",
          "model_name": "LayoutModel",
          "model_module_version": "1.2.0",
          "state": {
            "_view_name": "LayoutView",
            "grid_template_rows": null,
            "right": null,
            "justify_content": null,
            "_view_module": "@jupyter-widgets/base",
            "overflow": null,
            "_model_module_version": "1.2.0",
            "_view_count": null,
            "flex_flow": null,
            "width": null,
            "min_width": null,
            "border": null,
            "align_items": null,
            "bottom": null,
            "_model_module": "@jupyter-widgets/base",
            "top": null,
            "grid_column": null,
            "overflow_y": null,
            "overflow_x": null,
            "grid_auto_flow": null,
            "grid_area": null,
            "grid_template_columns": null,
            "flex": null,
            "_model_name": "LayoutModel",
            "justify_items": null,
            "grid_row": null,
            "max_height": null,
            "align_content": null,
            "visibility": null,
            "align_self": null,
            "height": null,
            "min_height": null,
            "padding": null,
            "grid_auto_rows": null,
            "grid_gap": null,
            "max_width": null,
            "order": null,
            "_view_module_version": "1.2.0",
            "grid_template_areas": null,
            "object_position": null,
            "object_fit": null,
            "grid_auto_columns": null,
            "margin": null,
            "display": null,
            "left": null
          }
        },
        "8629349f3d2040c0995c626bfc230c4e": {
          "model_module": "@jupyter-widgets/controls",
          "model_name": "HTMLModel",
          "model_module_version": "1.5.0",
          "state": {
            "_view_name": "HTMLView",
            "style": "IPY_MODEL_35b8656517db406fb4f483f48f429af2",
            "_dom_classes": [],
            "description": "",
            "_model_name": "HTMLModel",
            "placeholder": "​",
            "_view_module": "@jupyter-widgets/controls",
            "_model_module_version": "1.5.0",
            "value": "",
            "_view_count": null,
            "_view_module_version": "1.5.0",
            "description_tooltip": null,
            "_model_module": "@jupyter-widgets/controls",
            "layout": "IPY_MODEL_5dea2adf4a3b4b85962d1dad67736025"
          }
        },
        "7c0b980c37424d38afbbd21d2f7eb7e2": {
          "model_module": "@jupyter-widgets/controls",
          "model_name": "FloatProgressModel",
          "model_module_version": "1.5.0",
          "state": {
            "_view_name": "ProgressView",
            "style": "IPY_MODEL_3c4b5045d47b4b1eb0418c9b1d7ac845",
            "_dom_classes": [],
            "description": "",
            "_model_name": "FloatProgressModel",
            "bar_style": "success",
            "max": 170498071,
            "_view_module": "@jupyter-widgets/controls",
            "_model_module_version": "1.5.0",
            "value": 170498071,
            "_view_count": null,
            "_view_module_version": "1.5.0",
            "orientation": "horizontal",
            "min": 0,
            "description_tooltip": null,
            "_model_module": "@jupyter-widgets/controls",
            "layout": "IPY_MODEL_541f046278754227a8fcabd37246cf70"
          }
        },
        "37f8396fa7b145f5bd064113992faf24": {
          "model_module": "@jupyter-widgets/controls",
          "model_name": "HTMLModel",
          "model_module_version": "1.5.0",
          "state": {
            "_view_name": "HTMLView",
            "style": "IPY_MODEL_c5596a7eac504501b50f542527ee780a",
            "_dom_classes": [],
            "description": "",
            "_model_name": "HTMLModel",
            "placeholder": "​",
            "_view_module": "@jupyter-widgets/controls",
            "_model_module_version": "1.5.0",
            "value": " 170499072/? [00:02&lt;00:00, 59913088.37it/s]",
            "_view_count": null,
            "_view_module_version": "1.5.0",
            "description_tooltip": null,
            "_model_module": "@jupyter-widgets/controls",
            "layout": "IPY_MODEL_85aa5c809659405b952010c99de27b72"
          }
        },
        "35b8656517db406fb4f483f48f429af2": {
          "model_module": "@jupyter-widgets/controls",
          "model_name": "DescriptionStyleModel",
          "model_module_version": "1.5.0",
          "state": {
            "_view_name": "StyleView",
            "_model_name": "DescriptionStyleModel",
            "description_width": "",
            "_view_module": "@jupyter-widgets/base",
            "_model_module_version": "1.5.0",
            "_view_count": null,
            "_view_module_version": "1.2.0",
            "_model_module": "@jupyter-widgets/controls"
          }
        },
        "5dea2adf4a3b4b85962d1dad67736025": {
          "model_module": "@jupyter-widgets/base",
          "model_name": "LayoutModel",
          "model_module_version": "1.2.0",
          "state": {
            "_view_name": "LayoutView",
            "grid_template_rows": null,
            "right": null,
            "justify_content": null,
            "_view_module": "@jupyter-widgets/base",
            "overflow": null,
            "_model_module_version": "1.2.0",
            "_view_count": null,
            "flex_flow": null,
            "width": null,
            "min_width": null,
            "border": null,
            "align_items": null,
            "bottom": null,
            "_model_module": "@jupyter-widgets/base",
            "top": null,
            "grid_column": null,
            "overflow_y": null,
            "overflow_x": null,
            "grid_auto_flow": null,
            "grid_area": null,
            "grid_template_columns": null,
            "flex": null,
            "_model_name": "LayoutModel",
            "justify_items": null,
            "grid_row": null,
            "max_height": null,
            "align_content": null,
            "visibility": null,
            "align_self": null,
            "height": null,
            "min_height": null,
            "padding": null,
            "grid_auto_rows": null,
            "grid_gap": null,
            "max_width": null,
            "order": null,
            "_view_module_version": "1.2.0",
            "grid_template_areas": null,
            "object_position": null,
            "object_fit": null,
            "grid_auto_columns": null,
            "margin": null,
            "display": null,
            "left": null
          }
        },
        "3c4b5045d47b4b1eb0418c9b1d7ac845": {
          "model_module": "@jupyter-widgets/controls",
          "model_name": "ProgressStyleModel",
          "model_module_version": "1.5.0",
          "state": {
            "_view_name": "StyleView",
            "_model_name": "ProgressStyleModel",
            "description_width": "",
            "_view_module": "@jupyter-widgets/base",
            "_model_module_version": "1.5.0",
            "_view_count": null,
            "_view_module_version": "1.2.0",
            "bar_color": null,
            "_model_module": "@jupyter-widgets/controls"
          }
        },
        "541f046278754227a8fcabd37246cf70": {
          "model_module": "@jupyter-widgets/base",
          "model_name": "LayoutModel",
          "model_module_version": "1.2.0",
          "state": {
            "_view_name": "LayoutView",
            "grid_template_rows": null,
            "right": null,
            "justify_content": null,
            "_view_module": "@jupyter-widgets/base",
            "overflow": null,
            "_model_module_version": "1.2.0",
            "_view_count": null,
            "flex_flow": null,
            "width": null,
            "min_width": null,
            "border": null,
            "align_items": null,
            "bottom": null,
            "_model_module": "@jupyter-widgets/base",
            "top": null,
            "grid_column": null,
            "overflow_y": null,
            "overflow_x": null,
            "grid_auto_flow": null,
            "grid_area": null,
            "grid_template_columns": null,
            "flex": null,
            "_model_name": "LayoutModel",
            "justify_items": null,
            "grid_row": null,
            "max_height": null,
            "align_content": null,
            "visibility": null,
            "align_self": null,
            "height": null,
            "min_height": null,
            "padding": null,
            "grid_auto_rows": null,
            "grid_gap": null,
            "max_width": null,
            "order": null,
            "_view_module_version": "1.2.0",
            "grid_template_areas": null,
            "object_position": null,
            "object_fit": null,
            "grid_auto_columns": null,
            "margin": null,
            "display": null,
            "left": null
          }
        },
        "c5596a7eac504501b50f542527ee780a": {
          "model_module": "@jupyter-widgets/controls",
          "model_name": "DescriptionStyleModel",
          "model_module_version": "1.5.0",
          "state": {
            "_view_name": "StyleView",
            "_model_name": "DescriptionStyleModel",
            "description_width": "",
            "_view_module": "@jupyter-widgets/base",
            "_model_module_version": "1.5.0",
            "_view_count": null,
            "_view_module_version": "1.2.0",
            "_model_module": "@jupyter-widgets/controls"
          }
        },
        "85aa5c809659405b952010c99de27b72": {
          "model_module": "@jupyter-widgets/base",
          "model_name": "LayoutModel",
          "model_module_version": "1.2.0",
          "state": {
            "_view_name": "LayoutView",
            "grid_template_rows": null,
            "right": null,
            "justify_content": null,
            "_view_module": "@jupyter-widgets/base",
            "overflow": null,
            "_model_module_version": "1.2.0",
            "_view_count": null,
            "flex_flow": null,
            "width": null,
            "min_width": null,
            "border": null,
            "align_items": null,
            "bottom": null,
            "_model_module": "@jupyter-widgets/base",
            "top": null,
            "grid_column": null,
            "overflow_y": null,
            "overflow_x": null,
            "grid_auto_flow": null,
            "grid_area": null,
            "grid_template_columns": null,
            "flex": null,
            "_model_name": "LayoutModel",
            "justify_items": null,
            "grid_row": null,
            "max_height": null,
            "align_content": null,
            "visibility": null,
            "align_self": null,
            "height": null,
            "min_height": null,
            "padding": null,
            "grid_auto_rows": null,
            "grid_gap": null,
            "max_width": null,
            "order": null,
            "_view_module_version": "1.2.0",
            "grid_template_areas": null,
            "object_position": null,
            "object_fit": null,
            "grid_auto_columns": null,
            "margin": null,
            "display": null,
            "left": null
          }
        }
      }
    }
  },
  "cells": [
    {
      "cell_type": "markdown",
      "metadata": {
        "id": "view-in-github",
        "colab_type": "text"
      },
      "source": [
        "<a href=\"https://colab.research.google.com/github/vinodnbhat/AIML-CEP-2021-Assignments/blob/main/AlexNet_Inception.ipynb\" target=\"_parent\"><img src=\"https://colab.research.google.com/assets/colab-badge.svg\" alt=\"Open In Colab\"/></a>"
      ]
    },
    {
      "cell_type": "code",
      "execution_count": 1,
      "metadata": {
        "id": "hBeA9dgkr_WF"
      },
      "outputs": [],
      "source": [
        "# Import required libraries\n",
        "import torch\n",
        "import torch.nn as nn\n",
        "import torch.nn.functional as F\n",
        "import torch.optim as optim\n",
        "import torch.utils.data as data\n",
        "import torch.optim.lr_scheduler as lr_scheduler\n",
        "import torchvision.transforms as transforms\n",
        "import torchvision.datasets as datasets\n",
        "import matplotlib.pyplot as plt\n",
        "import numpy as np\n",
        "import random\n",
        "import time"
      ]
    },
    {
      "cell_type": "code",
      "source": [
        "SEED = 1234\n",
        "random.seed(SEED)\n",
        "np.random.seed(SEED)\n",
        "torch.manual_seed(SEED)\n",
        "torch.cuda.manual_seed(SEED)"
      ],
      "metadata": {
        "id": "IiFPz9Mdsxw2"
      },
      "execution_count": 2,
      "outputs": []
    },
    {
      "cell_type": "markdown",
      "source": [
        "**CIFAR Dataset**"
      ],
      "metadata": {
        "id": "05z5qTpjtbQs"
      }
    },
    {
      "cell_type": "code",
      "source": [
        "ROOT = '.data'\n",
        "\n",
        "# Downloading Cifar10 dataset from torchvision datasets\n",
        "train_data = datasets.CIFAR10(root = ROOT,\n",
        "                              train = True,\n",
        "                              download = True)\n",
        "\n",
        "mean = train_data.data.mean() / 255\n",
        "std = train_data.data.std() / 255\n",
        "\n",
        "print(f'Calculated mean: {mean}')\n",
        "print(f'Calculated std: {std}')"
      ],
      "metadata": {
        "colab": {
          "base_uri": "https://localhost:8080/",
          "height": 118,
          "referenced_widgets": [
            "eabba3ae503349ac906b256e161a8b14",
            "23dfbba2ad91404fb41643153a16ab4f",
            "8629349f3d2040c0995c626bfc230c4e",
            "7c0b980c37424d38afbbd21d2f7eb7e2",
            "37f8396fa7b145f5bd064113992faf24",
            "35b8656517db406fb4f483f48f429af2",
            "5dea2adf4a3b4b85962d1dad67736025",
            "3c4b5045d47b4b1eb0418c9b1d7ac845",
            "541f046278754227a8fcabd37246cf70",
            "c5596a7eac504501b50f542527ee780a",
            "85aa5c809659405b952010c99de27b72"
          ]
        },
        "id": "TjiaNSpctevC",
        "outputId": "a281419c-2fe6-4a68-82c2-95b8c5b5dd01"
      },
      "execution_count": 3,
      "outputs": [
        {
          "output_type": "stream",
          "name": "stdout",
          "text": [
            "Downloading https://www.cs.toronto.edu/~kriz/cifar-10-python.tar.gz to .data/cifar-10-python.tar.gz\n"
          ]
        },
        {
          "output_type": "display_data",
          "data": {
            "application/vnd.jupyter.widget-view+json": {
              "model_id": "eabba3ae503349ac906b256e161a8b14",
              "version_minor": 0,
              "version_major": 2
            },
            "text/plain": [
              "  0%|          | 0/170498071 [00:00<?, ?it/s]"
            ]
          },
          "metadata": {}
        },
        {
          "output_type": "stream",
          "name": "stdout",
          "text": [
            "Extracting .data/cifar-10-python.tar.gz to .data\n",
            "Calculated mean: 0.4733630004850899\n",
            "Calculated std: 0.2515689250632208\n"
          ]
        }
      ]
    },
    {
      "cell_type": "code",
      "source": [
        "print(train_data.data.shape)"
      ],
      "metadata": {
        "colab": {
          "base_uri": "https://localhost:8080/"
        },
        "id": "w68Aijbaulm8",
        "outputId": "d6d5c817-af22-4039-d805-c48d4c016729"
      },
      "execution_count": 4,
      "outputs": [
        {
          "output_type": "stream",
          "name": "stdout",
          "text": [
            "(50000, 32, 32, 3)\n"
          ]
        }
      ]
    },
    {
      "cell_type": "code",
      "source": [
        "train_transforms = transforms.Compose([\n",
        "                                       transforms.ToTensor(),\n",
        "                                       transforms.Normalize(mean = [mean], std = [std])\n",
        "                                      ])\n",
        "\n",
        "test_transforms = transforms.Compose([\n",
        "                                       transforms.ToTensor(),\n",
        "                                       transforms.Normalize(mean = [mean], std = [std])\n",
        "                                      ])"
      ],
      "metadata": {
        "id": "ZSgpUyfOuquB"
      },
      "execution_count": 5,
      "outputs": []
    },
    {
      "cell_type": "code",
      "source": [
        "train_set = datasets.CIFAR10(root = ROOT,\n",
        "                             train = True,\n",
        "                             download = True,\n",
        "                             transform = train_transforms)\n",
        "\n",
        "test_set = datasets.CIFAR10(root = ROOT,\n",
        "                             train = False,\n",
        "                             download = True,\n",
        "                             transform = train_transforms)"
      ],
      "metadata": {
        "colab": {
          "base_uri": "https://localhost:8080/"
        },
        "id": "JQdKtCd9wgkX",
        "outputId": "a5aedd4a-7c59-4d1b-9bd4-914eebc455e2"
      },
      "execution_count": 6,
      "outputs": [
        {
          "output_type": "stream",
          "name": "stdout",
          "text": [
            "Files already downloaded and verified\n",
            "Files already downloaded and verified\n"
          ]
        }
      ]
    },
    {
      "cell_type": "code",
      "source": [
        "print(train_set.data.shape)"
      ],
      "metadata": {
        "colab": {
          "base_uri": "https://localhost:8080/"
        },
        "id": "Yxs3ouZjw4fS",
        "outputId": "fa88cf59-1864-4923-8561-d912ffff5037"
      },
      "execution_count": 8,
      "outputs": [
        {
          "output_type": "stream",
          "name": "stdout",
          "text": [
            "(50000, 32, 32, 3)\n"
          ]
        }
      ]
    },
    {
      "cell_type": "code",
      "source": [
        "print(test_set.data.shape)"
      ],
      "metadata": {
        "colab": {
          "base_uri": "https://localhost:8080/"
        },
        "id": "r1FgDuYHxAE2",
        "outputId": "0cac23df-0bb8-430e-ce44-35834b08ed08"
      },
      "execution_count": 9,
      "outputs": [
        {
          "output_type": "stream",
          "name": "stdout",
          "text": [
            "(10000, 32, 32, 3)\n"
          ]
        }
      ]
    },
    {
      "cell_type": "code",
      "source": [
        "print(f'Number of training samples: {len(train_set)}')\n",
        "print(f'Number of testing samples: {len(test_set)}')"
      ],
      "metadata": {
        "colab": {
          "base_uri": "https://localhost:8080/"
        },
        "id": "t8weFq34xCyQ",
        "outputId": "525f5373-29e0-4220-e8d8-4bdb700a666f"
      },
      "execution_count": 10,
      "outputs": [
        {
          "output_type": "stream",
          "name": "stdout",
          "text": [
            "Number of training samples: 50000\n",
            "Number of testing samples: 10000\n"
          ]
        }
      ]
    },
    {
      "cell_type": "code",
      "source": [
        "batch_size = 64\n",
        "\n",
        "train_loader = data.DataLoader(train_set,\n",
        "                               shuffle = True,\n",
        "                               batch_size = batch_size)\n",
        "\n",
        "test_loader = data.DataLoader(test_set,\n",
        "                              batch_size = batch_size)"
      ],
      "metadata": {
        "id": "aTsg_g0SxTQS"
      },
      "execution_count": 11,
      "outputs": []
    },
    {
      "cell_type": "code",
      "source": [
        "# Checking the bacth dimensions\n",
        "for images, labels in train_loader:\n",
        "  print('Image batch dimensions:', images.shape)\n",
        "  print('Label batch dimensions:', labels.shape)\n",
        "  break"
      ],
      "metadata": {
        "colab": {
          "base_uri": "https://localhost:8080/"
        },
        "id": "U49GfWbWzYq9",
        "outputId": "a7b97186-47c5-4b12-c0d3-b0333bcb0c40"
      },
      "execution_count": 14,
      "outputs": [
        {
          "output_type": "stream",
          "name": "stdout",
          "text": [
            "Image batch dimensions: torch.Size([64, 3, 32, 32])\n",
            "Label batch dimensions: torch.Size([64])\n"
          ]
        }
      ]
    },
    {
      "cell_type": "code",
      "source": [
        "### Model Settings ###\n",
        "\n",
        "# Hyperparameters\n",
        "learning_rate = 0.01\n",
        "\n",
        "# Architecture\n",
        "num_classes = 10"
      ],
      "metadata": {
        "id": "9aC9r9Zo0Ug9"
      },
      "execution_count": 15,
      "outputs": []
    },
    {
      "cell_type": "code",
      "source": [
        "class AlexNet(nn.Module):\n",
        "  def __init__(self, num_classes = 10):\n",
        "    super(AlexNet, self).__init__()\n",
        "    self.features = nn.Sequential(\n",
        "        nn.Conv2d(3, 64, kernel_size = 3, stride = 2, padding = 1),\n",
        "        nn.ReLU(inplace = True),\n",
        "        nn.MaxPool2d(kernel_size = 2),\n",
        "        nn.Conv2d(64, 192, kernel_size = 3, padding = 1),\n",
        "        nn.ReLU(inplace = True),\n",
        "        nn.MaxPool2d(kernel_size = 2),\n",
        "        nn.Conv2d(192, 384, kernel_size = 3, padding = 1),\n",
        "        nn.ReLU(inplace = True),\n",
        "        nn.Conv2d(384, 256, kernel_size = 3, padding = 1),\n",
        "        nn.ReLU(inplace = True),\n",
        "        nn.Conv2d(256, 256, kernel_size = 3, padding = 1),\n",
        "        nn.ReLU(inplace = True),\n",
        "        nn.MaxPool2d(kernel_size = 2)\n",
        "    )\n",
        "    self.classifier = nn.Sequential(\n",
        "        nn.Dropout(),\n",
        "        nn.Linear(256 * 2 * 2, 4096),\n",
        "        nn.ReLU(inplace = True),\n",
        "        nn.Dropout(),\n",
        "        nn.Linear(4096, 4096),\n",
        "        nn.ReLU(inplace = True),\n",
        "        nn.Linear(4096, num_classes)\n",
        "    )\n",
        "\n",
        "  def forward(self, x):\n",
        "    x = self.features(x)\n",
        "    x = x.view(x.size(0), 256 * 2 * 2)\n",
        "    x = self.classifier(x)\n",
        "    logits = x\n",
        "    probas = F.log_softmax(x, dim = 1)\n",
        "    return logits, probas"
      ],
      "metadata": {
        "id": "31w73zBL7VET"
      },
      "execution_count": 56,
      "outputs": []
    },
    {
      "cell_type": "code",
      "source": [
        "# Initialize the model\n",
        "model = AlexNet()"
      ],
      "metadata": {
        "id": "aKmYkT8r_-cW"
      },
      "execution_count": 57,
      "outputs": []
    },
    {
      "cell_type": "code",
      "source": [
        "def count_parameters(model):\n",
        "  return sum(p.numel() for p in model.parameters() if p.requires_grad)\n",
        "\n",
        "print(f'The model has {count_parameters(model):,} trainable parameters')"
      ],
      "metadata": {
        "colab": {
          "base_uri": "https://localhost:8080/"
        },
        "id": "10uUJd52AbMF",
        "outputId": "434e775e-bce3-463f-e813-2da87af1d213"
      },
      "execution_count": 58,
      "outputs": [
        {
          "output_type": "stream",
          "name": "stdout",
          "text": [
            "The model has 23,272,266 trainable parameters\n"
          ]
        }
      ]
    },
    {
      "cell_type": "code",
      "source": [
        "optimizer = torch.optim.Adam(model.parameters(), lr =learning_rate)"
      ],
      "metadata": {
        "id": "RC4u7pX8BlLb"
      },
      "execution_count": 59,
      "outputs": []
    },
    {
      "cell_type": "code",
      "source": [
        "lossfn = nn.CrossEntropyLoss()"
      ],
      "metadata": {
        "id": "InjqCLPuCYiq"
      },
      "execution_count": 60,
      "outputs": []
    },
    {
      "cell_type": "code",
      "source": [
        "if torch.cuda.is_available():\n",
        "  print('cuda is available. Using cuda..')\n",
        "else:\n",
        "  print('cuda is not available. Using CPU..')\n",
        "\n",
        "device = torch.device('cuda' if torch.cuda.is_available() else 'cpu')"
      ],
      "metadata": {
        "colab": {
          "base_uri": "https://localhost:8080/"
        },
        "id": "F3_n7dkACfTF",
        "outputId": "28bc5059-2e70-426f-c5b9-562b5477d280"
      },
      "execution_count": 61,
      "outputs": [
        {
          "output_type": "stream",
          "name": "stdout",
          "text": [
            "cuda is not available. Using CPU..\n"
          ]
        }
      ]
    },
    {
      "cell_type": "code",
      "source": [
        "model = model.to(device)\n",
        "lossfn = lossfn.to(device)"
      ],
      "metadata": {
        "id": "YwUfk5vUDxrj"
      },
      "execution_count": 62,
      "outputs": []
    },
    {
      "cell_type": "code",
      "source": [
        "def epoch_time(start_time, end_time):\n",
        "  elapsed_time = end_time - start_time\n",
        "  elapsed_mins = int(elapsed_time / 60)\n",
        "  elapsed_secs = elapsed_time - (elapsed_mins * 60)\n",
        "  return elapsed_mins, elapsed_secs"
      ],
      "metadata": {
        "id": "eHTDn7ssExWq"
      },
      "execution_count": 63,
      "outputs": []
    },
    {
      "cell_type": "code",
      "source": [
        "# Compute the Accuracy\n",
        "def compute_accuracy(model, data_loader):\n",
        "  correct_pred, num_examples = 0, 0\n",
        "  for i , (features, targets) in enumerate(data_loader):\n",
        "    features = features.to(device)\n",
        "    targets = targets.to(device)\n",
        "    logits, probas = model(features)\n",
        "    _, predicted_labels = torch.max(probas, 1)\n",
        "    num_examples += targets.size(0)\n",
        "    correct_pred += (predicted_labels == targets).sum()\n",
        "  return correct_pred.float() / num_examples *100"
      ],
      "metadata": {
        "id": "ynTwp8wmFMKO"
      },
      "execution_count": 64,
      "outputs": []
    },
    {
      "cell_type": "code",
      "source": [
        "def train(model, iterator, optimizer, criterion, device):\n",
        "  epoch_loss = 0\n",
        "\n",
        "  model.train()\n",
        "\n",
        "  for (x, y) in iterator:\n",
        "\n",
        "    x = x.to(device)\n",
        "    y = y.to(device)\n",
        "\n",
        "    optimizer.zero_grad()\n",
        "\n",
        "    y_pred_logits, y_pred_probas = model(x)\n",
        "\n",
        "    loss = lossfn(y_pred_logits, y)\n",
        "\n",
        "    loss.backward()\n",
        "\n",
        "    optimizer.step()\n",
        "\n",
        "    epoch_loss += loss.item()\n",
        "\n",
        "  return epoch_loss / len(iterator)"
      ],
      "metadata": {
        "id": "m0rI4fAuH0Cs"
      },
      "execution_count": 67,
      "outputs": []
    },
    {
      "cell_type": "code",
      "source": [
        "save_model = False\n",
        "patience_early_stopping = 3 #training will stop if model performance does not improve for these many consecutive epochs\n",
        "cnt = 0 #counter for checking patience level\n",
        "EPOCHS = 3\n",
        "prev_test_acc = 0 #initializing prev test accuracy for early stopping condition\n",
        "scheduler = lr_scheduler.ReduceLROnPlateau(optimizer, mode = 'max', factor = 0.2, patience = 1) #learning rate scheduler, update learning rate by \n",
        "#factor of 0.2 if test accuracy does not improve for patience+1 consecutive epochs\n",
        "\n",
        "for epoch in range(EPOCHS):\n",
        "  print(\"current learning rate\", optimizer.state_dict()['param_groups'][0]['lr'])\n",
        "  start_time = time.perf_counter()\n",
        "\n",
        "  train_loss = train(model, train_loader, optimizer, lossfn, device)\n",
        "  train_acc = compute_accuracy(model, train_loader)\n",
        "\n",
        "  if save_model:\n",
        "    torch.save(model.state.dict(), 'alexnet_model.pt')\n",
        "\n",
        "  if epoch % 1 == 0: #for every epoch we shall compute the test accuracy\n",
        "    test_acc = compute_accuracy(model, test_loader)\n",
        "\n",
        "    if test_acc > prev_test_acc: #check if test accuracy for current epoch has improved compared to previous epoch\n",
        "      cnt = 0 #if accuracy improves reset counter to 0\n",
        "    else:\n",
        "      cnt += 1 #otherwise increment current counter\n",
        "\n",
        "    prev_test_acc = test_acc\n",
        "\n",
        "  scheduler.step(test_acc) #updates learning rate\n",
        "\n",
        "  end_time = time.perf_counter()\n",
        "\n",
        "  epoch_mins, epoch_secs = epoch_time(start_time, end_time)\n",
        "\n",
        "  print(f'Epoch: {epoch+1:2} | Epoch Time: {epoch_mins}m {epoch_secs}s')\n",
        "  print(f'\\tTrain Loss: {train_loss:.3f} | Train Acc: {train_acc:.2f}%')\n",
        "  if epoch % 1 == 0:  #for every epoch we shall print the test loss and test accuracy \n",
        "    print(f'\\tTest Acc: {test_acc:.2f}% \\n')\n",
        "\n",
        "  if cnt == patience_early_stopping:\n",
        "    print(f'early stopping as accuracy did not improve for {patience_early_stopping} consecutive epochs')\n",
        "    break\n",
        "\n"
      ],
      "metadata": {
        "colab": {
          "base_uri": "https://localhost:8080/"
        },
        "id": "8O7_WdGnG531",
        "outputId": "b1900fca-b574-4e94-e5fc-698d1db2ccc2"
      },
      "execution_count": 68,
      "outputs": [
        {
          "output_type": "stream",
          "name": "stdout",
          "text": [
            "current learning rate 0.01\n",
            "Epoch:  1 | Epoch Time: 13m 34.10375407799984s\n",
            "\tTrain Loss: 52.262 | Train Acc: 10.05%\n",
            "\tTest Acc: 9.89% \n",
            "\n",
            "current learning rate 0.01\n",
            "Epoch:  2 | Epoch Time: 16m 59.50214466899888s\n",
            "\tTrain Loss: 2.304 | Train Acc: 10.00%\n",
            "\tTest Acc: 10.00% \n",
            "\n",
            "current learning rate 0.01\n",
            "Epoch:  3 | Epoch Time: 16m 40.9703032489997s\n",
            "\tTrain Loss: 2.304 | Train Acc: 10.00%\n",
            "\tTest Acc: 10.00% \n",
            "\n"
          ]
        }
      ]
    }
  ]
}