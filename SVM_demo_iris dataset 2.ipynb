{
  "nbformat": 4,
  "nbformat_minor": 0,
  "metadata": {
    "colab": {
      "name": "Untitled5.ipynb",
      "provenance": [],
      "authorship_tag": "ABX9TyM5S5PWf5FGedW3IF9P7hpk",
      "include_colab_link": true
    },
    "kernelspec": {
      "name": "python3",
      "display_name": "Python 3"
    },
    "language_info": {
      "name": "python"
    }
  },
  "cells": [
    {
      "cell_type": "markdown",
      "metadata": {
        "id": "view-in-github",
        "colab_type": "text"
      },
      "source": [
        "<a href=\"https://colab.research.google.com/github/vinodnbhat/AIML-CEP-2021-Assignments/blob/main/SVM_demo_iris%20dataset%202.ipynb\" target=\"_parent\"><img src=\"https://colab.research.google.com/assets/colab-badge.svg\" alt=\"Open In Colab\"/></a>"
      ]
    },
    {
      "cell_type": "code",
      "metadata": {
        "id": "79DQUtQVoJKJ"
      },
      "source": [
        "import numpy as np\n",
        "import pandas as pd\n",
        "import matplotlib.pyplot as plt\n",
        "\n",
        "%matplotlib inline"
      ],
      "execution_count": 1,
      "outputs": []
    },
    {
      "cell_type": "code",
      "metadata": {
        "colab": {
          "base_uri": "https://localhost:8080/"
        },
        "id": "eeM5SE0Tocl6",
        "outputId": "d4a496db-ea4d-41d2-efab-a7b4bd0dc66b"
      },
      "source": [
        "from sklearn.datasets import load_iris\n",
        "from sklearn.svm import LinearSVC\n",
        "\n",
        "np.random.seed(1000)\n",
        "\n",
        "iris = load_iris()\n",
        "A = iris.data\n",
        "print('iris data shape:', A.shape)\n",
        "print('iris target shape:', iris.target.shape)\n",
        "print('features of first five samples of iris data:')\n",
        "iris.data[0:5]"
      ],
      "execution_count": 5,
      "outputs": [
        {
          "output_type": "stream",
          "name": "stdout",
          "text": [
            "iris data shape: (150, 4)\n",
            "iris target shape: (150,)\n",
            "features of first five samples of iris data:\n"
          ]
        },
        {
          "output_type": "execute_result",
          "data": {
            "text/plain": [
              "array([[5.1, 3.5, 1.4, 0.2],\n",
              "       [4.9, 3. , 1.4, 0.2],\n",
              "       [4.7, 3.2, 1.3, 0.2],\n",
              "       [4.6, 3.1, 1.5, 0.2],\n",
              "       [5. , 3.6, 1.4, 0.2]])"
            ]
          },
          "metadata": {},
          "execution_count": 5
        }
      ]
    },
    {
      "cell_type": "code",
      "metadata": {
        "colab": {
          "base_uri": "https://localhost:8080/"
        },
        "id": "ppcHOMkWpkpM",
        "outputId": "793ac6e0-8673-46c3-d84b-e5e21ad57e5a"
      },
      "source": [
        "print('unique classes:', np.unique(iris.target))\n",
        "n = iris.data.shape[0]\n",
        "d = iris.data.shape[1]\n",
        "print('n:', n, 'd:', d)"
      ],
      "execution_count": 7,
      "outputs": [
        {
          "output_type": "stream",
          "name": "stdout",
          "text": [
            "unique classes: [0 1 2]\n",
            "n: 150 d: 4\n"
          ]
        }
      ]
    },
    {
      "cell_type": "code",
      "metadata": {
        "id": "N_riCM1IqAn_"
      },
      "source": [
        "y = 1.0 * np.ones([A.shape[0], 1])\n",
        "for i in range(n):\n",
        "  if iris.target[i] == 0:\n",
        "    y[i] = 1\n",
        "  else:\n",
        "    y[i] = -1"
      ],
      "execution_count": 28,
      "outputs": []
    },
    {
      "cell_type": "code",
      "metadata": {
        "id": "xHxIIjGGq0g5"
      },
      "source": [
        "indexarr = np.arange(n)\n",
        "np.random.shuffle(indexarr)"
      ],
      "execution_count": 29,
      "outputs": []
    },
    {
      "cell_type": "code",
      "metadata": {
        "colab": {
          "base_uri": "https://localhost:8080/"
        },
        "id": "Z9HNVX_wrCFZ",
        "outputId": "18cf4d44-ff02-4bf8-da53-97229e37c220"
      },
      "source": [
        "num_train = int (0.8 * n)\n",
        "num_test = n - num_train\n",
        "print('num_train:', num_train, 'num_test:', num_test)"
      ],
      "execution_count": 30,
      "outputs": [
        {
          "output_type": "stream",
          "name": "stdout",
          "text": [
            "num_train: 120 num_test: 30\n"
          ]
        }
      ]
    },
    {
      "cell_type": "code",
      "metadata": {
        "colab": {
          "base_uri": "https://localhost:8080/"
        },
        "id": "Vr1luX9erUd9",
        "outputId": "8ab7a146-42f8-40ae-d474-aed8028bd7c0"
      },
      "source": [
        "train_features = A[indexarr[0:num_train]]\n",
        "train_label = y[indexarr[0:num_train]]\n",
        "print('shape of train data features:')\n",
        "print(train_features.shape)\n",
        "print('shapeof train data labels')\n",
        "print(train_label.shape)"
      ],
      "execution_count": 31,
      "outputs": [
        {
          "output_type": "stream",
          "name": "stdout",
          "text": [
            "shape of train data features:\n",
            "(120, 4)\n",
            "shapeof train data labels\n",
            "(120, 1)\n"
          ]
        }
      ]
    },
    {
      "cell_type": "code",
      "metadata": {
        "colab": {
          "base_uri": "https://localhost:8080/"
        },
        "id": "X1STeL9JtHWL",
        "outputId": "b0f5b724-af82-43a1-e067-fa5d27e4f41e"
      },
      "source": [
        "test_features = A[indexarr[num_train:n]]\n",
        "test_label = y[indexarr[num_train:n]]\n",
        "print('shape of test data features:')\n",
        "print(test_features.shape)\n",
        "print('shapeof test data labels')\n",
        "print(test_label.shape)"
      ],
      "execution_count": 32,
      "outputs": [
        {
          "output_type": "stream",
          "name": "stdout",
          "text": [
            "shape of test data features:\n",
            "(30, 4)\n",
            "shapeof test data labels\n",
            "(30, 1)\n"
          ]
        }
      ]
    },
    {
      "cell_type": "code",
      "metadata": {
        "id": "taYYdQEMtsFP"
      },
      "source": [
        "clf = LinearSVC(tol = 1e-5, random_state = 0)"
      ],
      "execution_count": 33,
      "outputs": []
    },
    {
      "cell_type": "code",
      "metadata": {
        "id": "Cd2keMZEt9JY"
      },
      "source": [
        "train_label = np.reshape(train_label, (train_label.shape[0],))\n",
        "clf_model = clf.fit(train_features, train_label)\n",
        "predicted_labels = clf_model.predict(test_features)"
      ],
      "execution_count": 34,
      "outputs": []
    },
    {
      "cell_type": "code",
      "metadata": {
        "id": "2FK-8_6Aum4E"
      },
      "source": [
        "predicted_labels = np.reshape(predicted_labels.data, (num_test, 1))\n",
        "#print(predicted_labels)\n",
        "#print(test_label)"
      ],
      "execution_count": 35,
      "outputs": []
    },
    {
      "cell_type": "code",
      "metadata": {
        "colab": {
          "base_uri": "https://localhost:8080/"
        },
        "id": "RsCiJCttvSbw",
        "outputId": "ff811da3-0894-4cc1-970c-aac043f2fd88"
      },
      "source": [
        "test_error = np.sum(0.5 * np.abs(predicted_labels - test_label))/len(test_label) * 100\n",
        "test_accuracy = 100 - test_error\n",
        "print('test set accuracy:', test_accuracy)"
      ],
      "execution_count": 36,
      "outputs": [
        {
          "output_type": "stream",
          "name": "stdout",
          "text": [
            "test set accuracy: 100.0\n"
          ]
        }
      ]
    },
    {
      "cell_type": "code",
      "metadata": {
        "colab": {
          "base_uri": "https://localhost:8080/"
        },
        "id": "uWTLdqj3wVCJ",
        "outputId": "03b98891-6c8c-477a-c8ab-f7f46980a000"
      },
      "source": [
        "predicted_train_labels = clf_model.predict(train_features)\n",
        "predicted_train_labels = np.reshape(predicted_train_labels, (num_train, 1))\n",
        "train_label = np.reshape(train_label, (num_train, 1))\n",
        "train_error = np.sum(0.5 * np.abs(predicted_train_labels - train_label))/len(train_label) * 100\n",
        "train_accuracy = 100 - train_error\n",
        "print('train set accuracy:', train_accuracy)"
      ],
      "execution_count": 37,
      "outputs": [
        {
          "output_type": "stream",
          "name": "stdout",
          "text": [
            "train set accuracy: 100.0\n"
          ]
        }
      ]
    },
    {
      "cell_type": "code",
      "metadata": {
        "colab": {
          "base_uri": "https://localhost:8080/"
        },
        "id": "SSnT0JRWxGWX",
        "outputId": "8b84d3cd-4616-4cce-e830-c1b0c966428d"
      },
      "source": [
        "from sklearn.metrics import confusion_matrix\n",
        "cm_train = confusion_matrix(train_label, predicted_train_labels)\n",
        "print('Confusion matrix train set:')\n",
        "print(cm_train)\n",
        "\n",
        "cm_test = confusion_matrix(test_label, predicted_labels)\n",
        "print('Confusion matrix test set:')\n",
        "print(cm_test)"
      ],
      "execution_count": 38,
      "outputs": [
        {
          "output_type": "stream",
          "name": "stdout",
          "text": [
            "Confusion matrix train set:\n",
            "[[79  0]\n",
            " [ 0 41]]\n",
            "Confusion matrix test set:\n",
            "[[21  0]\n",
            " [ 0  9]]\n"
          ]
        }
      ]
    },
    {
      "cell_type": "code",
      "metadata": {
        "colab": {
          "base_uri": "https://localhost:8080/",
          "height": 250
        },
        "id": "U3qrlUSoxxil",
        "outputId": "d6402100-7efe-4477-b847-8ae4d0b72876"
      },
      "source": [
        "import seaborn as sns\n",
        "fig, axes = plt.subplots(ncols = 2, figsize = (6, 3))\n",
        "ax1, ax2 = axes\n",
        "sns.heatmap(cm_train, annot = True, fmt = 'g', ax = ax1)\n",
        "sns.heatmap(cm_test, annot = True, fmt = 'g', ax = ax2)\n",
        "ax1.set_title('Train Data')\n",
        "ax1.xaxis.set_ticklabels(['-1', '1'])\n",
        "ax1.yaxis.set_ticklabels(['-1', '1'])\n",
        "\n",
        "ax2.set_title('Test Data')\n",
        "ax2.xaxis.set_ticklabels(['-1', '1'])\n",
        "ax2.yaxis.set_ticklabels(['-1', '1'])\n",
        "\n",
        "fig.suptitle('Confusion Matrix')"
      ],
      "execution_count": 39,
      "outputs": [
        {
          "output_type": "execute_result",
          "data": {
            "text/plain": [
              "Text(0.5, 0.98, 'Confusion Matrix')"
            ]
          },
          "metadata": {},
          "execution_count": 39
        },
        {
          "output_type": "display_data",
          "data": {
            "image/png": "[encoded data removed]",
            "text/plain": [
              "<Figure size 432x216 with 4 Axes>"
            ]
          },
          "metadata": {
            "needs_background": "light"
          }
        }
      ]
    },
    {
      "cell_type": "code",
      "metadata": {
        "colab": {
          "base_uri": "https://localhost:8080/"
        },
        "id": "hrsCaFAhy-se",
        "outputId": "ddcc39e0-6829-4288-f86c-9ca965ff3001"
      },
      "source": [
        "from sklearn.metrics import classification_report\n",
        "train_cr = classification_report(train_label, predicted_train_labels)\n",
        "print('Train Report')\n",
        "print(train_cr)\n",
        "\n",
        "test_cr = classification_report(test_label, predicted_labels)\n",
        "print('Test Report')\n",
        "print(test_cr)"
      ],
      "execution_count": 40,
      "outputs": [
        {
          "output_type": "stream",
          "name": "stdout",
          "text": [
            "Train Report\n",
            "              precision    recall  f1-score   support\n",
            "\n",
            "        -1.0       1.00      1.00      1.00        79\n",
            "         1.0       1.00      1.00      1.00        41\n",
            "\n",
            "    accuracy                           1.00       120\n",
            "   macro avg       1.00      1.00      1.00       120\n",
            "weighted avg       1.00      1.00      1.00       120\n",
            "\n",
            "Test Report\n",
            "              precision    recall  f1-score   support\n",
            "\n",
            "        -1.0       1.00      1.00      1.00        21\n",
            "         1.0       1.00      1.00      1.00         9\n",
            "\n",
            "    accuracy                           1.00        30\n",
            "   macro avg       1.00      1.00      1.00        30\n",
            "weighted avg       1.00      1.00      1.00        30\n",
            "\n"
          ]
        }
      ]
    }
  ]
}