{
  "nbformat": 4,
  "nbformat_minor": 0,
  "metadata": {
    "colab": {
      "name": "Untitled3.ipynb",
      "provenance": [],
      "authorship_tag": "ABX9TyPL1qPgW1M/pI1QA02nyKeB",
      "include_colab_link": true
    },
    "kernelspec": {
      "name": "python3",
      "display_name": "Python 3"
    },
    "language_info": {
      "name": "python"
    }
  },
  "cells": [
    {
      "cell_type": "markdown",
      "metadata": {
        "id": "view-in-github",
        "colab_type": "text"
      },
      "source": [
        "<a href=\"https://colab.research.google.com/github/vinodnbhat/AIML-CEP-2021-Assignments/blob/main/Linear%20regression_Tissue%20drug%20conc%20vs%20Math%20score.ipynb\" target=\"_parent\"><img src=\"https://colab.research.google.com/assets/colab-badge.svg\" alt=\"Open In Colab\"/></a>"
      ]
    },
    {
      "cell_type": "code",
      "metadata": {
        "id": "3Zffetvkrhrw"
      },
      "source": [
        "import numpy as np\n",
        "import pandas as pd\n",
        "import matplotlib.pyplot as plt\n",
        "\n",
        "%matplotlib inline"
      ],
      "execution_count": 34,
      "outputs": []
    },
    {
      "cell_type": "code",
      "metadata": {
        "colab": {
          "base_uri": "https://localhost:8080/",
          "height": 204
        },
        "id": "Gm1Myc_3suSc",
        "outputId": "e47ed7cf-c37c-4dcd-93fa-9b14e1ca45cc"
      },
      "source": [
        "drug_vs_mathscore_data = pd.read_csv('http://users.stat.ufl.edu/~winner/data/lsd.dat', delim_whitespace = True, index_col = False, header = None)\n",
        "drug_vs_mathscore_data.head()"
      ],
      "execution_count": 35,
      "outputs": [
        {
          "output_type": "execute_result",
          "data": {
            "text/html": [
              "<div>\n",
              "<style scoped>\n",
              "    .dataframe tbody tr th:only-of-type {\n",
              "        vertical-align: middle;\n",
              "    }\n",
              "\n",
              "    .dataframe tbody tr th {\n",
              "        vertical-align: top;\n",
              "    }\n",
              "\n",
              "    .dataframe thead th {\n",
              "        text-align: right;\n",
              "    }\n",
              "</style>\n",
              "<table border=\"1\" class=\"dataframe\">\n",
              "  <thead>\n",
              "    <tr style=\"text-align: right;\">\n",
              "      <th></th>\n",
              "      <th>0</th>\n",
              "      <th>1</th>\n",
              "    </tr>\n",
              "  </thead>\n",
              "  <tbody>\n",
              "    <tr>\n",
              "      <th>0</th>\n",
              "      <td>1.17</td>\n",
              "      <td>78.93</td>\n",
              "    </tr>\n",
              "    <tr>\n",
              "      <th>1</th>\n",
              "      <td>2.97</td>\n",
              "      <td>58.20</td>\n",
              "    </tr>\n",
              "    <tr>\n",
              "      <th>2</th>\n",
              "      <td>3.26</td>\n",
              "      <td>67.47</td>\n",
              "    </tr>\n",
              "    <tr>\n",
              "      <th>3</th>\n",
              "      <td>4.69</td>\n",
              "      <td>37.47</td>\n",
              "    </tr>\n",
              "    <tr>\n",
              "      <th>4</th>\n",
              "      <td>5.83</td>\n",
              "      <td>45.65</td>\n",
              "    </tr>\n",
              "  </tbody>\n",
              "</table>\n",
              "</div>"
            ],
            "text/plain": [
              "      0      1\n",
              "0  1.17  78.93\n",
              "1  2.97  58.20\n",
              "2  3.26  67.47\n",
              "3  4.69  37.47\n",
              "4  5.83  45.65"
            ]
          },
          "metadata": {},
          "execution_count": 35
        }
      ]
    },
    {
      "cell_type": "code",
      "metadata": {
        "colab": {
          "base_uri": "https://localhost:8080/",
          "height": 266
        },
        "id": "sLqqcXBwtXts",
        "outputId": "58612ccc-c81c-4a8c-d901-50ef8f3055be"
      },
      "source": [
        "drug_vs_mathscore_data"
      ],
      "execution_count": 36,
      "outputs": [
        {
          "output_type": "execute_result",
          "data": {
            "text/html": [
              "<div>\n",
              "<style scoped>\n",
              "    .dataframe tbody tr th:only-of-type {\n",
              "        vertical-align: middle;\n",
              "    }\n",
              "\n",
              "    .dataframe tbody tr th {\n",
              "        vertical-align: top;\n",
              "    }\n",
              "\n",
              "    .dataframe thead th {\n",
              "        text-align: right;\n",
              "    }\n",
              "</style>\n",
              "<table border=\"1\" class=\"dataframe\">\n",
              "  <thead>\n",
              "    <tr style=\"text-align: right;\">\n",
              "      <th></th>\n",
              "      <th>0</th>\n",
              "      <th>1</th>\n",
              "    </tr>\n",
              "  </thead>\n",
              "  <tbody>\n",
              "    <tr>\n",
              "      <th>0</th>\n",
              "      <td>1.17</td>\n",
              "      <td>78.93</td>\n",
              "    </tr>\n",
              "    <tr>\n",
              "      <th>1</th>\n",
              "      <td>2.97</td>\n",
              "      <td>58.20</td>\n",
              "    </tr>\n",
              "    <tr>\n",
              "      <th>2</th>\n",
              "      <td>3.26</td>\n",
              "      <td>67.47</td>\n",
              "    </tr>\n",
              "    <tr>\n",
              "      <th>3</th>\n",
              "      <td>4.69</td>\n",
              "      <td>37.47</td>\n",
              "    </tr>\n",
              "    <tr>\n",
              "      <th>4</th>\n",
              "      <td>5.83</td>\n",
              "      <td>45.65</td>\n",
              "    </tr>\n",
              "    <tr>\n",
              "      <th>5</th>\n",
              "      <td>6.00</td>\n",
              "      <td>32.92</td>\n",
              "    </tr>\n",
              "    <tr>\n",
              "      <th>6</th>\n",
              "      <td>6.41</td>\n",
              "      <td>29.97</td>\n",
              "    </tr>\n",
              "  </tbody>\n",
              "</table>\n",
              "</div>"
            ],
            "text/plain": [
              "      0      1\n",
              "0  1.17  78.93\n",
              "1  2.97  58.20\n",
              "2  3.26  67.47\n",
              "3  4.69  37.47\n",
              "4  5.83  45.65\n",
              "5  6.00  32.92\n",
              "6  6.41  29.97"
            ]
          },
          "metadata": {},
          "execution_count": 36
        }
      ]
    },
    {
      "cell_type": "code",
      "metadata": {
        "colab": {
          "base_uri": "https://localhost:8080/"
        },
        "id": "bF494kSTtmYk",
        "outputId": "b1871b59-fd6f-446e-853b-1a3ed7601370"
      },
      "source": [
        "import urllib.request\n",
        "drug_vs_mathscore_data_description_file = urllib.request.urlopen('http://users.stat.ufl.edu/~winner/data/lsd.txt')\n",
        "\n",
        "for line in drug_vs_mathscore_data_description_file:\n",
        "  decoded_line = line.decode(\"utf-8\")\n",
        "  print(decoded_line)"
      ],
      "execution_count": 37,
      "outputs": [
        {
          "output_type": "stream",
          "name": "stdout",
          "text": [
            "Dataset:  lsd.dat\n",
            "\n",
            "Source: Wagner, Agahajanian, and Bing (1968). Correlation of Performance\n",
            "\n",
            "Test Scores with Tissue Concentration of Lysergic Acid Diethylamide in\n",
            "\n",
            "Human Subjects. Clinical Pharmacology and Therapeutics, Vol.9 pp635-638.\n",
            "\n",
            "\n",
            "\n",
            "Description: Group of volunteers was given LSD, their mean scores on\n",
            "\n",
            "math exam and tissue concentrations of LSD were obtained at n=7 time points.\n",
            "\n",
            "\n",
            "\n",
            "Variables/Columns\n",
            "\n",
            "\n",
            "\n",
            "Tissue Concentration    1-4\n",
            "\n",
            "Math Score             8-12\n",
            "\n"
          ]
        }
      ]
    },
    {
      "cell_type": "markdown",
      "metadata": {
        "id": "6OOfE4rauO7V"
      },
      "source": [
        "Inserting column descriptions"
      ]
    },
    {
      "cell_type": "code",
      "metadata": {
        "colab": {
          "base_uri": "https://localhost:8080/",
          "height": 266
        },
        "id": "9n_Bx7NtuQG9",
        "outputId": "1f7d3534-ea5b-485c-da38-0b2cfd1b87bd"
      },
      "source": [
        "drug_vs_mathscore_data.columns= ['Tissue concentration', 'Math score']\n",
        "drug_vs_mathscore_data"
      ],
      "execution_count": 38,
      "outputs": [
        {
          "output_type": "execute_result",
          "data": {
            "text/html": [
              "<div>\n",
              "<style scoped>\n",
              "    .dataframe tbody tr th:only-of-type {\n",
              "        vertical-align: middle;\n",
              "    }\n",
              "\n",
              "    .dataframe tbody tr th {\n",
              "        vertical-align: top;\n",
              "    }\n",
              "\n",
              "    .dataframe thead th {\n",
              "        text-align: right;\n",
              "    }\n",
              "</style>\n",
              "<table border=\"1\" class=\"dataframe\">\n",
              "  <thead>\n",
              "    <tr style=\"text-align: right;\">\n",
              "      <th></th>\n",
              "      <th>Tissue concentration</th>\n",
              "      <th>Math score</th>\n",
              "    </tr>\n",
              "  </thead>\n",
              "  <tbody>\n",
              "    <tr>\n",
              "      <th>0</th>\n",
              "      <td>1.17</td>\n",
              "      <td>78.93</td>\n",
              "    </tr>\n",
              "    <tr>\n",
              "      <th>1</th>\n",
              "      <td>2.97</td>\n",
              "      <td>58.20</td>\n",
              "    </tr>\n",
              "    <tr>\n",
              "      <th>2</th>\n",
              "      <td>3.26</td>\n",
              "      <td>67.47</td>\n",
              "    </tr>\n",
              "    <tr>\n",
              "      <th>3</th>\n",
              "      <td>4.69</td>\n",
              "      <td>37.47</td>\n",
              "    </tr>\n",
              "    <tr>\n",
              "      <th>4</th>\n",
              "      <td>5.83</td>\n",
              "      <td>45.65</td>\n",
              "    </tr>\n",
              "    <tr>\n",
              "      <th>5</th>\n",
              "      <td>6.00</td>\n",
              "      <td>32.92</td>\n",
              "    </tr>\n",
              "    <tr>\n",
              "      <th>6</th>\n",
              "      <td>6.41</td>\n",
              "      <td>29.97</td>\n",
              "    </tr>\n",
              "  </tbody>\n",
              "</table>\n",
              "</div>"
            ],
            "text/plain": [
              "   Tissue concentration  Math score\n",
              "0                  1.17       78.93\n",
              "1                  2.97       58.20\n",
              "2                  3.26       67.47\n",
              "3                  4.69       37.47\n",
              "4                  5.83       45.65\n",
              "5                  6.00       32.92\n",
              "6                  6.41       29.97"
            ]
          },
          "metadata": {},
          "execution_count": 38
        }
      ]
    },
    {
      "cell_type": "code",
      "metadata": {
        "colab": {
          "base_uri": "https://localhost:8080/",
          "height": 282
        },
        "id": "_qbJTfyvusbU",
        "outputId": "7d466f5a-9178-485a-faa0-0fb6f39a14e6"
      },
      "source": [
        "plt.scatter(drug_vs_mathscore_data['Tissue concentration'], drug_vs_mathscore_data['Math score'])\n",
        "#plt.title('Tissue concentration vs Math score')\n",
        "#plt.xlabel('Tissue drug concentration')\n",
        "#plt.ylabel('Math score')\n",
        "plt.show"
      ],
      "execution_count": 44,
      "outputs": [
        {
          "output_type": "execute_result",
          "data": {
            "text/plain": [
              "<function matplotlib.pyplot.show>"
            ]
          },
          "metadata": {},
          "execution_count": 44
        },
        {
          "output_type": "display_data",
          "data": {
            "image/png": "[encoded data removed]",
            "text/plain": [
              "<Figure size 432x288 with 1 Axes>"
            ]
          },
          "metadata": {
            "needs_background": "light"
          }
        }
      ]
    },
    {
      "cell_type": "code",
      "metadata": {
        "colab": {
          "base_uri": "https://localhost:8080/",
          "height": 531
        },
        "id": "D39AW_lFvfne",
        "outputId": "d7e30fef-3c70-4587-c232-a2b0ac250ae8"
      },
      "source": [
        "img_2 = Image.open(urlopen('https://github.com/balamurugan-palaniappan-CEP/AIML_CEP_2021/raw/main/images/line_pic_neg_slope.png'))\n",
        "img_2"
      ],
      "execution_count": 12,
      "outputs": [
        {
          "output_type": "execute_result",
          "data": {
            "image/png": "[encoded data removed]",
            "text/plain": [
              "<PIL.PngImagePlugin.PngImageFile image mode=RGB size=805x514 at 0x7F34F0063150>"
            ]
          },
          "metadata": {},
          "execution_count": 12
        }
      ]
    },
    {
      "cell_type": "code",
      "metadata": {
        "colab": {
          "base_uri": "https://localhost:8080/"
        },
        "id": "PqT1A3iovqYz",
        "outputId": "223f00e6-9f85-4c6d-fa09-33b2c2618250"
      },
      "source": [
        "n = len(drug_vs_mathscore_data.index)\n",
        "print('number of datapoints in dataset:', n)"
      ],
      "execution_count": 14,
      "outputs": [
        {
          "output_type": "stream",
          "name": "stdout",
          "text": [
            "number of datapoints in dataset: 7\n"
          ]
        }
      ]
    },
    {
      "cell_type": "code",
      "metadata": {
        "colab": {
          "base_uri": "https://localhost:8080/"
        },
        "id": "XDx3vnQKyylg",
        "outputId": "5598a78a-1594-4187-c393-625dd75c968a"
      },
      "source": [
        "x_bar = 0\n",
        "y_bar = 0\n",
        "\n",
        "for i in range(n):\n",
        "  x_bar += float(drug_vs_mathscore_data.iat[i,0])\n",
        "  y_bar += float(drug_vs_mathscore_data.iat[i,1])\n",
        "\n",
        "x_bar /= n\n",
        "y_bar /= n\n",
        "\n",
        "print('x_bar:', x_bar, 'y_bar:', y_bar)"
      ],
      "execution_count": 16,
      "outputs": [
        {
          "output_type": "stream",
          "name": "stdout",
          "text": [
            "x_bar: 4.332857142857143 y_bar: 50.08714285714286\n"
          ]
        }
      ]
    },
    {
      "cell_type": "code",
      "metadata": {
        "colab": {
          "base_uri": "https://localhost:8080/"
        },
        "id": "HsWBKfNgzMBf",
        "outputId": "9217c04f-7968-4afe-cfdf-42b70136c66a"
      },
      "source": [
        "sigma_xx = 0\n",
        "sigma_xy = 0\n",
        "\n",
        "for i in range(n):\n",
        "  sigma_xx += (float(drug_vs_mathscore_data.iat[i,0]) - x_bar) ** 2\n",
        "  sigma_xy += (float(drug_vs_mathscore_data.iat[i,0] - x_bar)) * (float(drug_vs_mathscore_data.iat[i,1] - y_bar))\n",
        "\n",
        "print('sigma_xx:', sigma_xx, 'sigma_xy:', sigma_xy)"
      ],
      "execution_count": 21,
      "outputs": [
        {
          "output_type": "stream",
          "name": "stdout",
          "text": [
            "sigma_xx: 22.474942857142857 sigma_xy: -202.48724285714292\n"
          ]
        }
      ]
    },
    {
      "cell_type": "code",
      "metadata": {
        "colab": {
          "base_uri": "https://localhost:8080/"
        },
        "id": "ep9aucjd2HrF",
        "outputId": "235ea256-7b7c-4e6f-b717-7a09f23b7092"
      },
      "source": [
        "beta_1 = sigma_xy/sigma_xx\n",
        "beta_0 = y_bar - beta_1 * x_bar\n",
        "\n",
        "print('beta_0:', beta_0, 'beta_1', beta_1)"
      ],
      "execution_count": 22,
      "outputs": [
        {
          "output_type": "stream",
          "name": "stdout",
          "text": [
            "beta_0: 89.12387376799306 beta_1 -9.009466415296783\n"
          ]
        }
      ]
    },
    {
      "cell_type": "code",
      "metadata": {
        "colab": {
          "base_uri": "https://localhost:8080/"
        },
        "id": "OdSPXbaW2ZFk",
        "outputId": "be373595-1dda-4469-f5fb-3ee9654c0eca"
      },
      "source": [
        "x_min = 9999\n",
        "x_max = -9999\n",
        "\n",
        "for i in range(n):\n",
        "  x_i = float(drug_vs_mathscore_data.iat[i, 0])\n",
        "  if x_i > x_max:\n",
        "    x_max = x_i\n",
        "  if x_i < x_min:\n",
        "    x_min = x_i\n",
        "\n",
        "x_min = x_min - 1\n",
        "x_max = x_max + 1\n",
        "\n",
        "print('x_min:', x_min, 'x_max:', x_max)"
      ],
      "execution_count": 23,
      "outputs": [
        {
          "output_type": "stream",
          "name": "stdout",
          "text": [
            "x_min: 0.16999999999999993 x_max: 7.41\n"
          ]
        }
      ]
    },
    {
      "cell_type": "code",
      "metadata": {
        "colab": {
          "base_uri": "https://localhost:8080/",
          "height": 267
        },
        "id": "pjZo3Yd02853",
        "outputId": "cdb57899-ebd6-4aa2-b9b0-82c64a1bba56"
      },
      "source": [
        "x = np.linspace(x_min, x_max, 100)\n",
        "y = beta_1 * x + beta_0\n",
        "\n",
        "plt.plot(x, y, '-r', label = 'regression line')\n",
        "\n",
        "plt.scatter(drug_vs_mathscore_data['Tissue concentration'], drug_vs_mathscore_data['Math score'])\n",
        "#plt.title(\"Tissue drug concentration vs Math scores Regression\")\n",
        "#plt.xlabel(\"Tissue concentration\")\n",
        "#plt.ylabel(\"Math scores\")\n",
        "plt.legend(loc='upper right')\n",
        "plt.show()"
      ],
      "execution_count": 43,
      "outputs": [
        {
          "output_type": "display_data",
          "data": {
            "image/png": "[encoded data removed]",
            "text/plain": [
              "<Figure size 432x288 with 1 Axes>"
            ]
          },
          "metadata": {
            "needs_background": "light"
          }
        }
      ]
    },
    {
      "cell_type": "code",
      "metadata": {
        "colab": {
          "base_uri": "https://localhost:8080/",
          "height": 265
        },
        "id": "3mnuaS464ygu",
        "outputId": "86a3b4a7-5297-4d1d-e6eb-bfcbfb2f8961"
      },
      "source": [
        "e_i_residuals_list = []\n",
        "\n",
        "for i in range(n):\n",
        "  x_i = float(drug_vs_mathscore_data.iat[i,0])\n",
        "  y_i = float(drug_vs_mathscore_data.iat[i,1])\n",
        "  y_pred_i = beta_1 * x_i + beta_0\n",
        "  e_i = y_i - y_pred_i\n",
        "  e_i_residuals_list.append(e_i)\n",
        "\n",
        "plt.scatter(drug_vs_mathscore_data['Math score'], e_i_residuals_list, color = 'r')\n",
        "#plt.title(\"Residual plot\")\n",
        "#plt.xlabel(\"Math score responses\")\n",
        "#plt.ylabel(\"Residuals\")\n",
        "plt.grid()\n",
        "plt.show()"
      ],
      "execution_count": 30,
      "outputs": [
        {
          "output_type": "display_data",
          "data": {
            "image/png": "[encoded data removed]",
            "text/plain": [
              "<Figure size 432x288 with 1 Axes>"
            ]
          },
          "metadata": {
            "needs_background": "light"
          }
        }
      ]
    },
    {
      "cell_type": "code",
      "metadata": {
        "colab": {
          "base_uri": "https://localhost:8080/"
        },
        "id": "x9F927fUAzr6",
        "outputId": "1a275420-7774-46a4-e79a-ecc06e2939f6"
      },
      "source": [
        "sigma_yy = 0\n",
        "\n",
        "for i in range(n):\n",
        "  sigma_yy += (float(drug_vs_mathscore_data.iat[i, 1]- y_bar)) ** 2\n",
        "\n",
        "print('sigma_yy:', sigma_yy)\n",
        "\n",
        "sample_correlation = sigma_xy / np.sqrt(sigma_xx * sigma_yy)\n",
        "print('sample correlation:', sample_correlation)"
      ],
      "execution_count": 45,
      "outputs": [
        {
          "output_type": "stream",
          "name": "stdout",
          "text": [
            "sigma_yy: 2078.183342857143\n",
            "sample correlation: -0.9369284768740831\n"
          ]
        }
      ]
    },
    {
      "cell_type": "code",
      "metadata": {
        "colab": {
          "base_uri": "https://localhost:8080/"
        },
        "id": "EY6V03_rBwb_",
        "outputId": "e0ea1604-98c3-4034-804b-3117d9a03f95"
      },
      "source": [
        "sum_sq_residuals = 0\n",
        "\n",
        "for i in range(n):\n",
        "  sum_sq_residuals += e_i ** 2\n",
        "\n",
        "print('sum of squared residuals:', sum_sq_residuals)\n",
        "\n",
        "R2 = 1 - sum_sq_residuals/sigma_yy\n",
        "print('R^2:', R2)"
      ],
      "execution_count": 49,
      "outputs": [
        {
          "output_type": "stream",
          "name": "stdout",
          "text": [
            "sum of squared residuals: 13.782674713943624\n",
            "R^2: 0.9933679216699933\n"
          ]
        }
      ]
    }
  ]
}